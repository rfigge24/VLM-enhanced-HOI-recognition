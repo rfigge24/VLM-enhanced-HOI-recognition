{
 "cells": [
  {
   "cell_type": "markdown",
   "metadata": {},
   "source": [
    "# Elementwise Average Fusion model training (with a balanced sampler, cosine scheduler):"
   ]
  },
  {
   "cell_type": "code",
   "execution_count": 1,
   "metadata": {},
   "outputs": [],
   "source": [
    "import sys\n",
    "root = '../'\n",
    "sys.path.append(root)   # Done to be able to import the packages and functions\n",
    "\n",
    "import Utils.hico_evaluation.evaluation as ev\n",
    "from Utils.custom_loss import MaskedBCELoss\n",
    "from Utils.annotation_preprocessing import _load_csv_to_tensor\n",
    "from Utils.train_val_split import train_val_split_hico\n",
    "from hoi_classifiers import ElementwiseAvgFusionModel\n",
    "\n",
    "import torch\n",
    "import numpy as np\n",
    "from torch.utils.data import TensorDataset, DataLoader\n",
    "import matplotlib.pyplot as plt\n",
    "\n",
    "from pytorch_multilabel_balanced_sampler.samplers import LeastSampledClassSampler\n",
    "import random"
   ]
  },
  {
   "cell_type": "code",
   "execution_count": 2,
   "metadata": {},
   "outputs": [],
   "source": [
    "seed = 42   #note that the model parameters will still be randomly initiated\n",
    "torch.manual_seed(seed)\n",
    "random.seed(seed)"
   ]
  },
  {
   "cell_type": "markdown",
   "metadata": {},
   "source": [
    "### Loading the training set:\n"
   ]
  },
  {
   "cell_type": "code",
   "execution_count": 3,
   "metadata": {},
   "outputs": [],
   "source": [
    "# Loading the data:\n",
    "train_data = torch.load(root + \"Embeddings/Combined_Embeddings/train.pt\")\n",
    "train_annotations = _load_csv_to_tensor(root + \"anno/added/anno_augmented_train.csv\").T # Transpose to make both first dimensions the #samples.\n",
    "train_annotations[train_annotations.isnan()] = -1"
   ]
  },
  {
   "cell_type": "markdown",
   "metadata": {},
   "source": [
    "##### Splitting the training set into a train and validation set:"
   ]
  },
  {
   "cell_type": "code",
   "execution_count": 4,
   "metadata": {},
   "outputs": [],
   "source": [
    "train_idx, validation_idx = train_val_split_hico(train_data, train_annotations, 0.2, seed)\n",
    "X_train, X_val = train_data[train_idx], train_data[validation_idx]\n",
    "y_train, y_val = train_annotations[train_idx], train_annotations[validation_idx]"
   ]
  },
  {
   "cell_type": "markdown",
   "metadata": {},
   "source": [
    "#### Training Preparations:"
   ]
  },
  {
   "cell_type": "code",
   "execution_count": 5,
   "metadata": {},
   "outputs": [],
   "source": [
    "train_dataset = TensorDataset(X_train, y_train)"
   ]
  },
  {
   "cell_type": "code",
   "execution_count": 6,
   "metadata": {},
   "outputs": [],
   "source": [
    "# Batch size:\n",
    "bs = 512\n",
    "\n",
    "sampler = LeastSampledClassSampler((y_train[:,:600] == 1).int())\n",
    "\n",
    "train_dataloader = DataLoader(\n",
    "    train_dataset, batch_size=bs, num_workers=4, sampler=sampler)\n"
   ]
  },
  {
   "cell_type": "code",
   "execution_count": 7,
   "metadata": {},
   "outputs": [],
   "source": [
    "device = torch.device('cuda:0' if torch.cuda.is_available() else 'cpu')"
   ]
  },
  {
   "cell_type": "code",
   "execution_count": 8,
   "metadata": {},
   "outputs": [],
   "source": [
    "model = ElementwiseAvgFusionModel(512,655,797)\n",
    "model = model.to(device)"
   ]
  },
  {
   "cell_type": "code",
   "execution_count": 9,
   "metadata": {},
   "outputs": [
    {
     "name": "stderr",
     "output_type": "stream",
     "text": [
      "c:\\Users\\rfigg\\.conda\\envs\\PyTorch\\lib\\site-packages\\transformers\\utils\\generic.py:441: UserWarning: torch.utils._pytree._register_pytree_node is deprecated. Please use torch.utils._pytree.register_pytree_node instead.\n",
      "  _torch_pytree._register_pytree_node(\n"
     ]
    }
   ],
   "source": [
    "classweights = torch.cat((torch.ones(600),torch.ones(197)*0.5)).to(device)      # The hoi classes weigh twice as much as the seperate classes\n",
    "criterion = MaskedBCELoss(ignore_label=0, convert_target_to_01= True, weight=classweights)\n",
    "\n",
    "optimizer = torch.optim.Adam(params=model.parameters(), lr=0.0005)\n",
    "scheduler = torch.optim.lr_scheduler.CosineAnnealingWarmRestarts(optimizer, T_0=5, T_mult=1)"
   ]
  },
  {
   "cell_type": "markdown",
   "metadata": {},
   "source": [
    "#### Training loop:"
   ]
  },
  {
   "cell_type": "code",
   "execution_count": 10,
   "metadata": {},
   "outputs": [
    {
     "name": "stdout",
     "output_type": "stream",
     "text": [
      "Epoch 001/200, Loss: 0.141188688297, validation map: 0.006127826758\n",
      "Epoch 002/200, Loss: 0.024670730780, validation map: 0.013191083278\n",
      "Epoch 003/200, Loss: 0.022747743285, validation map: 0.032837664443\n",
      "Epoch 004/200, Loss: 0.021240167599, validation map: 0.050294242971\n",
      "Epoch 005/200, Loss: 0.020543917113, validation map: 0.056252838630\n",
      "Epoch 006/200, Loss: 0.018829212338, validation map: 0.130762870446\n",
      "Epoch 007/200, Loss: 0.015806131375, validation map: 0.193642305638\n",
      "Epoch 008/200, Loss: 0.013693105476, validation map: 0.229579686971\n",
      "Epoch 009/200, Loss: 0.012615825469, validation map: 0.246322672057\n",
      "Epoch 010/200, Loss: 0.012190932672, validation map: 0.249931239471\n",
      "Epoch 011/200, Loss: 0.011316464997, validation map: 0.284935170339\n",
      "Epoch 012/200, Loss: 0.010009447097, validation map: 0.307046703966\n",
      "Epoch 013/200, Loss: 0.009159322192, validation map: 0.320022360412\n",
      "Epoch 014/200, Loss: 0.008734767698, validation map: 0.324655397431\n",
      "Epoch 015/200, Loss: 0.008589743481, validation map: 0.326074102727\n",
      "Epoch 016/200, Loss: 0.008212385435, validation map: 0.341334047586\n",
      "Epoch 017/200, Loss: 0.007704819048, validation map: 0.351047572715\n",
      "Epoch 018/200, Loss: 0.007329031437, validation map: 0.356410390225\n",
      "Epoch 019/200, Loss: 0.007104108095, validation map: 0.359432879201\n",
      "Epoch 020/200, Loss: 0.007043845765, validation map: 0.359970697875\n",
      "Epoch 021/200, Loss: 0.006909400978, validation map: 0.368971852008\n",
      "Epoch 022/200, Loss: 0.006597120144, validation map: 0.374495805021\n",
      "Epoch 023/200, Loss: 0.006352980675, validation map: 0.377901690458\n",
      "Epoch 024/200, Loss: 0.006262408321, validation map: 0.380535597331\n",
      "Epoch 025/200, Loss: 0.006182265763, validation map: 0.380957357180\n",
      "Epoch 026/200, Loss: 0.006060681034, validation map: 0.384840784652\n",
      "Epoch 027/200, Loss: 0.005872678951, validation map: 0.388478573483\n",
      "Epoch 028/200, Loss: 0.005736157321, validation map: 0.390136204294\n",
      "Epoch 029/200, Loss: 0.005630909357, validation map: 0.392615773852\n",
      "Epoch 030/200, Loss: 0.005588075565, validation map: 0.393025716909\n",
      "Epoch 031/200, Loss: 0.005493369761, validation map: 0.397169577750\n",
      "Epoch 032/200, Loss: 0.005376138080, validation map: 0.398877024773\n",
      "Epoch 033/200, Loss: 0.005216386278, validation map: 0.400463800108\n",
      "Epoch 034/200, Loss: 0.005123031349, validation map: 0.401859728836\n",
      "Epoch 035/200, Loss: 0.005115855276, validation map: 0.401353025892\n",
      "Epoch 036/200, Loss: 0.005056336794, validation map: 0.404421181976\n",
      "Epoch 037/200, Loss: 0.004926099799, validation map: 0.406011392096\n",
      "Epoch 038/200, Loss: 0.004843620925, validation map: 0.407256806921\n",
      "Epoch 039/200, Loss: 0.004751808996, validation map: 0.407991406122\n",
      "Epoch 040/200, Loss: 0.004728429369, validation map: 0.408092220721\n",
      "Epoch 041/200, Loss: 0.004705704593, validation map: 0.409595523933\n",
      "Epoch 042/200, Loss: 0.004607260274, validation map: 0.410130772856\n",
      "Epoch 043/200, Loss: 0.004496119722, validation map: 0.411655600379\n",
      "Epoch 044/200, Loss: 0.004469976559, validation map: 0.411541239748\n",
      "Epoch 045/200, Loss: 0.004402899494, validation map: 0.411953706151\n",
      "Epoch 046/200, Loss: 0.004385347540, validation map: 0.413627814401\n",
      "Epoch 047/200, Loss: 0.004294287941, validation map: 0.416112665939\n",
      "Epoch 048/200, Loss: 0.004189208748, validation map: 0.416340103329\n",
      "Epoch 049/200, Loss: 0.004153150584, validation map: 0.417321874300\n",
      "Epoch 050/200, Loss: 0.004095937056, validation map: 0.417044783207\n",
      "Epoch 051/200, Loss: 0.004082154087, validation map: 0.417154286809\n",
      "Epoch 052/200, Loss: 0.004037328674, validation map: 0.418571465716\n",
      "Epoch 053/200, Loss: 0.003941444405, validation map: 0.419079411730\n",
      "Epoch 054/200, Loss: 0.003912156459, validation map: 0.419091606683\n",
      "Epoch 055/200, Loss: 0.003885212102, validation map: 0.418913468000\n",
      "Epoch 056/200, Loss: 0.003898234669, validation map: 0.419620933485\n",
      "Epoch 057/200, Loss: 0.003793328744, validation map: 0.420607428952\n",
      "Epoch 058/200, Loss: 0.003680942615, validation map: 0.420556349647\n",
      "Epoch 059/200, Loss: 0.003687539821, validation map: 0.421828911398\n",
      "Epoch 060/200, Loss: 0.003669963016, validation map: 0.421878053634\n",
      "Epoch 061/200, Loss: 0.003612824526, validation map: 0.422240925782\n",
      "Epoch 062/200, Loss: 0.003556511850, validation map: 0.421771969318\n",
      "Epoch 063/200, Loss: 0.003537925410, validation map: 0.422781105446\n",
      "Epoch 064/200, Loss: 0.003438493315, validation map: 0.421968344849\n",
      "Epoch 065/200, Loss: 0.003479093856, validation map: 0.422153089097\n",
      "Epoch 066/200, Loss: 0.003426026072, validation map: 0.423591248297\n",
      "Epoch 067/200, Loss: 0.003404785666, validation map: 0.423658279360\n",
      "Epoch 068/200, Loss: 0.003351165319, validation map: 0.424171482530\n",
      "Epoch 069/200, Loss: 0.003271592009, validation map: 0.424312703865\n",
      "Epoch 070/200, Loss: 0.003239262484, validation map: 0.424302528938\n",
      "Epoch 071/200, Loss: 0.003228138015, validation map: 0.425123753466\n",
      "Epoch 072/200, Loss: 0.003183809439, validation map: 0.425434307665\n",
      "Epoch 073/200, Loss: 0.003141362352, validation map: 0.425562011924\n",
      "Epoch 074/200, Loss: 0.003104347402, validation map: 0.425506469499\n",
      "Epoch 075/200, Loss: 0.003059567884, validation map: 0.425626379875\n",
      "Epoch 076/200, Loss: 0.003058023169, validation map: 0.425690977690\n",
      "Epoch 077/200, Loss: 0.002989820170, validation map: 0.425781714477\n",
      "Epoch 078/200, Loss: 0.002948738961, validation map: 0.425499948329\n",
      "Epoch 079/200, Loss: 0.002926494585, validation map: 0.426264962478\n",
      "Epoch 080/200, Loss: 0.002925060689, validation map: 0.426189937656\n",
      "Epoch 081/200, Loss: 0.002894537877, validation map: 0.425988807796\n",
      "Epoch 082/200, Loss: 0.002875781777, validation map: 0.426388973438\n",
      "Epoch 083/200, Loss: 0.002779796599, validation map: 0.425762232129\n",
      "Epoch 084/200, Loss: 0.002777151701, validation map: 0.425419440080\n",
      "Epoch 085/200, Loss: 0.002788646030, validation map: 0.425431228388\n",
      "Epoch 086/200, Loss: 0.002736346470, validation map: 0.425111592909\n",
      "Epoch 087/200, Loss: 0.002685533080, validation map: 0.425318497771\n",
      "Epoch 088/200, Loss: 0.002684846784, validation map: 0.425467465156\n",
      "Epoch 089/200, Loss: 0.002644079830, validation map: 0.425874945236\n",
      "Epoch 090/200, Loss: 0.002607827416, validation map: 0.425858356907\n",
      "Epoch 091/200, Loss: 0.002612456846, validation map: 0.426123184670\n",
      "Epoch 092/200, Loss: 0.002586576149, validation map: 0.427258416145\n",
      "Epoch 093/200, Loss: 0.002556598241, validation map: 0.426225929427\n",
      "Epoch 094/200, Loss: 0.002513269106, validation map: 0.427252203666\n",
      "Epoch 095/200, Loss: 0.002499209515, validation map: 0.427381446977\n",
      "Epoch 096/200, Loss: 0.002500255969, validation map: 0.426970236279\n",
      "Epoch 097/200, Loss: 0.002453369950, validation map: 0.427528410144\n",
      "Epoch 098/200, Loss: 0.002414130924, validation map: 0.427423151636\n",
      "Epoch 099/200, Loss: 0.002361110183, validation map: 0.426718481210\n",
      "Epoch 100/200, Loss: 0.002352170130, validation map: 0.426498272482\n",
      "Epoch 101/200, Loss: 0.002384142450, validation map: 0.426215171312\n",
      "Epoch 102/200, Loss: 0.002346250636, validation map: 0.425275298296\n",
      "Epoch 103/200, Loss: 0.002269705490, validation map: 0.424360725327\n",
      "Epoch 104/200, Loss: 0.002253431792, validation map: 0.424074945080\n",
      "Epoch 105/200, Loss: 0.002232767616, validation map: 0.424137359272\n",
      "Epoch 106/200, Loss: 0.002242411436, validation map: 0.425020328833\n",
      "Epoch 107/200, Loss: 0.002260175149, validation map: 0.423801932267\n",
      "Epoch 108/200, Loss: 0.002215318941, validation map: 0.424467945350\n",
      "Epoch 109/200, Loss: 0.002156612419, validation map: 0.424350957640\n",
      "Epoch 110/200, Loss: 0.002126316249, validation map: 0.424530797810\n",
      "Epoch 111/200, Loss: 0.002141161028, validation map: 0.424116663018\n",
      "Epoch 112/200, Loss: 0.002090856450, validation map: 0.424011098158\n",
      "Epoch 113/200, Loss: 0.002053720568, validation map: 0.424403296061\n",
      "Epoch 114/200, Loss: 0.002033340535, validation map: 0.424393849407\n",
      "Epoch 115/200, Loss: 0.002029943637, validation map: 0.424330895047\n",
      "Epoch 116/200, Loss: 0.002030236730, validation map: 0.424823932613\n",
      "Epoch 117/200, Loss: 0.002030318248, validation map: 0.424432599058\n",
      "Epoch 118/200, Loss: 0.001935467242, validation map: 0.424657385303\n",
      "Epoch 119/200, Loss: 0.001960015745, validation map: 0.424951724468\n",
      "Epoch 120/200, Loss: 0.001968693966, validation map: 0.425037450579\n",
      "Epoch 121/200, Loss: 0.001942432947, validation map: 0.425262602093\n",
      "Epoch 122/200, Loss: 0.001928787104, validation map: 0.425329740167\n",
      "Epoch 123/200, Loss: 0.001893926379, validation map: 0.424886752070\n",
      "Epoch 124/200, Loss: 0.001831713408, validation map: 0.424985925131\n",
      "Epoch 125/200, Loss: 0.001841729377, validation map: 0.425011456126\n",
      "Epoch 126/200, Loss: 0.001879348002, validation map: 0.424990403965\n",
      "Epoch 127/200, Loss: 0.001818755341, validation map: 0.425147101263\n",
      "Epoch 128/200, Loss: 0.001784312549, validation map: 0.425252064694\n",
      "Epoch 129/200, Loss: 0.001783307913, validation map: 0.425178742135\n",
      "Epoch 130/200, Loss: 0.001754524099, validation map: 0.425388221183\n",
      "Epoch 131/200, Loss: 0.001761267119, validation map: 0.424893032518\n",
      "Epoch 132/200, Loss: 0.001754203264, validation map: 0.425168927482\n",
      "Epoch 133/200, Loss: 0.001716112070, validation map: 0.425185247819\n",
      "Epoch 134/200, Loss: 0.001706364504, validation map: 0.425435584302\n",
      "Epoch 135/200, Loss: 0.001662359233, validation map: 0.425673575294\n",
      "Epoch 136/200, Loss: 0.001672081789, validation map: 0.425857405354\n",
      "Epoch 137/200, Loss: 0.001673235866, validation map: 0.425268481140\n",
      "Epoch 138/200, Loss: 0.001636751237, validation map: 0.425514833048\n",
      "Epoch 139/200, Loss: 0.001599018887, validation map: 0.425743187189\n",
      "Epoch 140/200, Loss: 0.001605157104, validation map: 0.425408574604\n",
      "Epoch 141/200, Loss: 0.001602450434, validation map: 0.424575754201\n",
      "Epoch 142/200, Loss: 0.001565358980, validation map: 0.425319165181\n",
      "Epoch 143/200, Loss: 0.001548665789, validation map: 0.425879565657\n",
      "Epoch 144/200, Loss: 0.001542588110, validation map: 0.425965223364\n",
      "Epoch 145/200, Loss: 0.001528944517, validation map: 0.426330895688\n",
      "Epoch 146/200, Loss: 0.001542520160, validation map: 0.425931838327\n",
      "Epoch 147/200, Loss: 0.001541807704, validation map: 0.425479902026\n",
      "Epoch 148/200, Loss: 0.001485451726, validation map: 0.425874167395\n",
      "Epoch 149/200, Loss: 0.001462387200, validation map: 0.426403668617\n",
      "Epoch 150/200, Loss: 0.001435557002, validation map: 0.426574664279\n",
      "Epoch 151/200, Loss: 0.001452352089, validation map: 0.425926546791\n",
      "Epoch 152/200, Loss: 0.001441583569, validation map: 0.425628556425\n",
      "Epoch 153/200, Loss: 0.001448919855, validation map: 0.426185506459\n",
      "Epoch 154/200, Loss: 0.001412337989, validation map: 0.425961099052\n",
      "Epoch 155/200, Loss: 0.001371075112, validation map: 0.425941298537\n",
      "Epoch 156/200, Loss: 0.001396481345, validation map: 0.426527051604\n",
      "Epoch 157/200, Loss: 0.001408851801, validation map: 0.426873314334\n",
      "Epoch 158/200, Loss: 0.001368841938, validation map: 0.425697749253\n",
      "Epoch 159/200, Loss: 0.001317712863, validation map: 0.426119054487\n",
      "Epoch 160/200, Loss: 0.001313924374, validation map: 0.426373698316\n",
      "Epoch 161/200, Loss: 0.001340348237, validation map: 0.426171838516\n",
      "Epoch 162/200, Loss: 0.001332629152, validation map: 0.426348369061\n",
      "Epoch 163/200, Loss: 0.001293998976, validation map: 0.426391613754\n",
      "Epoch 164/200, Loss: 0.001286290607, validation map: 0.425552640417\n",
      "Epoch 165/200, Loss: 0.001266033773, validation map: 0.426568719780\n",
      "Epoch 166/200, Loss: 0.001293384761, validation map: 0.426564592460\n",
      "Epoch 167/200, Loss: 0.001256839384, validation map: 0.425591800821\n",
      "Epoch 168/200, Loss: 0.001260044697, validation map: 0.426762674056\n",
      "Epoch 169/200, Loss: 0.001227916443, validation map: 0.426683013877\n",
      "Epoch 170/200, Loss: 0.001226338962, validation map: 0.426722710760\n",
      "Epoch 171/200, Loss: 0.001279325880, validation map: 0.424680460535\n",
      "Epoch 172/200, Loss: 0.001213827543, validation map: 0.424550472954\n",
      "Epoch 173/200, Loss: 0.001199069563, validation map: 0.425172961359\n",
      "Epoch 174/200, Loss: 0.001173263443, validation map: 0.424574471754\n",
      "Epoch 175/200, Loss: 0.001183718259, validation map: 0.424725338247\n",
      "Epoch 176/200, Loss: 0.001177916354, validation map: 0.423724833818\n",
      "Epoch 177/200, Loss: 0.001177130114, validation map: 0.425177701876\n",
      "Epoch 178/200, Loss: 0.001155969629, validation map: 0.424971600148\n",
      "Epoch 179/200, Loss: 0.001113221118, validation map: 0.424972163405\n",
      "Epoch 180/200, Loss: 0.001091847223, validation map: 0.425147750196\n",
      "Epoch 181/200, Loss: 0.001126906979, validation map: 0.424920164512\n",
      "Epoch 182/200, Loss: 0.001135261339, validation map: 0.425291812373\n",
      "Epoch 183/200, Loss: 0.001113759309, validation map: 0.424959935954\n",
      "Epoch 184/200, Loss: 0.001082109653, validation map: 0.424509368484\n",
      "Epoch 185/200, Loss: 0.001081375579, validation map: 0.424553598898\n",
      "Epoch 186/200, Loss: 0.001085234730, validation map: 0.425077700454\n",
      "Epoch 187/200, Loss: 0.001081817351, validation map: 0.424434371522\n",
      "Epoch 188/200, Loss: 0.001038016302, validation map: 0.424737157554\n",
      "Epoch 189/200, Loss: 0.001018776943, validation map: 0.424742739645\n",
      "Epoch 190/200, Loss: 0.001026956014, validation map: 0.424875805089\n",
      "Epoch 191/200, Loss: 0.001038102516, validation map: 0.424529071093\n",
      "Epoch 192/200, Loss: 0.000998658986, validation map: 0.424917270673\n",
      "Epoch 193/200, Loss: 0.001000069769, validation map: 0.425042225819\n",
      "Epoch 194/200, Loss: 0.000974617860, validation map: 0.425146931017\n",
      "Epoch 195/200, Loss: 0.000984039599, validation map: 0.424986794379\n",
      "Epoch 196/200, Loss: 0.000995933242, validation map: 0.424722139841\n",
      "Epoch 197/200, Loss: 0.001005947038, validation map: 0.424082836850\n",
      "Epoch 198/200, Loss: 0.000994566059, validation map: 0.423653518264\n",
      "Epoch 199/200, Loss: 0.000968742086, validation map: 0.423828661449\n",
      "Epoch 200/200, Loss: 0.000947262933, validation map: 0.424045315234\n"
     ]
    }
   ],
   "source": [
    "num_epochs = 200\n",
    "training_loss_per_epoch = np.zeros(200)\n",
    "validation_loss_per_epoch = np.zeros(200)\n",
    "validation_map_per_epoch = np.zeros(200)\n",
    "\n",
    "for epoch in range(num_epochs):\n",
    "    running_loss = 0.0\n",
    "    for inputs, labels in train_dataloader:\n",
    "        inputs = inputs.to(device)\n",
    "        labels = labels.to(device)\n",
    "\n",
    "        optimizer.zero_grad()  # Zero the gradients\n",
    "        outputs = model(inputs)  # Forward pass\n",
    "        loss = criterion(outputs, labels)  # Compute the loss\n",
    "        loss.backward()  # Backward pass\n",
    "        optimizer.step()  # Update the weights\n",
    "\n",
    "        running_loss += loss.item()\n",
    "    \n",
    "    scheduler.step()\n",
    "    \n",
    "    with torch.no_grad():\n",
    "        pred = model.forward(X_val.to(device))\n",
    "        # calculate the validation loss:\n",
    "        validation_loss = criterion(pred, y_val.to(device))\n",
    "        # calculate the validation mAP:\n",
    "        validation_aps = ev.eval_vo(pred[:,:600].T.cpu().detach().numpy(), y_val[:,:600].T.numpy(),600)[0]\n",
    "        nr_val_classes = np.sum(validation_aps != None)\n",
    "        validation_map = np.nansum(validation_aps) / nr_val_classes\n",
    "\n",
    "    # add the losses and mAP to the arrays:\n",
    "    training_loss_per_epoch[epoch] = running_loss / len(train_dataloader)\n",
    "    validation_loss_per_epoch[epoch] = validation_loss\n",
    "    validation_map_per_epoch[epoch] = validation_map\n",
    "\n",
    "    print(f\"Epoch {epoch+1:0{len(str(num_epochs))}}/{num_epochs}, Loss: {running_loss/len(train_dataloader):.12f}, validation map: {validation_map:.12f}\")"
   ]
  },
  {
   "cell_type": "markdown",
   "metadata": {},
   "source": [
    "### plotting the training process to select the number of convergence"
   ]
  },
  {
   "cell_type": "code",
   "execution_count": 11,
   "metadata": {},
   "outputs": [
    {
     "data": {
      "text/plain": [
       "[]"
      ]
     },
     "execution_count": 11,
     "metadata": {},
     "output_type": "execute_result"
    },
    {
     "data": {
      "image/png": "[encoded data removed]",
      "text/plain": [
       "<Figure size 800x600 with 1 Axes>"
      ]
     },
     "metadata": {},
     "output_type": "display_data"
    }
   ],
   "source": [
    "plt.figure(figsize=(8,6))\n",
    "plt.plot(np.arange(200), training_loss_per_epoch, color = \"orange\")\n",
    "plt.plot(np.arange(200), validation_loss_per_epoch, color = \"blue\")\n",
    "# plt.plot(np.arange(100), validation_loss_main_per_epoch, color= \"red\")\n",
    "# plt.plot(np.arange(100), validation_loss_side_per_epoch, color = \"purple\")\n",
    "plt.plot(np.arange(200), validation_map_per_epoch/10, color = \"green\")\n",
    "#plt.hlines(0.010051161982119083, 0, 100 , colors=['black'],linestyles=['dotted'])\n",
    "plt.ylim(0,0.1)\n",
    "plt.plot()"
   ]
  },
  {
   "cell_type": "code",
   "execution_count": 12,
   "metadata": {},
   "outputs": [
    {
     "data": {
      "text/plain": [
       "96"
      ]
     },
     "execution_count": 12,
     "metadata": {},
     "output_type": "execute_result"
    }
   ],
   "source": [
    "np.argmax(validation_map_per_epoch)"
   ]
  },
  {
   "cell_type": "code",
   "execution_count": 13,
   "metadata": {},
   "outputs": [
    {
     "data": {
      "text/plain": [
       "62"
      ]
     },
     "execution_count": 13,
     "metadata": {},
     "output_type": "execute_result"
    }
   ],
   "source": [
    "np.argmin(validation_loss_per_epoch)"
   ]
  }
 ],
 "metadata": {
  "kernelspec": {
   "display_name": "PyTorch",
   "language": "python",
   "name": "python3"
  },
  "language_info": {
   "codemirror_mode": {
    "name": "ipython",
    "version": 3
   },
   "file_extension": ".py",
   "mimetype": "text/x-python",
   "name": "python",
   "nbconvert_exporter": "python",
   "pygments_lexer": "ipython3",
   "version": "3.10.13"
  }
 },
 "nbformat": 4,
 "nbformat_minor": 2
}
