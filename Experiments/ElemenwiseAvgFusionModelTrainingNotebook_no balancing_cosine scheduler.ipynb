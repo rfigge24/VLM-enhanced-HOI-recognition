{
 "cells": [
  {
   "cell_type": "markdown",
   "metadata": {},
   "source": [
    "# Elementwise Average Fusion model training (no balancing, cosine scheduler):"
   ]
  },
  {
   "cell_type": "code",
   "execution_count": 1,
   "metadata": {},
   "outputs": [],
   "source": [
    "import sys\n",
    "root = '../'\n",
    "sys.path.append(root)   # Done to be able to import the packages and functions\n",
    "\n",
    "import Utils.hico_evaluation.evaluation as ev\n",
    "from Utils.custom_loss import MaskedBCELoss\n",
    "from Utils.annotation_preprocessing import _load_csv_to_tensor\n",
    "from Utils.train_val_split import train_val_split_hico\n",
    "from hoi_classifiers import ElementwiseAvgFusionModel\n",
    "\n",
    "import torch\n",
    "import numpy as np\n",
    "from torch.utils.data import TensorDataset, DataLoader\n",
    "import matplotlib.pyplot as plt\n",
    "\n",
    "from pytorch_multilabel_balanced_sampler.samplers import LeastSampledClassSampler\n",
    "import random"
   ]
  },
  {
   "cell_type": "code",
   "execution_count": 2,
   "metadata": {},
   "outputs": [],
   "source": [
    "seed = 42   #note that the model parameters will still be randomly initiated\n",
    "torch.manual_seed(seed)\n",
    "random.seed(seed)"
   ]
  },
  {
   "cell_type": "markdown",
   "metadata": {},
   "source": [
    "### Loading the training set:\n"
   ]
  },
  {
   "cell_type": "code",
   "execution_count": 3,
   "metadata": {},
   "outputs": [],
   "source": [
    "# Loading the data:\n",
    "train_data = torch.load(root + \"Embeddings/Combined_Embeddings/train.pt\")\n",
    "train_annotations = _load_csv_to_tensor(root + \"anno/added/anno_augmented_train.csv\").T # Transpose to make both first dimensions the #samples.\n",
    "train_annotations[train_annotations.isnan()] = -1"
   ]
  },
  {
   "cell_type": "markdown",
   "metadata": {},
   "source": [
    "##### Splitting the training set into a train and validation set:"
   ]
  },
  {
   "cell_type": "code",
   "execution_count": 4,
   "metadata": {},
   "outputs": [],
   "source": [
    "train_idx, validation_idx = train_val_split_hico(train_data, train_annotations, 0.2, seed)\n",
    "X_train, X_val = train_data[train_idx], train_data[validation_idx]\n",
    "y_train, y_val = train_annotations[train_idx], train_annotations[validation_idx]"
   ]
  },
  {
   "cell_type": "markdown",
   "metadata": {},
   "source": [
    "#### Training Preparations:"
   ]
  },
  {
   "cell_type": "code",
   "execution_count": 5,
   "metadata": {},
   "outputs": [],
   "source": [
    "train_dataset = TensorDataset(X_train, y_train)"
   ]
  },
  {
   "cell_type": "code",
   "execution_count": 6,
   "metadata": {},
   "outputs": [],
   "source": [
    "# Batch size:\n",
    "bs = 512\n",
    "\n",
    "#sampler = LeastSampledClassSampler((y_train[:,:600] == 1).int())\n",
    "\n",
    "train_dataloader = DataLoader(\n",
    "    train_dataset, batch_size=bs, num_workers=4, shuffle=True)\n"
   ]
  },
  {
   "cell_type": "code",
   "execution_count": 7,
   "metadata": {},
   "outputs": [],
   "source": [
    "device = torch.device('cuda:0' if torch.cuda.is_available() else 'cpu')"
   ]
  },
  {
   "cell_type": "code",
   "execution_count": 8,
   "metadata": {},
   "outputs": [],
   "source": [
    "model = ElementwiseAvgFusionModel(512,655,797)\n",
    "model = model.to(device)"
   ]
  },
  {
   "cell_type": "code",
   "execution_count": 9,
   "metadata": {},
   "outputs": [
    {
     "name": "stderr",
     "output_type": "stream",
     "text": [
      "c:\\Users\\rfigg\\.conda\\envs\\PyTorch\\lib\\site-packages\\transformers\\utils\\generic.py:441: UserWarning: torch.utils._pytree._register_pytree_node is deprecated. Please use torch.utils._pytree.register_pytree_node instead.\n",
      "  _torch_pytree._register_pytree_node(\n"
     ]
    }
   ],
   "source": [
    "classweights = torch.cat((torch.ones(600),torch.ones(197)*0.5)).to(device)      # The hoi classes weigh twice as much as the seperate classes\n",
    "criterion = MaskedBCELoss(ignore_label=0, convert_target_to_01= True, weight=classweights)\n",
    "\n",
    "optimizer = torch.optim.Adam(params=model.parameters(), lr=0.0005)\n",
    "scheduler = torch.optim.lr_scheduler.CosineAnnealingWarmRestarts(optimizer, T_0=5, T_mult=1)"
   ]
  },
  {
   "cell_type": "markdown",
   "metadata": {},
   "source": [
    "#### Training loop:"
   ]
  },
  {
   "cell_type": "code",
   "execution_count": 10,
   "metadata": {},
   "outputs": [
    {
     "name": "stdout",
     "output_type": "stream",
     "text": [
      "Epoch 001/200, Loss: 0.138750353549, validation map: 0.007106180006\n",
      "Epoch 002/200, Loss: 0.020013720666, validation map: 0.035489918929\n",
      "Epoch 003/200, Loss: 0.017561463577, validation map: 0.062464515371\n",
      "Epoch 004/200, Loss: 0.015929703321, validation map: 0.076360247829\n",
      "Epoch 005/200, Loss: 0.015259834612, validation map: 0.080166921741\n",
      "Epoch 006/200, Loss: 0.013894000448, validation map: 0.114501133504\n",
      "Epoch 007/200, Loss: 0.011968298179, validation map: 0.146331827842\n",
      "Epoch 008/200, Loss: 0.010823021146, validation map: 0.169115930169\n",
      "Epoch 009/200, Loss: 0.010225508176, validation map: 0.179996872229\n",
      "Epoch 010/200, Loss: 0.009984182147, validation map: 0.182926084577\n",
      "Epoch 011/200, Loss: 0.009554328149, validation map: 0.212880951759\n",
      "Epoch 012/200, Loss: 0.008866185757, validation map: 0.238163845393\n",
      "Epoch 013/200, Loss: 0.008405999079, validation map: 0.253553093847\n",
      "Epoch 014/200, Loss: 0.008156331877, validation map: 0.260209764411\n",
      "Epoch 015/200, Loss: 0.008043211217, validation map: 0.262279159862\n",
      "Epoch 016/200, Loss: 0.007890048569, validation map: 0.282715864476\n",
      "Epoch 017/200, Loss: 0.007593912034, validation map: 0.298514881153\n",
      "Epoch 018/200, Loss: 0.007374877312, validation map: 0.309739555436\n",
      "Epoch 019/200, Loss: 0.007232259431, validation map: 0.315353822401\n",
      "Epoch 020/200, Loss: 0.007163893788, validation map: 0.316350737398\n",
      "Epoch 021/200, Loss: 0.007103440197, validation map: 0.329368831449\n",
      "Epoch 022/200, Loss: 0.006916377818, validation map: 0.342089401231\n",
      "Epoch 023/200, Loss: 0.006769828615, validation map: 0.349698883912\n",
      "Epoch 024/200, Loss: 0.006664126599, validation map: 0.355017266994\n",
      "Epoch 025/200, Loss: 0.006611376589, validation map: 0.355977905976\n",
      "Epoch 026/200, Loss: 0.006591185345, validation map: 0.366684970849\n",
      "Epoch 027/200, Loss: 0.006463384745, validation map: 0.374237637623\n",
      "Epoch 028/200, Loss: 0.006352305273, validation map: 0.381258017947\n",
      "Epoch 029/200, Loss: 0.006280617525, validation map: 0.384169292585\n",
      "Epoch 030/200, Loss: 0.006236949858, validation map: 0.384716582284\n",
      "Epoch 031/200, Loss: 0.006231368341, validation map: 0.393036214904\n",
      "Epoch 032/200, Loss: 0.006134898976, validation map: 0.399267274657\n",
      "Epoch 033/200, Loss: 0.006047984950, validation map: 0.402593350262\n",
      "Epoch 034/200, Loss: 0.005984445017, validation map: 0.404445844212\n",
      "Epoch 035/200, Loss: 0.005941662394, validation map: 0.405040893882\n",
      "Epoch 036/200, Loss: 0.005955980190, validation map: 0.410462977798\n",
      "Epoch 037/200, Loss: 0.005880739788, validation map: 0.414665695418\n",
      "Epoch 038/200, Loss: 0.005801131716, validation map: 0.417717711606\n",
      "Epoch 039/200, Loss: 0.005741600917, validation map: 0.419552942055\n",
      "Epoch 040/200, Loss: 0.005705180725, validation map: 0.420533549966\n",
      "Epoch 041/200, Loss: 0.005727812112, validation map: 0.425530547685\n",
      "Epoch 042/200, Loss: 0.005658209448, validation map: 0.428884744591\n",
      "Epoch 043/200, Loss: 0.005595282186, validation map: 0.431645786507\n",
      "Epoch 044/200, Loss: 0.005543957550, validation map: 0.432844317563\n",
      "Epoch 045/200, Loss: 0.005506977586, validation map: 0.433083103764\n",
      "Epoch 046/200, Loss: 0.005535909828, validation map: 0.436018511234\n",
      "Epoch 047/200, Loss: 0.005485199012, validation map: 0.437924591671\n",
      "Epoch 048/200, Loss: 0.005416655098, validation map: 0.441139760278\n",
      "Epoch 049/200, Loss: 0.005371006578, validation map: 0.442013454571\n",
      "Epoch 050/200, Loss: 0.005338422799, validation map: 0.442190498320\n",
      "Epoch 051/200, Loss: 0.005361114217, validation map: 0.445606419834\n",
      "Epoch 052/200, Loss: 0.005319465844, validation map: 0.448952229170\n",
      "Epoch 053/200, Loss: 0.005261723185, validation map: 0.450276950027\n",
      "Epoch 054/200, Loss: 0.005212722595, validation map: 0.451318429483\n",
      "Epoch 055/200, Loss: 0.005182796484, validation map: 0.451401022399\n",
      "Epoch 056/200, Loss: 0.005217769796, validation map: 0.453014538396\n",
      "Epoch 057/200, Loss: 0.005179984185, validation map: 0.455843762996\n",
      "Epoch 058/200, Loss: 0.005121819465, validation map: 0.457409026343\n",
      "Epoch 059/200, Loss: 0.005072005869, validation map: 0.458072565378\n",
      "Epoch 060/200, Loss: 0.005043129281, validation map: 0.458052135438\n",
      "Epoch 061/200, Loss: 0.005084959658, validation map: 0.460703316159\n",
      "Epoch 062/200, Loss: 0.005044054473, validation map: 0.462810888747\n",
      "Epoch 063/200, Loss: 0.004993817955, validation map: 0.463278211173\n",
      "Epoch 064/200, Loss: 0.004947170196, validation map: 0.463594229071\n",
      "Epoch 065/200, Loss: 0.004916785882, validation map: 0.463930690349\n",
      "Epoch 066/200, Loss: 0.004957976728, validation map: 0.464896248759\n",
      "Epoch 067/200, Loss: 0.004917356845, validation map: 0.467082657525\n",
      "Epoch 068/200, Loss: 0.004870258955, validation map: 0.467079937976\n",
      "Epoch 069/200, Loss: 0.004822314220, validation map: 0.466911070935\n",
      "Epoch 070/200, Loss: 0.004796703703, validation map: 0.466981255077\n",
      "Epoch 071/200, Loss: 0.004842698885, validation map: 0.469689840606\n",
      "Epoch 072/200, Loss: 0.004805018466, validation map: 0.471776065300\n",
      "Epoch 073/200, Loss: 0.004754119925, validation map: 0.472276024140\n",
      "Epoch 074/200, Loss: 0.004711489566, validation map: 0.472801392648\n",
      "Epoch 075/200, Loss: 0.004684301660, validation map: 0.472982702517\n",
      "Epoch 076/200, Loss: 0.004726286690, validation map: 0.474466686517\n",
      "Epoch 077/200, Loss: 0.004689596104, validation map: 0.475683224774\n",
      "Epoch 078/200, Loss: 0.004643510468, validation map: 0.477621813885\n",
      "Epoch 079/200, Loss: 0.004607528417, validation map: 0.477631531208\n",
      "Epoch 080/200, Loss: 0.004575337159, validation map: 0.476968621903\n",
      "Epoch 081/200, Loss: 0.004625366100, validation map: 0.477761547461\n",
      "Epoch 082/200, Loss: 0.004587278771, validation map: 0.478688176221\n",
      "Epoch 083/200, Loss: 0.004540442008, validation map: 0.480317667572\n",
      "Epoch 084/200, Loss: 0.004497278412, validation map: 0.480546119741\n",
      "Epoch 085/200, Loss: 0.004463590464, validation map: 0.480581492177\n",
      "Epoch 086/200, Loss: 0.004518094768, validation map: 0.481162074321\n",
      "Epoch 087/200, Loss: 0.004486764929, validation map: 0.481501582422\n",
      "Epoch 088/200, Loss: 0.004436845107, validation map: 0.482041585843\n",
      "Epoch 089/200, Loss: 0.004395659959, validation map: 0.482518628539\n",
      "Epoch 090/200, Loss: 0.004359336186, validation map: 0.482559325016\n",
      "Epoch 091/200, Loss: 0.004413989450, validation map: 0.482479206875\n",
      "Epoch 092/200, Loss: 0.004385938084, validation map: 0.484269192348\n",
      "Epoch 093/200, Loss: 0.004337014615, validation map: 0.483840686289\n",
      "Epoch 094/200, Loss: 0.004298701549, validation map: 0.483812582795\n",
      "Epoch 095/200, Loss: 0.004267092647, validation map: 0.484220942863\n",
      "Epoch 096/200, Loss: 0.004323073263, validation map: 0.484044685810\n",
      "Epoch 097/200, Loss: 0.004286549830, validation map: 0.484784965764\n",
      "Epoch 098/200, Loss: 0.004241171281, validation map: 0.484856253975\n",
      "Epoch 099/200, Loss: 0.004200920812, validation map: 0.484376829155\n",
      "Epoch 100/200, Loss: 0.004172193822, validation map: 0.484915569204\n",
      "Epoch 101/200, Loss: 0.004226658528, validation map: 0.485301564535\n",
      "Epoch 102/200, Loss: 0.004197622316, validation map: 0.485523028661\n",
      "Epoch 103/200, Loss: 0.004154625764, validation map: 0.486407018865\n",
      "Epoch 104/200, Loss: 0.004112963642, validation map: 0.485920817997\n",
      "Epoch 105/200, Loss: 0.004078063497, validation map: 0.486112103403\n",
      "Epoch 106/200, Loss: 0.004136068199, validation map: 0.487161445312\n",
      "Epoch 107/200, Loss: 0.004107532239, validation map: 0.486592570495\n",
      "Epoch 108/200, Loss: 0.004061592595, validation map: 0.487132632905\n",
      "Epoch 109/200, Loss: 0.004015910948, validation map: 0.487963904970\n",
      "Epoch 110/200, Loss: 0.003988010429, validation map: 0.488020028938\n",
      "Epoch 111/200, Loss: 0.004040007798, validation map: 0.487991014723\n",
      "Epoch 112/200, Loss: 0.004014311168, validation map: 0.488906997508\n",
      "Epoch 113/200, Loss: 0.003971328509, validation map: 0.488753434898\n",
      "Epoch 114/200, Loss: 0.003923512134, validation map: 0.488914167756\n",
      "Epoch 115/200, Loss: 0.003897449681, validation map: 0.488976573347\n",
      "Epoch 116/200, Loss: 0.003953551276, validation map: 0.489394861584\n",
      "Epoch 117/200, Loss: 0.003926813234, validation map: 0.489576696968\n",
      "Epoch 118/200, Loss: 0.003881577810, validation map: 0.489709103649\n",
      "Epoch 119/200, Loss: 0.003838896976, validation map: 0.489993150425\n",
      "Epoch 120/200, Loss: 0.003806431611, validation map: 0.490071327183\n",
      "Epoch 121/200, Loss: 0.003871914123, validation map: 0.489890576414\n",
      "Epoch 122/200, Loss: 0.003844355877, validation map: 0.490385066765\n",
      "Epoch 123/200, Loss: 0.003799967755, validation map: 0.490175639784\n",
      "Epoch 124/200, Loss: 0.003753729502, validation map: 0.490145847879\n",
      "Epoch 125/200, Loss: 0.003725279852, validation map: 0.490159583327\n",
      "Epoch 126/200, Loss: 0.003782769824, validation map: 0.489633627914\n",
      "Epoch 127/200, Loss: 0.003757260565, validation map: 0.490175012349\n",
      "Epoch 128/200, Loss: 0.003713040694, validation map: 0.489694868383\n",
      "Epoch 129/200, Loss: 0.003666213283, validation map: 0.489862910170\n",
      "Epoch 130/200, Loss: 0.003640185708, validation map: 0.490042957669\n",
      "Epoch 131/200, Loss: 0.003701006047, validation map: 0.490290933678\n",
      "Epoch 132/200, Loss: 0.003674493936, validation map: 0.488380619590\n",
      "Epoch 133/200, Loss: 0.003623966574, validation map: 0.488492241537\n",
      "Epoch 134/200, Loss: 0.003584341980, validation map: 0.488529936927\n",
      "Epoch 135/200, Loss: 0.003553210226, validation map: 0.488843543520\n",
      "Epoch 136/200, Loss: 0.003621814365, validation map: 0.488159257588\n",
      "Epoch 137/200, Loss: 0.003589526219, validation map: 0.488475675703\n",
      "Epoch 138/200, Loss: 0.003540817221, validation map: 0.488116963399\n",
      "Epoch 139/200, Loss: 0.003501834162, validation map: 0.488590926448\n",
      "Epoch 140/200, Loss: 0.003466504541, validation map: 0.488608688766\n",
      "Epoch 141/200, Loss: 0.003530620229, validation map: 0.488352564433\n",
      "Epoch 142/200, Loss: 0.003508894906, validation map: 0.488517854345\n",
      "Epoch 143/200, Loss: 0.003463041072, validation map: 0.487623909748\n",
      "Epoch 144/200, Loss: 0.003421662162, validation map: 0.487936866462\n",
      "Epoch 145/200, Loss: 0.003385944703, validation map: 0.488152983125\n",
      "Epoch 146/200, Loss: 0.003459872018, validation map: 0.487456103700\n",
      "Epoch 147/200, Loss: 0.003425461659, validation map: 0.487252586735\n",
      "Epoch 148/200, Loss: 0.003378552707, validation map: 0.487519560940\n",
      "Epoch 149/200, Loss: 0.003338850771, validation map: 0.488043883063\n",
      "Epoch 150/200, Loss: 0.003311074385, validation map: 0.487939282287\n",
      "Epoch 151/200, Loss: 0.003374697086, validation map: 0.486966585153\n",
      "Epoch 152/200, Loss: 0.003348198580, validation map: 0.487197200769\n",
      "Epoch 153/200, Loss: 0.003307783243, validation map: 0.487018768175\n",
      "Epoch 154/200, Loss: 0.003260831116, validation map: 0.486621196691\n",
      "Epoch 155/200, Loss: 0.003230017963, validation map: 0.487073621603\n",
      "Epoch 156/200, Loss: 0.003302570401, validation map: 0.485959557478\n",
      "Epoch 157/200, Loss: 0.003273699351, validation map: 0.486612358007\n",
      "Epoch 158/200, Loss: 0.003229597180, validation map: 0.485882455219\n",
      "Epoch 159/200, Loss: 0.003181300227, validation map: 0.485989681195\n",
      "Epoch 160/200, Loss: 0.003152575577, validation map: 0.486028533822\n",
      "Epoch 161/200, Loss: 0.003225060645, validation map: 0.485976696483\n",
      "Epoch 162/200, Loss: 0.003191490409, validation map: 0.485754633665\n",
      "Epoch 163/200, Loss: 0.003149410023, validation map: 0.485795727241\n",
      "Epoch 164/200, Loss: 0.003107832562, validation map: 0.485843843832\n",
      "Epoch 165/200, Loss: 0.003071810379, validation map: 0.485731369249\n",
      "Epoch 166/200, Loss: 0.003146613808, validation map: 0.485289894668\n",
      "Epoch 167/200, Loss: 0.003116317303, validation map: 0.485531965767\n",
      "Epoch 168/200, Loss: 0.003074745256, validation map: 0.485075552170\n",
      "Epoch 169/200, Loss: 0.003032590918, validation map: 0.485114816866\n",
      "Epoch 170/200, Loss: 0.003000984271, validation map: 0.485378746933\n",
      "Epoch 171/200, Loss: 0.003073869258, validation map: 0.484994770027\n",
      "Epoch 172/200, Loss: 0.003041870694, validation map: 0.484830308919\n",
      "Epoch 173/200, Loss: 0.003000109177, validation map: 0.485077142142\n",
      "Epoch 174/200, Loss: 0.002956464219, validation map: 0.484906962416\n",
      "Epoch 175/200, Loss: 0.002926932958, validation map: 0.484794771901\n",
      "Epoch 176/200, Loss: 0.002994991738, validation map: 0.484961501167\n",
      "Epoch 177/200, Loss: 0.002977859050, validation map: 0.484398702306\n",
      "Epoch 178/200, Loss: 0.002927613029, validation map: 0.484163554235\n",
      "Epoch 179/200, Loss: 0.002887318353, validation map: 0.484674993451\n",
      "Epoch 180/200, Loss: 0.002855811509, validation map: 0.484250714948\n",
      "Epoch 181/200, Loss: 0.002928753527, validation map: 0.484177728588\n",
      "Epoch 182/200, Loss: 0.002899902655, validation map: 0.483202183507\n",
      "Epoch 183/200, Loss: 0.002862755718, validation map: 0.483857109558\n",
      "Epoch 184/200, Loss: 0.002818997239, validation map: 0.483559494469\n",
      "Epoch 185/200, Loss: 0.002783742008, validation map: 0.482968540008\n",
      "Epoch 186/200, Loss: 0.002856591429, validation map: 0.483394392032\n",
      "Epoch 187/200, Loss: 0.002837610800, validation map: 0.483812125338\n",
      "Epoch 188/200, Loss: 0.002791604442, validation map: 0.482957812620\n",
      "Epoch 189/200, Loss: 0.002749782948, validation map: 0.482993272369\n",
      "Epoch 190/200, Loss: 0.002717999458, validation map: 0.482903878347\n",
      "Epoch 191/200, Loss: 0.002786464442, validation map: 0.482648472679\n",
      "Epoch 192/200, Loss: 0.002772000545, validation map: 0.482365974036\n",
      "Epoch 193/200, Loss: 0.002725646466, validation map: 0.482256734599\n",
      "Epoch 194/200, Loss: 0.002685637194, validation map: 0.482250732623\n",
      "Epoch 195/200, Loss: 0.002650512930, validation map: 0.482188409595\n",
      "Epoch 196/200, Loss: 0.002723472678, validation map: 0.482160434209\n",
      "Epoch 197/200, Loss: 0.002702888074, validation map: 0.481714018231\n",
      "Epoch 198/200, Loss: 0.002660587570, validation map: 0.482065983055\n",
      "Epoch 199/200, Loss: 0.002619750817, validation map: 0.481696444940\n",
      "Epoch 200/200, Loss: 0.002588296856, validation map: 0.481494272645\n"
     ]
    }
   ],
   "source": [
    "num_epochs = 200\n",
    "training_loss_per_epoch = np.zeros(200)\n",
    "validation_loss_per_epoch = np.zeros(200)\n",
    "validation_map_per_epoch = np.zeros(200)\n",
    "\n",
    "for epoch in range(num_epochs):\n",
    "    running_loss = 0.0\n",
    "    for inputs, labels in train_dataloader:\n",
    "        inputs = inputs.to(device)\n",
    "        labels = labels.to(device)\n",
    "\n",
    "        optimizer.zero_grad()  # Zero the gradients\n",
    "        outputs = model(inputs)  # Forward pass\n",
    "        loss = criterion(outputs, labels)  # Compute the loss\n",
    "        loss.backward()  # Backward pass\n",
    "        optimizer.step()  # Update the weights\n",
    "\n",
    "        running_loss += loss.item()\n",
    "    \n",
    "    scheduler.step()\n",
    "    \n",
    "    with torch.no_grad():\n",
    "        pred = model.forward(X_val.to(device))\n",
    "        # calculate the validation loss:\n",
    "        validation_loss = criterion(pred, y_val.to(device))\n",
    "        # calculate the validation mAP:\n",
    "        validation_aps = ev.eval_vo(pred[:,:600].T.cpu().detach().numpy(), y_val[:,:600].T.numpy(),600)[0]\n",
    "        nr_val_classes = np.sum(validation_aps != None)\n",
    "        validation_map = np.nansum(validation_aps) / nr_val_classes\n",
    "\n",
    "    # add the losses and mAP to the arrays:\n",
    "    training_loss_per_epoch[epoch] = running_loss / len(train_dataloader)\n",
    "    validation_loss_per_epoch[epoch] = validation_loss\n",
    "    validation_map_per_epoch[epoch] = validation_map\n",
    "\n",
    "    print(f\"Epoch {epoch+1:0{len(str(num_epochs))}}/{num_epochs}, Loss: {running_loss/len(train_dataloader):.12f}, validation map: {validation_map:.12f}\")"
   ]
  },
  {
   "cell_type": "markdown",
   "metadata": {},
   "source": [
    "### plotting the training process to select the number of convergence"
   ]
  },
  {
   "cell_type": "code",
   "execution_count": 11,
   "metadata": {},
   "outputs": [
    {
     "data": {
      "text/plain": [
       "[]"
      ]
     },
     "execution_count": 11,
     "metadata": {},
     "output_type": "execute_result"
    },
    {
     "data": {
      "image/png": "[encoded data removed]",
      "text/plain": [
       "<Figure size 800x600 with 1 Axes>"
      ]
     },
     "metadata": {},
     "output_type": "display_data"
    }
   ],
   "source": [
    "plt.figure(figsize=(8,6))\n",
    "plt.plot(np.arange(200), training_loss_per_epoch, color = \"orange\")\n",
    "plt.plot(np.arange(200), validation_loss_per_epoch, color = \"blue\")\n",
    "# plt.plot(np.arange(100), validation_loss_main_per_epoch, color= \"red\")\n",
    "# plt.plot(np.arange(100), validation_loss_side_per_epoch, color = \"purple\")\n",
    "plt.plot(np.arange(200), validation_map_per_epoch/10, color = \"green\")\n",
    "#plt.hlines(0.010051161982119083, 0, 100 , colors=['black'],linestyles=['dotted'])\n",
    "plt.ylim(0,0.1)\n",
    "plt.plot()"
   ]
  },
  {
   "cell_type": "code",
   "execution_count": 12,
   "metadata": {},
   "outputs": [
    {
     "data": {
      "text/plain": [
       "121"
      ]
     },
     "execution_count": 12,
     "metadata": {},
     "output_type": "execute_result"
    }
   ],
   "source": [
    "np.argmax(validation_map_per_epoch)"
   ]
  },
  {
   "cell_type": "code",
   "execution_count": 13,
   "metadata": {},
   "outputs": [
    {
     "data": {
      "text/plain": [
       "114"
      ]
     },
     "execution_count": 13,
     "metadata": {},
     "output_type": "execute_result"
    }
   ],
   "source": [
    "np.argmin(validation_loss_per_epoch)"
   ]
  }
 ],
 "metadata": {
  "kernelspec": {
   "display_name": "PyTorch",
   "language": "python",
   "name": "python3"
  },
  "language_info": {
   "codemirror_mode": {
    "name": "ipython",
    "version": 3
   },
   "file_extension": ".py",
   "mimetype": "text/x-python",
   "name": "python",
   "nbconvert_exporter": "python",
   "pygments_lexer": "ipython3",
   "version": "3.10.13"
  }
 },
 "nbformat": 4,
 "nbformat_minor": 2
}
