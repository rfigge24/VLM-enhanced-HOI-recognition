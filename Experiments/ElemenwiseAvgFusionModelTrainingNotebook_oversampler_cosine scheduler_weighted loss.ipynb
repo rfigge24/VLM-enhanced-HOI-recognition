{
 "cells": [
  {
   "cell_type": "markdown",
   "metadata": {},
   "source": [
    "# Elementwise Average Fusion model training (with a balanced sampler):"
   ]
  },
  {
   "cell_type": "code",
   "execution_count": 10,
   "metadata": {},
   "outputs": [],
   "source": [
    "import sys\n",
    "root = '../'\n",
    "sys.path.append(root)   # Done to be able to import the packages and functions\n",
    "\n",
    "import Utils.hico_evaluation.evaluation as ev\n",
    "from Utils.custom_loss import MaskedBCELoss\n",
    "from Utils.annotation_preprocessing import _load_csv_to_tensor\n",
    "from Utils.train_val_split import train_val_split_hico\n",
    "from hoi_classifiers import ElementwiseAvgFusionModel\n",
    "\n",
    "import torch\n",
    "import numpy as np\n",
    "from torch.utils.data import TensorDataset, DataLoader\n",
    "import matplotlib.pyplot as plt\n",
    "\n",
    "from pytorch_multilabel_balanced_sampler.samplers import LeastSampledClassSampler\n",
    "from Utils.custom_sampler import OverSampler\n",
    "import random"
   ]
  },
  {
   "cell_type": "code",
   "execution_count": 11,
   "metadata": {},
   "outputs": [],
   "source": [
    "seed = 42   #note that the model parameters will still be randomly initiated\n",
    "torch.manual_seed(seed)\n",
    "random.seed(seed)"
   ]
  },
  {
   "cell_type": "markdown",
   "metadata": {},
   "source": [
    "### Loading the training set:\n"
   ]
  },
  {
   "cell_type": "code",
   "execution_count": 12,
   "metadata": {},
   "outputs": [],
   "source": [
    "# Loading the data:\n",
    "train_data = torch.load(root + \"Embeddings/Combined_Embeddings/train.pt\")\n",
    "train_annotations = _load_csv_to_tensor(root + \"anno/added/anno_augmented_train.csv\").T # Transpose to make both first dimensions the #samples.\n",
    "train_annotations[train_annotations.isnan()] = -1"
   ]
  },
  {
   "cell_type": "markdown",
   "metadata": {},
   "source": [
    "##### Splitting the training set into a train and validation set:"
   ]
  },
  {
   "cell_type": "code",
   "execution_count": 13,
   "metadata": {},
   "outputs": [],
   "source": [
    "train_idx, validation_idx = train_val_split_hico(train_data, train_annotations, 0.2, seed)\n",
    "X_train, X_val = train_data[train_idx], train_data[validation_idx]\n",
    "y_train, y_val = train_annotations[train_idx], train_annotations[validation_idx]"
   ]
  },
  {
   "cell_type": "markdown",
   "metadata": {},
   "source": [
    "#### Training Preparations:"
   ]
  },
  {
   "cell_type": "code",
   "execution_count": 14,
   "metadata": {},
   "outputs": [],
   "source": [
    "train_dataset = TensorDataset(X_train, y_train)"
   ]
  },
  {
   "cell_type": "code",
   "execution_count": 15,
   "metadata": {},
   "outputs": [],
   "source": [
    "# Batch size:\n",
    "bs = 512\n",
    "\n",
    "sampler = OverSampler(y_train[:,:600], shuffle = True)\n",
    "\n",
    "train_dataloader = DataLoader(\n",
    "    train_dataset, batch_size=bs, num_workers=4, sampler=sampler)\n"
   ]
  },
  {
   "cell_type": "code",
   "execution_count": 16,
   "metadata": {},
   "outputs": [],
   "source": [
    "device = torch.device('cuda:0' if torch.cuda.is_available() else 'cpu')"
   ]
  },
  {
   "cell_type": "code",
   "execution_count": 17,
   "metadata": {},
   "outputs": [],
   "source": [
    "model = ElementwiseAvgFusionModel(512,655,797)\n",
    "model = model.to(device)"
   ]
  },
  {
   "cell_type": "code",
   "execution_count": 21,
   "metadata": {},
   "outputs": [],
   "source": [
    "classweights = torch.cat((torch.ones(600),torch.ones(197)*0.5)).to(device)      # The hoi classes weigh twice as much as the seperate classes\n",
    "y_trainisone = torch.where((torch.sum(y_train == 1, dim = 0) >= 40),torch.sum(y_train == 1, dim = 0), 40).to(device)\n",
    "classweights = classweights * (1 / y_trainisone)\n",
    "criterion = MaskedBCELoss(ignore_label=0, convert_target_to_01= True, weight=classweights)\n",
    "\n",
    "optimizer = torch.optim.Adam(params=model.parameters(), lr=0.0005)\n",
    "scheduler = torch.optim.lr_scheduler.CosineAnnealingWarmRestarts(optimizer, T_0=5, T_mult=1)"
   ]
  },
  {
   "cell_type": "markdown",
   "metadata": {},
   "source": [
    "#### Training loop:"
   ]
  },
  {
   "cell_type": "code",
   "execution_count": 22,
   "metadata": {},
   "outputs": [
    {
     "name": "stdout",
     "output_type": "stream",
     "text": [
      "Epoch 001/200, Loss: 0.001831838768, validation map: 0.006202237665\n",
      "Epoch 002/200, Loss: 0.000201513320, validation map: 0.008448586157\n",
      "Epoch 003/200, Loss: 0.000196282579, validation map: 0.015587594203\n",
      "Epoch 004/200, Loss: 0.000191886795, validation map: 0.024694193493\n",
      "Epoch 005/200, Loss: 0.000188798115, validation map: 0.027862272505\n",
      "Epoch 006/200, Loss: 0.000181789796, validation map: 0.068995353306\n",
      "Epoch 007/200, Loss: 0.000165627725, validation map: 0.109827966528\n",
      "Epoch 008/200, Loss: 0.000151777292, validation map: 0.147180424959\n",
      "Epoch 009/200, Loss: 0.000143083057, validation map: 0.166427726665\n",
      "Epoch 010/200, Loss: 0.000139126259, validation map: 0.172384333934\n",
      "Epoch 011/200, Loss: 0.000131295169, validation map: 0.213775216052\n",
      "Epoch 012/200, Loss: 0.000118252140, validation map: 0.242143485054\n",
      "Epoch 013/200, Loss: 0.000108817009, validation map: 0.260242549061\n",
      "Epoch 014/200, Loss: 0.000103510723, validation map: 0.270506154281\n",
      "Epoch 015/200, Loss: 0.000101159146, validation map: 0.272604485561\n",
      "Epoch 016/200, Loss: 0.000097091396, validation map: 0.294618701332\n",
      "Epoch 017/200, Loss: 0.000089914811, validation map: 0.315245023639\n",
      "Epoch 018/200, Loss: 0.000085303673, validation map: 0.327136788203\n",
      "Epoch 019/200, Loss: 0.000081949156, validation map: 0.331983036121\n",
      "Epoch 020/200, Loss: 0.000080615349, validation map: 0.333663591352\n",
      "Epoch 021/200, Loss: 0.000079062301, validation map: 0.347154144456\n",
      "Epoch 022/200, Loss: 0.000074664753, validation map: 0.355762920844\n",
      "Epoch 023/200, Loss: 0.000071855217, validation map: 0.362457668171\n",
      "Epoch 024/200, Loss: 0.000069864480, validation map: 0.365572034161\n",
      "Epoch 025/200, Loss: 0.000068858242, validation map: 0.366105679300\n",
      "Epoch 026/200, Loss: 0.000067968579, validation map: 0.374355702975\n",
      "Epoch 027/200, Loss: 0.000065551618, validation map: 0.381295025013\n",
      "Epoch 028/200, Loss: 0.000063513591, validation map: 0.385959460350\n",
      "Epoch 029/200, Loss: 0.000062235224, validation map: 0.387243554758\n",
      "Epoch 030/200, Loss: 0.000061474742, validation map: 0.387575728278\n",
      "Epoch 031/200, Loss: 0.000060830507, validation map: 0.392162015911\n",
      "Epoch 032/200, Loss: 0.000059164684, validation map: 0.396976472206\n",
      "Epoch 033/200, Loss: 0.000057394387, validation map: 0.399576291484\n",
      "Epoch 034/200, Loss: 0.000056458214, validation map: 0.400172933207\n",
      "Epoch 035/200, Loss: 0.000055872130, validation map: 0.400802929127\n",
      "Epoch 036/200, Loss: 0.000055703614, validation map: 0.405197745388\n",
      "Epoch 037/200, Loss: 0.000054555741, validation map: 0.409633841109\n",
      "Epoch 038/200, Loss: 0.000053177796, validation map: 0.411219969544\n",
      "Epoch 039/200, Loss: 0.000052400707, validation map: 0.412745030360\n",
      "Epoch 040/200, Loss: 0.000051850819, validation map: 0.412944062528\n",
      "Epoch 041/200, Loss: 0.000051630493, validation map: 0.417874180933\n",
      "Epoch 042/200, Loss: 0.000050669328, validation map: 0.420635292160\n",
      "Epoch 043/200, Loss: 0.000049530504, validation map: 0.422026982941\n",
      "Epoch 044/200, Loss: 0.000048895244, validation map: 0.423584697299\n",
      "Epoch 045/200, Loss: 0.000048184053, validation map: 0.423639911483\n",
      "Epoch 046/200, Loss: 0.000048535545, validation map: 0.425672554050\n",
      "Epoch 047/200, Loss: 0.000047546525, validation map: 0.429540184378\n",
      "Epoch 048/200, Loss: 0.000046655954, validation map: 0.429103734115\n",
      "Epoch 049/200, Loss: 0.000046072649, validation map: 0.431172913399\n",
      "Epoch 050/200, Loss: 0.000045643954, validation map: 0.431733826132\n",
      "Epoch 051/200, Loss: 0.000045761695, validation map: 0.433950769694\n",
      "Epoch 052/200, Loss: 0.000045085111, validation map: 0.435382558768\n",
      "Epoch 053/200, Loss: 0.000044151087, validation map: 0.436896847665\n",
      "Epoch 054/200, Loss: 0.000043675487, validation map: 0.437719082035\n",
      "Epoch 055/200, Loss: 0.000043219939, validation map: 0.437891696651\n",
      "Epoch 056/200, Loss: 0.000043434245, validation map: 0.440419351158\n",
      "Epoch 057/200, Loss: 0.000042865170, validation map: 0.441263100884\n",
      "Epoch 058/200, Loss: 0.000042086613, validation map: 0.442585884265\n",
      "Epoch 059/200, Loss: 0.000041720077, validation map: 0.442768319788\n",
      "Epoch 060/200, Loss: 0.000041198266, validation map: 0.443058572406\n",
      "Epoch 061/200, Loss: 0.000041438904, validation map: 0.443733357259\n",
      "Epoch 062/200, Loss: 0.000040834262, validation map: 0.445374875806\n",
      "Epoch 063/200, Loss: 0.000040187199, validation map: 0.445840046300\n",
      "Epoch 064/200, Loss: 0.000039636033, validation map: 0.445972095867\n",
      "Epoch 065/200, Loss: 0.000039351670, validation map: 0.446050480811\n",
      "Epoch 066/200, Loss: 0.000039575486, validation map: 0.448424867084\n",
      "Epoch 067/200, Loss: 0.000039035105, validation map: 0.449142325868\n",
      "Epoch 068/200, Loss: 0.000038459132, validation map: 0.448820503013\n",
      "Epoch 069/200, Loss: 0.000038061087, validation map: 0.448825507810\n",
      "Epoch 070/200, Loss: 0.000037781599, validation map: 0.448928304597\n",
      "Epoch 071/200, Loss: 0.000037903303, validation map: 0.449475836622\n",
      "Epoch 072/200, Loss: 0.000037493162, validation map: 0.449519871211\n",
      "Epoch 073/200, Loss: 0.000036980077, validation map: 0.450673957031\n",
      "Epoch 074/200, Loss: 0.000036531299, validation map: 0.450612268679\n",
      "Epoch 075/200, Loss: 0.000036162580, validation map: 0.450569744336\n",
      "Epoch 076/200, Loss: 0.000036555195, validation map: 0.451348614360\n",
      "Epoch 077/200, Loss: 0.000036111231, validation map: 0.452507386180\n",
      "Epoch 078/200, Loss: 0.000035628672, validation map: 0.453117510983\n",
      "Epoch 079/200, Loss: 0.000035145908, validation map: 0.453731474660\n",
      "Epoch 080/200, Loss: 0.000034800748, validation map: 0.453733311884\n",
      "Epoch 081/200, Loss: 0.000035166913, validation map: 0.453720886536\n",
      "Epoch 082/200, Loss: 0.000034785950, validation map: 0.454138651970\n",
      "Epoch 083/200, Loss: 0.000034268348, validation map: 0.454357134213\n",
      "Epoch 084/200, Loss: 0.000033780094, validation map: 0.454677842137\n",
      "Epoch 085/200, Loss: 0.000033607656, validation map: 0.454646879440\n",
      "Epoch 086/200, Loss: 0.000033887099, validation map: 0.455805768145\n",
      "Epoch 087/200, Loss: 0.000033422467, validation map: 0.456602016569\n",
      "Epoch 088/200, Loss: 0.000033051787, validation map: 0.456516459604\n",
      "Epoch 089/200, Loss: 0.000032699614, validation map: 0.457893353108\n",
      "Epoch 090/200, Loss: 0.000032426823, validation map: 0.457636961555\n",
      "Epoch 091/200, Loss: 0.000032721612, validation map: 0.458789608766\n",
      "Epoch 092/200, Loss: 0.000032347976, validation map: 0.458294089106\n",
      "Epoch 093/200, Loss: 0.000031950840, validation map: 0.458660862962\n",
      "Epoch 094/200, Loss: 0.000031511517, validation map: 0.458520804059\n",
      "Epoch 095/200, Loss: 0.000031426586, validation map: 0.458759310708\n",
      "Epoch 096/200, Loss: 0.000031656808, validation map: 0.459928518248\n",
      "Epoch 097/200, Loss: 0.000031236510, validation map: 0.460381310279\n",
      "Epoch 098/200, Loss: 0.000030895566, validation map: 0.460706827869\n",
      "Epoch 099/200, Loss: 0.000030311175, validation map: 0.460832687006\n",
      "Epoch 100/200, Loss: 0.000030070018, validation map: 0.460687842878\n",
      "Epoch 101/200, Loss: 0.000030641924, validation map: 0.460947187614\n",
      "Epoch 102/200, Loss: 0.000030350765, validation map: 0.461525222551\n",
      "Epoch 103/200, Loss: 0.000029717246, validation map: 0.460871311690\n",
      "Epoch 104/200, Loss: 0.000029478094, validation map: 0.461028087349\n",
      "Epoch 105/200, Loss: 0.000029202122, validation map: 0.461157047811\n",
      "Epoch 106/200, Loss: 0.000029611545, validation map: 0.461277917890\n",
      "Epoch 107/200, Loss: 0.000029367006, validation map: 0.461876244842\n",
      "Epoch 108/200, Loss: 0.000028959980, validation map: 0.461981216475\n",
      "Epoch 109/200, Loss: 0.000028531909, validation map: 0.461535886406\n",
      "Epoch 110/200, Loss: 0.000028277229, validation map: 0.461703161392\n",
      "Epoch 111/200, Loss: 0.000028693858, validation map: 0.462563670104\n",
      "Epoch 112/200, Loss: 0.000028521043, validation map: 0.462342514300\n",
      "Epoch 113/200, Loss: 0.000028056619, validation map: 0.462589010418\n",
      "Epoch 114/200, Loss: 0.000027648722, validation map: 0.462962747647\n",
      "Epoch 115/200, Loss: 0.000027454636, validation map: 0.462944023956\n",
      "Epoch 116/200, Loss: 0.000027826343, validation map: 0.462635753881\n",
      "Epoch 117/200, Loss: 0.000027514057, validation map: 0.463130201040\n",
      "Epoch 118/200, Loss: 0.000027238584, validation map: 0.463286511759\n",
      "Epoch 119/200, Loss: 0.000026941600, validation map: 0.463802763243\n",
      "Epoch 120/200, Loss: 0.000026715388, validation map: 0.463359336750\n",
      "Epoch 121/200, Loss: 0.000026932654, validation map: 0.463382053373\n",
      "Epoch 122/200, Loss: 0.000026734593, validation map: 0.464617428160\n",
      "Epoch 123/200, Loss: 0.000026397979, validation map: 0.464309979025\n",
      "Epoch 124/200, Loss: 0.000026152689, validation map: 0.464874343893\n",
      "Epoch 125/200, Loss: 0.000025873721, validation map: 0.464731912592\n",
      "Epoch 126/200, Loss: 0.000026239573, validation map: 0.464597398861\n",
      "Epoch 127/200, Loss: 0.000025850827, validation map: 0.464557464482\n",
      "Epoch 128/200, Loss: 0.000025679250, validation map: 0.464321389613\n",
      "Epoch 129/200, Loss: 0.000025300431, validation map: 0.464811191725\n",
      "Epoch 130/200, Loss: 0.000025015821, validation map: 0.464747040092\n",
      "Epoch 131/200, Loss: 0.000025408678, validation map: 0.465259656302\n",
      "Epoch 132/200, Loss: 0.000025205829, validation map: 0.464846959212\n",
      "Epoch 133/200, Loss: 0.000024929613, validation map: 0.465447857520\n",
      "Epoch 134/200, Loss: 0.000024595228, validation map: 0.465483265644\n",
      "Epoch 135/200, Loss: 0.000024426461, validation map: 0.465503695890\n",
      "Epoch 136/200, Loss: 0.000024752394, validation map: 0.465316116466\n",
      "Epoch 137/200, Loss: 0.000024468799, validation map: 0.466179142424\n",
      "Epoch 138/200, Loss: 0.000024108114, validation map: 0.465818353188\n",
      "Epoch 139/200, Loss: 0.000023960707, validation map: 0.466110572421\n",
      "Epoch 140/200, Loss: 0.000023684238, validation map: 0.465940826441\n",
      "Epoch 141/200, Loss: 0.000024056467, validation map: 0.465781098708\n",
      "Epoch 142/200, Loss: 0.000023817328, validation map: 0.465671838654\n",
      "Epoch 143/200, Loss: 0.000023488330, validation map: 0.466555683860\n",
      "Epoch 144/200, Loss: 0.000023177789, validation map: 0.466259270594\n",
      "Epoch 145/200, Loss: 0.000023088657, validation map: 0.466069867669\n",
      "Epoch 146/200, Loss: 0.000023413923, validation map: 0.466306553686\n",
      "Epoch 147/200, Loss: 0.000023203920, validation map: 0.466510825027\n",
      "Epoch 148/200, Loss: 0.000022846424, validation map: 0.466668521008\n",
      "Epoch 149/200, Loss: 0.000022592044, validation map: 0.466261453654\n",
      "Epoch 150/200, Loss: 0.000022371625, validation map: 0.466513801965\n",
      "Epoch 151/200, Loss: 0.000022701207, validation map: 0.466987742753\n",
      "Epoch 152/200, Loss: 0.000022549078, validation map: 0.467189602846\n",
      "Epoch 153/200, Loss: 0.000022243518, validation map: 0.466904309794\n",
      "Epoch 154/200, Loss: 0.000022090865, validation map: 0.467475258589\n",
      "Epoch 155/200, Loss: 0.000021799256, validation map: 0.466848325954\n",
      "Epoch 156/200, Loss: 0.000022171882, validation map: 0.468156874138\n",
      "Epoch 157/200, Loss: 0.000022003994, validation map: 0.467553970107\n",
      "Epoch 158/200, Loss: 0.000021735351, validation map: 0.468291985008\n",
      "Epoch 159/200, Loss: 0.000021479678, validation map: 0.467915521765\n",
      "Epoch 160/200, Loss: 0.000021175617, validation map: 0.468070238902\n",
      "Epoch 161/200, Loss: 0.000021640166, validation map: 0.467972641260\n",
      "Epoch 162/200, Loss: 0.000021366016, validation map: 0.467342952950\n",
      "Epoch 163/200, Loss: 0.000021126127, validation map: 0.467284121132\n",
      "Epoch 164/200, Loss: 0.000020867043, validation map: 0.466749450249\n",
      "Epoch 165/200, Loss: 0.000020667704, validation map: 0.467237803833\n",
      "Epoch 166/200, Loss: 0.000021069908, validation map: 0.468223095313\n",
      "Epoch 167/200, Loss: 0.000020853568, validation map: 0.467473593378\n",
      "Epoch 168/200, Loss: 0.000020565627, validation map: 0.467686885266\n",
      "Epoch 169/200, Loss: 0.000020305261, validation map: 0.467534533810\n",
      "Epoch 170/200, Loss: 0.000020125623, validation map: 0.467452891478\n",
      "Epoch 171/200, Loss: 0.000020571776, validation map: 0.467477204684\n",
      "Epoch 172/200, Loss: 0.000020283387, validation map: 0.467882151551\n",
      "Epoch 173/200, Loss: 0.000020108162, validation map: 0.467320799274\n",
      "Epoch 174/200, Loss: 0.000019853664, validation map: 0.467150576283\n",
      "Epoch 175/200, Loss: 0.000019618685, validation map: 0.467288089272\n",
      "Epoch 176/200, Loss: 0.000020033260, validation map: 0.467063641978\n",
      "Epoch 177/200, Loss: 0.000019845944, validation map: 0.467163112114\n",
      "Epoch 178/200, Loss: 0.000019661052, validation map: 0.466631809011\n",
      "Epoch 179/200, Loss: 0.000019329870, validation map: 0.466875185467\n",
      "Epoch 180/200, Loss: 0.000019183096, validation map: 0.466683139024\n",
      "Epoch 181/200, Loss: 0.000019511056, validation map: 0.466331697788\n",
      "Epoch 182/200, Loss: 0.000019310110, validation map: 0.466975228971\n",
      "Epoch 183/200, Loss: 0.000019080358, validation map: 0.467533669351\n",
      "Epoch 184/200, Loss: 0.000018879096, validation map: 0.467215877026\n",
      "Epoch 185/200, Loss: 0.000018620319, validation map: 0.467042369928\n",
      "Epoch 186/200, Loss: 0.000019066613, validation map: 0.466966646144\n",
      "Epoch 187/200, Loss: 0.000018836924, validation map: 0.467198080508\n",
      "Epoch 188/200, Loss: 0.000018645116, validation map: 0.466871418554\n",
      "Epoch 189/200, Loss: 0.000018370694, validation map: 0.467167577220\n",
      "Epoch 190/200, Loss: 0.000018244090, validation map: 0.466952864162\n",
      "Epoch 191/200, Loss: 0.000018539638, validation map: 0.466680007250\n",
      "Epoch 192/200, Loss: 0.000018430791, validation map: 0.466665316610\n",
      "Epoch 193/200, Loss: 0.000018219567, validation map: 0.466413146130\n",
      "Epoch 194/200, Loss: 0.000017970604, validation map: 0.466100154598\n",
      "Epoch 195/200, Loss: 0.000017795002, validation map: 0.466345700118\n",
      "Epoch 196/200, Loss: 0.000018142413, validation map: 0.465799947903\n",
      "Epoch 197/200, Loss: 0.000018005287, validation map: 0.465893883606\n",
      "Epoch 198/200, Loss: 0.000017763246, validation map: 0.466113856035\n",
      "Epoch 199/200, Loss: 0.000017563652, validation map: 0.465796275832\n",
      "Epoch 200/200, Loss: 0.000017366406, validation map: 0.465749116485\n"
     ]
    }
   ],
   "source": [
    "num_epochs = 200\n",
    "training_loss_per_epoch = np.zeros(200)\n",
    "validation_loss_per_epoch = np.zeros(200)\n",
    "validation_map_per_epoch = np.zeros(200)\n",
    "\n",
    "for epoch in range(num_epochs):\n",
    "    running_loss = 0.0\n",
    "    for inputs, labels in train_dataloader:\n",
    "        inputs = inputs.to(device)\n",
    "        labels = labels.to(device)\n",
    "\n",
    "        optimizer.zero_grad()  # Zero the gradients\n",
    "        outputs = model(inputs)  # Forward pass\n",
    "        loss = criterion(outputs, labels)  # Compute the loss\n",
    "        loss.backward()  # Backward pass\n",
    "        optimizer.step()  # Update the weights\n",
    "\n",
    "        running_loss += loss.item()\n",
    "    \n",
    "    scheduler.step()\n",
    "\n",
    "    with torch.no_grad():\n",
    "        pred = model.forward(X_val.to(device))\n",
    "        # calculate the validation loss:\n",
    "        validation_loss = criterion(pred, y_val.to(device))\n",
    "        # calculate the validation mAP:\n",
    "        validation_aps = ev.eval_vo(pred[:,:600].T.cpu().detach().numpy(), y_val[:,:600].T.numpy(),600)[0]\n",
    "        nr_val_classes = np.sum(validation_aps != None)\n",
    "        validation_map = np.nansum(validation_aps) / nr_val_classes\n",
    "\n",
    "    # add the losses and mAP to the arrays:\n",
    "    training_loss_per_epoch[epoch] = running_loss / len(train_dataloader)\n",
    "    validation_loss_per_epoch[epoch] = validation_loss\n",
    "    validation_map_per_epoch[epoch] = validation_map\n",
    "\n",
    "    print(f\"Epoch {epoch+1:0{len(str(num_epochs))}}/{num_epochs}, Loss: {running_loss/len(train_dataloader):.12f}, validation map: {validation_map:.12f}\")"
   ]
  },
  {
   "cell_type": "markdown",
   "metadata": {},
   "source": [
    "### plotting the training process to select the number of convergence"
   ]
  },
  {
   "cell_type": "code",
   "execution_count": 23,
   "metadata": {},
   "outputs": [
    {
     "data": {
      "text/plain": [
       "[]"
      ]
     },
     "execution_count": 23,
     "metadata": {},
     "output_type": "execute_result"
    },
    {
     "data": {
      "image/png": "[encoded data removed]",
      "text/plain": [
       "<Figure size 800x600 with 1 Axes>"
      ]
     },
     "metadata": {},
     "output_type": "display_data"
    }
   ],
   "source": [
    "plt.figure(figsize=(8,6))\n",
    "plt.plot(np.arange(200), training_loss_per_epoch, color = \"orange\")\n",
    "plt.plot(np.arange(200), validation_loss_per_epoch, color = \"blue\")\n",
    "# plt.plot(np.arange(100), validation_loss_main_per_epoch, color= \"red\")\n",
    "# plt.plot(np.arange(100), validation_loss_side_per_epoch, color = \"purple\")\n",
    "plt.plot(np.arange(200), validation_map_per_epoch/10, color = \"green\")\n",
    "#plt.hlines(0.010051161982119083, 0, 100 , colors=['black'],linestyles=['dotted'])\n",
    "plt.ylim(0,0.1)\n",
    "plt.plot()"
   ]
  },
  {
   "cell_type": "code",
   "execution_count": 24,
   "metadata": {},
   "outputs": [
    {
     "data": {
      "text/plain": [
       "157"
      ]
     },
     "execution_count": 24,
     "metadata": {},
     "output_type": "execute_result"
    }
   ],
   "source": [
    "np.argmax(validation_map_per_epoch)"
   ]
  },
  {
   "cell_type": "code",
   "execution_count": 25,
   "metadata": {},
   "outputs": [
    {
     "data": {
      "text/plain": [
       "99"
      ]
     },
     "execution_count": 25,
     "metadata": {},
     "output_type": "execute_result"
    }
   ],
   "source": [
    "np.argmin(validation_loss_per_epoch)"
   ]
  }
 ],
 "metadata": {
  "kernelspec": {
   "display_name": "PyTorch",
   "language": "python",
   "name": "python3"
  },
  "language_info": {
   "codemirror_mode": {
    "name": "ipython",
    "version": 3
   },
   "file_extension": ".py",
   "mimetype": "text/x-python",
   "name": "python",
   "nbconvert_exporter": "python",
   "pygments_lexer": "ipython3",
   "version": "3.10.13"
  }
 },
 "nbformat": 4,
 "nbformat_minor": 2
}
