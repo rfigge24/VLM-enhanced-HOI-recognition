{
 "cells": [
  {
   "cell_type": "markdown",
   "metadata": {},
   "source": [
    "# Elementwise Average Fusion model testing (OverSampler, cosine scheduling, BCE loss):"
   ]
  },
  {
   "cell_type": "code",
   "execution_count": 1,
   "metadata": {},
   "outputs": [],
   "source": [
    "import sys\n",
    "root = '../../'\n",
    "sys.path.append(root)   # Done to be able to import the packages and functions\n",
    "\n",
    "import Utils.hico_evaluation.evaluation as ev\n",
    "from Utils.custom_sampler import OverSampler\n",
    "from Utils.custom_loss import MaskedBCELoss\n",
    "from Utils.annotation_preprocessing import _load_csv_to_tensor\n",
    "from Utils.train_val_split import train_val_split_hico\n",
    "from hoi_classifiers import ElementwiseAvgFusionModel\n",
    "\n",
    "import torch\n",
    "import numpy as np\n",
    "from torch.utils.data import TensorDataset, DataLoader\n",
    "import matplotlib.pyplot as plt\n",
    "\n",
    "import random"
   ]
  },
  {
   "cell_type": "code",
   "execution_count": 2,
   "metadata": {},
   "outputs": [],
   "source": [
    "seed = 42   #note that the model parameters will still be randomly initiated\n",
    "torch.manual_seed(seed)\n",
    "random.seed(seed)"
   ]
  },
  {
   "cell_type": "markdown",
   "metadata": {},
   "source": [
    "### Loading the training set:\n"
   ]
  },
  {
   "cell_type": "code",
   "execution_count": 3,
   "metadata": {},
   "outputs": [],
   "source": [
    "# Loading the data:\n",
    "X_train = torch.load(root + \"Embeddings/Combined_Embeddings/train.pt\")\n",
    "y_train = _load_csv_to_tensor(root + \"anno/added/anno_augmented_train.csv\").T # Transpose to make both first dimensions the #samples.\n",
    "y_train[y_train.isnan()] = -1"
   ]
  },
  {
   "cell_type": "code",
   "execution_count": 4,
   "metadata": {},
   "outputs": [],
   "source": [
    "X_test = torch.load(root + \"Embeddings/Combined_Embeddings/test.pt\")\n",
    "y_test = _load_csv_to_tensor(root + \"anno/added/anno_augmented_test.csv\").T # Transpose to make both first dimensions the #samples.\n",
    "y_test[y_test.isnan()] = -1"
   ]
  },
  {
   "cell_type": "markdown",
   "metadata": {},
   "source": [
    "#### Training Preparations:"
   ]
  },
  {
   "cell_type": "code",
   "execution_count": 5,
   "metadata": {},
   "outputs": [],
   "source": [
    "train_dataset = TensorDataset(X_train, y_train)"
   ]
  },
  {
   "cell_type": "code",
   "execution_count": 6,
   "metadata": {},
   "outputs": [],
   "source": [
    "# Batch size:\n",
    "bs = 512\n",
    "\n",
    "sampler = OverSampler(y_train[:,:600], shuffle=True)\n",
    "\n",
    "train_dataloader = DataLoader(\n",
    "    train_dataset, batch_size=bs, num_workers=4, sampler=sampler)\n"
   ]
  },
  {
   "cell_type": "code",
   "execution_count": 7,
   "metadata": {},
   "outputs": [],
   "source": [
    "device = torch.device('cuda:0' if torch.cuda.is_available() else 'cpu')"
   ]
  },
  {
   "cell_type": "code",
   "execution_count": 8,
   "metadata": {},
   "outputs": [],
   "source": [
    "model = ElementwiseAvgFusionModel(512,655,797)\n",
    "model = model.to(device)"
   ]
  },
  {
   "cell_type": "code",
   "execution_count": 9,
   "metadata": {},
   "outputs": [
    {
     "name": "stderr",
     "output_type": "stream",
     "text": [
      "c:\\Users\\rfigg\\.conda\\envs\\PyTorch\\lib\\site-packages\\transformers\\utils\\generic.py:441: UserWarning: torch.utils._pytree._register_pytree_node is deprecated. Please use torch.utils._pytree.register_pytree_node instead.\n",
      "  _torch_pytree._register_pytree_node(\n"
     ]
    }
   ],
   "source": [
    "classweights = torch.cat((torch.ones(600),torch.ones(197)*0.5)).to(device)      # The hoi classes weigh twice as much as the seperate classes\n",
    "criterion = MaskedBCELoss(ignore_label=0, convert_target_to_01= True, weight=classweights)\n",
    "\n",
    "optimizer = torch.optim.Adam(params=model.parameters(), lr=0.0005)\n",
    "scheduler = torch.optim.lr_scheduler.CosineAnnealingWarmRestarts(optimizer, T_0=5, T_mult=1)"
   ]
  },
  {
   "cell_type": "markdown",
   "metadata": {},
   "source": [
    "#### Training loop:"
   ]
  },
  {
   "cell_type": "code",
   "execution_count": 10,
   "metadata": {},
   "outputs": [
    {
     "name": "stdout",
     "output_type": "stream",
     "text": [
      "Epoch 001/101, Loss: 0.099787246415\n",
      "Epoch 002/101, Loss: 0.019714279858\n",
      "Epoch 003/101, Loss: 0.016240748362\n",
      "Epoch 004/101, Loss: 0.014497909275\n",
      "Epoch 005/101, Loss: 0.013871021671\n",
      "Epoch 006/101, Loss: 0.012626338095\n",
      "Epoch 007/101, Loss: 0.010858957031\n",
      "Epoch 008/101, Loss: 0.009786591384\n",
      "Epoch 009/101, Loss: 0.009251072205\n",
      "Epoch 010/101, Loss: 0.009039957035\n",
      "Epoch 011/101, Loss: 0.008682738734\n",
      "Epoch 012/101, Loss: 0.008112504643\n",
      "Epoch 013/101, Loss: 0.007730581005\n",
      "Epoch 014/101, Loss: 0.007509839527\n",
      "Epoch 015/101, Loss: 0.007398426543\n",
      "Epoch 016/101, Loss: 0.007280439589\n",
      "Epoch 017/101, Loss: 0.007008665318\n",
      "Epoch 018/101, Loss: 0.006792153744\n",
      "Epoch 019/101, Loss: 0.006658573287\n",
      "Epoch 020/101, Loss: 0.006603502065\n",
      "Epoch 021/101, Loss: 0.006542269340\n",
      "Epoch 022/101, Loss: 0.006365679087\n",
      "Epoch 023/101, Loss: 0.006232150728\n",
      "Epoch 024/101, Loss: 0.006131832739\n",
      "Epoch 025/101, Loss: 0.006077592916\n",
      "Epoch 026/101, Loss: 0.006055159361\n",
      "Epoch 027/101, Loss: 0.005929128262\n",
      "Epoch 028/101, Loss: 0.005815551529\n",
      "Epoch 029/101, Loss: 0.005733824775\n",
      "Epoch 030/101, Loss: 0.005683128773\n",
      "Epoch 031/101, Loss: 0.005693572384\n",
      "Epoch 032/101, Loss: 0.005589627241\n",
      "Epoch 033/101, Loss: 0.005507966140\n",
      "Epoch 034/101, Loss: 0.005428951505\n",
      "Epoch 035/101, Loss: 0.005387090832\n",
      "Epoch 036/101, Loss: 0.005399095739\n",
      "Epoch 037/101, Loss: 0.005314332065\n",
      "Epoch 038/101, Loss: 0.005234255194\n",
      "Epoch 039/101, Loss: 0.005163428133\n",
      "Epoch 040/101, Loss: 0.005135943340\n",
      "Epoch 041/101, Loss: 0.005164612852\n",
      "Epoch 042/101, Loss: 0.005078528122\n",
      "Epoch 043/101, Loss: 0.005016599797\n",
      "Epoch 044/101, Loss: 0.004951312263\n",
      "Epoch 045/101, Loss: 0.004923334033\n",
      "Epoch 046/101, Loss: 0.004942865397\n",
      "Epoch 047/101, Loss: 0.004882759466\n",
      "Epoch 048/101, Loss: 0.004812066812\n",
      "Epoch 049/101, Loss: 0.004758681447\n",
      "Epoch 050/101, Loss: 0.004710902583\n",
      "Epoch 051/101, Loss: 0.004754153055\n",
      "Epoch 052/101, Loss: 0.004695216460\n",
      "Epoch 053/101, Loss: 0.004626616175\n",
      "Epoch 054/101, Loss: 0.004584032443\n",
      "Epoch 055/101, Loss: 0.004541932073\n",
      "Epoch 056/101, Loss: 0.004572877753\n",
      "Epoch 057/101, Loss: 0.004532089472\n",
      "Epoch 058/101, Loss: 0.004462485713\n",
      "Epoch 059/101, Loss: 0.004416316098\n",
      "Epoch 060/101, Loss: 0.004379184218\n",
      "Epoch 061/101, Loss: 0.004431181764\n",
      "Epoch 062/101, Loss: 0.004374164203\n",
      "Epoch 063/101, Loss: 0.004314177885\n",
      "Epoch 064/101, Loss: 0.004263128561\n",
      "Epoch 065/101, Loss: 0.004234345041\n",
      "Epoch 066/101, Loss: 0.004269118444\n",
      "Epoch 067/101, Loss: 0.004212725800\n",
      "Epoch 068/101, Loss: 0.004163435213\n",
      "Epoch 069/101, Loss: 0.004121112573\n",
      "Epoch 070/101, Loss: 0.004079530458\n",
      "Epoch 071/101, Loss: 0.004130247174\n",
      "Epoch 072/101, Loss: 0.004085932654\n",
      "Epoch 073/101, Loss: 0.004029874245\n",
      "Epoch 074/101, Loss: 0.003975211528\n",
      "Epoch 075/101, Loss: 0.003956372522\n",
      "Epoch 076/101, Loss: 0.004002206240\n",
      "Epoch 077/101, Loss: 0.003953504074\n",
      "Epoch 078/101, Loss: 0.003901805616\n",
      "Epoch 079/101, Loss: 0.003857867135\n",
      "Epoch 080/101, Loss: 0.003826009555\n",
      "Epoch 081/101, Loss: 0.003875951950\n",
      "Epoch 082/101, Loss: 0.003836367090\n",
      "Epoch 083/101, Loss: 0.003775599569\n",
      "Epoch 084/101, Loss: 0.003738335677\n",
      "Epoch 085/101, Loss: 0.003694159488\n",
      "Epoch 086/101, Loss: 0.003751537138\n",
      "Epoch 087/101, Loss: 0.003708235073\n",
      "Epoch 088/101, Loss: 0.003660653413\n",
      "Epoch 089/101, Loss: 0.003621282105\n",
      "Epoch 090/101, Loss: 0.003585632908\n",
      "Epoch 091/101, Loss: 0.003645138800\n",
      "Epoch 092/101, Loss: 0.003599448301\n",
      "Epoch 093/101, Loss: 0.003552849911\n",
      "Epoch 094/101, Loss: 0.003498227213\n",
      "Epoch 095/101, Loss: 0.003471876991\n",
      "Epoch 096/101, Loss: 0.003532751254\n",
      "Epoch 097/101, Loss: 0.003488930375\n",
      "Epoch 098/101, Loss: 0.003436165782\n",
      "Epoch 099/101, Loss: 0.003391558049\n",
      "Epoch 100/101, Loss: 0.003365141501\n",
      "Epoch 101/101, Loss: 0.003425067472\n"
     ]
    }
   ],
   "source": [
    "num_epochs = 101\n",
    "for epoch in range(num_epochs):\n",
    "    running_loss = 0.0\n",
    "    for inputs, labels in train_dataloader:\n",
    "        inputs = inputs.to(device)\n",
    "        labels = labels.to(device)\n",
    "\n",
    "        optimizer.zero_grad()  # Zero the gradients\n",
    "        outputs = model(inputs)  # Forward pass\n",
    "        loss = criterion(outputs, labels)  # Compute the loss\n",
    "        loss.backward()  # Backward pass\n",
    "        optimizer.step()  # Update the weights\n",
    "\n",
    "        running_loss += loss.item()\n",
    "\n",
    "    scheduler.step()\n",
    "    \n",
    "\n",
    "    print(f\"Epoch {epoch+1:0{len(str(num_epochs))}}/{num_epochs}, Loss: {running_loss/len(train_dataloader):.12f}\")"
   ]
  },
  {
   "cell_type": "markdown",
   "metadata": {},
   "source": [
    "#### Evaluating model:"
   ]
  },
  {
   "cell_type": "code",
   "execution_count": 11,
   "metadata": {},
   "outputs": [],
   "source": [
    "test_pred = model.forward(X_test.to(device))\n",
    "test_map = ev.eval_vo(test_pred[:,:600].T.cpu().detach().numpy(), y_test[:,:600].T.numpy(),600)[0].mean()"
   ]
  },
  {
   "cell_type": "code",
   "execution_count": 12,
   "metadata": {},
   "outputs": [
    {
     "name": "stdout",
     "output_type": "stream",
     "text": [
      "58.400874885903384\n"
     ]
    }
   ],
   "source": [
    "print(test_map * 100)"
   ]
  },
  {
   "cell_type": "code",
   "execution_count": 13,
   "metadata": {},
   "outputs": [
    {
     "name": "stdout",
     "output_type": "stream",
     "text": [
      "Few@1 mAP:  39.637786218884365\n",
      "Few@5 mAP:  45.50795136559472\n",
      "Few@10 mAp:  47.40161958055521\n"
     ]
    }
   ],
   "source": [
    "one_shot_list = torch.where((0 < (y_train[:,:600] == 1).sum(dim=0)) & ((y_train[:,:600] == 1).sum(dim=0) <= 1))[0]\n",
    "few_shot_list_5 = torch.where((0 < (y_train[:,:600] == 1).sum(dim=0)) & ((y_train[:,:600] == 1).sum(dim=0) <= 5))[0]\n",
    "few_shot_list_10 = torch.where((0 < (y_train[:,:600] == 1).sum(dim=0)) & ((y_train[:,:600] == 1).sum(dim=0) <= 10))[0]\n",
    "\n",
    "one_shot_map = ev.eval_vo(test_pred[:,one_shot_list].T.cpu().detach().numpy(), y_test[:,one_shot_list].T.numpy(),len(one_shot_list))[0].mean()\n",
    "few_5_shot_map = ev.eval_vo(test_pred[:,few_shot_list_5].T.cpu().detach().numpy(), y_test[:,few_shot_list_5].T.numpy(),len(few_shot_list_5))[0].mean()\n",
    "few_10_shot_map = ev.eval_vo(test_pred[:,few_shot_list_10].T.cpu().detach().numpy(), y_test[:,few_shot_list_10].T.numpy(),len(few_shot_list_10))[0].mean()\n",
    "\n",
    "print(\"Few@1 mAP: \", one_shot_map * 100)\n",
    "print(\"Few@5 mAP: \", few_5_shot_map * 100)\n",
    "print(\"Few@10 mAp: \", few_10_shot_map * 100)"
   ]
  },
  {
   "cell_type": "code",
   "execution_count": 14,
   "metadata": {},
   "outputs": [
    {
     "data": {
      "text/plain": [
       "[]"
      ]
     },
     "execution_count": 14,
     "metadata": {},
     "output_type": "execute_result"
    },
    {
     "data": {
      "image/png": "[encoded data removed]",
      "text/plain": [
       "<Figure size 800x500 with 1 Axes>"
      ]
     },
     "metadata": {},
     "output_type": "display_data"
    }
   ],
   "source": [
    "indices = torch.sum((y_train[:,:600] == 1).int(), dim = 0).sort().indices\n",
    "test_aps = ev.eval_vo(test_pred[:,:600].T.cpu().detach().numpy(), y_test[:,:600].T.numpy(),600)[0]\n",
    "\n",
    "plt.figure(figsize=(8,5))\n",
    "plt.bar(range(600),test_aps[indices],width=1)\n",
    "plt.scatter(range(600),torch.sum(y_train == 1, dim = 0)[indices] / 1500,s = 2,color = \"red\")\n",
    "plt.xlabel('HOI Classes')\n",
    "plt.ylabel('Number of Training Images')\n",
    "plt.plot()"
   ]
  },
  {
   "cell_type": "markdown",
   "metadata": {},
   "source": [
    "#### Saving the model for the Quantative evaluation"
   ]
  },
  {
   "cell_type": "code",
   "execution_count": null,
   "metadata": {},
   "outputs": [],
   "source": [
    "torch.save(model, root + \"/Saved Models/best_model.pt\")"
   ]
  },
  {
   "cell_type": "code",
   "execution_count": null,
   "metadata": {},
   "outputs": [],
   "source": []
  }
 ],
 "metadata": {
  "kernelspec": {
   "display_name": "PyTorch",
   "language": "python",
   "name": "python3"
  },
  "language_info": {
   "codemirror_mode": {
    "name": "ipython",
    "version": 3
   },
   "file_extension": ".py",
   "mimetype": "text/x-python",
   "name": "python",
   "nbconvert_exporter": "python",
   "pygments_lexer": "ipython3",
   "version": "3.10.13"
  }
 },
 "nbformat": 4,
 "nbformat_minor": 2
}
