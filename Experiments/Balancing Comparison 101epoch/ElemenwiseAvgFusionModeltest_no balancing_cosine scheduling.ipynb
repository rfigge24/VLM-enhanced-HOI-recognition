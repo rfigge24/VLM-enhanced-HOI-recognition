{
 "cells": [
  {
   "cell_type": "markdown",
   "metadata": {},
   "source": [
    "# Elementwise Average Fusion model testing (No balancing, cosine scheduler):"
   ]
  },
  {
   "cell_type": "code",
   "execution_count": 1,
   "metadata": {},
   "outputs": [],
   "source": [
    "import sys\n",
    "root = '../../'\n",
    "sys.path.append(root)   # Done to be able to import the packages and functions\n",
    "\n",
    "import Utils.hico_evaluation.evaluation as ev\n",
    "from Utils.custom_loss import MaskedBCELoss\n",
    "from Utils.annotation_preprocessing import _load_csv_to_tensor\n",
    "from Utils.train_val_split import train_val_split_hico\n",
    "from hoi_classifiers import ElementwiseAvgFusionModel\n",
    "\n",
    "import torch\n",
    "import numpy as np\n",
    "from torch.utils.data import TensorDataset, DataLoader\n",
    "import matplotlib.pyplot as plt\n",
    "\n",
    "from pytorch_multilabel_balanced_sampler.samplers import LeastSampledClassSampler\n",
    "import random"
   ]
  },
  {
   "cell_type": "code",
   "execution_count": 2,
   "metadata": {},
   "outputs": [],
   "source": [
    "seed = 42   #note that the model parameters will still be randomly initiated\n",
    "torch.manual_seed(seed)\n",
    "random.seed(seed)"
   ]
  },
  {
   "cell_type": "markdown",
   "metadata": {},
   "source": [
    "### Loading the training set:\n"
   ]
  },
  {
   "cell_type": "code",
   "execution_count": 3,
   "metadata": {},
   "outputs": [],
   "source": [
    "# Loading the data:\n",
    "X_train = torch.load(root + \"Embeddings/Combined_Embeddings/train.pt\")\n",
    "y_train = _load_csv_to_tensor(root + \"anno/added/anno_augmented_train.csv\").T # Transpose to make both first dimensions the #samples.\n",
    "y_train[y_train.isnan()] = -1"
   ]
  },
  {
   "cell_type": "code",
   "execution_count": 4,
   "metadata": {},
   "outputs": [],
   "source": [
    "X_test = torch.load(root + \"Embeddings/Combined_Embeddings/test.pt\")\n",
    "y_test = _load_csv_to_tensor(root + \"anno/added/anno_augmented_test.csv\").T # Transpose to make both first dimensions the #samples.\n",
    "y_test[y_test.isnan()] = -1"
   ]
  },
  {
   "cell_type": "markdown",
   "metadata": {},
   "source": [
    "#### Training Preparations:"
   ]
  },
  {
   "cell_type": "code",
   "execution_count": 5,
   "metadata": {},
   "outputs": [],
   "source": [
    "train_dataset = TensorDataset(X_train, y_train)"
   ]
  },
  {
   "cell_type": "code",
   "execution_count": 6,
   "metadata": {},
   "outputs": [],
   "source": [
    "# Batch size:\n",
    "bs = 512\n",
    "\n",
    "#sampler = LeastSampledClassSampler((y_train[:,:600] == 1).int())\n",
    "\n",
    "train_dataloader = DataLoader(\n",
    "    train_dataset, batch_size=bs, num_workers=4, shuffle=True)\n"
   ]
  },
  {
   "cell_type": "code",
   "execution_count": 7,
   "metadata": {},
   "outputs": [],
   "source": [
    "device = torch.device('cuda:0' if torch.cuda.is_available() else 'cpu')"
   ]
  },
  {
   "cell_type": "code",
   "execution_count": 8,
   "metadata": {},
   "outputs": [],
   "source": [
    "model = ElementwiseAvgFusionModel(512,655,797)\n",
    "model = model.to(device)"
   ]
  },
  {
   "cell_type": "code",
   "execution_count": 9,
   "metadata": {},
   "outputs": [
    {
     "name": "stderr",
     "output_type": "stream",
     "text": [
      "c:\\Users\\rfigg\\.conda\\envs\\PyTorch\\lib\\site-packages\\transformers\\utils\\generic.py:441: UserWarning: torch.utils._pytree._register_pytree_node is deprecated. Please use torch.utils._pytree.register_pytree_node instead.\n",
      "  _torch_pytree._register_pytree_node(\n"
     ]
    }
   ],
   "source": [
    "classweights = torch.cat((torch.ones(600),torch.ones(197)*0.5)).to(device)      # The hoi classes weigh twice as much as the seperate classes\n",
    "criterion = MaskedBCELoss(ignore_label=0, convert_target_to_01= True, weight=classweights)\n",
    "\n",
    "optimizer = torch.optim.Adam(params=model.parameters(), lr=0.0005)\n",
    "scheduler = torch.optim.lr_scheduler.CosineAnnealingWarmRestarts(optimizer, T_0=5, T_mult=1)"
   ]
  },
  {
   "cell_type": "markdown",
   "metadata": {},
   "source": [
    "#### Training loop:"
   ]
  },
  {
   "cell_type": "code",
   "execution_count": 10,
   "metadata": {},
   "outputs": [
    {
     "name": "stdout",
     "output_type": "stream",
     "text": [
      "Epoch 001/101, Loss: 0.115165988132\n",
      "Epoch 002/101, Loss: 0.019069148948\n",
      "Epoch 003/101, Loss: 0.016071923946\n",
      "Epoch 004/101, Loss: 0.014281345680\n",
      "Epoch 005/101, Loss: 0.013599051336\n",
      "Epoch 006/101, Loss: 0.012355670718\n",
      "Epoch 007/101, Loss: 0.010600946074\n",
      "Epoch 008/101, Loss: 0.009538948263\n",
      "Epoch 009/101, Loss: 0.009042693575\n",
      "Epoch 010/101, Loss: 0.008846418348\n",
      "Epoch 011/101, Loss: 0.008539089256\n",
      "Epoch 012/101, Loss: 0.008010698191\n",
      "Epoch 013/101, Loss: 0.007661419523\n",
      "Epoch 014/101, Loss: 0.007459278554\n",
      "Epoch 015/101, Loss: 0.007367792167\n",
      "Epoch 016/101, Loss: 0.007258900143\n",
      "Epoch 017/101, Loss: 0.006999386524\n",
      "Epoch 018/101, Loss: 0.006821903878\n",
      "Epoch 019/101, Loss: 0.006698541741\n",
      "Epoch 020/101, Loss: 0.006635720550\n",
      "Epoch 021/101, Loss: 0.006593568344\n",
      "Epoch 022/101, Loss: 0.006443540609\n",
      "Epoch 023/101, Loss: 0.006320952699\n",
      "Epoch 024/101, Loss: 0.006237336497\n",
      "Epoch 025/101, Loss: 0.006193258831\n",
      "Epoch 026/101, Loss: 0.006180795375\n",
      "Epoch 027/101, Loss: 0.006078790780\n",
      "Epoch 028/101, Loss: 0.005985362896\n",
      "Epoch 029/101, Loss: 0.005915584105\n",
      "Epoch 030/101, Loss: 0.005878002464\n",
      "Epoch 031/101, Loss: 0.005884063051\n",
      "Epoch 032/101, Loss: 0.005797864571\n",
      "Epoch 033/101, Loss: 0.005719706851\n",
      "Epoch 034/101, Loss: 0.005665134564\n",
      "Epoch 035/101, Loss: 0.005624799623\n",
      "Epoch 036/101, Loss: 0.005647399332\n",
      "Epoch 037/101, Loss: 0.005571955356\n",
      "Epoch 038/101, Loss: 0.005508567374\n",
      "Epoch 039/101, Loss: 0.005456980666\n",
      "Epoch 040/101, Loss: 0.005421075684\n",
      "Epoch 041/101, Loss: 0.005448632315\n",
      "Epoch 042/101, Loss: 0.005389745378\n",
      "Epoch 043/101, Loss: 0.005322233432\n",
      "Epoch 044/101, Loss: 0.005276879184\n",
      "Epoch 045/101, Loss: 0.005243141800\n",
      "Epoch 046/101, Loss: 0.005278894802\n",
      "Epoch 047/101, Loss: 0.005233797437\n",
      "Epoch 048/101, Loss: 0.005170540530\n",
      "Epoch 049/101, Loss: 0.005125007207\n",
      "Epoch 050/101, Loss: 0.005098578998\n",
      "Epoch 051/101, Loss: 0.005131322766\n",
      "Epoch 052/101, Loss: 0.005083275239\n",
      "Epoch 053/101, Loss: 0.005029273344\n",
      "Epoch 054/101, Loss: 0.004986440198\n",
      "Epoch 055/101, Loss: 0.004953217233\n",
      "Epoch 056/101, Loss: 0.004996376292\n",
      "Epoch 057/101, Loss: 0.004950403019\n",
      "Epoch 058/101, Loss: 0.004898961416\n",
      "Epoch 059/101, Loss: 0.004856039534\n",
      "Epoch 060/101, Loss: 0.004825332432\n",
      "Epoch 061/101, Loss: 0.004869249333\n",
      "Epoch 062/101, Loss: 0.004828726326\n",
      "Epoch 063/101, Loss: 0.004778136785\n",
      "Epoch 064/101, Loss: 0.004739696601\n",
      "Epoch 065/101, Loss: 0.004703535717\n",
      "Epoch 066/101, Loss: 0.004754692943\n",
      "Epoch 067/101, Loss: 0.004713701575\n",
      "Epoch 068/101, Loss: 0.004667545197\n",
      "Epoch 069/101, Loss: 0.004618423587\n",
      "Epoch 070/101, Loss: 0.004586423822\n",
      "Epoch 071/101, Loss: 0.004644813618\n",
      "Epoch 072/101, Loss: 0.004602038059\n",
      "Epoch 073/101, Loss: 0.004554679599\n",
      "Epoch 074/101, Loss: 0.004514123698\n",
      "Epoch 075/101, Loss: 0.004482124035\n",
      "Epoch 076/101, Loss: 0.004536301140\n",
      "Epoch 077/101, Loss: 0.004497325731\n",
      "Epoch 078/101, Loss: 0.004453479908\n",
      "Epoch 079/101, Loss: 0.004406345828\n",
      "Epoch 080/101, Loss: 0.004374095766\n",
      "Epoch 081/101, Loss: 0.004426905448\n",
      "Epoch 082/101, Loss: 0.004388978630\n",
      "Epoch 083/101, Loss: 0.004348644726\n",
      "Epoch 084/101, Loss: 0.004303635284\n",
      "Epoch 085/101, Loss: 0.004274673869\n",
      "Epoch 086/101, Loss: 0.004335871053\n",
      "Epoch 087/101, Loss: 0.004301823359\n",
      "Epoch 088/101, Loss: 0.004253638318\n",
      "Epoch 089/101, Loss: 0.004206375169\n",
      "Epoch 090/101, Loss: 0.004171744188\n",
      "Epoch 091/101, Loss: 0.004225938146\n",
      "Epoch 092/101, Loss: 0.004205909738\n",
      "Epoch 093/101, Loss: 0.004148793593\n",
      "Epoch 094/101, Loss: 0.004107473685\n",
      "Epoch 095/101, Loss: 0.004076560832\n",
      "Epoch 096/101, Loss: 0.004137308473\n",
      "Epoch 097/101, Loss: 0.004104336798\n",
      "Epoch 098/101, Loss: 0.004056720920\n",
      "Epoch 099/101, Loss: 0.004014350977\n",
      "Epoch 100/101, Loss: 0.003982083785\n",
      "Epoch 101/101, Loss: 0.004042377537\n"
     ]
    }
   ],
   "source": [
    "num_epochs = 101\n",
    "for epoch in range(num_epochs):\n",
    "    running_loss = 0.0\n",
    "    for inputs, labels in train_dataloader:\n",
    "        inputs = inputs.to(device)\n",
    "        labels = labels.to(device)\n",
    "\n",
    "        optimizer.zero_grad()  # Zero the gradients\n",
    "        outputs = model(inputs)  # Forward pass\n",
    "        loss = criterion(outputs, labels)  # Compute the loss\n",
    "        loss.backward()  # Backward pass\n",
    "        optimizer.step()  # Update the weights\n",
    "\n",
    "        running_loss += loss.item()\n",
    "    \n",
    "    scheduler.step()\n",
    "\n",
    "    print(f\"Epoch {epoch+1:0{len(str(num_epochs))}}/{num_epochs}, Loss: {running_loss/len(train_dataloader):.12f}\")"
   ]
  },
  {
   "cell_type": "markdown",
   "metadata": {},
   "source": [
    "#### Evaluating model:"
   ]
  },
  {
   "cell_type": "code",
   "execution_count": 11,
   "metadata": {},
   "outputs": [],
   "source": [
    "test_pred = model.forward(X_test.to(device))\n",
    "test_map = ev.eval_vo(test_pred[:,:600].T.cpu().detach().numpy(), y_test[:,:600].T.numpy(),600)[0].mean()"
   ]
  },
  {
   "cell_type": "code",
   "execution_count": 12,
   "metadata": {},
   "outputs": [
    {
     "name": "stdout",
     "output_type": "stream",
     "text": [
      "58.324987434474096\n"
     ]
    }
   ],
   "source": [
    "print(test_map * 100)"
   ]
  },
  {
   "cell_type": "code",
   "execution_count": 13,
   "metadata": {},
   "outputs": [
    {
     "name": "stdout",
     "output_type": "stream",
     "text": [
      "Few@1 mAP:  35.67359938573132\n",
      "Few@5 mAP:  43.202515208416095\n",
      "Few@10 mAp:  45.40782064560569\n"
     ]
    }
   ],
   "source": [
    "one_shot_list = torch.where((0 < (y_train[:,:600] == 1).sum(dim=0)) & ((y_train[:,:600] == 1).sum(dim=0) <= 1))[0]\n",
    "few_shot_list_5 = torch.where((0 < (y_train[:,:600] == 1).sum(dim=0)) & ((y_train[:,:600] == 1).sum(dim=0) <= 5))[0]\n",
    "few_shot_list_10 = torch.where((0 < (y_train[:,:600] == 1).sum(dim=0)) & ((y_train[:,:600] == 1).sum(dim=0) <= 10))[0]\n",
    "\n",
    "one_shot_map = ev.eval_vo(test_pred[:,one_shot_list].T.cpu().detach().numpy(), y_test[:,one_shot_list].T.numpy(),len(one_shot_list))[0].mean()\n",
    "few_5_shot_map = ev.eval_vo(test_pred[:,few_shot_list_5].T.cpu().detach().numpy(), y_test[:,few_shot_list_5].T.numpy(),len(few_shot_list_5))[0].mean()\n",
    "few_10_shot_map = ev.eval_vo(test_pred[:,few_shot_list_10].T.cpu().detach().numpy(), y_test[:,few_shot_list_10].T.numpy(),len(few_shot_list_10))[0].mean()\n",
    "\n",
    "print(\"Few@1 mAP: \", one_shot_map * 100)\n",
    "print(\"Few@5 mAP: \", few_5_shot_map * 100)\n",
    "print(\"Few@10 mAp: \", few_10_shot_map * 100)"
   ]
  },
  {
   "cell_type": "code",
   "execution_count": 14,
   "metadata": {},
   "outputs": [
    {
     "data": {
      "text/plain": [
       "[]"
      ]
     },
     "execution_count": 14,
     "metadata": {},
     "output_type": "execute_result"
    },
    {
     "data": {
      "image/png": "[encoded data removed]",
      "text/plain": [
       "<Figure size 800x500 with 1 Axes>"
      ]
     },
     "metadata": {},
     "output_type": "display_data"
    }
   ],
   "source": [
    "indices = torch.sum((y_train[:,:600] == 1).int(), dim = 0).sort().indices\n",
    "test_aps = ev.eval_vo(test_pred[:,:600].T.cpu().detach().numpy(), y_test[:,:600].T.numpy(),600)[0]\n",
    "\n",
    "plt.figure(figsize=(8,5))\n",
    "plt.bar(range(600),test_aps[indices],width=1)\n",
    "plt.scatter(range(600),torch.sum(y_train == 1, dim = 0)[indices] / 1500,s = 2,color = \"red\")\n",
    "plt.xlabel('HOI Classes')\n",
    "plt.ylabel('Number of Training Images')\n",
    "plt.plot()"
   ]
  }
 ],
 "metadata": {
  "kernelspec": {
   "display_name": "PyTorch",
   "language": "python",
   "name": "python3"
  },
  "language_info": {
   "codemirror_mode": {
    "name": "ipython",
    "version": 3
   },
   "file_extension": ".py",
   "mimetype": "text/x-python",
   "name": "python",
   "nbconvert_exporter": "python",
   "pygments_lexer": "ipython3",
   "version": "3.10.13"
  }
 },
 "nbformat": 4,
 "nbformat_minor": 2
}
