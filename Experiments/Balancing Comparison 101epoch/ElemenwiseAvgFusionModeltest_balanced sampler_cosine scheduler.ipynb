{
 "cells": [
  {
   "cell_type": "markdown",
   "metadata": {},
   "source": [
    "# Elementwise Average Fusion model testing (balanced sampler, cosine scheduler, BCE loss):"
   ]
  },
  {
   "cell_type": "code",
   "execution_count": 1,
   "metadata": {},
   "outputs": [],
   "source": [
    "import sys\n",
    "root = '../../'\n",
    "sys.path.append(root)   # Done to be able to import the packages and functions\n",
    "\n",
    "import Utils.hico_evaluation.evaluation as ev\n",
    "from Utils.custom_loss import MaskedBCELoss\n",
    "from Utils.annotation_preprocessing import _load_csv_to_tensor\n",
    "from Utils.train_val_split import train_val_split_hico\n",
    "from hoi_classifiers import ElementwiseAvgFusionModel\n",
    "\n",
    "import torch\n",
    "import numpy as np\n",
    "from torch.utils.data import TensorDataset, DataLoader\n",
    "import matplotlib.pyplot as plt\n",
    "\n",
    "from pytorch_multilabel_balanced_sampler.samplers import LeastSampledClassSampler\n",
    "import random"
   ]
  },
  {
   "cell_type": "code",
   "execution_count": 2,
   "metadata": {},
   "outputs": [],
   "source": [
    "seed = 42   #note that the model parameters will still be randomly initiated\n",
    "torch.manual_seed(seed)\n",
    "random.seed(seed)"
   ]
  },
  {
   "cell_type": "markdown",
   "metadata": {},
   "source": [
    "### Loading the training set:\n"
   ]
  },
  {
   "cell_type": "code",
   "execution_count": 3,
   "metadata": {},
   "outputs": [],
   "source": [
    "# Loading the data:\n",
    "X_train = torch.load(root + \"Embeddings/Combined_Embeddings/train.pt\")\n",
    "y_train = _load_csv_to_tensor(root + \"anno/added/anno_augmented_train.csv\").T # Transpose to make both first dimensions the #samples.\n",
    "y_train[y_train.isnan()] = -1"
   ]
  },
  {
   "cell_type": "code",
   "execution_count": 4,
   "metadata": {},
   "outputs": [],
   "source": [
    "X_test = torch.load(root + \"Embeddings/Combined_Embeddings/test.pt\")\n",
    "y_test = _load_csv_to_tensor(root + \"anno/added/anno_augmented_test.csv\").T # Transpose to make both first dimensions the #samples.\n",
    "y_test[y_test.isnan()] = -1"
   ]
  },
  {
   "cell_type": "markdown",
   "metadata": {},
   "source": [
    "#### Training Preparations:"
   ]
  },
  {
   "cell_type": "code",
   "execution_count": 5,
   "metadata": {},
   "outputs": [],
   "source": [
    "train_dataset = TensorDataset(X_train, y_train)"
   ]
  },
  {
   "cell_type": "code",
   "execution_count": 6,
   "metadata": {},
   "outputs": [],
   "source": [
    "# Batch size:\n",
    "bs = 512\n",
    "\n",
    "sampler = LeastSampledClassSampler((y_train[:,:600] == 1).int())\n",
    "\n",
    "train_dataloader = DataLoader(\n",
    "    train_dataset, batch_size=bs, num_workers=4, sampler=sampler)\n"
   ]
  },
  {
   "cell_type": "code",
   "execution_count": 7,
   "metadata": {},
   "outputs": [],
   "source": [
    "device = torch.device('cuda:0' if torch.cuda.is_available() else 'cpu')"
   ]
  },
  {
   "cell_type": "code",
   "execution_count": 8,
   "metadata": {},
   "outputs": [],
   "source": [
    "model = ElementwiseAvgFusionModel(512,655,797)\n",
    "model = model.to(device)"
   ]
  },
  {
   "cell_type": "code",
   "execution_count": 9,
   "metadata": {},
   "outputs": [
    {
     "name": "stderr",
     "output_type": "stream",
     "text": [
      "c:\\Users\\rfigg\\.conda\\envs\\PyTorch\\lib\\site-packages\\transformers\\utils\\generic.py:441: UserWarning: torch.utils._pytree._register_pytree_node is deprecated. Please use torch.utils._pytree.register_pytree_node instead.\n",
      "  _torch_pytree._register_pytree_node(\n"
     ]
    }
   ],
   "source": [
    "classweights = torch.cat((torch.ones(600),torch.ones(197)*0.5)).to(device)      # The hoi classes weigh twice as much as the seperate classes\n",
    "criterion = MaskedBCELoss(ignore_label=0, convert_target_to_01= True, weight=classweights)\n",
    "\n",
    "optimizer = torch.optim.Adam(params=model.parameters(), lr=0.0005)\n",
    "scheduler = torch.optim.lr_scheduler.CosineAnnealingWarmRestarts(optimizer, T_0=5, T_mult=1)"
   ]
  },
  {
   "cell_type": "markdown",
   "metadata": {},
   "source": [
    "#### Training loop:"
   ]
  },
  {
   "cell_type": "code",
   "execution_count": 10,
   "metadata": {},
   "outputs": [
    {
     "name": "stdout",
     "output_type": "stream",
     "text": [
      "Epoch 001/101, Loss: 0.118179143891\n",
      "Epoch 002/101, Loss: 0.023617683401\n",
      "Epoch 003/101, Loss: 0.021023654516\n",
      "Epoch 004/101, Loss: 0.019093069558\n",
      "Epoch 005/101, Loss: 0.018247115811\n",
      "Epoch 006/101, Loss: 0.016315828823\n",
      "Epoch 007/101, Loss: 0.013054970913\n",
      "Epoch 008/101, Loss: 0.011205904844\n",
      "Epoch 009/101, Loss: 0.010373670198\n",
      "Epoch 010/101, Loss: 0.010028071950\n",
      "Epoch 011/101, Loss: 0.009423703377\n",
      "Epoch 012/101, Loss: 0.008533607510\n",
      "Epoch 013/101, Loss: 0.007990443173\n",
      "Epoch 014/101, Loss: 0.007720886059\n",
      "Epoch 015/101, Loss: 0.007610924747\n",
      "Epoch 016/101, Loss: 0.007341251566\n",
      "Epoch 017/101, Loss: 0.006972132542\n",
      "Epoch 018/101, Loss: 0.006663860834\n",
      "Epoch 019/101, Loss: 0.006509340871\n",
      "Epoch 020/101, Loss: 0.006400826300\n",
      "Epoch 021/101, Loss: 0.006324883041\n",
      "Epoch 022/101, Loss: 0.006095538419\n",
      "Epoch 023/101, Loss: 0.005871099873\n",
      "Epoch 024/101, Loss: 0.005757111963\n",
      "Epoch 025/101, Loss: 0.005718552042\n",
      "Epoch 026/101, Loss: 0.005600457489\n",
      "Epoch 027/101, Loss: 0.005393629353\n",
      "Epoch 028/101, Loss: 0.005297441017\n",
      "Epoch 029/101, Loss: 0.005226894834\n",
      "Epoch 030/101, Loss: 0.005164676141\n",
      "Epoch 031/101, Loss: 0.005088700155\n",
      "Epoch 032/101, Loss: 0.004963253488\n",
      "Epoch 033/101, Loss: 0.004838787106\n",
      "Epoch 034/101, Loss: 0.004762876326\n",
      "Epoch 035/101, Loss: 0.004739245791\n",
      "Epoch 036/101, Loss: 0.004728007714\n",
      "Epoch 037/101, Loss: 0.004590700387\n",
      "Epoch 038/101, Loss: 0.004463581791\n",
      "Epoch 039/101, Loss: 0.004438889300\n",
      "Epoch 040/101, Loss: 0.004379685515\n",
      "Epoch 041/101, Loss: 0.004353404225\n",
      "Epoch 042/101, Loss: 0.004243213966\n",
      "Epoch 043/101, Loss: 0.004136251432\n",
      "Epoch 044/101, Loss: 0.004132442201\n",
      "Epoch 045/101, Loss: 0.004049364692\n",
      "Epoch 046/101, Loss: 0.004067155436\n",
      "Epoch 047/101, Loss: 0.004010418573\n",
      "Epoch 048/101, Loss: 0.003868251136\n",
      "Epoch 049/101, Loss: 0.003817085512\n",
      "Epoch 050/101, Loss: 0.003760633568\n",
      "Epoch 051/101, Loss: 0.003768600781\n",
      "Epoch 052/101, Loss: 0.003709287525\n",
      "Epoch 053/101, Loss: 0.003676146421\n",
      "Epoch 054/101, Loss: 0.003614776398\n",
      "Epoch 055/101, Loss: 0.003565789638\n",
      "Epoch 056/101, Loss: 0.003584329116\n",
      "Epoch 057/101, Loss: 0.003498188735\n",
      "Epoch 058/101, Loss: 0.003427150482\n",
      "Epoch 059/101, Loss: 0.003367573308\n",
      "Epoch 060/101, Loss: 0.003340680301\n",
      "Epoch 061/101, Loss: 0.003344306039\n",
      "Epoch 062/101, Loss: 0.003269844431\n",
      "Epoch 063/101, Loss: 0.003269016373\n",
      "Epoch 064/101, Loss: 0.003181431427\n",
      "Epoch 065/101, Loss: 0.003171929202\n",
      "Epoch 066/101, Loss: 0.003157086580\n",
      "Epoch 067/101, Loss: 0.003076790466\n",
      "Epoch 068/101, Loss: 0.003041777505\n",
      "Epoch 069/101, Loss: 0.002983985531\n",
      "Epoch 070/101, Loss: 0.003019945075\n",
      "Epoch 071/101, Loss: 0.002974961021\n",
      "Epoch 072/101, Loss: 0.002929998701\n",
      "Epoch 073/101, Loss: 0.002844981741\n",
      "Epoch 074/101, Loss: 0.002830273158\n",
      "Epoch 075/101, Loss: 0.002798069861\n",
      "Epoch 076/101, Loss: 0.002799712202\n",
      "Epoch 077/101, Loss: 0.002774255325\n",
      "Epoch 078/101, Loss: 0.002684907671\n",
      "Epoch 079/101, Loss: 0.002674925815\n",
      "Epoch 080/101, Loss: 0.002632450499\n",
      "Epoch 081/101, Loss: 0.002622937610\n",
      "Epoch 082/101, Loss: 0.002608684969\n",
      "Epoch 083/101, Loss: 0.002527574714\n",
      "Epoch 084/101, Loss: 0.002496048591\n",
      "Epoch 085/101, Loss: 0.002500274411\n",
      "Epoch 086/101, Loss: 0.002506112360\n",
      "Epoch 087/101, Loss: 0.002459343153\n",
      "Epoch 088/101, Loss: 0.002437438443\n",
      "Epoch 089/101, Loss: 0.002366957531\n",
      "Epoch 090/101, Loss: 0.002361029402\n",
      "Epoch 091/101, Loss: 0.002340587194\n",
      "Epoch 092/101, Loss: 0.002306474252\n",
      "Epoch 093/101, Loss: 0.002274649770\n",
      "Epoch 094/101, Loss: 0.002225914509\n",
      "Epoch 095/101, Loss: 0.002222410114\n",
      "Epoch 096/101, Loss: 0.002220971729\n",
      "Epoch 097/101, Loss: 0.002199392739\n",
      "Epoch 098/101, Loss: 0.002130227881\n",
      "Epoch 099/101, Loss: 0.002121319774\n",
      "Epoch 100/101, Loss: 0.002132080607\n",
      "Epoch 101/101, Loss: 0.002133906391\n"
     ]
    }
   ],
   "source": [
    "num_epochs = 101\n",
    "for epoch in range(num_epochs):\n",
    "    running_loss = 0.0\n",
    "    for inputs, labels in train_dataloader:\n",
    "        inputs = inputs.to(device)\n",
    "        labels = labels.to(device)\n",
    "\n",
    "        optimizer.zero_grad()  # Zero the gradients\n",
    "        outputs = model(inputs)  # Forward pass\n",
    "        loss = criterion(outputs, labels)  # Compute the loss\n",
    "        loss.backward()  # Backward pass\n",
    "        optimizer.step()  # Update the weights\n",
    "\n",
    "        running_loss += loss.item()\n",
    "    \n",
    "    scheduler.step()\n",
    "    \n",
    "\n",
    "    print(f\"Epoch {epoch+1:0{len(str(num_epochs))}}/{num_epochs}, Loss: {running_loss/len(train_dataloader):.12f}\")"
   ]
  },
  {
   "cell_type": "markdown",
   "metadata": {},
   "source": [
    "#### Evaluating model:"
   ]
  },
  {
   "cell_type": "code",
   "execution_count": 11,
   "metadata": {},
   "outputs": [],
   "source": [
    "test_pred = model.forward(X_test.to(device))\n",
    "test_map = ev.eval_vo(test_pred[:,:600].T.cpu().detach().numpy(), y_test[:,:600].T.numpy(),600)[0].mean()"
   ]
  },
  {
   "cell_type": "code",
   "execution_count": 12,
   "metadata": {},
   "outputs": [
    {
     "name": "stdout",
     "output_type": "stream",
     "text": [
      "52.92452134367298\n"
     ]
    }
   ],
   "source": [
    "print(test_map * 100)"
   ]
  },
  {
   "cell_type": "code",
   "execution_count": 13,
   "metadata": {},
   "outputs": [
    {
     "name": "stdout",
     "output_type": "stream",
     "text": [
      "Few@1 mAP:  34.72307972662823\n",
      "Few@5 mAP:  41.137897636909436\n",
      "Few@10 mAp:  42.836327757876255\n"
     ]
    }
   ],
   "source": [
    "one_shot_list = torch.where((0 < (y_train[:,:600] == 1).sum(dim=0)) & ((y_train[:,:600] == 1).sum(dim=0) <= 1))[0]\n",
    "few_shot_list_5 = torch.where((0 < (y_train[:,:600] == 1).sum(dim=0)) & ((y_train[:,:600] == 1).sum(dim=0) <= 5))[0]\n",
    "few_shot_list_10 = torch.where((0 < (y_train[:,:600] == 1).sum(dim=0)) & ((y_train[:,:600] == 1).sum(dim=0) <= 10))[0]\n",
    "\n",
    "one_shot_map = ev.eval_vo(test_pred[:,one_shot_list].T.cpu().detach().numpy(), y_test[:,one_shot_list].T.numpy(),len(one_shot_list))[0].mean()\n",
    "few_5_shot_map = ev.eval_vo(test_pred[:,few_shot_list_5].T.cpu().detach().numpy(), y_test[:,few_shot_list_5].T.numpy(),len(few_shot_list_5))[0].mean()\n",
    "few_10_shot_map = ev.eval_vo(test_pred[:,few_shot_list_10].T.cpu().detach().numpy(), y_test[:,few_shot_list_10].T.numpy(),len(few_shot_list_10))[0].mean()\n",
    "\n",
    "print(\"Few@1 mAP: \", one_shot_map * 100)\n",
    "print(\"Few@5 mAP: \", few_5_shot_map * 100)\n",
    "print(\"Few@10 mAp: \", few_10_shot_map * 100)"
   ]
  },
  {
   "cell_type": "code",
   "execution_count": 14,
   "metadata": {},
   "outputs": [
    {
     "data": {
      "text/plain": [
       "[]"
      ]
     },
     "execution_count": 14,
     "metadata": {},
     "output_type": "execute_result"
    },
    {
     "data": {
      "image/png": "[encoded data removed]",
      "text/plain": [
       "<Figure size 800x500 with 1 Axes>"
      ]
     },
     "metadata": {},
     "output_type": "display_data"
    }
   ],
   "source": [
    "indices = torch.sum((y_train[:,:600] == 1).int(), dim = 0).sort().indices\n",
    "test_aps = ev.eval_vo(test_pred[:,:600].T.cpu().detach().numpy(), y_test[:,:600].T.numpy(),600)[0]\n",
    "\n",
    "plt.figure(figsize=(8,5))\n",
    "plt.bar(range(600),test_aps[indices],width=1)\n",
    "plt.scatter(range(600),torch.sum(y_train == 1, dim = 0)[indices] / 1500,s = 2,color = \"red\")\n",
    "plt.xlabel('HOI Classes')\n",
    "plt.ylabel('Number of Training Images')\n",
    "plt.plot()"
   ]
  },
  {
   "cell_type": "code",
   "execution_count": null,
   "metadata": {},
   "outputs": [],
   "source": []
  }
 ],
 "metadata": {
  "kernelspec": {
   "display_name": "PyTorch",
   "language": "python",
   "name": "python3"
  },
  "language_info": {
   "codemirror_mode": {
    "name": "ipython",
    "version": 3
   },
   "file_extension": ".py",
   "mimetype": "text/x-python",
   "name": "python",
   "nbconvert_exporter": "python",
   "pygments_lexer": "ipython3",
   "version": "3.10.13"
  }
 },
 "nbformat": 4,
 "nbformat_minor": 2
}
