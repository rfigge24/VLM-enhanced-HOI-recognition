{
 "cells": [
  {
   "cell_type": "markdown",
   "metadata": {},
   "source": [
    "# Elementwise Average Fusion model testing (No balancing):"
   ]
  },
  {
   "cell_type": "code",
   "execution_count": 1,
   "metadata": {},
   "outputs": [],
   "source": [
    "import sys\n",
    "root = '../../'\n",
    "sys.path.append(root)   # Done to be able to import the packages and functions\n",
    "\n",
    "import Utils.hico_evaluation.evaluation as ev\n",
    "from Utils.custom_loss import MaskedFocalLoss\n",
    "from Utils.annotation_preprocessing import _load_csv_to_tensor\n",
    "from Utils.train_val_split import train_val_split_hico\n",
    "from hoi_classifiers import ElementwiseAvgFusionModel\n",
    "\n",
    "import torch\n",
    "import numpy as np\n",
    "from torch.utils.data import TensorDataset, DataLoader\n",
    "import matplotlib.pyplot as plt\n",
    "\n",
    "from pytorch_multilabel_balanced_sampler.samplers import LeastSampledClassSampler\n",
    "import random"
   ]
  },
  {
   "cell_type": "code",
   "execution_count": 2,
   "metadata": {},
   "outputs": [],
   "source": [
    "seed = 42   #note that the model parameters will still be randomly initiated\n",
    "torch.manual_seed(seed)\n",
    "random.seed(seed)"
   ]
  },
  {
   "cell_type": "markdown",
   "metadata": {},
   "source": [
    "### Loading the training set:\n"
   ]
  },
  {
   "cell_type": "code",
   "execution_count": 3,
   "metadata": {},
   "outputs": [],
   "source": [
    "# Loading the data:\n",
    "X_train = torch.load(root + \"Embeddings/Combined_Embeddings/train.pt\")\n",
    "y_train = _load_csv_to_tensor(root + \"anno/added/anno_augmented_train.csv\").T # Transpose to make both first dimensions the #samples.\n",
    "y_train[y_train.isnan()] = -1"
   ]
  },
  {
   "cell_type": "code",
   "execution_count": 4,
   "metadata": {},
   "outputs": [],
   "source": [
    "X_test = torch.load(root + \"Embeddings/Combined_Embeddings/test.pt\")\n",
    "y_test = _load_csv_to_tensor(root + \"anno/added/anno_augmented_test.csv\").T # Transpose to make both first dimensions the #samples.\n",
    "y_test[y_test.isnan()] = -1"
   ]
  },
  {
   "cell_type": "markdown",
   "metadata": {},
   "source": [
    "#### Training Preparations:"
   ]
  },
  {
   "cell_type": "code",
   "execution_count": 5,
   "metadata": {},
   "outputs": [],
   "source": [
    "train_dataset = TensorDataset(X_train, y_train)"
   ]
  },
  {
   "cell_type": "code",
   "execution_count": 6,
   "metadata": {},
   "outputs": [],
   "source": [
    "# Batch size:\n",
    "bs = 512\n",
    "\n",
    "#sampler = LeastSampledClassSampler((y_train[:,:600] == 1).int())\n",
    "\n",
    "train_dataloader = DataLoader(\n",
    "    train_dataset, batch_size=bs, num_workers=4, shuffle=True)\n"
   ]
  },
  {
   "cell_type": "code",
   "execution_count": 7,
   "metadata": {},
   "outputs": [],
   "source": [
    "device = torch.device('cuda:0' if torch.cuda.is_available() else 'cpu')"
   ]
  },
  {
   "cell_type": "code",
   "execution_count": 8,
   "metadata": {},
   "outputs": [],
   "source": [
    "model = ElementwiseAvgFusionModel(512,655,797)\n",
    "model = model.to(device)"
   ]
  },
  {
   "cell_type": "code",
   "execution_count": 9,
   "metadata": {},
   "outputs": [
    {
     "name": "stderr",
     "output_type": "stream",
     "text": [
      "c:\\Users\\rfigg\\.conda\\envs\\PyTorch\\lib\\site-packages\\transformers\\utils\\generic.py:441: UserWarning: torch.utils._pytree._register_pytree_node is deprecated. Please use torch.utils._pytree.register_pytree_node instead.\n",
      "  _torch_pytree._register_pytree_node(\n"
     ]
    }
   ],
   "source": [
    "classweights = torch.cat((torch.ones(600),torch.ones(197)*0.5)).to(device)      # The hoi classes weigh twice as much as the seperate classes\n",
    "criterion = MaskedFocalLoss(ignore_label=0, convert_target_to_01= True, weight=classweights)\n",
    "\n",
    "optimizer = torch.optim.Adam(params=model.parameters(), lr=0.0005)\n",
    "scheduler = torch.optim.lr_scheduler.CosineAnnealingWarmRestarts(optimizer, T_0=5, T_mult=1)"
   ]
  },
  {
   "cell_type": "markdown",
   "metadata": {},
   "source": [
    "#### Training loop:"
   ]
  },
  {
   "cell_type": "code",
   "execution_count": 10,
   "metadata": {},
   "outputs": [
    {
     "name": "stdout",
     "output_type": "stream",
     "text": [
      "Epoch 001/101, Loss: 0.014250755751\n",
      "Epoch 002/101, Loss: 0.001660899664\n",
      "Epoch 003/101, Loss: 0.001282992632\n",
      "Epoch 004/101, Loss: 0.001128694865\n",
      "Epoch 005/101, Loss: 0.001076149500\n",
      "Epoch 006/101, Loss: 0.000986785997\n",
      "Epoch 007/101, Loss: 0.000869156549\n",
      "Epoch 008/101, Loss: 0.000803566737\n",
      "Epoch 009/101, Loss: 0.000770843086\n",
      "Epoch 010/101, Loss: 0.000756980558\n",
      "Epoch 011/101, Loss: 0.000739388966\n",
      "Epoch 012/101, Loss: 0.000702191036\n",
      "Epoch 013/101, Loss: 0.000677044769\n",
      "Epoch 014/101, Loss: 0.000661615725\n",
      "Epoch 015/101, Loss: 0.000653876060\n",
      "Epoch 016/101, Loss: 0.000650519645\n",
      "Epoch 017/101, Loss: 0.000631554312\n",
      "Epoch 018/101, Loss: 0.000618184283\n",
      "Epoch 019/101, Loss: 0.000607649934\n",
      "Epoch 020/101, Loss: 0.000601610772\n",
      "Epoch 021/101, Loss: 0.000602806232\n",
      "Epoch 022/101, Loss: 0.000591026569\n",
      "Epoch 023/101, Loss: 0.000580550156\n",
      "Epoch 024/101, Loss: 0.000572488791\n",
      "Epoch 025/101, Loss: 0.000567658362\n",
      "Epoch 026/101, Loss: 0.000570867578\n",
      "Epoch 027/101, Loss: 0.000562140562\n",
      "Epoch 028/101, Loss: 0.000553121697\n",
      "Epoch 029/101, Loss: 0.000546106277\n",
      "Epoch 030/101, Loss: 0.000541688397\n",
      "Epoch 031/101, Loss: 0.000545921780\n",
      "Epoch 032/101, Loss: 0.000538863702\n",
      "Epoch 033/101, Loss: 0.000531139896\n",
      "Epoch 034/101, Loss: 0.000524737086\n",
      "Epoch 035/101, Loss: 0.000520086058\n",
      "Epoch 036/101, Loss: 0.000526074283\n",
      "Epoch 037/101, Loss: 0.000519403857\n",
      "Epoch 038/101, Loss: 0.000512613853\n",
      "Epoch 039/101, Loss: 0.000506494244\n",
      "Epoch 040/101, Loss: 0.000502037366\n",
      "Epoch 041/101, Loss: 0.000508977689\n",
      "Epoch 042/101, Loss: 0.000503125720\n",
      "Epoch 043/101, Loss: 0.000495572683\n",
      "Epoch 044/101, Loss: 0.000490045857\n",
      "Epoch 045/101, Loss: 0.000485669256\n",
      "Epoch 046/101, Loss: 0.000492923000\n",
      "Epoch 047/101, Loss: 0.000488724823\n",
      "Epoch 048/101, Loss: 0.000481320093\n",
      "Epoch 049/101, Loss: 0.000475460551\n",
      "Epoch 050/101, Loss: 0.000471857970\n",
      "Epoch 051/101, Loss: 0.000479222852\n",
      "Epoch 052/101, Loss: 0.000474013155\n",
      "Epoch 053/101, Loss: 0.000467669734\n",
      "Epoch 054/101, Loss: 0.000461867057\n",
      "Epoch 055/101, Loss: 0.000457469263\n",
      "Epoch 056/101, Loss: 0.000465995426\n",
      "Epoch 057/101, Loss: 0.000461111164\n",
      "Epoch 058/101, Loss: 0.000454568723\n",
      "Epoch 059/101, Loss: 0.000448684738\n",
      "Epoch 060/101, Loss: 0.000444314809\n",
      "Epoch 061/101, Loss: 0.000452789631\n",
      "Epoch 062/101, Loss: 0.000448453646\n",
      "Epoch 063/101, Loss: 0.000442342470\n",
      "Epoch 064/101, Loss: 0.000436732724\n",
      "Epoch 065/101, Loss: 0.000431930458\n",
      "Epoch 066/101, Loss: 0.000440785247\n",
      "Epoch 067/101, Loss: 0.000436653487\n",
      "Epoch 068/101, Loss: 0.000430554462\n",
      "Epoch 069/101, Loss: 0.000423675455\n",
      "Epoch 070/101, Loss: 0.000419591579\n",
      "Epoch 071/101, Loss: 0.000429235218\n",
      "Epoch 072/101, Loss: 0.000424703211\n",
      "Epoch 073/101, Loss: 0.000418467139\n",
      "Epoch 074/101, Loss: 0.000412763690\n",
      "Epoch 075/101, Loss: 0.000408254019\n",
      "Epoch 076/101, Loss: 0.000417522596\n",
      "Epoch 077/101, Loss: 0.000413593474\n",
      "Epoch 078/101, Loss: 0.000407773762\n",
      "Epoch 079/101, Loss: 0.000401018595\n",
      "Epoch 080/101, Loss: 0.000396501302\n",
      "Epoch 081/101, Loss: 0.000405848464\n",
      "Epoch 082/101, Loss: 0.000401320635\n",
      "Epoch 083/101, Loss: 0.000396067546\n",
      "Epoch 084/101, Loss: 0.000389879312\n",
      "Epoch 085/101, Loss: 0.000385660136\n",
      "Epoch 086/101, Loss: 0.000395824776\n",
      "Epoch 087/101, Loss: 0.000391838201\n",
      "Epoch 088/101, Loss: 0.000385613209\n",
      "Epoch 089/101, Loss: 0.000378880282\n",
      "Epoch 090/101, Loss: 0.000374372229\n",
      "Epoch 091/101, Loss: 0.000383619019\n",
      "Epoch 092/101, Loss: 0.000380835792\n",
      "Epoch 093/101, Loss: 0.000373992566\n",
      "Epoch 094/101, Loss: 0.000368011999\n",
      "Epoch 095/101, Loss: 0.000363688096\n",
      "Epoch 096/101, Loss: 0.000373799457\n",
      "Epoch 097/101, Loss: 0.000369488988\n",
      "Epoch 098/101, Loss: 0.000363653854\n",
      "Epoch 099/101, Loss: 0.000357616323\n",
      "Epoch 100/101, Loss: 0.000353212552\n",
      "Epoch 101/101, Loss: 0.000363750807\n"
     ]
    }
   ],
   "source": [
    "num_epochs = 101\n",
    "for epoch in range(num_epochs):\n",
    "    running_loss = 0.0\n",
    "    for inputs, labels in train_dataloader:\n",
    "        inputs = inputs.to(device)\n",
    "        labels = labels.to(device)\n",
    "\n",
    "        optimizer.zero_grad()  # Zero the gradients\n",
    "        outputs = model(inputs)  # Forward pass\n",
    "        loss = criterion(outputs, labels)  # Compute the loss\n",
    "        loss.backward()  # Backward pass\n",
    "        optimizer.step()  # Update the weights\n",
    "\n",
    "        running_loss += loss.item()\n",
    "    \n",
    "    scheduler.step()\n",
    "\n",
    "    print(f\"Epoch {epoch+1:0{len(str(num_epochs))}}/{num_epochs}, Loss: {running_loss/len(train_dataloader):.12f}\")"
   ]
  },
  {
   "cell_type": "markdown",
   "metadata": {},
   "source": [
    "#### Evaluating model:"
   ]
  },
  {
   "cell_type": "code",
   "execution_count": 11,
   "metadata": {},
   "outputs": [],
   "source": [
    "test_pred = model.forward(X_test.to(device))\n",
    "test_map = ev.eval_vo(test_pred[:,:600].T.cpu().detach().numpy(), y_test[:,:600].T.numpy(),600)[0].mean()"
   ]
  },
  {
   "cell_type": "code",
   "execution_count": 12,
   "metadata": {},
   "outputs": [
    {
     "name": "stdout",
     "output_type": "stream",
     "text": [
      "58.53311131016069\n"
     ]
    }
   ],
   "source": [
    "print(test_map * 100)"
   ]
  },
  {
   "cell_type": "code",
   "execution_count": 13,
   "metadata": {},
   "outputs": [
    {
     "name": "stdout",
     "output_type": "stream",
     "text": [
      "Few@1 mAP:  36.00463342191117\n",
      "Few@5 mAP:  44.61755919593591\n",
      "Few@10 mAp:  46.65475744518638\n"
     ]
    }
   ],
   "source": [
    "one_shot_list = torch.where((0 < (y_train[:,:600] == 1).sum(dim=0)) & ((y_train[:,:600] == 1).sum(dim=0) <= 1))[0]\n",
    "few_shot_list_5 = torch.where((0 < (y_train[:,:600] == 1).sum(dim=0)) & ((y_train[:,:600] == 1).sum(dim=0) <= 5))[0]\n",
    "few_shot_list_10 = torch.where((0 < (y_train[:,:600] == 1).sum(dim=0)) & ((y_train[:,:600] == 1).sum(dim=0) <= 10))[0]\n",
    "\n",
    "one_shot_map = ev.eval_vo(test_pred[:,one_shot_list].T.cpu().detach().numpy(), y_test[:,one_shot_list].T.numpy(),len(one_shot_list))[0].mean()\n",
    "few_5_shot_map = ev.eval_vo(test_pred[:,few_shot_list_5].T.cpu().detach().numpy(), y_test[:,few_shot_list_5].T.numpy(),len(few_shot_list_5))[0].mean()\n",
    "few_10_shot_map = ev.eval_vo(test_pred[:,few_shot_list_10].T.cpu().detach().numpy(), y_test[:,few_shot_list_10].T.numpy(),len(few_shot_list_10))[0].mean()\n",
    "\n",
    "print(\"Few@1 mAP: \", one_shot_map * 100)\n",
    "print(\"Few@5 mAP: \", few_5_shot_map * 100)\n",
    "print(\"Few@10 mAp: \", few_10_shot_map * 100)"
   ]
  },
  {
   "cell_type": "code",
   "execution_count": 14,
   "metadata": {},
   "outputs": [
    {
     "data": {
      "text/plain": [
       "[]"
      ]
     },
     "execution_count": 14,
     "metadata": {},
     "output_type": "execute_result"
    },
    {
     "data": {
      "image/png": "[encoded data removed]",
      "text/plain": [
       "<Figure size 800x500 with 1 Axes>"
      ]
     },
     "metadata": {},
     "output_type": "display_data"
    }
   ],
   "source": [
    "indices = torch.sum((y_train[:,:600] == 1).int(), dim = 0).sort().indices\n",
    "test_aps = ev.eval_vo(test_pred[:,:600].T.cpu().detach().numpy(), y_test[:,:600].T.numpy(),600)[0]\n",
    "\n",
    "plt.figure(figsize=(8,5))\n",
    "plt.bar(range(600),test_aps[indices],width=1)\n",
    "plt.scatter(range(600),torch.sum(y_train == 1, dim = 0)[indices] / 1500,s = 2,color = \"red\")\n",
    "plt.xlabel('HOI Classes')\n",
    "plt.ylabel('Number of Training Images')\n",
    "plt.plot()"
   ]
  }
 ],
 "metadata": {
  "kernelspec": {
   "display_name": "PyTorch",
   "language": "python",
   "name": "python3"
  },
  "language_info": {
   "codemirror_mode": {
    "name": "ipython",
    "version": 3
   },
   "file_extension": ".py",
   "mimetype": "text/x-python",
   "name": "python",
   "nbconvert_exporter": "python",
   "pygments_lexer": "ipython3",
   "version": "3.10.13"
  }
 },
 "nbformat": 4,
 "nbformat_minor": 2
}
