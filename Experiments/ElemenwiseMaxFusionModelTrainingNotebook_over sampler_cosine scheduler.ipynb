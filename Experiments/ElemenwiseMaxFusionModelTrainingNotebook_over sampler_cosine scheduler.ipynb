{
 "cells": [
  {
   "cell_type": "markdown",
   "metadata": {},
   "source": [
    "# Elementwise Max Fusion model training (OverSampler, cosine scheduling, BCE loss):"
   ]
  },
  {
   "cell_type": "code",
   "execution_count": 1,
   "metadata": {},
   "outputs": [],
   "source": [
    "import sys\n",
    "root = '../'\n",
    "sys.path.append(root)   # Done to be able to import the packages and functions\n",
    "\n",
    "import Utils.hico_evaluation.evaluation as ev\n",
    "from Utils.custom_sampler import OverSampler\n",
    "from Utils.custom_loss import MaskedBCELoss\n",
    "from Utils.annotation_preprocessing import _load_csv_to_tensor\n",
    "from Utils.train_val_split import train_val_split_hico\n",
    "from hoi_classifiers import ElementwiseMaxFusionModel\n",
    "\n",
    "import torch\n",
    "import numpy as np\n",
    "from torch.utils.data import TensorDataset, DataLoader\n",
    "import matplotlib.pyplot as plt\n",
    "\n",
    "import random"
   ]
  },
  {
   "cell_type": "code",
   "execution_count": 2,
   "metadata": {},
   "outputs": [],
   "source": [
    "seed = 42   #note that the model parameters will still be randomly initiated\n",
    "torch.manual_seed(seed)\n",
    "random.seed(seed)"
   ]
  },
  {
   "cell_type": "markdown",
   "metadata": {},
   "source": [
    "### Loading the training set:\n"
   ]
  },
  {
   "cell_type": "code",
   "execution_count": 3,
   "metadata": {},
   "outputs": [],
   "source": [
    "# Loading the data:\n",
    "train_data = torch.load(root + \"Embeddings/Combined_Embeddings/train.pt\")\n",
    "train_annotations = _load_csv_to_tensor(root + \"anno/added/anno_augmented_train.csv\").T # Transpose to make both first dimensions the #samples.\n",
    "train_annotations[train_annotations.isnan()] = -1"
   ]
  },
  {
   "cell_type": "markdown",
   "metadata": {},
   "source": [
    "##### Splitting the training set into a train and validation set:"
   ]
  },
  {
   "cell_type": "code",
   "execution_count": 4,
   "metadata": {},
   "outputs": [],
   "source": [
    "train_idx, validation_idx = train_val_split_hico(train_data, train_annotations, 0.2, seed)\n",
    "X_train, X_val = train_data[train_idx], train_data[validation_idx]\n",
    "y_train, y_val = train_annotations[train_idx], train_annotations[validation_idx]"
   ]
  },
  {
   "cell_type": "markdown",
   "metadata": {},
   "source": [
    "#### Training Preparations:"
   ]
  },
  {
   "cell_type": "code",
   "execution_count": 5,
   "metadata": {},
   "outputs": [],
   "source": [
    "train_dataset = TensorDataset(X_train, y_train)"
   ]
  },
  {
   "cell_type": "code",
   "execution_count": 6,
   "metadata": {},
   "outputs": [],
   "source": [
    "# Batch size:\n",
    "bs = 512\n",
    "\n",
    "sampler = OverSampler(y_train[:,:600], shuffle = True)\n",
    "\n",
    "train_dataloader = DataLoader(\n",
    "    train_dataset, batch_size=bs, num_workers=4, sampler=sampler)\n"
   ]
  },
  {
   "cell_type": "code",
   "execution_count": 7,
   "metadata": {},
   "outputs": [],
   "source": [
    "device = torch.device('cuda:0' if torch.cuda.is_available() else 'cpu')"
   ]
  },
  {
   "cell_type": "code",
   "execution_count": 8,
   "metadata": {},
   "outputs": [],
   "source": [
    "model = ElementwiseMaxFusionModel(512,655,797)\n",
    "model = model.to(device)"
   ]
  },
  {
   "cell_type": "code",
   "execution_count": 9,
   "metadata": {},
   "outputs": [
    {
     "name": "stderr",
     "output_type": "stream",
     "text": [
      "c:\\Users\\rfigg\\.conda\\envs\\PyTorch\\lib\\site-packages\\transformers\\utils\\generic.py:441: UserWarning: torch.utils._pytree._register_pytree_node is deprecated. Please use torch.utils._pytree.register_pytree_node instead.\n",
      "  _torch_pytree._register_pytree_node(\n"
     ]
    }
   ],
   "source": [
    "classweights = torch.cat((torch.ones(600),torch.ones(197)*0.5)).to(device)      # The hoi classes weigh twice as much as the seperate classes\n",
    "criterion = MaskedBCELoss(ignore_label=0, convert_target_to_01= True, weight=classweights)\n",
    "\n",
    "optimizer = torch.optim.Adam(params=model.parameters(), lr=0.0005)\n",
    "scheduler = torch.optim.lr_scheduler.CosineAnnealingWarmRestarts(optimizer, T_0=5, T_mult=1)"
   ]
  },
  {
   "cell_type": "markdown",
   "metadata": {},
   "source": [
    "#### Training loop:"
   ]
  },
  {
   "cell_type": "code",
   "execution_count": 10,
   "metadata": {},
   "outputs": [
    {
     "name": "stdout",
     "output_type": "stream",
     "text": [
      "Epoch 001/200, Loss: 0.087437318638, validation map: 0.011738077251\n",
      "Epoch 002/200, Loss: 0.021520334033, validation map: 0.036681481490\n",
      "Epoch 003/200, Loss: 0.019358539190, validation map: 0.062141147626\n",
      "Epoch 004/200, Loss: 0.017901362111, validation map: 0.074880052007\n",
      "Epoch 005/200, Loss: 0.017246823901, validation map: 0.078087792093\n",
      "Epoch 006/200, Loss: 0.016009782393, validation map: 0.106501616014\n",
      "Epoch 007/200, Loss: 0.014069803358, validation map: 0.146112611298\n",
      "Epoch 008/200, Loss: 0.012781746709, validation map: 0.175448988677\n",
      "Epoch 009/200, Loss: 0.012048397703, validation map: 0.188576321160\n",
      "Epoch 010/200, Loss: 0.011737438934, validation map: 0.192305754682\n",
      "Epoch 011/200, Loss: 0.011206230829, validation map: 0.223366411738\n",
      "Epoch 012/200, Loss: 0.010270067837, validation map: 0.247114379630\n",
      "Epoch 013/200, Loss: 0.009619293030, validation map: 0.262223308384\n",
      "Epoch 014/200, Loss: 0.009250405686, validation map: 0.269255419228\n",
      "Epoch 015/200, Loss: 0.009082548308, validation map: 0.270917625509\n",
      "Epoch 016/200, Loss: 0.008853229276, validation map: 0.291357288479\n",
      "Epoch 017/200, Loss: 0.008364518872, validation map: 0.306669343078\n",
      "Epoch 018/200, Loss: 0.008032409647, validation map: 0.316867196397\n",
      "Epoch 019/200, Loss: 0.007783855879, validation map: 0.323111103713\n",
      "Epoch 020/200, Loss: 0.007691251562, validation map: 0.324231541109\n",
      "Epoch 021/200, Loss: 0.007594083979, validation map: 0.336198931858\n",
      "Epoch 022/200, Loss: 0.007301776980, validation map: 0.344736109585\n",
      "Epoch 023/200, Loss: 0.007087644267, validation map: 0.351851229265\n",
      "Epoch 024/200, Loss: 0.006935667760, validation map: 0.356680617402\n",
      "Epoch 025/200, Loss: 0.006849514535, validation map: 0.356305668600\n",
      "Epoch 026/200, Loss: 0.006804857194, validation map: 0.365821272832\n",
      "Epoch 027/200, Loss: 0.006638334085, validation map: 0.371774820072\n",
      "Epoch 028/200, Loss: 0.006472006177, validation map: 0.376464074382\n",
      "Epoch 029/200, Loss: 0.006349757433, validation map: 0.379985633131\n",
      "Epoch 030/200, Loss: 0.006295857527, validation map: 0.380143305858\n",
      "Epoch 031/200, Loss: 0.006288263977, validation map: 0.386365347125\n",
      "Epoch 032/200, Loss: 0.006152915327, validation map: 0.390972459961\n",
      "Epoch 033/200, Loss: 0.006002488815, validation map: 0.394212075438\n",
      "Epoch 034/200, Loss: 0.005911135831, validation map: 0.396014022605\n",
      "Epoch 035/200, Loss: 0.005855703320, validation map: 0.396401789875\n",
      "Epoch 036/200, Loss: 0.005869653524, validation map: 0.401541295677\n",
      "Epoch 037/200, Loss: 0.005761712461, validation map: 0.405351483963\n",
      "Epoch 038/200, Loss: 0.005646792264, validation map: 0.408462179672\n",
      "Epoch 039/200, Loss: 0.005564803120, validation map: 0.410189360340\n",
      "Epoch 040/200, Loss: 0.005515935502, validation map: 0.410355437096\n",
      "Epoch 041/200, Loss: 0.005521671333, validation map: 0.413433199804\n",
      "Epoch 042/200, Loss: 0.005434376761, validation map: 0.418241980477\n",
      "Epoch 043/200, Loss: 0.005328656550, validation map: 0.419034929254\n",
      "Epoch 044/200, Loss: 0.005271309348, validation map: 0.420179535349\n",
      "Epoch 045/200, Loss: 0.005204496249, validation map: 0.420141497947\n",
      "Epoch 046/200, Loss: 0.005248069112, validation map: 0.423708282666\n",
      "Epoch 047/200, Loss: 0.005157851710, validation map: 0.426857147794\n",
      "Epoch 048/200, Loss: 0.005078038654, validation map: 0.427817893929\n",
      "Epoch 049/200, Loss: 0.005007868573, validation map: 0.429565048053\n",
      "Epoch 050/200, Loss: 0.004974603175, validation map: 0.429017815183\n",
      "Epoch 051/200, Loss: 0.005005377160, validation map: 0.431272726942\n",
      "Epoch 052/200, Loss: 0.004933230782, validation map: 0.433202804597\n",
      "Epoch 053/200, Loss: 0.004847953574, validation map: 0.434722907922\n",
      "Epoch 054/200, Loss: 0.004786593750, validation map: 0.435376187274\n",
      "Epoch 055/200, Loss: 0.004747112700, validation map: 0.434822389793\n",
      "Epoch 056/200, Loss: 0.004795826870, validation map: 0.435534861862\n",
      "Epoch 057/200, Loss: 0.004726047031, validation map: 0.439137051666\n",
      "Epoch 058/200, Loss: 0.004639622714, validation map: 0.439648557316\n",
      "Epoch 059/200, Loss: 0.004586788497, validation map: 0.440351521342\n",
      "Epoch 060/200, Loss: 0.004544286702, validation map: 0.440329866778\n",
      "Epoch 061/200, Loss: 0.004583349069, validation map: 0.442134242964\n",
      "Epoch 062/200, Loss: 0.004516522508, validation map: 0.443316342562\n",
      "Epoch 063/200, Loss: 0.004451196091, validation map: 0.444409803888\n",
      "Epoch 064/200, Loss: 0.004390926542, validation map: 0.444255065234\n",
      "Epoch 065/200, Loss: 0.004349691692, validation map: 0.443854236316\n",
      "Epoch 066/200, Loss: 0.004398007000, validation map: 0.445177894119\n",
      "Epoch 067/200, Loss: 0.004333005627, validation map: 0.446891255769\n",
      "Epoch 068/200, Loss: 0.004270998910, validation map: 0.447038933250\n",
      "Epoch 069/200, Loss: 0.004216803435, validation map: 0.446838343068\n",
      "Epoch 070/200, Loss: 0.004176913283, validation map: 0.447053166855\n",
      "Epoch 071/200, Loss: 0.004218376465, validation map: 0.447938044138\n",
      "Epoch 072/200, Loss: 0.004162912439, validation map: 0.448701137543\n",
      "Epoch 073/200, Loss: 0.004104136743, validation map: 0.449284274862\n",
      "Epoch 074/200, Loss: 0.004052446185, validation map: 0.448561761210\n",
      "Epoch 075/200, Loss: 0.004006632216, validation map: 0.448910112473\n",
      "Epoch 076/200, Loss: 0.004067479463, validation map: 0.449598536404\n",
      "Epoch 077/200, Loss: 0.004021289326, validation map: 0.450637883966\n",
      "Epoch 078/200, Loss: 0.003952456925, validation map: 0.451651443580\n",
      "Epoch 079/200, Loss: 0.003898854269, validation map: 0.451750750126\n",
      "Epoch 080/200, Loss: 0.003860778196, validation map: 0.451207997036\n",
      "Epoch 081/200, Loss: 0.003910362291, validation map: 0.452622941365\n",
      "Epoch 082/200, Loss: 0.003862716813, validation map: 0.453146338687\n",
      "Epoch 083/200, Loss: 0.003799969059, validation map: 0.453444062247\n",
      "Epoch 084/200, Loss: 0.003744897340, validation map: 0.453016277089\n",
      "Epoch 085/200, Loss: 0.003715357021, validation map: 0.453493000453\n",
      "Epoch 086/200, Loss: 0.003767440702, validation map: 0.453869542274\n",
      "Epoch 087/200, Loss: 0.003710047008, validation map: 0.452727397022\n",
      "Epoch 088/200, Loss: 0.003658203277, validation map: 0.452271321693\n",
      "Epoch 089/200, Loss: 0.003612183049, validation map: 0.452963720033\n",
      "Epoch 090/200, Loss: 0.003575945428, validation map: 0.453322977530\n",
      "Epoch 091/200, Loss: 0.003629724477, validation map: 0.453547855454\n",
      "Epoch 092/200, Loss: 0.003580494172, validation map: 0.454531551906\n",
      "Epoch 093/200, Loss: 0.003532920842, validation map: 0.452352969349\n",
      "Epoch 094/200, Loss: 0.003467995772, validation map: 0.452309534553\n",
      "Epoch 095/200, Loss: 0.003447261696, validation map: 0.452496029455\n",
      "Epoch 096/200, Loss: 0.003505302417, validation map: 0.452849054113\n",
      "Epoch 097/200, Loss: 0.003453635840, validation map: 0.453193851115\n",
      "Epoch 098/200, Loss: 0.003400425510, validation map: 0.453376309920\n",
      "Epoch 099/200, Loss: 0.003342692018, validation map: 0.453199358390\n",
      "Epoch 100/200, Loss: 0.003302786481, validation map: 0.453434999158\n",
      "Epoch 101/200, Loss: 0.003377693034, validation map: 0.453747083316\n",
      "Epoch 102/200, Loss: 0.003335542293, validation map: 0.454367155834\n",
      "Epoch 103/200, Loss: 0.003263236068, validation map: 0.453112916693\n",
      "Epoch 104/200, Loss: 0.003222953236, validation map: 0.453386712858\n",
      "Epoch 105/200, Loss: 0.003186396535, validation map: 0.453546914936\n",
      "Epoch 106/200, Loss: 0.003255485641, validation map: 0.454037410592\n",
      "Epoch 107/200, Loss: 0.003216751821, validation map: 0.453134791003\n",
      "Epoch 108/200, Loss: 0.003158028566, validation map: 0.452726718058\n",
      "Epoch 109/200, Loss: 0.003104121078, validation map: 0.453282841864\n",
      "Epoch 110/200, Loss: 0.003068767601, validation map: 0.452961183208\n",
      "Epoch 111/200, Loss: 0.003136822876, validation map: 0.453299615415\n",
      "Epoch 112/200, Loss: 0.003094251232, validation map: 0.453115088197\n",
      "Epoch 113/200, Loss: 0.003035961501, validation map: 0.452747706823\n",
      "Epoch 114/200, Loss: 0.002986053220, validation map: 0.451998642595\n",
      "Epoch 115/200, Loss: 0.002954956398, validation map: 0.452033028090\n",
      "Epoch 116/200, Loss: 0.003015531663, validation map: 0.452838649218\n",
      "Epoch 117/200, Loss: 0.002983178105, validation map: 0.452576912732\n",
      "Epoch 118/200, Loss: 0.002929888367, validation map: 0.452665622791\n",
      "Epoch 119/200, Loss: 0.002879652786, validation map: 0.452250377174\n",
      "Epoch 120/200, Loss: 0.002849655199, validation map: 0.452448803806\n",
      "Epoch 121/200, Loss: 0.002907670207, validation map: 0.451580425901\n",
      "Epoch 122/200, Loss: 0.002878014742, validation map: 0.451045702000\n",
      "Epoch 123/200, Loss: 0.002824139044, validation map: 0.451350225122\n",
      "Epoch 124/200, Loss: 0.002775918218, validation map: 0.451411695676\n",
      "Epoch 125/200, Loss: 0.002737975285, validation map: 0.451354422805\n",
      "Epoch 126/200, Loss: 0.002812803108, validation map: 0.451043580775\n",
      "Epoch 127/200, Loss: 0.002763784171, validation map: 0.450587788112\n",
      "Epoch 128/200, Loss: 0.002723842629, validation map: 0.451455524667\n",
      "Epoch 129/200, Loss: 0.002668240114, validation map: 0.450776885524\n",
      "Epoch 130/200, Loss: 0.002635849768, validation map: 0.449990179381\n",
      "Epoch 131/200, Loss: 0.002706982601, validation map: 0.451319796626\n",
      "Epoch 132/200, Loss: 0.002671266219, validation map: 0.449800246642\n",
      "Epoch 133/200, Loss: 0.002625978352, validation map: 0.450374298825\n",
      "Epoch 134/200, Loss: 0.002573825795, validation map: 0.450320170302\n",
      "Epoch 135/200, Loss: 0.002544065314, validation map: 0.450078465038\n",
      "Epoch 136/200, Loss: 0.002609891686, validation map: 0.451140966396\n",
      "Epoch 137/200, Loss: 0.002577434933, validation map: 0.449598302405\n",
      "Epoch 138/200, Loss: 0.002525450981, validation map: 0.450322392213\n",
      "Epoch 139/200, Loss: 0.002482976066, validation map: 0.449835684826\n",
      "Epoch 140/200, Loss: 0.002448970792, validation map: 0.449926811568\n",
      "Epoch 141/200, Loss: 0.002518514601, validation map: 0.449191342670\n",
      "Epoch 142/200, Loss: 0.002483219335, validation map: 0.448334045836\n",
      "Epoch 143/200, Loss: 0.002435683744, validation map: 0.448270952445\n",
      "Epoch 144/200, Loss: 0.002389113643, validation map: 0.448790530774\n",
      "Epoch 145/200, Loss: 0.002360350408, validation map: 0.449220127326\n",
      "Epoch 146/200, Loss: 0.002430218266, validation map: 0.448447843127\n",
      "Epoch 147/200, Loss: 0.002402927491, validation map: 0.448142288524\n",
      "Epoch 148/200, Loss: 0.002353518610, validation map: 0.448946486337\n",
      "Epoch 149/200, Loss: 0.002308448990, validation map: 0.448942513823\n",
      "Epoch 150/200, Loss: 0.002279298759, validation map: 0.448822722250\n",
      "Epoch 151/200, Loss: 0.002346389518, validation map: 0.447588106204\n",
      "Epoch 152/200, Loss: 0.002312794375, validation map: 0.447714038154\n",
      "Epoch 153/200, Loss: 0.002269556976, validation map: 0.446282236977\n",
      "Epoch 154/200, Loss: 0.002230518424, validation map: 0.447424841660\n",
      "Epoch 155/200, Loss: 0.002198799427, validation map: 0.447497632424\n",
      "Epoch 156/200, Loss: 0.002265409649, validation map: 0.447379697526\n",
      "Epoch 157/200, Loss: 0.002238512908, validation map: 0.447014131190\n",
      "Epoch 158/200, Loss: 0.002193010758, validation map: 0.446385830309\n",
      "Epoch 159/200, Loss: 0.002152731060, validation map: 0.446206987457\n",
      "Epoch 160/200, Loss: 0.002119679692, validation map: 0.446796376953\n",
      "Epoch 161/200, Loss: 0.002192669259, validation map: 0.446393102512\n",
      "Epoch 162/200, Loss: 0.002163286752, validation map: 0.447059667596\n",
      "Epoch 163/200, Loss: 0.002125609287, validation map: 0.446686213213\n",
      "Epoch 164/200, Loss: 0.002076687532, validation map: 0.446246441592\n",
      "Epoch 165/200, Loss: 0.002047355003, validation map: 0.446723942421\n",
      "Epoch 166/200, Loss: 0.002116014559, validation map: 0.446201323957\n",
      "Epoch 167/200, Loss: 0.002093542054, validation map: 0.446762977005\n",
      "Epoch 168/200, Loss: 0.002048026208, validation map: 0.445872267243\n",
      "Epoch 169/200, Loss: 0.002002088005, validation map: 0.445564429849\n",
      "Epoch 170/200, Loss: 0.001977791216, validation map: 0.445703848334\n",
      "Epoch 171/200, Loss: 0.002046812557, validation map: 0.446396475400\n",
      "Epoch 172/200, Loss: 0.002020354948, validation map: 0.445849789669\n",
      "Epoch 173/200, Loss: 0.001975667870, validation map: 0.444894483307\n",
      "Epoch 174/200, Loss: 0.001942510606, validation map: 0.445049519069\n",
      "Epoch 175/200, Loss: 0.001909440780, validation map: 0.444877094453\n",
      "Epoch 176/200, Loss: 0.001982350284, validation map: 0.445919716056\n",
      "Epoch 177/200, Loss: 0.001956011737, validation map: 0.445024368802\n",
      "Epoch 178/200, Loss: 0.001916013563, validation map: 0.444735888084\n",
      "Epoch 179/200, Loss: 0.001873886681, validation map: 0.444626997771\n",
      "Epoch 180/200, Loss: 0.001846764107, validation map: 0.445014012460\n",
      "Epoch 181/200, Loss: 0.001915464318, validation map: 0.445053541197\n",
      "Epoch 182/200, Loss: 0.001888934817, validation map: 0.444613215726\n",
      "Epoch 183/200, Loss: 0.001849982131, validation map: 0.445022419755\n",
      "Epoch 184/200, Loss: 0.001812095993, validation map: 0.444966202452\n",
      "Epoch 185/200, Loss: 0.001782531534, validation map: 0.445136106445\n",
      "Epoch 186/200, Loss: 0.001856769026, validation map: 0.446278897461\n",
      "Epoch 187/200, Loss: 0.001827560943, validation map: 0.445274768170\n",
      "Epoch 188/200, Loss: 0.001788825376, validation map: 0.444453847717\n",
      "Epoch 189/200, Loss: 0.001752422217, validation map: 0.445499061701\n",
      "Epoch 190/200, Loss: 0.001727039056, validation map: 0.444683123206\n",
      "Epoch 191/200, Loss: 0.001786435332, validation map: 0.445231055707\n",
      "Epoch 192/200, Loss: 0.001766080126, validation map: 0.444532067667\n",
      "Epoch 193/200, Loss: 0.001732278388, validation map: 0.445484202604\n",
      "Epoch 194/200, Loss: 0.001693467593, validation map: 0.444760806237\n",
      "Epoch 195/200, Loss: 0.001667411062, validation map: 0.445316352210\n",
      "Epoch 196/200, Loss: 0.001728266406, validation map: 0.443545701280\n",
      "Epoch 197/200, Loss: 0.001709429240, validation map: 0.443361213578\n",
      "Epoch 198/200, Loss: 0.001674425470, validation map: 0.444497060948\n",
      "Epoch 199/200, Loss: 0.001641277172, validation map: 0.443067632116\n",
      "Epoch 200/200, Loss: 0.001612495909, validation map: 0.443408521553\n"
     ]
    }
   ],
   "source": [
    "num_epochs = 200\n",
    "training_loss_per_epoch = np.zeros(200)\n",
    "validation_loss_per_epoch = np.zeros(200)\n",
    "validation_map_per_epoch = np.zeros(200)\n",
    "\n",
    "for epoch in range(num_epochs):\n",
    "    running_loss = 0.0\n",
    "    for inputs, labels in train_dataloader:\n",
    "        inputs = inputs.to(device)\n",
    "        labels = labels.to(device)\n",
    "\n",
    "        optimizer.zero_grad()  # Zero the gradients\n",
    "        outputs = model(inputs)  # Forward pass\n",
    "        loss = criterion(outputs, labels)  # Compute the loss\n",
    "        loss.backward()  # Backward pass\n",
    "        optimizer.step()  # Update the weights\n",
    "\n",
    "        running_loss += loss.item()\n",
    "    \n",
    "    scheduler.step()\n",
    "\n",
    "    with torch.no_grad():\n",
    "        pred = model.forward(X_val.to(device))\n",
    "        # calculate the validation loss:\n",
    "        validation_loss = criterion(pred, y_val.to(device))\n",
    "        # calculate the validation mAP:\n",
    "        validation_aps = ev.eval_vo(pred[:,:600].T.cpu().detach().numpy(), y_val[:,:600].T.numpy(),600)[0]\n",
    "        nr_val_classes = np.sum(validation_aps != None)\n",
    "        validation_map = np.nansum(validation_aps) / nr_val_classes\n",
    "\n",
    "    # add the losses and mAP to the arrays:\n",
    "    training_loss_per_epoch[epoch] = running_loss / len(train_dataloader)\n",
    "    validation_loss_per_epoch[epoch] = validation_loss\n",
    "    validation_map_per_epoch[epoch] = validation_map\n",
    "\n",
    "    print(f\"Epoch {epoch+1:0{len(str(num_epochs))}}/{num_epochs}, Loss: {running_loss/len(train_dataloader):.12f}, validation map: {validation_map:.12f}\")"
   ]
  },
  {
   "cell_type": "markdown",
   "metadata": {},
   "source": [
    "### plotting the training process to select the number of convergence"
   ]
  },
  {
   "cell_type": "code",
   "execution_count": 11,
   "metadata": {},
   "outputs": [
    {
     "data": {
      "text/plain": [
       "[]"
      ]
     },
     "execution_count": 11,
     "metadata": {},
     "output_type": "execute_result"
    },
    {
     "data": {
      "image/png": "[encoded data removed]",
      "text/plain": [
       "<Figure size 800x600 with 1 Axes>"
      ]
     },
     "metadata": {},
     "output_type": "display_data"
    }
   ],
   "source": [
    "plt.figure(figsize=(8,6))\n",
    "plt.plot(np.arange(200), training_loss_per_epoch, color = \"orange\")\n",
    "plt.plot(np.arange(200), validation_loss_per_epoch, color = \"blue\")\n",
    "# plt.plot(np.arange(100), validation_loss_main_per_epoch, color= \"red\")\n",
    "# plt.plot(np.arange(100), validation_loss_side_per_epoch, color = \"purple\")\n",
    "plt.plot(np.arange(200), validation_map_per_epoch/10, color = \"green\")\n",
    "#plt.hlines(0.010051161982119083, 0, 100 , colors=['black'],linestyles=['dotted'])\n",
    "plt.ylim(0,0.1)\n",
    "plt.plot()"
   ]
  },
  {
   "cell_type": "code",
   "execution_count": 12,
   "metadata": {},
   "outputs": [
    {
     "data": {
      "text/plain": [
       "91"
      ]
     },
     "execution_count": 12,
     "metadata": {},
     "output_type": "execute_result"
    }
   ],
   "source": [
    "np.argmax(validation_map_per_epoch)"
   ]
  },
  {
   "cell_type": "code",
   "execution_count": 13,
   "metadata": {},
   "outputs": [
    {
     "data": {
      "text/plain": [
       "84"
      ]
     },
     "execution_count": 13,
     "metadata": {},
     "output_type": "execute_result"
    }
   ],
   "source": [
    "np.argmin(validation_loss_per_epoch)"
   ]
  }
 ],
 "metadata": {
  "kernelspec": {
   "display_name": "PyTorch",
   "language": "python",
   "name": "python3"
  },
  "language_info": {
   "codemirror_mode": {
    "name": "ipython",
    "version": 3
   },
   "file_extension": ".py",
   "mimetype": "text/x-python",
   "name": "python",
   "nbconvert_exporter": "python",
   "pygments_lexer": "ipython3",
   "version": "3.10.13"
  }
 },
 "nbformat": 4,
 "nbformat_minor": 2
}
