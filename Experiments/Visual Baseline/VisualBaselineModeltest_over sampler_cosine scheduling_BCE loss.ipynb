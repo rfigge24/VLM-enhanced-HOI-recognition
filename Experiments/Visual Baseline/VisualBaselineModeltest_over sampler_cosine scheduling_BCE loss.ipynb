{
 "cells": [
  {
   "cell_type": "markdown",
   "metadata": {},
   "source": [
    "# Visual Baseline model testing (OverSampler, cosine scheduling, BCE loss):"
   ]
  },
  {
   "cell_type": "code",
   "execution_count": 1,
   "metadata": {},
   "outputs": [],
   "source": [
    "import sys\n",
    "root = '../../'\n",
    "sys.path.append(root)   # Done to be able to import the packages and functions\n",
    "\n",
    "import Utils.hico_evaluation.evaluation as ev\n",
    "from Utils.custom_sampler import OverSampler\n",
    "from Utils.custom_loss import MaskedBCELoss\n",
    "from Utils.annotation_preprocessing import _load_csv_to_tensor\n",
    "from Utils.train_val_split import train_val_split_hico\n",
    "from hoi_classifiers import FeedForwardNetwork\n",
    "\n",
    "import torch\n",
    "import numpy as np\n",
    "from torch.utils.data import TensorDataset, DataLoader\n",
    "import matplotlib.pyplot as plt\n",
    "\n",
    "import random"
   ]
  },
  {
   "cell_type": "code",
   "execution_count": 2,
   "metadata": {},
   "outputs": [],
   "source": [
    "seed = 42   #note that the model parameters will still be randomly initiated\n",
    "torch.manual_seed(seed)\n",
    "random.seed(seed)"
   ]
  },
  {
   "cell_type": "markdown",
   "metadata": {},
   "source": [
    "### Loading the training and test set:\n"
   ]
  },
  {
   "cell_type": "code",
   "execution_count": 3,
   "metadata": {},
   "outputs": [],
   "source": [
    "# Loading the data:\n",
    "X_train = torch.load(root + \"Embeddings/hico_train_center_crop.pt\")\n",
    "y_train = _load_csv_to_tensor(root + \"anno/added/anno_augmented_train.csv\").T # Transpose to make both first dimensions the #samples.\n",
    "y_train[y_train.isnan()] = -1"
   ]
  },
  {
   "cell_type": "code",
   "execution_count": 4,
   "metadata": {},
   "outputs": [],
   "source": [
    "X_test = torch.load(root + \"Embeddings/hico_test_center_crop.pt\")\n",
    "y_test = _load_csv_to_tensor(root + \"anno/added/anno_augmented_test.csv\").T # Transpose to make both first dimensions the #samples.\n",
    "y_test[y_test.isnan()] = -1"
   ]
  },
  {
   "cell_type": "markdown",
   "metadata": {},
   "source": [
    "#### Training Preparations:"
   ]
  },
  {
   "cell_type": "code",
   "execution_count": 5,
   "metadata": {},
   "outputs": [],
   "source": [
    "train_dataset = TensorDataset(X_train, y_train)"
   ]
  },
  {
   "cell_type": "code",
   "execution_count": 6,
   "metadata": {},
   "outputs": [],
   "source": [
    "# Batch size:\n",
    "bs = 512\n",
    "\n",
    "sampler = OverSampler(y_train[:,:600], shuffle=True)\n",
    "\n",
    "train_dataloader = DataLoader(\n",
    "    train_dataset, batch_size=bs, num_workers=4, sampler=sampler)\n"
   ]
  },
  {
   "cell_type": "code",
   "execution_count": 7,
   "metadata": {},
   "outputs": [],
   "source": [
    "device = torch.device('cuda:0' if torch.cuda.is_available() else 'cpu')"
   ]
  },
  {
   "cell_type": "code",
   "execution_count": 8,
   "metadata": {},
   "outputs": [],
   "source": [
    "model = FeedForwardNetwork(512, 655, 797)\n",
    "model = model.to(device)"
   ]
  },
  {
   "cell_type": "code",
   "execution_count": 9,
   "metadata": {},
   "outputs": [
    {
     "name": "stderr",
     "output_type": "stream",
     "text": [
      "c:\\Users\\rfigg\\.conda\\envs\\PyTorch\\lib\\site-packages\\transformers\\utils\\generic.py:441: UserWarning: torch.utils._pytree._register_pytree_node is deprecated. Please use torch.utils._pytree.register_pytree_node instead.\n",
      "  _torch_pytree._register_pytree_node(\n"
     ]
    }
   ],
   "source": [
    "classweights = torch.cat((torch.ones(600),torch.ones(197)*0.5)).to(device)      # The hoi classes weigh twice as much as the seperate classes\n",
    "criterion = MaskedBCELoss(ignore_label=0, convert_target_to_01= True, weight=classweights)\n",
    "\n",
    "optimizer = torch.optim.Adam(params=model.parameters(), lr=0.0005)\n",
    "scheduler = torch.optim.lr_scheduler.CosineAnnealingWarmRestarts(optimizer, T_0=5, T_mult=1)"
   ]
  },
  {
   "cell_type": "markdown",
   "metadata": {},
   "source": [
    "#### Training loop:"
   ]
  },
  {
   "cell_type": "code",
   "execution_count": 10,
   "metadata": {},
   "outputs": [
    {
     "name": "stdout",
     "output_type": "stream",
     "text": [
      "Epoch 01/67, Loss: 0.095406691452\n",
      "Epoch 02/67, Loss: 0.019823794509\n",
      "Epoch 03/67, Loss: 0.016199547050\n",
      "Epoch 04/67, Loss: 0.014540586037\n",
      "Epoch 05/67, Loss: 0.013943304103\n",
      "Epoch 06/67, Loss: 0.012784254850\n",
      "Epoch 07/67, Loss: 0.011174236608\n",
      "Epoch 08/67, Loss: 0.010197104354\n",
      "Epoch 09/67, Loss: 0.009690321573\n",
      "Epoch 10/67, Loss: 0.009476739954\n",
      "Epoch 11/67, Loss: 0.009113138214\n",
      "Epoch 12/67, Loss: 0.008494978525\n",
      "Epoch 13/67, Loss: 0.008064033515\n",
      "Epoch 14/67, Loss: 0.007805386359\n",
      "Epoch 15/67, Loss: 0.007687461977\n",
      "Epoch 16/67, Loss: 0.007554490406\n",
      "Epoch 17/67, Loss: 0.007228372798\n",
      "Epoch 18/67, Loss: 0.006982817376\n",
      "Epoch 19/67, Loss: 0.006823121949\n",
      "Epoch 20/67, Loss: 0.006756597572\n",
      "Epoch 21/67, Loss: 0.006709213005\n",
      "Epoch 22/67, Loss: 0.006502352655\n",
      "Epoch 23/67, Loss: 0.006345090656\n",
      "Epoch 24/67, Loss: 0.006223960304\n",
      "Epoch 25/67, Loss: 0.006158685747\n",
      "Epoch 26/67, Loss: 0.006145933576\n",
      "Epoch 27/67, Loss: 0.005998748078\n",
      "Epoch 28/67, Loss: 0.005867272416\n",
      "Epoch 29/67, Loss: 0.005766184939\n",
      "Epoch 30/67, Loss: 0.005715045730\n",
      "Epoch 31/67, Loss: 0.005724402656\n",
      "Epoch 32/67, Loss: 0.005610254511\n",
      "Epoch 33/67, Loss: 0.005498186782\n",
      "Epoch 34/67, Loss: 0.005403862806\n",
      "Epoch 35/67, Loss: 0.005347266282\n",
      "Epoch 36/67, Loss: 0.005385744130\n",
      "Epoch 37/67, Loss: 0.005284520618\n",
      "Epoch 38/67, Loss: 0.005185866785\n",
      "Epoch 39/67, Loss: 0.005086290599\n",
      "Epoch 40/67, Loss: 0.005037608920\n",
      "Epoch 41/67, Loss: 0.005089688678\n",
      "Epoch 42/67, Loss: 0.004987262814\n",
      "Epoch 43/67, Loss: 0.004900064289\n",
      "Epoch 44/67, Loss: 0.004812033458\n",
      "Epoch 45/67, Loss: 0.004765933461\n",
      "Epoch 46/67, Loss: 0.004814162610\n",
      "Epoch 47/67, Loss: 0.004734432151\n",
      "Epoch 48/67, Loss: 0.004647008537\n",
      "Epoch 49/67, Loss: 0.004562732462\n",
      "Epoch 50/67, Loss: 0.004508484595\n",
      "Epoch 51/67, Loss: 0.004571671726\n",
      "Epoch 52/67, Loss: 0.004490557562\n",
      "Epoch 53/67, Loss: 0.004400475186\n",
      "Epoch 54/67, Loss: 0.004327468103\n",
      "Epoch 55/67, Loss: 0.004269676572\n",
      "Epoch 56/67, Loss: 0.004332990685\n",
      "Epoch 57/67, Loss: 0.004261539584\n",
      "Epoch 58/67, Loss: 0.004171042642\n",
      "Epoch 59/67, Loss: 0.004100410306\n",
      "Epoch 60/67, Loss: 0.004047525960\n",
      "Epoch 61/67, Loss: 0.004129495894\n",
      "Epoch 62/67, Loss: 0.004050409426\n",
      "Epoch 63/67, Loss: 0.003961188424\n",
      "Epoch 64/67, Loss: 0.003881013382\n",
      "Epoch 65/67, Loss: 0.003829194397\n",
      "Epoch 66/67, Loss: 0.003911691958\n",
      "Epoch 67/67, Loss: 0.003833879668\n"
     ]
    }
   ],
   "source": [
    "num_epochs = 67\n",
    "for epoch in range(num_epochs):\n",
    "    running_loss = 0.0\n",
    "    for inputs, labels in train_dataloader:\n",
    "        inputs = inputs.to(device)\n",
    "        labels = labels.to(device)\n",
    "\n",
    "        optimizer.zero_grad()  # Zero the gradients\n",
    "        outputs = model(inputs)  # Forward pass\n",
    "        loss = criterion(outputs, labels)  # Compute the loss\n",
    "        loss.backward()  # Backward pass\n",
    "        optimizer.step()  # Update the weights\n",
    "\n",
    "        running_loss += loss.item()\n",
    "    \n",
    "    scheduler.step()\n",
    "\n",
    "\n",
    "    print(f\"Epoch {epoch+1:0{len(str(num_epochs))}}/{num_epochs}, Loss: {running_loss/len(train_dataloader):.12f}\")"
   ]
  },
  {
   "cell_type": "markdown",
   "metadata": {},
   "source": [
    "#### Save the model parameters for later:"
   ]
  },
  {
   "cell_type": "code",
   "execution_count": 11,
   "metadata": {},
   "outputs": [],
   "source": [
    "torch.save(model, root + \"/Saved Models/visual_baseline_model.pt\")"
   ]
  },
  {
   "cell_type": "markdown",
   "metadata": {},
   "source": [
    "#### Evaluating model:"
   ]
  },
  {
   "cell_type": "code",
   "execution_count": 12,
   "metadata": {},
   "outputs": [
    {
     "name": "stdout",
     "output_type": "stream",
     "text": [
      "mAP: 46.3114089620638\n"
     ]
    }
   ],
   "source": [
    "test_pred = model.forward(X_test.to(device))\n",
    "test_map = ev.eval_vo(test_pred[:,:600].T.cpu().detach().numpy(), y_test[:,:600].T.numpy(),600)[0].mean()\n",
    "\n",
    "print(\"mAP:\", test_map * 100)"
   ]
  },
  {
   "cell_type": "markdown",
   "metadata": {},
   "source": [
    "##### Fewshot evaluation:"
   ]
  },
  {
   "cell_type": "code",
   "execution_count": 13,
   "metadata": {},
   "outputs": [
    {
     "name": "stdout",
     "output_type": "stream",
     "text": [
      "Few@1 mAP:  23.762505674821753\n",
      "Few@5 mAP:  29.24690960020534\n",
      "Few@10 mAp:  30.463847876803058\n"
     ]
    }
   ],
   "source": [
    "one_shot_list = torch.where((0 < (y_train[:,:600] == 1).sum(dim=0)) & ((y_train[:,:600] == 1).sum(dim=0) <= 1))[0]\n",
    "few_shot_list_5 = torch.where((0 < (y_train[:,:600] == 1).sum(dim=0)) & ((y_train[:,:600] == 1).sum(dim=0) <= 5))[0]\n",
    "few_shot_list_10 = torch.where((0 < (y_train[:,:600] == 1).sum(dim=0)) & ((y_train[:,:600] == 1).sum(dim=0) <= 10))[0]\n",
    "\n",
    "one_shot_map = ev.eval_vo(test_pred[:,one_shot_list].T.cpu().detach().numpy(), y_test[:,one_shot_list].T.numpy(),len(one_shot_list))[0].mean()\n",
    "few_5_shot_map = ev.eval_vo(test_pred[:,few_shot_list_5].T.cpu().detach().numpy(), y_test[:,few_shot_list_5].T.numpy(),len(few_shot_list_5))[0].mean()\n",
    "few_10_shot_map = ev.eval_vo(test_pred[:,few_shot_list_10].T.cpu().detach().numpy(), y_test[:,few_shot_list_10].T.numpy(),len(few_shot_list_10))[0].mean()\n",
    "\n",
    "print(\"Few@1 mAP: \", one_shot_map * 100)\n",
    "print(\"Few@5 mAP: \", few_5_shot_map * 100)\n",
    "print(\"Few@10 mAp: \", few_10_shot_map * 100)"
   ]
  }
 ],
 "metadata": {
  "kernelspec": {
   "display_name": "PyTorch",
   "language": "python",
   "name": "python3"
  },
  "language_info": {
   "codemirror_mode": {
    "name": "ipython",
    "version": 3
   },
   "file_extension": ".py",
   "mimetype": "text/x-python",
   "name": "python",
   "nbconvert_exporter": "python",
   "pygments_lexer": "ipython3",
   "version": "3.10.13"
  }
 },
 "nbformat": 4,
 "nbformat_minor": 2
}
