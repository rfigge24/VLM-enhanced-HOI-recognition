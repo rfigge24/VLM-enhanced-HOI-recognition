{
 "cells": [
  {
   "cell_type": "markdown",
   "metadata": {},
   "source": [
    "# Visual Baseline model training (OverSampler, cosine scheduling, BCE loss):"
   ]
  },
  {
   "cell_type": "code",
   "execution_count": 2,
   "metadata": {},
   "outputs": [],
   "source": [
    "import sys\n",
    "root = '../../'\n",
    "sys.path.append(root)   # Done to be able to import the packages and functions\n",
    "\n",
    "import Utils.hico_evaluation.evaluation as ev\n",
    "from Utils.custom_sampler import OverSampler\n",
    "from Utils.custom_loss import MaskedBCELoss\n",
    "from Utils.annotation_preprocessing import _load_csv_to_tensor\n",
    "from Utils.train_val_split import train_val_split_hico\n",
    "from hoi_classifiers import FeedForwardNetwork\n",
    "\n",
    "import torch\n",
    "import numpy as np\n",
    "from torch.utils.data import TensorDataset, DataLoader\n",
    "import matplotlib.pyplot as plt\n",
    "\n",
    "import random"
   ]
  },
  {
   "cell_type": "code",
   "execution_count": 3,
   "metadata": {},
   "outputs": [],
   "source": [
    "seed = 42   #note that the model parameters will still be randomly initiated\n",
    "torch.manual_seed(seed)\n",
    "random.seed(seed)"
   ]
  },
  {
   "cell_type": "markdown",
   "metadata": {},
   "source": [
    "### Loading the training set:\n"
   ]
  },
  {
   "cell_type": "code",
   "execution_count": 4,
   "metadata": {},
   "outputs": [],
   "source": [
    "# Loading the data:\n",
    "train_data = torch.load(root + \"Embeddings/hico_train_center_crop.pt\")\n",
    "train_annotations = _load_csv_to_tensor(root + \"anno/added/anno_augmented_train.csv\").T # Transpose to make both first dimensions the #samples.\n",
    "train_annotations[train_annotations.isnan()] = -1"
   ]
  },
  {
   "cell_type": "markdown",
   "metadata": {},
   "source": [
    "##### Splitting the training set into a train and validation set:"
   ]
  },
  {
   "cell_type": "code",
   "execution_count": 5,
   "metadata": {},
   "outputs": [],
   "source": [
    "train_idx, validation_idx = train_val_split_hico(train_data, train_annotations, 0.2, seed)\n",
    "X_train, X_val = train_data[train_idx], train_data[validation_idx]\n",
    "y_train, y_val = train_annotations[train_idx], train_annotations[validation_idx]"
   ]
  },
  {
   "cell_type": "markdown",
   "metadata": {},
   "source": [
    "### Looking into the class distribution of the training data (before the split):"
   ]
  },
  {
   "cell_type": "code",
   "execution_count": 6,
   "metadata": {},
   "outputs": [],
   "source": [
    "class_distribution = torch.sum((train_annotations[:,:600] == 1).int(),dim=0)"
   ]
  },
  {
   "cell_type": "code",
   "execution_count": 10,
   "metadata": {},
   "outputs": [
    {
     "data": {
      "image/png": "[encoded data removed]",
      "text/plain": [
       "<Figure size 800x500 with 1 Axes>"
      ]
     },
     "metadata": {},
     "output_type": "display_data"
    }
   ],
   "source": [
    "import matplotlib.pyplot as plt\n",
    "plt.figure(figsize=(8,5))\n",
    "plt.bar(range(600),sorted(class_distribution, reverse=True),width=1, color='#5B84B1FF')\n",
    "plt.xlabel('HOI Classes')\n",
    "plt.ylabel('Number of Training Images')\n",
    "plt.plot()\n",
    "plt.savefig('lol.pdf')"
   ]
  },
  {
   "cell_type": "code",
   "execution_count": 8,
   "metadata": {},
   "outputs": [
    {
     "data": {
      "text/plain": [
       "<Figure size 640x480 with 0 Axes>"
      ]
     },
     "metadata": {},
     "output_type": "display_data"
    }
   ],
   "source": []
  },
  {
   "cell_type": "markdown",
   "metadata": {},
   "source": [
    "#### Training Preparations:"
   ]
  },
  {
   "cell_type": "code",
   "execution_count": 7,
   "metadata": {},
   "outputs": [],
   "source": [
    "train_dataset = TensorDataset(X_train, y_train)"
   ]
  },
  {
   "cell_type": "code",
   "execution_count": 8,
   "metadata": {},
   "outputs": [],
   "source": [
    "# Batch size:\n",
    "bs = 512\n",
    "\n",
    "sampler = OverSampler(y_train[:,:600], shuffle=True)\n",
    "\n",
    "train_dataloader = DataLoader(\n",
    "    train_dataset, batch_size=bs, num_workers=4, sampler=sampler)\n"
   ]
  },
  {
   "cell_type": "code",
   "execution_count": 9,
   "metadata": {},
   "outputs": [],
   "source": [
    "device = torch.device('cuda:0' if torch.cuda.is_available() else 'cpu')"
   ]
  },
  {
   "cell_type": "code",
   "execution_count": 10,
   "metadata": {},
   "outputs": [],
   "source": [
    "model = FeedForwardNetwork(512, 655, 797)\n",
    "model = model.to(device)"
   ]
  },
  {
   "cell_type": "code",
   "execution_count": 11,
   "metadata": {},
   "outputs": [
    {
     "name": "stderr",
     "output_type": "stream",
     "text": [
      "c:\\Users\\rfigg\\.conda\\envs\\PyTorch\\lib\\site-packages\\transformers\\utils\\generic.py:441: UserWarning: torch.utils._pytree._register_pytree_node is deprecated. Please use torch.utils._pytree.register_pytree_node instead.\n",
      "  _torch_pytree._register_pytree_node(\n"
     ]
    }
   ],
   "source": [
    "classweights = torch.cat((torch.ones(600),torch.ones(197)*0.5)).to(device)      # The hoi classes weigh twice as much as the seperate classes\n",
    "criterion = MaskedBCELoss(ignore_label=0, convert_target_to_01= True, weight=classweights)\n",
    "\n",
    "optimizer = torch.optim.Adam(params=model.parameters(), lr=0.0005)\n",
    "scheduler = torch.optim.lr_scheduler.CosineAnnealingWarmRestarts(optimizer, T_0=5, T_mult=1)"
   ]
  },
  {
   "cell_type": "markdown",
   "metadata": {},
   "source": [
    "#### Training loop:"
   ]
  },
  {
   "cell_type": "code",
   "execution_count": 12,
   "metadata": {},
   "outputs": [
    {
     "name": "stdout",
     "output_type": "stream",
     "text": [
      "Epoch 001/200, Loss: 0.107774304728, validation map: 0.007856350595\n",
      "Epoch 002/200, Loss: 0.021327915148, validation map: 0.038014479459\n",
      "Epoch 003/200, Loss: 0.017958033137, validation map: 0.066353222772\n",
      "Epoch 004/200, Loss: 0.016112396720, validation map: 0.079002810633\n",
      "Epoch 005/200, Loss: 0.015393961543, validation map: 0.082418465683\n",
      "Epoch 006/200, Loss: 0.014096126450, validation map: 0.120552605806\n",
      "Epoch 007/200, Loss: 0.012233661715, validation map: 0.156883592106\n",
      "Epoch 008/200, Loss: 0.011094318882, validation map: 0.181501011605\n",
      "Epoch 009/200, Loss: 0.010469895680, validation map: 0.192797066385\n",
      "Epoch 010/200, Loss: 0.010214216076, validation map: 0.196153923599\n",
      "Epoch 011/200, Loss: 0.009770377778, validation map: 0.225813107418\n",
      "Epoch 012/200, Loss: 0.009018160033, validation map: 0.247985180304\n",
      "Epoch 013/200, Loss: 0.008514927211, validation map: 0.262879066457\n",
      "Epoch 014/200, Loss: 0.008228181020, validation map: 0.270314842645\n",
      "Epoch 015/200, Loss: 0.008100632023, validation map: 0.271885351800\n",
      "Epoch 016/200, Loss: 0.007921136563, validation map: 0.290509597301\n",
      "Epoch 017/200, Loss: 0.007533021283, validation map: 0.300989570625\n",
      "Epoch 018/200, Loss: 0.007262943181, validation map: 0.308943979399\n",
      "Epoch 019/200, Loss: 0.007072068924, validation map: 0.313352238710\n",
      "Epoch 020/200, Loss: 0.006993048317, validation map: 0.315197041919\n",
      "Epoch 021/200, Loss: 0.006920737101, validation map: 0.325264685733\n",
      "Epoch 022/200, Loss: 0.006673871498, validation map: 0.330574016915\n",
      "Epoch 023/200, Loss: 0.006479589382, validation map: 0.335159122043\n",
      "Epoch 024/200, Loss: 0.006358826766, validation map: 0.336928222377\n",
      "Epoch 025/200, Loss: 0.006281056841, validation map: 0.337185267794\n",
      "Epoch 026/200, Loss: 0.006244747004, validation map: 0.342643688738\n",
      "Epoch 027/200, Loss: 0.006093139593, validation map: 0.346295953494\n",
      "Epoch 028/200, Loss: 0.005948840312, validation map: 0.349123876347\n",
      "Epoch 029/200, Loss: 0.005839676674, validation map: 0.350503300773\n",
      "Epoch 030/200, Loss: 0.005782133732, validation map: 0.350353156973\n",
      "Epoch 031/200, Loss: 0.005789575286, validation map: 0.353949256044\n",
      "Epoch 032/200, Loss: 0.005658207228, validation map: 0.357363299088\n",
      "Epoch 033/200, Loss: 0.005518854482, validation map: 0.359773206760\n",
      "Epoch 034/200, Loss: 0.005424403197, validation map: 0.361090060025\n",
      "Epoch 035/200, Loss: 0.005379232829, validation map: 0.361840752736\n",
      "Epoch 036/200, Loss: 0.005393172525, validation map: 0.365209763737\n",
      "Epoch 037/200, Loss: 0.005286358518, validation map: 0.366795832460\n",
      "Epoch 038/200, Loss: 0.005163981233, validation map: 0.370050501450\n",
      "Epoch 039/200, Loss: 0.005090626673, validation map: 0.370994905844\n",
      "Epoch 040/200, Loss: 0.005042137709, validation map: 0.371174188610\n",
      "Epoch 041/200, Loss: 0.005060030631, validation map: 0.373733796288\n",
      "Epoch 042/200, Loss: 0.004963260490, validation map: 0.375527303778\n",
      "Epoch 043/200, Loss: 0.004857762842, validation map: 0.376406523262\n",
      "Epoch 044/200, Loss: 0.004794962943, validation map: 0.376598609546\n",
      "Epoch 045/200, Loss: 0.004733951559, validation map: 0.377038905292\n",
      "Epoch 046/200, Loss: 0.004775091791, validation map: 0.377798810264\n",
      "Epoch 047/200, Loss: 0.004674077541, validation map: 0.379961678794\n",
      "Epoch 048/200, Loss: 0.004590708279, validation map: 0.379951668060\n",
      "Epoch 049/200, Loss: 0.004512967775, validation map: 0.380572881660\n",
      "Epoch 050/200, Loss: 0.004470973091, validation map: 0.381054350412\n",
      "Epoch 051/200, Loss: 0.004513766437, validation map: 0.382310721877\n",
      "Epoch 052/200, Loss: 0.004432569622, validation map: 0.382940285128\n",
      "Epoch 053/200, Loss: 0.004340652932, validation map: 0.383347344339\n",
      "Epoch 054/200, Loss: 0.004262955546, validation map: 0.384112026619\n",
      "Epoch 055/200, Loss: 0.004218642591, validation map: 0.383858499915\n",
      "Epoch 056/200, Loss: 0.004288608740, validation map: 0.385235952223\n",
      "Epoch 057/200, Loss: 0.004198538620, validation map: 0.386079375287\n",
      "Epoch 058/200, Loss: 0.004105195672, validation map: 0.386367393677\n",
      "Epoch 059/200, Loss: 0.004035328566, validation map: 0.385892753937\n",
      "Epoch 060/200, Loss: 0.003982571783, validation map: 0.385827858523\n",
      "Epoch 061/200, Loss: 0.004048384225, validation map: 0.386367718871\n",
      "Epoch 062/200, Loss: 0.003971855977, validation map: 0.386245387517\n",
      "Epoch 063/200, Loss: 0.003888826011, validation map: 0.386292737015\n",
      "Epoch 064/200, Loss: 0.003815528265, validation map: 0.386512807690\n",
      "Epoch 065/200, Loss: 0.003769609385, validation map: 0.386319376861\n",
      "Epoch 066/200, Loss: 0.003832096565, validation map: 0.385844093376\n",
      "Epoch 067/200, Loss: 0.003752467184, validation map: 0.385692123674\n",
      "Epoch 068/200, Loss: 0.003670549116, validation map: 0.386530126491\n",
      "Epoch 069/200, Loss: 0.003602836448, validation map: 0.385769258009\n",
      "Epoch 070/200, Loss: 0.003561203377, validation map: 0.385645879528\n",
      "Epoch 071/200, Loss: 0.003630635782, validation map: 0.385246847180\n",
      "Epoch 072/200, Loss: 0.003555050293, validation map: 0.384387275426\n",
      "Epoch 073/200, Loss: 0.003477071170, validation map: 0.384110554334\n",
      "Epoch 074/200, Loss: 0.003405032951, validation map: 0.384810961230\n",
      "Epoch 075/200, Loss: 0.003358107699, validation map: 0.384343332898\n",
      "Epoch 076/200, Loss: 0.003437750441, validation map: 0.383336376198\n",
      "Epoch 077/200, Loss: 0.003375638605, validation map: 0.383509391043\n",
      "Epoch 078/200, Loss: 0.003291744043, validation map: 0.382849143514\n",
      "Epoch 079/200, Loss: 0.003221546745, validation map: 0.382396539120\n",
      "Epoch 080/200, Loss: 0.003175708116, validation map: 0.382388256258\n",
      "Epoch 081/200, Loss: 0.003250318379, validation map: 0.381960463077\n",
      "Epoch 082/200, Loss: 0.003187029831, validation map: 0.381893343756\n",
      "Epoch 083/200, Loss: 0.003108770079, validation map: 0.381299763691\n",
      "Epoch 084/200, Loss: 0.003036964676, validation map: 0.380937645243\n",
      "Epoch 085/200, Loss: 0.002995405331, validation map: 0.380806857559\n",
      "Epoch 086/200, Loss: 0.003070856065, validation map: 0.381316852203\n",
      "Epoch 087/200, Loss: 0.003012144192, validation map: 0.381201162257\n",
      "Epoch 088/200, Loss: 0.002938966918, validation map: 0.380774854440\n",
      "Epoch 089/200, Loss: 0.002872209423, validation map: 0.381497549700\n",
      "Epoch 090/200, Loss: 0.002822997368, validation map: 0.381389542611\n",
      "Epoch 091/200, Loss: 0.002908643395, validation map: 0.380271871883\n",
      "Epoch 092/200, Loss: 0.002845448600, validation map: 0.381015485138\n",
      "Epoch 093/200, Loss: 0.002774177059, validation map: 0.380719050359\n",
      "Epoch 094/200, Loss: 0.002706930692, validation map: 0.380439495103\n",
      "Epoch 095/200, Loss: 0.002663147242, validation map: 0.380315923181\n",
      "Epoch 096/200, Loss: 0.002749695287, validation map: 0.380064469518\n",
      "Epoch 097/200, Loss: 0.002682337958, validation map: 0.381166241163\n",
      "Epoch 098/200, Loss: 0.002615775579, validation map: 0.380105236835\n",
      "Epoch 099/200, Loss: 0.002551717797, validation map: 0.379423474897\n",
      "Epoch 100/200, Loss: 0.002504088477, validation map: 0.379642049234\n",
      "Epoch 101/200, Loss: 0.002590768454, validation map: 0.379176852587\n",
      "Epoch 102/200, Loss: 0.002537636573, validation map: 0.379330934237\n",
      "Epoch 103/200, Loss: 0.002463723040, validation map: 0.378956335163\n",
      "Epoch 104/200, Loss: 0.002404670974, validation map: 0.379321126778\n",
      "Epoch 105/200, Loss: 0.002360280185, validation map: 0.379515936289\n",
      "Epoch 106/200, Loss: 0.002441050434, validation map: 0.378851532317\n",
      "Epoch 107/200, Loss: 0.002391610026, validation map: 0.378480497415\n",
      "Epoch 108/200, Loss: 0.002324765282, validation map: 0.378282334363\n",
      "Epoch 109/200, Loss: 0.002260841492, validation map: 0.378143821683\n",
      "Epoch 110/200, Loss: 0.002218701278, validation map: 0.378096026876\n",
      "Epoch 111/200, Loss: 0.002302227643, validation map: 0.377455255006\n",
      "Epoch 112/200, Loss: 0.002252262519, validation map: 0.376013262106\n",
      "Epoch 113/200, Loss: 0.002189271606, validation map: 0.376865471968\n",
      "Epoch 114/200, Loss: 0.002126795608, validation map: 0.376673099704\n",
      "Epoch 115/200, Loss: 0.002083691561, validation map: 0.377278842283\n",
      "Epoch 116/200, Loss: 0.002166567496, validation map: 0.376672478487\n",
      "Epoch 117/200, Loss: 0.002123106056, validation map: 0.376192941361\n",
      "Epoch 118/200, Loss: 0.002058129841, validation map: 0.375766656066\n",
      "Epoch 119/200, Loss: 0.001999131874, validation map: 0.375691985888\n",
      "Epoch 120/200, Loss: 0.001963338710, validation map: 0.376199227351\n",
      "Epoch 121/200, Loss: 0.002042698084, validation map: 0.375127855554\n",
      "Epoch 122/200, Loss: 0.001996227073, validation map: 0.375441757149\n",
      "Epoch 123/200, Loss: 0.001936957286, validation map: 0.375767499728\n",
      "Epoch 124/200, Loss: 0.001880682842, validation map: 0.376056783915\n",
      "Epoch 125/200, Loss: 0.001838641319, validation map: 0.376036870441\n",
      "Epoch 126/200, Loss: 0.001920216620, validation map: 0.375481249311\n",
      "Epoch 127/200, Loss: 0.001873998882, validation map: 0.375094726100\n",
      "Epoch 128/200, Loss: 0.001820462804, validation map: 0.374940263918\n",
      "Epoch 129/200, Loss: 0.001763033149, validation map: 0.374288480912\n",
      "Epoch 130/200, Loss: 0.001725360475, validation map: 0.374431946391\n",
      "Epoch 131/200, Loss: 0.001805955574, validation map: 0.374539279865\n",
      "Epoch 132/200, Loss: 0.001764179297, validation map: 0.373749092162\n",
      "Epoch 133/200, Loss: 0.001711795095, validation map: 0.373761096016\n",
      "Epoch 134/200, Loss: 0.001655243442, validation map: 0.373698517841\n",
      "Epoch 135/200, Loss: 0.001622744008, validation map: 0.373797622726\n",
      "Epoch 136/200, Loss: 0.001697967284, validation map: 0.374363017193\n",
      "Epoch 137/200, Loss: 0.001662510886, validation map: 0.373054847932\n",
      "Epoch 138/200, Loss: 0.001604686570, validation map: 0.373937096824\n",
      "Epoch 139/200, Loss: 0.001553899858, validation map: 0.372805171094\n",
      "Epoch 140/200, Loss: 0.001518656979, validation map: 0.372964883890\n",
      "Epoch 141/200, Loss: 0.001591209430, validation map: 0.372260273851\n",
      "Epoch 142/200, Loss: 0.001556763349, validation map: 0.372206407309\n",
      "Epoch 143/200, Loss: 0.001505092019, validation map: 0.372585119256\n",
      "Epoch 144/200, Loss: 0.001455642795, validation map: 0.372317932807\n",
      "Epoch 145/200, Loss: 0.001422108320, validation map: 0.372348592649\n",
      "Epoch 146/200, Loss: 0.001497040697, validation map: 0.372778213820\n",
      "Epoch 147/200, Loss: 0.001459680805, validation map: 0.372068522990\n",
      "Epoch 148/200, Loss: 0.001411700569, validation map: 0.371318914160\n",
      "Epoch 149/200, Loss: 0.001368014220, validation map: 0.371649096323\n",
      "Epoch 150/200, Loss: 0.001334817688, validation map: 0.371632321269\n",
      "Epoch 151/200, Loss: 0.001403525370, validation map: 0.372153142919\n",
      "Epoch 152/200, Loss: 0.001370767755, validation map: 0.372073207628\n",
      "Epoch 153/200, Loss: 0.001322102493, validation map: 0.371972389675\n",
      "Epoch 154/200, Loss: 0.001280434746, validation map: 0.372022636921\n",
      "Epoch 155/200, Loss: 0.001249589856, validation map: 0.371105003221\n",
      "Epoch 156/200, Loss: 0.001315218295, validation map: 0.370319433911\n",
      "Epoch 157/200, Loss: 0.001288540884, validation map: 0.371492905693\n",
      "Epoch 158/200, Loss: 0.001238452242, validation map: 0.370980277471\n",
      "Epoch 159/200, Loss: 0.001199173560, validation map: 0.370853956258\n",
      "Epoch 160/200, Loss: 0.001169179996, validation map: 0.370681635708\n",
      "Epoch 161/200, Loss: 0.001236631986, validation map: 0.371570886826\n",
      "Epoch 162/200, Loss: 0.001206838029, validation map: 0.371226717668\n",
      "Epoch 163/200, Loss: 0.001166685725, validation map: 0.371405230927\n",
      "Epoch 164/200, Loss: 0.001121082724, validation map: 0.371061024893\n",
      "Epoch 165/200, Loss: 0.001094436590, validation map: 0.371035896497\n",
      "Epoch 166/200, Loss: 0.001159614412, validation map: 0.370857208862\n",
      "Epoch 167/200, Loss: 0.001132624754, validation map: 0.370483850979\n",
      "Epoch 168/200, Loss: 0.001089369595, validation map: 0.370499602470\n",
      "Epoch 169/200, Loss: 0.001049009266, validation map: 0.370582814756\n",
      "Epoch 170/200, Loss: 0.001024595803, validation map: 0.370550686677\n",
      "Epoch 171/200, Loss: 0.001086597736, validation map: 0.370322190854\n",
      "Epoch 172/200, Loss: 0.001061886195, validation map: 0.370445297626\n",
      "Epoch 173/200, Loss: 0.001018778204, validation map: 0.370304144234\n",
      "Epoch 174/200, Loss: 0.000983591764, validation map: 0.369997516420\n",
      "Epoch 175/200, Loss: 0.000956796770, validation map: 0.370103963358\n",
      "Epoch 176/200, Loss: 0.001017649812, validation map: 0.370122721213\n",
      "Epoch 177/200, Loss: 0.000991419169, validation map: 0.370337542501\n",
      "Epoch 178/200, Loss: 0.000953384113, validation map: 0.370085480005\n",
      "Epoch 179/200, Loss: 0.000919350810, validation map: 0.370202499943\n",
      "Epoch 180/200, Loss: 0.000895107122, validation map: 0.370305110340\n",
      "Epoch 181/200, Loss: 0.000952273882, validation map: 0.370324911216\n",
      "Epoch 182/200, Loss: 0.000927827260, validation map: 0.370013789046\n",
      "Epoch 183/200, Loss: 0.000894366944, validation map: 0.369660513898\n",
      "Epoch 184/200, Loss: 0.000859305699, validation map: 0.369760388826\n",
      "Epoch 185/200, Loss: 0.000836332698, validation map: 0.369710229663\n",
      "Epoch 186/200, Loss: 0.000893650365, validation map: 0.369427150041\n",
      "Epoch 187/200, Loss: 0.000868826062, validation map: 0.369383128954\n",
      "Epoch 188/200, Loss: 0.000836685036, validation map: 0.369803167343\n",
      "Epoch 189/200, Loss: 0.000805629617, validation map: 0.369654523146\n",
      "Epoch 190/200, Loss: 0.000783635459, validation map: 0.369586016142\n",
      "Epoch 191/200, Loss: 0.000834948616, validation map: 0.368219594973\n",
      "Epoch 192/200, Loss: 0.000812463493, validation map: 0.369232819981\n",
      "Epoch 193/200, Loss: 0.000782172726, validation map: 0.368778698500\n",
      "Epoch 194/200, Loss: 0.000751741873, validation map: 0.368801672329\n",
      "Epoch 195/200, Loss: 0.000731542836, validation map: 0.368914509064\n",
      "Epoch 196/200, Loss: 0.000779889128, validation map: 0.368331853128\n",
      "Epoch 197/200, Loss: 0.000761385185, validation map: 0.368365113466\n",
      "Epoch 198/200, Loss: 0.000732227270, validation map: 0.367938602075\n",
      "Epoch 199/200, Loss: 0.000703322663, validation map: 0.368840585442\n",
      "Epoch 200/200, Loss: 0.000682982956, validation map: 0.368666290648\n"
     ]
    }
   ],
   "source": [
    "num_epochs = 200\n",
    "training_loss_per_epoch = np.zeros(200)\n",
    "validation_loss_per_epoch = np.zeros(200)\n",
    "validation_map_per_epoch = np.zeros(200)\n",
    "\n",
    "for epoch in range(num_epochs):\n",
    "    running_loss = 0.0\n",
    "    for inputs, labels in train_dataloader:\n",
    "        inputs = inputs.to(device)\n",
    "        labels = labels.to(device)\n",
    "\n",
    "        optimizer.zero_grad()  # Zero the gradients\n",
    "        outputs = model(inputs)  # Forward pass\n",
    "        loss = criterion(outputs, labels)  # Compute the loss\n",
    "        loss.backward()  # Backward pass\n",
    "        optimizer.step()  # Update the weights\n",
    "\n",
    "        running_loss += loss.item()\n",
    "\n",
    "    scheduler.step()\n",
    "    \n",
    "    with torch.no_grad():\n",
    "        pred = model.forward(X_val.to(device))\n",
    "        # calculate the validation loss:\n",
    "        validation_loss = criterion(pred, y_val.to(device))\n",
    "        # calculate the validation mAP:\n",
    "        validation_aps = ev.eval_vo(pred[:,:600].T.cpu().detach().numpy(), y_val[:,:600].T.numpy(),600)[0]\n",
    "        nr_val_classes = np.sum(validation_aps != None) # because for the validation set not all 600 classes are present\n",
    "        validation_map = np.nansum(validation_aps) / nr_val_classes\n",
    "\n",
    "    # add the losses and mAP to the arrays:\n",
    "    training_loss_per_epoch[epoch] = running_loss / len(train_dataloader)\n",
    "    validation_loss_per_epoch[epoch] = validation_loss\n",
    "    validation_map_per_epoch[epoch] = validation_map\n",
    "\n",
    "    print(f\"Epoch {epoch+1:0{len(str(num_epochs))}}/{num_epochs}, Loss: {running_loss/len(train_dataloader):.12f}, validation map: {validation_map:.12f}\")"
   ]
  },
  {
   "cell_type": "markdown",
   "metadata": {},
   "source": [
    "### plotting the training process to select the number of convergence"
   ]
  },
  {
   "cell_type": "code",
   "execution_count": 13,
   "metadata": {},
   "outputs": [
    {
     "data": {
      "text/plain": [
       "[]"
      ]
     },
     "execution_count": 13,
     "metadata": {},
     "output_type": "execute_result"
    },
    {
     "data": {
      "image/png": "[encoded data removed]",
      "text/plain": [
       "<Figure size 800x600 with 1 Axes>"
      ]
     },
     "metadata": {},
     "output_type": "display_data"
    }
   ],
   "source": [
    "plt.figure(figsize=(8,6))\n",
    "plt.plot(np.arange(200), training_loss_per_epoch, color = \"orange\")\n",
    "plt.plot(np.arange(200), validation_loss_per_epoch, color = \"blue\")\n",
    "# plt.plot(np.arange(100), validation_loss_main_per_epoch, color= \"red\")\n",
    "# plt.plot(np.arange(100), validation_loss_side_per_epoch, color = \"purple\")\n",
    "plt.plot(np.arange(200), validation_map_per_epoch/10, color = \"green\")\n",
    "#plt.hlines(0.010051161982119083, 0, 100 , colors=['black'],linestyles=['dotted'])\n",
    "plt.ylim(0,0.1)\n",
    "plt.plot()"
   ]
  },
  {
   "cell_type": "code",
   "execution_count": 14,
   "metadata": {},
   "outputs": [
    {
     "data": {
      "text/plain": [
       "67"
      ]
     },
     "execution_count": 14,
     "metadata": {},
     "output_type": "execute_result"
    }
   ],
   "source": [
    "np.argmax(validation_map_per_epoch)"
   ]
  },
  {
   "cell_type": "code",
   "execution_count": 15,
   "metadata": {},
   "outputs": [
    {
     "data": {
      "text/plain": [
       "49"
      ]
     },
     "execution_count": 15,
     "metadata": {},
     "output_type": "execute_result"
    }
   ],
   "source": [
    "np.argmin(validation_loss_per_epoch)"
   ]
  }
 ],
 "metadata": {
  "kernelspec": {
   "display_name": "PyTorch",
   "language": "python",
   "name": "python3"
  },
  "language_info": {
   "codemirror_mode": {
    "name": "ipython",
    "version": 3
   },
   "file_extension": ".py",
   "mimetype": "text/x-python",
   "name": "python",
   "nbconvert_exporter": "python",
   "pygments_lexer": "ipython3",
   "version": "3.10.13"
  }
 },
 "nbformat": 4,
 "nbformat_minor": 2
}
