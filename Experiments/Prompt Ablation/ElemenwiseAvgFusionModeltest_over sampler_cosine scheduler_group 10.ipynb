{
 "cells": [
  {
   "cell_type": "markdown",
   "metadata": {},
   "source": [
    "# Elementwise Average Fusion model testing (OverSampler, cosine scheduling, BCE loss):"
   ]
  },
  {
   "cell_type": "code",
   "execution_count": 1,
   "metadata": {},
   "outputs": [],
   "source": [
    "import sys\n",
    "root = '../../'\n",
    "sys.path.append(root)   # Done to be able to import the packages and functions\n",
    "\n",
    "import Utils.hico_evaluation.evaluation as ev\n",
    "from Utils.custom_sampler import OverSampler\n",
    "from Utils.custom_loss import MaskedBCELoss\n",
    "from Utils.annotation_preprocessing import _load_csv_to_tensor\n",
    "from Utils.train_val_split import train_val_split_hico\n",
    "from hoi_classifiers import ElementwiseAvgFusionModel\n",
    "\n",
    "import torch\n",
    "import numpy as np\n",
    "from torch.utils.data import TensorDataset, DataLoader\n",
    "import matplotlib.pyplot as plt\n",
    "\n",
    "import random"
   ]
  },
  {
   "cell_type": "code",
   "execution_count": 2,
   "metadata": {},
   "outputs": [],
   "source": [
    "seed = 42   #note that the model parameters will still be randomly initiated\n",
    "torch.manual_seed(seed)\n",
    "random.seed(seed)"
   ]
  },
  {
   "cell_type": "markdown",
   "metadata": {},
   "source": [
    "### Loading the training set:\n"
   ]
  },
  {
   "cell_type": "code",
   "execution_count": 3,
   "metadata": {},
   "outputs": [],
   "source": [
    "# Loading the data:\n",
    "X_train = torch.load(root + \"Embeddings/Combined_Embeddings/train.pt\")[:,(0,2,4),:]\n",
    "y_train = _load_csv_to_tensor(root + \"anno/added/anno_augmented_train.csv\").T # Transpose to make both first dimensions the #samples.\n",
    "y_train[y_train.isnan()] = -1"
   ]
  },
  {
   "cell_type": "markdown",
   "metadata": {},
   "source": [
    "### Loading the test set:"
   ]
  },
  {
   "cell_type": "code",
   "execution_count": 4,
   "metadata": {},
   "outputs": [],
   "source": [
    "X_test = torch.load(root + \"Embeddings/Combined_Embeddings/test.pt\")[:,(0,2,4),:]\n",
    "y_test = _load_csv_to_tensor(root + \"anno/added/anno_augmented_test.csv\").T # Transpose to make both first dimensions the #samples.\n",
    "y_test[y_test.isnan()] = -1"
   ]
  },
  {
   "cell_type": "markdown",
   "metadata": {},
   "source": [
    "#### Training Preparations:"
   ]
  },
  {
   "cell_type": "code",
   "execution_count": 5,
   "metadata": {},
   "outputs": [],
   "source": [
    "train_dataset = TensorDataset(X_train, y_train)"
   ]
  },
  {
   "cell_type": "code",
   "execution_count": 6,
   "metadata": {},
   "outputs": [],
   "source": [
    "# Batch size:\n",
    "bs = 512\n",
    "\n",
    "sampler = OverSampler(y_train[:,:600], shuffle=True)\n",
    "\n",
    "train_dataloader = DataLoader(\n",
    "    train_dataset, batch_size=bs, num_workers=4, sampler=sampler)\n"
   ]
  },
  {
   "cell_type": "code",
   "execution_count": 7,
   "metadata": {},
   "outputs": [],
   "source": [
    "device = torch.device('cuda:0' if torch.cuda.is_available() else 'cpu')"
   ]
  },
  {
   "cell_type": "code",
   "execution_count": 8,
   "metadata": {},
   "outputs": [],
   "source": [
    "model = ElementwiseAvgFusionModel(512,655,797)\n",
    "model = model.to(device)"
   ]
  },
  {
   "cell_type": "code",
   "execution_count": 9,
   "metadata": {},
   "outputs": [
    {
     "name": "stderr",
     "output_type": "stream",
     "text": [
      "c:\\Users\\rfigg\\.conda\\envs\\PyTorch\\lib\\site-packages\\transformers\\utils\\generic.py:441: UserWarning: torch.utils._pytree._register_pytree_node is deprecated. Please use torch.utils._pytree.register_pytree_node instead.\n",
      "  _torch_pytree._register_pytree_node(\n"
     ]
    }
   ],
   "source": [
    "classweights = torch.cat((torch.ones(600),torch.ones(197)*0.5)).to(device)      # The hoi classes weigh twice as much as the seperate classes\n",
    "criterion = MaskedBCELoss(ignore_label=0, convert_target_to_01= True, weight=classweights)\n",
    "\n",
    "optimizer = torch.optim.Adam(params=model.parameters(), lr=0.0005)\n",
    "scheduler = torch.optim.lr_scheduler.CosineAnnealingWarmRestarts(optimizer, T_0=5, T_mult=1)"
   ]
  },
  {
   "cell_type": "markdown",
   "metadata": {},
   "source": [
    "#### Training loop:"
   ]
  },
  {
   "cell_type": "code",
   "execution_count": 10,
   "metadata": {},
   "outputs": [
    {
     "name": "stdout",
     "output_type": "stream",
     "text": [
      "Epoch 001/101, Loss: 0.101243020680\n",
      "Epoch 002/101, Loss: 0.019895138383\n",
      "Epoch 003/101, Loss: 0.016385434032\n",
      "Epoch 004/101, Loss: 0.014480457631\n",
      "Epoch 005/101, Loss: 0.013815501950\n",
      "Epoch 006/101, Loss: 0.012587060957\n",
      "Epoch 007/101, Loss: 0.010850872916\n",
      "Epoch 008/101, Loss: 0.009805409381\n",
      "Epoch 009/101, Loss: 0.009276746701\n",
      "Epoch 010/101, Loss: 0.009062122932\n",
      "Epoch 011/101, Loss: 0.008710561484\n",
      "Epoch 012/101, Loss: 0.008126653588\n",
      "Epoch 013/101, Loss: 0.007730862745\n",
      "Epoch 014/101, Loss: 0.007503450858\n",
      "Epoch 015/101, Loss: 0.007382843480\n",
      "Epoch 016/101, Loss: 0.007261740550\n",
      "Epoch 017/101, Loss: 0.006966076494\n",
      "Epoch 018/101, Loss: 0.006743321195\n",
      "Epoch 019/101, Loss: 0.006600983262\n",
      "Epoch 020/101, Loss: 0.006545719916\n",
      "Epoch 021/101, Loss: 0.006485924263\n",
      "Epoch 022/101, Loss: 0.006298736316\n",
      "Epoch 023/101, Loss: 0.006159218832\n",
      "Epoch 024/101, Loss: 0.006055864234\n",
      "Epoch 025/101, Loss: 0.005998498837\n",
      "Epoch 026/101, Loss: 0.005976246383\n",
      "Epoch 027/101, Loss: 0.005844940534\n",
      "Epoch 028/101, Loss: 0.005731799763\n",
      "Epoch 029/101, Loss: 0.005643417997\n",
      "Epoch 030/101, Loss: 0.005597840759\n",
      "Epoch 031/101, Loss: 0.005601884347\n",
      "Epoch 032/101, Loss: 0.005492120741\n",
      "Epoch 033/101, Loss: 0.005404352845\n",
      "Epoch 034/101, Loss: 0.005323995979\n",
      "Epoch 035/101, Loss: 0.005284857430\n",
      "Epoch 036/101, Loss: 0.005295084273\n",
      "Epoch 037/101, Loss: 0.005205063062\n",
      "Epoch 038/101, Loss: 0.005126569476\n",
      "Epoch 039/101, Loss: 0.005050159581\n",
      "Epoch 040/101, Loss: 0.005013702314\n",
      "Epoch 041/101, Loss: 0.005046535043\n",
      "Epoch 042/101, Loss: 0.004959224826\n",
      "Epoch 043/101, Loss: 0.004886095417\n",
      "Epoch 044/101, Loss: 0.004819205757\n",
      "Epoch 045/101, Loss: 0.004790752338\n",
      "Epoch 046/101, Loss: 0.004807169739\n",
      "Epoch 047/101, Loss: 0.004742636883\n",
      "Epoch 048/101, Loss: 0.004671412807\n",
      "Epoch 049/101, Loss: 0.004615043331\n",
      "Epoch 050/101, Loss: 0.004565724018\n",
      "Epoch 051/101, Loss: 0.004606183439\n",
      "Epoch 052/101, Loss: 0.004544108630\n",
      "Epoch 053/101, Loss: 0.004473736341\n",
      "Epoch 054/101, Loss: 0.004425885760\n",
      "Epoch 055/101, Loss: 0.004382498629\n",
      "Epoch 056/101, Loss: 0.004411336160\n",
      "Epoch 057/101, Loss: 0.004363038741\n",
      "Epoch 058/101, Loss: 0.004293492565\n",
      "Epoch 059/101, Loss: 0.004238675267\n",
      "Epoch 060/101, Loss: 0.004198906288\n",
      "Epoch 061/101, Loss: 0.004253411850\n",
      "Epoch 062/101, Loss: 0.004193346704\n",
      "Epoch 063/101, Loss: 0.004122277857\n",
      "Epoch 064/101, Loss: 0.004070288714\n",
      "Epoch 065/101, Loss: 0.004038828776\n",
      "Epoch 066/101, Loss: 0.004072340425\n",
      "Epoch 067/101, Loss: 0.004017698509\n",
      "Epoch 068/101, Loss: 0.003960370900\n",
      "Epoch 069/101, Loss: 0.003911928517\n",
      "Epoch 070/101, Loss: 0.003871852174\n",
      "Epoch 071/101, Loss: 0.003924720575\n",
      "Epoch 072/101, Loss: 0.003867926158\n",
      "Epoch 073/101, Loss: 0.003810485362\n",
      "Epoch 074/101, Loss: 0.003750736989\n",
      "Epoch 075/101, Loss: 0.003726952290\n",
      "Epoch 076/101, Loss: 0.003774672076\n",
      "Epoch 077/101, Loss: 0.003720794884\n",
      "Epoch 078/101, Loss: 0.003664184316\n",
      "Epoch 079/101, Loss: 0.003616043436\n",
      "Epoch 080/101, Loss: 0.003580473507\n",
      "Epoch 081/101, Loss: 0.003634354028\n",
      "Epoch 082/101, Loss: 0.003589378951\n",
      "Epoch 083/101, Loss: 0.003522593474\n",
      "Epoch 084/101, Loss: 0.003475321201\n",
      "Epoch 085/101, Loss: 0.003432461516\n",
      "Epoch 086/101, Loss: 0.003492610675\n",
      "Epoch 087/101, Loss: 0.003444704460\n",
      "Epoch 088/101, Loss: 0.003388128187\n",
      "Epoch 089/101, Loss: 0.003345563954\n",
      "Epoch 090/101, Loss: 0.003305467319\n",
      "Epoch 091/101, Loss: 0.003371155110\n",
      "Epoch 092/101, Loss: 0.003317837793\n",
      "Epoch 093/101, Loss: 0.003265463611\n",
      "Epoch 094/101, Loss: 0.003204515270\n",
      "Epoch 095/101, Loss: 0.003173963064\n",
      "Epoch 096/101, Loss: 0.003237646754\n",
      "Epoch 097/101, Loss: 0.003192605067\n",
      "Epoch 098/101, Loss: 0.003134928175\n",
      "Epoch 099/101, Loss: 0.003084637214\n",
      "Epoch 100/101, Loss: 0.003054490252\n",
      "Epoch 101/101, Loss: 0.003120638302\n"
     ]
    }
   ],
   "source": [
    "num_epochs = 101\n",
    "for epoch in range(num_epochs):\n",
    "    running_loss = 0.0\n",
    "    for inputs, labels in train_dataloader:\n",
    "        inputs = inputs.to(device)\n",
    "        labels = labels.to(device)\n",
    "\n",
    "        optimizer.zero_grad()  # Zero the gradients\n",
    "        outputs = model(inputs)  # Forward pass\n",
    "        loss = criterion(outputs, labels)  # Compute the loss\n",
    "        loss.backward()  # Backward pass\n",
    "        optimizer.step()  # Update the weights\n",
    "\n",
    "        running_loss += loss.item()\n",
    "\n",
    "    scheduler.step()\n",
    "    \n",
    "\n",
    "    print(f\"Epoch {epoch+1:0{len(str(num_epochs))}}/{num_epochs}, Loss: {running_loss/len(train_dataloader):.12f}\")"
   ]
  },
  {
   "cell_type": "markdown",
   "metadata": {},
   "source": [
    "#### Evaluating model:"
   ]
  },
  {
   "cell_type": "code",
   "execution_count": 11,
   "metadata": {},
   "outputs": [],
   "source": [
    "test_pred = model.forward(X_test.to(device))\n",
    "test_map = ev.eval_vo(test_pred[:,:600].T.cpu().detach().numpy(), y_test[:,:600].T.numpy(),600)[0].mean()"
   ]
  },
  {
   "cell_type": "code",
   "execution_count": 12,
   "metadata": {},
   "outputs": [
    {
     "name": "stdout",
     "output_type": "stream",
     "text": [
      "54.23427713798124\n"
     ]
    }
   ],
   "source": [
    "print(test_map * 100)"
   ]
  },
  {
   "cell_type": "code",
   "execution_count": 13,
   "metadata": {},
   "outputs": [
    {
     "name": "stdout",
     "output_type": "stream",
     "text": [
      "Few@1 mAP:  34.98764533207029\n",
      "Few@5 mAP:  39.6279358024772\n",
      "Few@10 mAp:  41.425929419768075\n"
     ]
    }
   ],
   "source": [
    "one_shot_list = torch.where((0 < (y_train[:,:600] == 1).sum(dim=0)) & ((y_train[:,:600] == 1).sum(dim=0) <= 1))[0]\n",
    "few_shot_list_5 = torch.where((0 < (y_train[:,:600] == 1).sum(dim=0)) & ((y_train[:,:600] == 1).sum(dim=0) <= 5))[0]\n",
    "few_shot_list_10 = torch.where((0 < (y_train[:,:600] == 1).sum(dim=0)) & ((y_train[:,:600] == 1).sum(dim=0) <= 10))[0]\n",
    "\n",
    "one_shot_map = ev.eval_vo(test_pred[:,one_shot_list].T.cpu().detach().numpy(), y_test[:,one_shot_list].T.numpy(),len(one_shot_list))[0].mean()\n",
    "few_5_shot_map = ev.eval_vo(test_pred[:,few_shot_list_5].T.cpu().detach().numpy(), y_test[:,few_shot_list_5].T.numpy(),len(few_shot_list_5))[0].mean()\n",
    "few_10_shot_map = ev.eval_vo(test_pred[:,few_shot_list_10].T.cpu().detach().numpy(), y_test[:,few_shot_list_10].T.numpy(),len(few_shot_list_10))[0].mean()\n",
    "\n",
    "print(\"Few@1 mAP: \", one_shot_map * 100)\n",
    "print(\"Few@5 mAP: \", few_5_shot_map * 100)\n",
    "print(\"Few@10 mAp: \", few_10_shot_map * 100)"
   ]
  },
  {
   "cell_type": "code",
   "execution_count": 14,
   "metadata": {},
   "outputs": [
    {
     "data": {
      "text/plain": [
       "[]"
      ]
     },
     "execution_count": 14,
     "metadata": {},
     "output_type": "execute_result"
    },
    {
     "data": {
      "image/png": "[encoded data removed]",
      "text/plain": [
       "<Figure size 800x500 with 1 Axes>"
      ]
     },
     "metadata": {},
     "output_type": "display_data"
    }
   ],
   "source": [
    "indices = torch.sum((y_train[:,:600] == 1).int(), dim = 0).sort().indices\n",
    "test_aps = ev.eval_vo(test_pred[:,:600].T.cpu().detach().numpy(), y_test[:,:600].T.numpy(),600)[0]\n",
    "\n",
    "plt.figure(figsize=(8,5))\n",
    "plt.bar(range(600),test_aps[indices],width=1)\n",
    "plt.scatter(range(600),torch.sum(y_train == 1, dim = 0)[indices] / 1500,s = 2,color = \"red\")\n",
    "plt.xlabel('HOI Classes')\n",
    "plt.ylabel('Number of Training Images')\n",
    "plt.plot()"
   ]
  },
  {
   "cell_type": "code",
   "execution_count": null,
   "metadata": {},
   "outputs": [],
   "source": []
  }
 ],
 "metadata": {
  "kernelspec": {
   "display_name": "PyTorch",
   "language": "python",
   "name": "python3"
  },
  "language_info": {
   "codemirror_mode": {
    "name": "ipython",
    "version": 3
   },
   "file_extension": ".py",
   "mimetype": "text/x-python",
   "name": "python",
   "nbconvert_exporter": "python",
   "pygments_lexer": "ipython3",
   "version": "3.10.13"
  }
 },
 "nbformat": 4,
 "nbformat_minor": 2
}
