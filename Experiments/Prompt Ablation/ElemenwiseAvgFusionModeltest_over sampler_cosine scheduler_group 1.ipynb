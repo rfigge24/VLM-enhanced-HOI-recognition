{
 "cells": [
  {
   "cell_type": "markdown",
   "metadata": {},
   "source": [
    "# Elementwise Average Fusion model testing (OverSampler, cosine scheduling, BCE loss):"
   ]
  },
  {
   "cell_type": "code",
   "execution_count": 41,
   "metadata": {},
   "outputs": [],
   "source": [
    "import sys\n",
    "root = '../../'\n",
    "sys.path.append(root)   # Done to be able to import the packages and functions\n",
    "\n",
    "import Utils.hico_evaluation.evaluation as ev\n",
    "from Utils.custom_sampler import OverSampler\n",
    "from Utils.custom_loss import MaskedBCELoss\n",
    "from Utils.annotation_preprocessing import _load_csv_to_tensor\n",
    "from Utils.train_val_split import train_val_split_hico\n",
    "from hoi_classifiers import ElementwiseAvgFusionModel\n",
    "\n",
    "import torch\n",
    "import numpy as np\n",
    "from torch.utils.data import TensorDataset, DataLoader\n",
    "import matplotlib.pyplot as plt\n",
    "\n",
    "import random"
   ]
  },
  {
   "cell_type": "code",
   "execution_count": 42,
   "metadata": {},
   "outputs": [],
   "source": [
    "seed = 42   #note that the model parameters will still be randomly initiated\n",
    "torch.manual_seed(seed)\n",
    "random.seed(seed)"
   ]
  },
  {
   "cell_type": "markdown",
   "metadata": {},
   "source": [
    "### Loading the training set:\n"
   ]
  },
  {
   "cell_type": "code",
   "execution_count": 43,
   "metadata": {},
   "outputs": [],
   "source": [
    "# Loading the data:\n",
    "X_train = torch.load(root + \"Embeddings/Combined_Embeddings/train.pt\")[:,None,0,:]\n",
    "y_train = _load_csv_to_tensor(root + \"anno/added/anno_augmented_train.csv\").T # Transpose to make both first dimensions the #samples.\n",
    "y_train[y_train.isnan()] = -1"
   ]
  },
  {
   "cell_type": "markdown",
   "metadata": {},
   "source": [
    "### Loading the test set:"
   ]
  },
  {
   "cell_type": "code",
   "execution_count": 44,
   "metadata": {},
   "outputs": [],
   "source": [
    "X_test = torch.load(root + \"Embeddings/Combined_Embeddings/test.pt\")[:,None,0,:]\n",
    "y_test = _load_csv_to_tensor(root + \"anno/added/anno_augmented_test.csv\").T # Transpose to make both first dimensions the #samples.\n",
    "y_test[y_test.isnan()] = -1"
   ]
  },
  {
   "cell_type": "markdown",
   "metadata": {},
   "source": [
    "#### Training Preparations:"
   ]
  },
  {
   "cell_type": "code",
   "execution_count": 45,
   "metadata": {},
   "outputs": [],
   "source": [
    "train_dataset = TensorDataset(X_train, y_train)"
   ]
  },
  {
   "cell_type": "code",
   "execution_count": 46,
   "metadata": {},
   "outputs": [],
   "source": [
    "# Batch size:\n",
    "bs = 512\n",
    "\n",
    "sampler = OverSampler(y_train[:,:600], shuffle=True)\n",
    "\n",
    "train_dataloader = DataLoader(\n",
    "    train_dataset, batch_size=bs, num_workers=4, sampler=sampler)\n"
   ]
  },
  {
   "cell_type": "code",
   "execution_count": 47,
   "metadata": {},
   "outputs": [],
   "source": [
    "device = torch.device('cuda:0' if torch.cuda.is_available() else 'cpu')"
   ]
  },
  {
   "cell_type": "code",
   "execution_count": 48,
   "metadata": {},
   "outputs": [],
   "source": [
    "model = ElementwiseAvgFusionModel(512,655,797)\n",
    "model = model.to(device)"
   ]
  },
  {
   "cell_type": "code",
   "execution_count": 49,
   "metadata": {},
   "outputs": [],
   "source": [
    "classweights = torch.cat((torch.ones(600),torch.ones(197)*0.5)).to(device)      # The hoi classes weigh twice as much as the seperate classes\n",
    "criterion = MaskedBCELoss(ignore_label=0, convert_target_to_01= True, weight=classweights)\n",
    "\n",
    "optimizer = torch.optim.Adam(params=model.parameters(), lr=0.0005)\n",
    "scheduler = torch.optim.lr_scheduler.CosineAnnealingWarmRestarts(optimizer, T_0=5, T_mult=1)"
   ]
  },
  {
   "cell_type": "markdown",
   "metadata": {},
   "source": [
    "#### Training loop:"
   ]
  },
  {
   "cell_type": "code",
   "execution_count": 50,
   "metadata": {},
   "outputs": [
    {
     "name": "stdout",
     "output_type": "stream",
     "text": [
      "Epoch 001/101, Loss: 0.095406691452\n",
      "Epoch 002/101, Loss: 0.019823794509\n",
      "Epoch 003/101, Loss: 0.016199547050\n",
      "Epoch 004/101, Loss: 0.014540586037\n",
      "Epoch 005/101, Loss: 0.013943304103\n",
      "Epoch 006/101, Loss: 0.012784254850\n",
      "Epoch 007/101, Loss: 0.011174236608\n",
      "Epoch 008/101, Loss: 0.010197104354\n",
      "Epoch 009/101, Loss: 0.009690321573\n",
      "Epoch 010/101, Loss: 0.009476739954\n",
      "Epoch 011/101, Loss: 0.009113138214\n",
      "Epoch 012/101, Loss: 0.008494978525\n",
      "Epoch 013/101, Loss: 0.008064033515\n",
      "Epoch 014/101, Loss: 0.007805386359\n",
      "Epoch 015/101, Loss: 0.007687461977\n",
      "Epoch 016/101, Loss: 0.007554490406\n",
      "Epoch 017/101, Loss: 0.007228372798\n",
      "Epoch 018/101, Loss: 0.006982817376\n",
      "Epoch 019/101, Loss: 0.006823121949\n",
      "Epoch 020/101, Loss: 0.006756597572\n",
      "Epoch 021/101, Loss: 0.006709213005\n",
      "Epoch 022/101, Loss: 0.006502352655\n",
      "Epoch 023/101, Loss: 0.006345090656\n",
      "Epoch 024/101, Loss: 0.006223960304\n",
      "Epoch 025/101, Loss: 0.006158685747\n",
      "Epoch 026/101, Loss: 0.006145933576\n",
      "Epoch 027/101, Loss: 0.005998748078\n",
      "Epoch 028/101, Loss: 0.005867272416\n",
      "Epoch 029/101, Loss: 0.005766184939\n",
      "Epoch 030/101, Loss: 0.005715045730\n",
      "Epoch 031/101, Loss: 0.005724402656\n",
      "Epoch 032/101, Loss: 0.005610254511\n",
      "Epoch 033/101, Loss: 0.005498186782\n",
      "Epoch 034/101, Loss: 0.005403862806\n",
      "Epoch 035/101, Loss: 0.005347266282\n",
      "Epoch 036/101, Loss: 0.005385744130\n",
      "Epoch 037/101, Loss: 0.005284520618\n",
      "Epoch 038/101, Loss: 0.005185866785\n",
      "Epoch 039/101, Loss: 0.005086290599\n",
      "Epoch 040/101, Loss: 0.005037608920\n",
      "Epoch 041/101, Loss: 0.005089688678\n",
      "Epoch 042/101, Loss: 0.004987262814\n",
      "Epoch 043/101, Loss: 0.004900064289\n",
      "Epoch 044/101, Loss: 0.004812033458\n",
      "Epoch 045/101, Loss: 0.004765933461\n",
      "Epoch 046/101, Loss: 0.004814162610\n",
      "Epoch 047/101, Loss: 0.004734432151\n",
      "Epoch 048/101, Loss: 0.004647008537\n",
      "Epoch 049/101, Loss: 0.004562732462\n",
      "Epoch 050/101, Loss: 0.004508484595\n",
      "Epoch 051/101, Loss: 0.004571671726\n",
      "Epoch 052/101, Loss: 0.004490557562\n",
      "Epoch 053/101, Loss: 0.004400475186\n",
      "Epoch 054/101, Loss: 0.004327468103\n",
      "Epoch 055/101, Loss: 0.004269676572\n",
      "Epoch 056/101, Loss: 0.004332990685\n",
      "Epoch 057/101, Loss: 0.004261539584\n",
      "Epoch 058/101, Loss: 0.004171042642\n",
      "Epoch 059/101, Loss: 0.004100410306\n",
      "Epoch 060/101, Loss: 0.004047525960\n",
      "Epoch 061/101, Loss: 0.004129495894\n",
      "Epoch 062/101, Loss: 0.004050409426\n",
      "Epoch 063/101, Loss: 0.003961188424\n",
      "Epoch 064/101, Loss: 0.003881013382\n",
      "Epoch 065/101, Loss: 0.003829194397\n",
      "Epoch 066/101, Loss: 0.003911691958\n",
      "Epoch 067/101, Loss: 0.003833879668\n",
      "Epoch 068/101, Loss: 0.003752871642\n",
      "Epoch 069/101, Loss: 0.003679310284\n",
      "Epoch 070/101, Loss: 0.003630028518\n",
      "Epoch 071/101, Loss: 0.003712336750\n",
      "Epoch 072/101, Loss: 0.003641143551\n",
      "Epoch 073/101, Loss: 0.003561520931\n",
      "Epoch 074/101, Loss: 0.003479826397\n",
      "Epoch 075/101, Loss: 0.003437899624\n",
      "Epoch 076/101, Loss: 0.003525014621\n",
      "Epoch 077/101, Loss: 0.003455096285\n",
      "Epoch 078/101, Loss: 0.003373012274\n",
      "Epoch 079/101, Loss: 0.003299775966\n",
      "Epoch 080/101, Loss: 0.003249838147\n",
      "Epoch 081/101, Loss: 0.003340158097\n",
      "Epoch 082/101, Loss: 0.003275124676\n",
      "Epoch 083/101, Loss: 0.003193036512\n",
      "Epoch 084/101, Loss: 0.003118470767\n",
      "Epoch 085/101, Loss: 0.003067492397\n",
      "Epoch 086/101, Loss: 0.003162151579\n",
      "Epoch 087/101, Loss: 0.003098138836\n",
      "Epoch 088/101, Loss: 0.003021862227\n",
      "Epoch 089/101, Loss: 0.002951974233\n",
      "Epoch 090/101, Loss: 0.002900774312\n",
      "Epoch 091/101, Loss: 0.002992078762\n",
      "Epoch 092/101, Loss: 0.002936806765\n",
      "Epoch 093/101, Loss: 0.002859949495\n",
      "Epoch 094/101, Loss: 0.002786409519\n",
      "Epoch 095/101, Loss: 0.002735886137\n",
      "Epoch 096/101, Loss: 0.002831998847\n",
      "Epoch 097/101, Loss: 0.002778875928\n",
      "Epoch 098/101, Loss: 0.002704092012\n",
      "Epoch 099/101, Loss: 0.002628989185\n",
      "Epoch 100/101, Loss: 0.002582164942\n",
      "Epoch 101/101, Loss: 0.002678426719\n"
     ]
    }
   ],
   "source": [
    "num_epochs = 101\n",
    "for epoch in range(num_epochs):\n",
    "    running_loss = 0.0\n",
    "    for inputs, labels in train_dataloader:\n",
    "        inputs = inputs.to(device)\n",
    "        labels = labels.to(device)\n",
    "\n",
    "        optimizer.zero_grad()  # Zero the gradients\n",
    "        outputs = model(inputs)  # Forward pass\n",
    "        loss = criterion(outputs, labels)  # Compute the loss\n",
    "        loss.backward()  # Backward pass\n",
    "        optimizer.step()  # Update the weights\n",
    "\n",
    "        running_loss += loss.item()\n",
    "\n",
    "    scheduler.step()\n",
    "    \n",
    "\n",
    "    print(f\"Epoch {epoch+1:0{len(str(num_epochs))}}/{num_epochs}, Loss: {running_loss/len(train_dataloader):.12f}\")"
   ]
  },
  {
   "cell_type": "markdown",
   "metadata": {},
   "source": [
    "#### Evaluating model:"
   ]
  },
  {
   "cell_type": "code",
   "execution_count": 51,
   "metadata": {},
   "outputs": [],
   "source": [
    "test_pred = model.forward(X_test.to(device))\n",
    "test_map = ev.eval_vo(test_pred[:,:600].T.cpu().detach().numpy(), y_test[:,:600].T.numpy(),600)[0].mean()"
   ]
  },
  {
   "cell_type": "code",
   "execution_count": 52,
   "metadata": {},
   "outputs": [
    {
     "name": "stdout",
     "output_type": "stream",
     "text": [
      "45.27550071761386\n"
     ]
    }
   ],
   "source": [
    "print(test_map * 100)"
   ]
  },
  {
   "cell_type": "code",
   "execution_count": 53,
   "metadata": {},
   "outputs": [
    {
     "name": "stdout",
     "output_type": "stream",
     "text": [
      "Few@1 mAP:  23.793338673200495\n",
      "Few@5 mAP:  29.232442326353286\n",
      "Few@10 mAp:  30.1905287226288\n"
     ]
    }
   ],
   "source": [
    "one_shot_list = torch.where((0 < (y_train[:,:600] == 1).sum(dim=0)) & ((y_train[:,:600] == 1).sum(dim=0) <= 1))[0]\n",
    "few_shot_list_5 = torch.where((0 < (y_train[:,:600] == 1).sum(dim=0)) & ((y_train[:,:600] == 1).sum(dim=0) <= 5))[0]\n",
    "few_shot_list_10 = torch.where((0 < (y_train[:,:600] == 1).sum(dim=0)) & ((y_train[:,:600] == 1).sum(dim=0) <= 10))[0]\n",
    "\n",
    "one_shot_map = ev.eval_vo(test_pred[:,one_shot_list].T.cpu().detach().numpy(), y_test[:,one_shot_list].T.numpy(),len(one_shot_list))[0].mean()\n",
    "few_5_shot_map = ev.eval_vo(test_pred[:,few_shot_list_5].T.cpu().detach().numpy(), y_test[:,few_shot_list_5].T.numpy(),len(few_shot_list_5))[0].mean()\n",
    "few_10_shot_map = ev.eval_vo(test_pred[:,few_shot_list_10].T.cpu().detach().numpy(), y_test[:,few_shot_list_10].T.numpy(),len(few_shot_list_10))[0].mean()\n",
    "\n",
    "print(\"Few@1 mAP: \", one_shot_map * 100)\n",
    "print(\"Few@5 mAP: \", few_5_shot_map * 100)\n",
    "print(\"Few@10 mAp: \", few_10_shot_map * 100)"
   ]
  },
  {
   "cell_type": "code",
   "execution_count": 54,
   "metadata": {},
   "outputs": [
    {
     "data": {
      "text/plain": [
       "[]"
      ]
     },
     "execution_count": 54,
     "metadata": {},
     "output_type": "execute_result"
    },
    {
     "data": {
      "image/png": "[encoded data removed]",
      "text/plain": [
       "<Figure size 800x500 with 1 Axes>"
      ]
     },
     "metadata": {},
     "output_type": "display_data"
    }
   ],
   "source": [
    "indices = torch.sum((y_train[:,:600] == 1).int(), dim = 0).sort().indices\n",
    "test_aps = ev.eval_vo(test_pred[:,:600].T.cpu().detach().numpy(), y_test[:,:600].T.numpy(),600)[0]\n",
    "\n",
    "plt.figure(figsize=(8,5))\n",
    "plt.bar(range(600),test_aps[indices],width=1)\n",
    "plt.scatter(range(600),torch.sum(y_train == 1, dim = 0)[indices] / 1500,s = 2,color = \"red\")\n",
    "plt.xlabel('HOI Classes')\n",
    "plt.ylabel('Number of Training Images')\n",
    "plt.plot()"
   ]
  },
  {
   "cell_type": "code",
   "execution_count": null,
   "metadata": {},
   "outputs": [],
   "source": []
  }
 ],
 "metadata": {
  "kernelspec": {
   "display_name": "PyTorch",
   "language": "python",
   "name": "python3"
  },
  "language_info": {
   "codemirror_mode": {
    "name": "ipython",
    "version": 3
   },
   "file_extension": ".py",
   "mimetype": "text/x-python",
   "name": "python",
   "nbconvert_exporter": "python",
   "pygments_lexer": "ipython3",
   "version": "3.10.13"
  }
 },
 "nbformat": 4,
 "nbformat_minor": 2
}
