{
 "cells": [
  {
   "cell_type": "markdown",
   "metadata": {},
   "source": [
    "# Elementwise Average Fusion model testing (OverSampler, cosine scheduling, BCE loss):"
   ]
  },
  {
   "cell_type": "code",
   "execution_count": 1,
   "metadata": {},
   "outputs": [],
   "source": [
    "import sys\n",
    "root = '../../'\n",
    "sys.path.append(root)   # Done to be able to import the packages and functions\n",
    "\n",
    "import Utils.hico_evaluation.evaluation as ev\n",
    "from Utils.custom_sampler import OverSampler\n",
    "from Utils.custom_loss import MaskedBCELoss\n",
    "from Utils.annotation_preprocessing import _load_csv_to_tensor\n",
    "from Utils.train_val_split import train_val_split_hico\n",
    "from hoi_classifiers import ElementwiseAvgFusionModel\n",
    "\n",
    "import torch\n",
    "import numpy as np\n",
    "from torch.utils.data import TensorDataset, DataLoader\n",
    "import matplotlib.pyplot as plt\n",
    "\n",
    "import random"
   ]
  },
  {
   "cell_type": "code",
   "execution_count": 2,
   "metadata": {},
   "outputs": [],
   "source": [
    "seed = 42   #note that the model parameters will still be randomly initiated\n",
    "torch.manual_seed(seed)\n",
    "random.seed(seed)"
   ]
  },
  {
   "cell_type": "markdown",
   "metadata": {},
   "source": [
    "### Loading the training set:\n"
   ]
  },
  {
   "cell_type": "code",
   "execution_count": 3,
   "metadata": {},
   "outputs": [],
   "source": [
    "# Loading the data:\n",
    "X_train = torch.load(root + \"Embeddings/Combined_Embeddings/train.pt\")[:,(0,1,3),:]\n",
    "y_train = _load_csv_to_tensor(root + \"anno/added/anno_augmented_train.csv\").T # Transpose to make both first dimensions the #samples.\n",
    "y_train[y_train.isnan()] = -1"
   ]
  },
  {
   "cell_type": "markdown",
   "metadata": {},
   "source": [
    "### Loading the test set:"
   ]
  },
  {
   "cell_type": "code",
   "execution_count": 4,
   "metadata": {},
   "outputs": [],
   "source": [
    "X_test = torch.load(root + \"Embeddings/Combined_Embeddings/test.pt\")[:,(0,1,3),:]\n",
    "y_test = _load_csv_to_tensor(root + \"anno/added/anno_augmented_test.csv\").T # Transpose to make both first dimensions the #samples.\n",
    "y_test[y_test.isnan()] = -1"
   ]
  },
  {
   "cell_type": "markdown",
   "metadata": {},
   "source": [
    "#### Training Preparations:"
   ]
  },
  {
   "cell_type": "code",
   "execution_count": 5,
   "metadata": {},
   "outputs": [],
   "source": [
    "train_dataset = TensorDataset(X_train, y_train)"
   ]
  },
  {
   "cell_type": "code",
   "execution_count": 6,
   "metadata": {},
   "outputs": [],
   "source": [
    "# Batch size:\n",
    "bs = 512\n",
    "\n",
    "sampler = OverSampler(y_train[:,:600], shuffle=True)\n",
    "\n",
    "train_dataloader = DataLoader(\n",
    "    train_dataset, batch_size=bs, num_workers=4, sampler=sampler)\n"
   ]
  },
  {
   "cell_type": "code",
   "execution_count": 7,
   "metadata": {},
   "outputs": [],
   "source": [
    "device = torch.device('cuda:0' if torch.cuda.is_available() else 'cpu')"
   ]
  },
  {
   "cell_type": "code",
   "execution_count": 8,
   "metadata": {},
   "outputs": [],
   "source": [
    "model = ElementwiseAvgFusionModel(512,655,797)\n",
    "model = model.to(device)"
   ]
  },
  {
   "cell_type": "code",
   "execution_count": 9,
   "metadata": {},
   "outputs": [
    {
     "name": "stderr",
     "output_type": "stream",
     "text": [
      "c:\\Users\\rfigg\\.conda\\envs\\PyTorch\\lib\\site-packages\\transformers\\utils\\generic.py:441: UserWarning: torch.utils._pytree._register_pytree_node is deprecated. Please use torch.utils._pytree.register_pytree_node instead.\n",
      "  _torch_pytree._register_pytree_node(\n"
     ]
    }
   ],
   "source": [
    "classweights = torch.cat((torch.ones(600),torch.ones(197)*0.5)).to(device)      # The hoi classes weigh twice as much as the seperate classes\n",
    "criterion = MaskedBCELoss(ignore_label=0, convert_target_to_01= True, weight=classweights)\n",
    "\n",
    "optimizer = torch.optim.Adam(params=model.parameters(), lr=0.0005)\n",
    "scheduler = torch.optim.lr_scheduler.CosineAnnealingWarmRestarts(optimizer, T_0=5, T_mult=1)"
   ]
  },
  {
   "cell_type": "markdown",
   "metadata": {},
   "source": [
    "#### Training loop:"
   ]
  },
  {
   "cell_type": "code",
   "execution_count": 10,
   "metadata": {},
   "outputs": [
    {
     "name": "stdout",
     "output_type": "stream",
     "text": [
      "Epoch 001/101, Loss: 0.099886294393\n",
      "Epoch 002/101, Loss: 0.019213288429\n",
      "Epoch 003/101, Loss: 0.015557511403\n",
      "Epoch 004/101, Loss: 0.013691951275\n",
      "Epoch 005/101, Loss: 0.013035002390\n",
      "Epoch 006/101, Loss: 0.011752083263\n",
      "Epoch 007/101, Loss: 0.009963906575\n",
      "Epoch 008/101, Loss: 0.008995157257\n",
      "Epoch 009/101, Loss: 0.008528404593\n",
      "Epoch 010/101, Loss: 0.008340455648\n",
      "Epoch 011/101, Loss: 0.008034668725\n",
      "Epoch 012/101, Loss: 0.007531567533\n",
      "Epoch 013/101, Loss: 0.007185670225\n",
      "Epoch 014/101, Loss: 0.006978433088\n",
      "Epoch 015/101, Loss: 0.006880443451\n",
      "Epoch 016/101, Loss: 0.006781259204\n",
      "Epoch 017/101, Loss: 0.006542084329\n",
      "Epoch 018/101, Loss: 0.006348056084\n",
      "Epoch 019/101, Loss: 0.006225667408\n",
      "Epoch 020/101, Loss: 0.006176996940\n",
      "Epoch 021/101, Loss: 0.006131728697\n",
      "Epoch 022/101, Loss: 0.005975916757\n",
      "Epoch 023/101, Loss: 0.005858786506\n",
      "Epoch 024/101, Loss: 0.005764370533\n",
      "Epoch 025/101, Loss: 0.005715215891\n",
      "Epoch 026/101, Loss: 0.005697440295\n",
      "Epoch 027/101, Loss: 0.005590502040\n",
      "Epoch 028/101, Loss: 0.005483830614\n",
      "Epoch 029/101, Loss: 0.005409589605\n",
      "Epoch 030/101, Loss: 0.005362335316\n",
      "Epoch 031/101, Loss: 0.005376019377\n",
      "Epoch 032/101, Loss: 0.005280101022\n",
      "Epoch 033/101, Loss: 0.005199387823\n",
      "Epoch 034/101, Loss: 0.005125061189\n",
      "Epoch 035/101, Loss: 0.005083510371\n",
      "Epoch 036/101, Loss: 0.005102900102\n",
      "Epoch 037/101, Loss: 0.005023158570\n",
      "Epoch 038/101, Loss: 0.004945043899\n",
      "Epoch 039/101, Loss: 0.004874082088\n",
      "Epoch 040/101, Loss: 0.004840499164\n",
      "Epoch 041/101, Loss: 0.004877510378\n",
      "Epoch 042/101, Loss: 0.004793611662\n",
      "Epoch 043/101, Loss: 0.004735258607\n",
      "Epoch 044/101, Loss: 0.004664963551\n",
      "Epoch 045/101, Loss: 0.004636651877\n",
      "Epoch 046/101, Loss: 0.004663569489\n",
      "Epoch 047/101, Loss: 0.004604350167\n",
      "Epoch 048/101, Loss: 0.004535173690\n",
      "Epoch 049/101, Loss: 0.004477231103\n",
      "Epoch 050/101, Loss: 0.004432067311\n",
      "Epoch 051/101, Loss: 0.004476537140\n",
      "Epoch 052/101, Loss: 0.004418267961\n",
      "Epoch 053/101, Loss: 0.004349406312\n",
      "Epoch 054/101, Loss: 0.004304259437\n",
      "Epoch 055/101, Loss: 0.004261444469\n",
      "Epoch 056/101, Loss: 0.004296576934\n",
      "Epoch 057/101, Loss: 0.004254944008\n",
      "Epoch 058/101, Loss: 0.004180438791\n",
      "Epoch 059/101, Loss: 0.004134214084\n",
      "Epoch 060/101, Loss: 0.004097639982\n",
      "Epoch 061/101, Loss: 0.004151531876\n",
      "Epoch 062/101, Loss: 0.004093272535\n",
      "Epoch 063/101, Loss: 0.004030667790\n",
      "Epoch 064/101, Loss: 0.003973157882\n",
      "Epoch 065/101, Loss: 0.003944920790\n",
      "Epoch 066/101, Loss: 0.003986729532\n",
      "Epoch 067/101, Loss: 0.003927303977\n",
      "Epoch 068/101, Loss: 0.003875636247\n",
      "Epoch 069/101, Loss: 0.003828425500\n",
      "Epoch 070/101, Loss: 0.003788103682\n",
      "Epoch 071/101, Loss: 0.003839919878\n",
      "Epoch 072/101, Loss: 0.003794903314\n",
      "Epoch 073/101, Loss: 0.003737298611\n",
      "Epoch 074/101, Loss: 0.003677415784\n",
      "Epoch 075/101, Loss: 0.003657000659\n",
      "Epoch 076/101, Loss: 0.003707292349\n",
      "Epoch 077/101, Loss: 0.003654417692\n",
      "Epoch 078/101, Loss: 0.003598673420\n",
      "Epoch 079/101, Loss: 0.003551756162\n",
      "Epoch 080/101, Loss: 0.003517985638\n",
      "Epoch 081/101, Loss: 0.003571474426\n",
      "Epoch 082/101, Loss: 0.003531524558\n",
      "Epoch 083/101, Loss: 0.003465740294\n",
      "Epoch 084/101, Loss: 0.003425128008\n",
      "Epoch 085/101, Loss: 0.003378672392\n",
      "Epoch 086/101, Loss: 0.003441988109\n",
      "Epoch 087/101, Loss: 0.003396744735\n",
      "Epoch 088/101, Loss: 0.003343049803\n",
      "Epoch 089/101, Loss: 0.003298886243\n",
      "Epoch 090/101, Loss: 0.003261049132\n",
      "Epoch 091/101, Loss: 0.003323470227\n",
      "Epoch 092/101, Loss: 0.003278860244\n",
      "Epoch 093/101, Loss: 0.003226966088\n",
      "Epoch 094/101, Loss: 0.003170852562\n",
      "Epoch 095/101, Loss: 0.003138285552\n",
      "Epoch 096/101, Loss: 0.003204455896\n",
      "Epoch 097/101, Loss: 0.003160063111\n",
      "Epoch 098/101, Loss: 0.003103502315\n",
      "Epoch 099/101, Loss: 0.003054164327\n",
      "Epoch 100/101, Loss: 0.003022549899\n",
      "Epoch 101/101, Loss: 0.003085035943\n"
     ]
    }
   ],
   "source": [
    "num_epochs = 101\n",
    "for epoch in range(num_epochs):\n",
    "    running_loss = 0.0\n",
    "    for inputs, labels in train_dataloader:\n",
    "        inputs = inputs.to(device)\n",
    "        labels = labels.to(device)\n",
    "\n",
    "        optimizer.zero_grad()  # Zero the gradients\n",
    "        outputs = model(inputs)  # Forward pass\n",
    "        loss = criterion(outputs, labels)  # Compute the loss\n",
    "        loss.backward()  # Backward pass\n",
    "        optimizer.step()  # Update the weights\n",
    "\n",
    "        running_loss += loss.item()\n",
    "\n",
    "    scheduler.step()\n",
    "    \n",
    "\n",
    "    print(f\"Epoch {epoch+1:0{len(str(num_epochs))}}/{num_epochs}, Loss: {running_loss/len(train_dataloader):.12f}\")"
   ]
  },
  {
   "cell_type": "markdown",
   "metadata": {},
   "source": [
    "#### Evaluating model:"
   ]
  },
  {
   "cell_type": "code",
   "execution_count": 11,
   "metadata": {},
   "outputs": [],
   "source": [
    "test_pred = model.forward(X_test.to(device))\n",
    "test_map = ev.eval_vo(test_pred[:,:600].T.cpu().detach().numpy(), y_test[:,:600].T.numpy(),600)[0].mean()"
   ]
  },
  {
   "cell_type": "code",
   "execution_count": 12,
   "metadata": {},
   "outputs": [
    {
     "name": "stdout",
     "output_type": "stream",
     "text": [
      "57.86108703569087\n"
     ]
    }
   ],
   "source": [
    "print(test_map * 100)"
   ]
  },
  {
   "cell_type": "code",
   "execution_count": 13,
   "metadata": {},
   "outputs": [
    {
     "name": "stdout",
     "output_type": "stream",
     "text": [
      "Few@1 mAP:  37.7948216747633\n",
      "Few@5 mAP:  43.730169277333225\n",
      "Few@10 mAp:  45.55347863127421\n"
     ]
    }
   ],
   "source": [
    "one_shot_list = torch.where((0 < (y_train[:,:600] == 1).sum(dim=0)) & ((y_train[:,:600] == 1).sum(dim=0) <= 1))[0]\n",
    "few_shot_list_5 = torch.where((0 < (y_train[:,:600] == 1).sum(dim=0)) & ((y_train[:,:600] == 1).sum(dim=0) <= 5))[0]\n",
    "few_shot_list_10 = torch.where((0 < (y_train[:,:600] == 1).sum(dim=0)) & ((y_train[:,:600] == 1).sum(dim=0) <= 10))[0]\n",
    "\n",
    "one_shot_map = ev.eval_vo(test_pred[:,one_shot_list].T.cpu().detach().numpy(), y_test[:,one_shot_list].T.numpy(),len(one_shot_list))[0].mean()\n",
    "few_5_shot_map = ev.eval_vo(test_pred[:,few_shot_list_5].T.cpu().detach().numpy(), y_test[:,few_shot_list_5].T.numpy(),len(few_shot_list_5))[0].mean()\n",
    "few_10_shot_map = ev.eval_vo(test_pred[:,few_shot_list_10].T.cpu().detach().numpy(), y_test[:,few_shot_list_10].T.numpy(),len(few_shot_list_10))[0].mean()\n",
    "\n",
    "print(\"Few@1 mAP: \", one_shot_map * 100)\n",
    "print(\"Few@5 mAP: \", few_5_shot_map * 100)\n",
    "print(\"Few@10 mAp: \", few_10_shot_map * 100)"
   ]
  },
  {
   "cell_type": "code",
   "execution_count": 14,
   "metadata": {},
   "outputs": [
    {
     "data": {
      "text/plain": [
       "[]"
      ]
     },
     "execution_count": 14,
     "metadata": {},
     "output_type": "execute_result"
    },
    {
     "data": {
      "image/png": "[encoded data removed]",
      "text/plain": [
       "<Figure size 800x500 with 1 Axes>"
      ]
     },
     "metadata": {},
     "output_type": "display_data"
    }
   ],
   "source": [
    "indices = torch.sum((y_train[:,:600] == 1).int(), dim = 0).sort().indices\n",
    "test_aps = ev.eval_vo(test_pred[:,:600].T.cpu().detach().numpy(), y_test[:,:600].T.numpy(),600)[0]\n",
    "\n",
    "plt.figure(figsize=(8,5))\n",
    "plt.bar(range(600),test_aps[indices],width=1)\n",
    "plt.scatter(range(600),torch.sum(y_train == 1, dim = 0)[indices] / 1500,s = 2,color = \"red\")\n",
    "plt.xlabel('HOI Classes')\n",
    "plt.ylabel('Number of Training Images')\n",
    "plt.plot()"
   ]
  },
  {
   "cell_type": "code",
   "execution_count": null,
   "metadata": {},
   "outputs": [],
   "source": []
  }
 ],
 "metadata": {
  "kernelspec": {
   "display_name": "PyTorch",
   "language": "python",
   "name": "python3"
  },
  "language_info": {
   "codemirror_mode": {
    "name": "ipython",
    "version": 3
   },
   "file_extension": ".py",
   "mimetype": "text/x-python",
   "name": "python",
   "nbconvert_exporter": "python",
   "pygments_lexer": "ipython3",
   "version": "3.10.13"
  }
 },
 "nbformat": 4,
 "nbformat_minor": 2
}
