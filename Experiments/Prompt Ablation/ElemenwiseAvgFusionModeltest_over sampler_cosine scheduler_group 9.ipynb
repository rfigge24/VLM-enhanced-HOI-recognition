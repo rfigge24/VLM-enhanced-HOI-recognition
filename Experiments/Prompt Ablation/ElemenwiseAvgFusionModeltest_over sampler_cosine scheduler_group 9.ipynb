{
 "cells": [
  {
   "cell_type": "markdown",
   "metadata": {},
   "source": [
    "# Elementwise Average Fusion model testing (OverSampler, cosine scheduling, BCE loss):"
   ]
  },
  {
   "cell_type": "code",
   "execution_count": 1,
   "metadata": {},
   "outputs": [],
   "source": [
    "import sys\n",
    "root = '../../'\n",
    "sys.path.append(root)   # Done to be able to import the packages and functions\n",
    "\n",
    "import Utils.hico_evaluation.evaluation as ev\n",
    "from Utils.custom_sampler import OverSampler\n",
    "from Utils.custom_loss import MaskedBCELoss\n",
    "from Utils.annotation_preprocessing import _load_csv_to_tensor\n",
    "from Utils.train_val_split import train_val_split_hico\n",
    "from hoi_classifiers import ElementwiseAvgFusionModel\n",
    "\n",
    "import torch\n",
    "import numpy as np\n",
    "from torch.utils.data import TensorDataset, DataLoader\n",
    "import matplotlib.pyplot as plt\n",
    "\n",
    "import random"
   ]
  },
  {
   "cell_type": "code",
   "execution_count": 2,
   "metadata": {},
   "outputs": [],
   "source": [
    "seed = 42   #note that the model parameters will still be randomly initiated\n",
    "torch.manual_seed(seed)\n",
    "random.seed(seed)"
   ]
  },
  {
   "cell_type": "markdown",
   "metadata": {},
   "source": [
    "### Loading the training set:\n"
   ]
  },
  {
   "cell_type": "code",
   "execution_count": 3,
   "metadata": {},
   "outputs": [],
   "source": [
    "# Loading the data:\n",
    "X_train = torch.load(root + \"Embeddings/Combined_Embeddings/train.pt\")[:,(0,2,3),:]\n",
    "y_train = _load_csv_to_tensor(root + \"anno/added/anno_augmented_train.csv\").T # Transpose to make both first dimensions the #samples.\n",
    "y_train[y_train.isnan()] = -1"
   ]
  },
  {
   "cell_type": "markdown",
   "metadata": {},
   "source": [
    "### Loading the test set:"
   ]
  },
  {
   "cell_type": "code",
   "execution_count": 4,
   "metadata": {},
   "outputs": [],
   "source": [
    "X_test = torch.load(root + \"Embeddings/Combined_Embeddings/test.pt\")[:,(0,2,3),:]\n",
    "y_test = _load_csv_to_tensor(root + \"anno/added/anno_augmented_test.csv\").T # Transpose to make both first dimensions the #samples.\n",
    "y_test[y_test.isnan()] = -1"
   ]
  },
  {
   "cell_type": "markdown",
   "metadata": {},
   "source": [
    "#### Training Preparations:"
   ]
  },
  {
   "cell_type": "code",
   "execution_count": 5,
   "metadata": {},
   "outputs": [],
   "source": [
    "train_dataset = TensorDataset(X_train, y_train)"
   ]
  },
  {
   "cell_type": "code",
   "execution_count": 6,
   "metadata": {},
   "outputs": [],
   "source": [
    "# Batch size:\n",
    "bs = 512\n",
    "\n",
    "sampler = OverSampler(y_train[:,:600], shuffle=True)\n",
    "\n",
    "train_dataloader = DataLoader(\n",
    "    train_dataset, batch_size=bs, num_workers=4, sampler=sampler)\n"
   ]
  },
  {
   "cell_type": "code",
   "execution_count": 7,
   "metadata": {},
   "outputs": [],
   "source": [
    "device = torch.device('cuda:0' if torch.cuda.is_available() else 'cpu')"
   ]
  },
  {
   "cell_type": "code",
   "execution_count": 8,
   "metadata": {},
   "outputs": [],
   "source": [
    "model = ElementwiseAvgFusionModel(512,655,797)\n",
    "model = model.to(device)"
   ]
  },
  {
   "cell_type": "code",
   "execution_count": 9,
   "metadata": {},
   "outputs": [
    {
     "name": "stderr",
     "output_type": "stream",
     "text": [
      "c:\\Users\\rfigg\\.conda\\envs\\PyTorch\\lib\\site-packages\\transformers\\utils\\generic.py:441: UserWarning: torch.utils._pytree._register_pytree_node is deprecated. Please use torch.utils._pytree.register_pytree_node instead.\n",
      "  _torch_pytree._register_pytree_node(\n"
     ]
    }
   ],
   "source": [
    "classweights = torch.cat((torch.ones(600),torch.ones(197)*0.5)).to(device)      # The hoi classes weigh twice as much as the seperate classes\n",
    "criterion = MaskedBCELoss(ignore_label=0, convert_target_to_01= True, weight=classweights)\n",
    "\n",
    "optimizer = torch.optim.Adam(params=model.parameters(), lr=0.0005)\n",
    "scheduler = torch.optim.lr_scheduler.CosineAnnealingWarmRestarts(optimizer, T_0=5, T_mult=1)"
   ]
  },
  {
   "cell_type": "markdown",
   "metadata": {},
   "source": [
    "#### Training loop:"
   ]
  },
  {
   "cell_type": "code",
   "execution_count": 10,
   "metadata": {},
   "outputs": [
    {
     "name": "stdout",
     "output_type": "stream",
     "text": [
      "Epoch 001/101, Loss: 0.101446651659\n",
      "Epoch 002/101, Loss: 0.019063907153\n",
      "Epoch 003/101, Loss: 0.015341237126\n",
      "Epoch 004/101, Loss: 0.013510548551\n",
      "Epoch 005/101, Loss: 0.012873762297\n",
      "Epoch 006/101, Loss: 0.011671516389\n",
      "Epoch 007/101, Loss: 0.010039323992\n",
      "Epoch 008/101, Loss: 0.009098775890\n",
      "Epoch 009/101, Loss: 0.008630728851\n",
      "Epoch 010/101, Loss: 0.008450232707\n",
      "Epoch 011/101, Loss: 0.008147294408\n",
      "Epoch 012/101, Loss: 0.007630778732\n",
      "Epoch 013/101, Loss: 0.007272575409\n",
      "Epoch 014/101, Loss: 0.007061326063\n",
      "Epoch 015/101, Loss: 0.006954620981\n",
      "Epoch 016/101, Loss: 0.006848823034\n",
      "Epoch 017/101, Loss: 0.006583311718\n",
      "Epoch 018/101, Loss: 0.006376718918\n",
      "Epoch 019/101, Loss: 0.006252489211\n",
      "Epoch 020/101, Loss: 0.006201716355\n",
      "Epoch 021/101, Loss: 0.006151343814\n",
      "Epoch 022/101, Loss: 0.005992325125\n",
      "Epoch 023/101, Loss: 0.005872352412\n",
      "Epoch 024/101, Loss: 0.005775911462\n",
      "Epoch 025/101, Loss: 0.005721217579\n",
      "Epoch 026/101, Loss: 0.005710062376\n",
      "Epoch 027/101, Loss: 0.005600663286\n",
      "Epoch 028/101, Loss: 0.005492306708\n",
      "Epoch 029/101, Loss: 0.005414988820\n",
      "Epoch 030/101, Loss: 0.005369341067\n",
      "Epoch 031/101, Loss: 0.005383478590\n",
      "Epoch 032/101, Loss: 0.005283742452\n",
      "Epoch 033/101, Loss: 0.005205229518\n",
      "Epoch 034/101, Loss: 0.005128815514\n",
      "Epoch 035/101, Loss: 0.005091606870\n",
      "Epoch 036/101, Loss: 0.005110245147\n",
      "Epoch 037/101, Loss: 0.005027255959\n",
      "Epoch 038/101, Loss: 0.004955150243\n",
      "Epoch 039/101, Loss: 0.004882598245\n",
      "Epoch 040/101, Loss: 0.004851740483\n",
      "Epoch 041/101, Loss: 0.004884203282\n",
      "Epoch 042/101, Loss: 0.004800999783\n",
      "Epoch 043/101, Loss: 0.004737874109\n",
      "Epoch 044/101, Loss: 0.004672426894\n",
      "Epoch 045/101, Loss: 0.004644725441\n",
      "Epoch 046/101, Loss: 0.004669043486\n",
      "Epoch 047/101, Loss: 0.004604960592\n",
      "Epoch 048/101, Loss: 0.004538092701\n",
      "Epoch 049/101, Loss: 0.004482723624\n",
      "Epoch 050/101, Loss: 0.004435407105\n",
      "Epoch 051/101, Loss: 0.004482134563\n",
      "Epoch 052/101, Loss: 0.004418785111\n",
      "Epoch 053/101, Loss: 0.004353188802\n",
      "Epoch 054/101, Loss: 0.004306280530\n",
      "Epoch 055/101, Loss: 0.004265214700\n",
      "Epoch 056/101, Loss: 0.004297828222\n",
      "Epoch 057/101, Loss: 0.004255766249\n",
      "Epoch 058/101, Loss: 0.004186505186\n",
      "Epoch 059/101, Loss: 0.004135735246\n",
      "Epoch 060/101, Loss: 0.004095893404\n",
      "Epoch 061/101, Loss: 0.004149471407\n",
      "Epoch 062/101, Loss: 0.004093797460\n",
      "Epoch 063/101, Loss: 0.004028545462\n",
      "Epoch 064/101, Loss: 0.003974343230\n",
      "Epoch 065/101, Loss: 0.003944804518\n",
      "Epoch 066/101, Loss: 0.003982567515\n",
      "Epoch 067/101, Loss: 0.003924499376\n",
      "Epoch 068/101, Loss: 0.003872530205\n",
      "Epoch 069/101, Loss: 0.003825522069\n",
      "Epoch 070/101, Loss: 0.003783526101\n",
      "Epoch 071/101, Loss: 0.003837188831\n",
      "Epoch 072/101, Loss: 0.003787368976\n",
      "Epoch 073/101, Loss: 0.003729514174\n",
      "Epoch 074/101, Loss: 0.003672938477\n",
      "Epoch 075/101, Loss: 0.003648708122\n",
      "Epoch 076/101, Loss: 0.003699803694\n",
      "Epoch 077/101, Loss: 0.003646554111\n",
      "Epoch 078/101, Loss: 0.003588574811\n",
      "Epoch 079/101, Loss: 0.003545449039\n",
      "Epoch 080/101, Loss: 0.003508508935\n",
      "Epoch 081/101, Loss: 0.003561788057\n",
      "Epoch 082/101, Loss: 0.003521578282\n",
      "Epoch 083/101, Loss: 0.003455965478\n",
      "Epoch 084/101, Loss: 0.003412902458\n",
      "Epoch 085/101, Loss: 0.003367854843\n",
      "Epoch 086/101, Loss: 0.003428888256\n",
      "Epoch 087/101, Loss: 0.003384393796\n",
      "Epoch 088/101, Loss: 0.003330398213\n",
      "Epoch 089/101, Loss: 0.003283456237\n",
      "Epoch 090/101, Loss: 0.003245779152\n",
      "Epoch 091/101, Loss: 0.003308220631\n",
      "Epoch 092/101, Loss: 0.003263867248\n",
      "Epoch 093/101, Loss: 0.003211125202\n",
      "Epoch 094/101, Loss: 0.003152995311\n",
      "Epoch 095/101, Loss: 0.003121652379\n",
      "Epoch 096/101, Loss: 0.003186926287\n",
      "Epoch 097/101, Loss: 0.003140739787\n",
      "Epoch 098/101, Loss: 0.003083945431\n",
      "Epoch 099/101, Loss: 0.003035156003\n",
      "Epoch 100/101, Loss: 0.003003322156\n",
      "Epoch 101/101, Loss: 0.003068376706\n"
     ]
    }
   ],
   "source": [
    "num_epochs = 101\n",
    "for epoch in range(num_epochs):\n",
    "    running_loss = 0.0\n",
    "    for inputs, labels in train_dataloader:\n",
    "        inputs = inputs.to(device)\n",
    "        labels = labels.to(device)\n",
    "\n",
    "        optimizer.zero_grad()  # Zero the gradients\n",
    "        outputs = model(inputs)  # Forward pass\n",
    "        loss = criterion(outputs, labels)  # Compute the loss\n",
    "        loss.backward()  # Backward pass\n",
    "        optimizer.step()  # Update the weights\n",
    "\n",
    "        running_loss += loss.item()\n",
    "\n",
    "    scheduler.step()\n",
    "    \n",
    "\n",
    "    print(f\"Epoch {epoch+1:0{len(str(num_epochs))}}/{num_epochs}, Loss: {running_loss/len(train_dataloader):.12f}\")"
   ]
  },
  {
   "cell_type": "markdown",
   "metadata": {},
   "source": [
    "#### Evaluating model:"
   ]
  },
  {
   "cell_type": "code",
   "execution_count": 11,
   "metadata": {},
   "outputs": [],
   "source": [
    "test_pred = model.forward(X_test.to(device))\n",
    "test_map = ev.eval_vo(test_pred[:,:600].T.cpu().detach().numpy(), y_test[:,:600].T.numpy(),600)[0].mean()"
   ]
  },
  {
   "cell_type": "code",
   "execution_count": 12,
   "metadata": {},
   "outputs": [
    {
     "name": "stdout",
     "output_type": "stream",
     "text": [
      "57.470874335070164\n"
     ]
    }
   ],
   "source": [
    "print(test_map * 100)"
   ]
  },
  {
   "cell_type": "code",
   "execution_count": 13,
   "metadata": {},
   "outputs": [
    {
     "name": "stdout",
     "output_type": "stream",
     "text": [
      "Few@1 mAP:  34.79733799039701\n",
      "Few@5 mAP:  43.32224474162662\n",
      "Few@10 mAp:  45.19821019200375\n"
     ]
    }
   ],
   "source": [
    "one_shot_list = torch.where((0 < (y_train[:,:600] == 1).sum(dim=0)) & ((y_train[:,:600] == 1).sum(dim=0) <= 1))[0]\n",
    "few_shot_list_5 = torch.where((0 < (y_train[:,:600] == 1).sum(dim=0)) & ((y_train[:,:600] == 1).sum(dim=0) <= 5))[0]\n",
    "few_shot_list_10 = torch.where((0 < (y_train[:,:600] == 1).sum(dim=0)) & ((y_train[:,:600] == 1).sum(dim=0) <= 10))[0]\n",
    "\n",
    "one_shot_map = ev.eval_vo(test_pred[:,one_shot_list].T.cpu().detach().numpy(), y_test[:,one_shot_list].T.numpy(),len(one_shot_list))[0].mean()\n",
    "few_5_shot_map = ev.eval_vo(test_pred[:,few_shot_list_5].T.cpu().detach().numpy(), y_test[:,few_shot_list_5].T.numpy(),len(few_shot_list_5))[0].mean()\n",
    "few_10_shot_map = ev.eval_vo(test_pred[:,few_shot_list_10].T.cpu().detach().numpy(), y_test[:,few_shot_list_10].T.numpy(),len(few_shot_list_10))[0].mean()\n",
    "\n",
    "print(\"Few@1 mAP: \", one_shot_map * 100)\n",
    "print(\"Few@5 mAP: \", few_5_shot_map * 100)\n",
    "print(\"Few@10 mAp: \", few_10_shot_map * 100)"
   ]
  },
  {
   "cell_type": "code",
   "execution_count": 14,
   "metadata": {},
   "outputs": [
    {
     "data": {
      "text/plain": [
       "[]"
      ]
     },
     "execution_count": 14,
     "metadata": {},
     "output_type": "execute_result"
    },
    {
     "data": {
      "image/png": "[encoded data removed]",
      "text/plain": [
       "<Figure size 800x500 with 1 Axes>"
      ]
     },
     "metadata": {},
     "output_type": "display_data"
    }
   ],
   "source": [
    "indices = torch.sum((y_train[:,:600] == 1).int(), dim = 0).sort().indices\n",
    "test_aps = ev.eval_vo(test_pred[:,:600].T.cpu().detach().numpy(), y_test[:,:600].T.numpy(),600)[0]\n",
    "\n",
    "plt.figure(figsize=(8,5))\n",
    "plt.bar(range(600),test_aps[indices],width=1)\n",
    "plt.scatter(range(600),torch.sum(y_train == 1, dim = 0)[indices] / 1500,s = 2,color = \"red\")\n",
    "plt.xlabel('HOI Classes')\n",
    "plt.ylabel('Number of Training Images')\n",
    "plt.plot()"
   ]
  },
  {
   "cell_type": "code",
   "execution_count": null,
   "metadata": {},
   "outputs": [],
   "source": []
  }
 ],
 "metadata": {
  "kernelspec": {
   "display_name": "PyTorch",
   "language": "python",
   "name": "python3"
  },
  "language_info": {
   "codemirror_mode": {
    "name": "ipython",
    "version": 3
   },
   "file_extension": ".py",
   "mimetype": "text/x-python",
   "name": "python",
   "nbconvert_exporter": "python",
   "pygments_lexer": "ipython3",
   "version": "3.10.13"
  }
 },
 "nbformat": 4,
 "nbformat_minor": 2
}
