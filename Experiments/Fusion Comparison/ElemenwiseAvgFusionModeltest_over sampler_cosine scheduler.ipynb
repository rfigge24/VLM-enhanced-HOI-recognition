{
 "cells": [
  {
   "cell_type": "markdown",
   "metadata": {},
   "source": [
    "# Elementwise Average Fusion model testing (OverSampler, cosine scheduling, BCE loss):"
   ]
  },
  {
   "cell_type": "code",
   "execution_count": 1,
   "metadata": {},
   "outputs": [],
   "source": [
    "import sys\n",
    "root = '../../'\n",
    "sys.path.append(root)   # Done to be able to import the packages and functions\n",
    "\n",
    "import Utils.hico_evaluation.evaluation as ev\n",
    "from Utils.custom_sampler import OverSampler\n",
    "from Utils.custom_loss import MaskedBCELoss\n",
    "from Utils.annotation_preprocessing import _load_csv_to_tensor\n",
    "from Utils.train_val_split import train_val_split_hico\n",
    "from hoi_classifiers import ElementwiseAvgFusionModel\n",
    "\n",
    "import torch\n",
    "import numpy as np\n",
    "from torch.utils.data import TensorDataset, DataLoader\n",
    "import matplotlib.pyplot as plt\n",
    "\n",
    "import random"
   ]
  },
  {
   "cell_type": "code",
   "execution_count": 2,
   "metadata": {},
   "outputs": [],
   "source": [
    "seed = 42   #note that the model parameters will still be randomly initiated\n",
    "torch.manual_seed(seed)\n",
    "random.seed(seed)"
   ]
  },
  {
   "cell_type": "markdown",
   "metadata": {},
   "source": [
    "### Loading the training set:\n"
   ]
  },
  {
   "cell_type": "code",
   "execution_count": 3,
   "metadata": {},
   "outputs": [],
   "source": [
    "# Loading the data:\n",
    "X_train = torch.load(root + \"Embeddings/Combined_Embeddings/train.pt\")\n",
    "y_train = _load_csv_to_tensor(root + \"anno/added/anno_augmented_train.csv\").T # Transpose to make both first dimensions the #samples.\n",
    "y_train[y_train.isnan()] = -1"
   ]
  },
  {
   "cell_type": "code",
   "execution_count": 4,
   "metadata": {},
   "outputs": [],
   "source": [
    "X_test = torch.load(root + \"Embeddings/Combined_Embeddings/test.pt\")\n",
    "y_test = _load_csv_to_tensor(root + \"anno/added/anno_augmented_test.csv\").T # Transpose to make both first dimensions the #samples.\n",
    "y_test[y_test.isnan()] = -1"
   ]
  },
  {
   "cell_type": "markdown",
   "metadata": {},
   "source": [
    "#### Training Preparations:"
   ]
  },
  {
   "cell_type": "code",
   "execution_count": 5,
   "metadata": {},
   "outputs": [],
   "source": [
    "train_dataset = TensorDataset(X_train, y_train)"
   ]
  },
  {
   "cell_type": "code",
   "execution_count": 6,
   "metadata": {},
   "outputs": [],
   "source": [
    "# Batch size:\n",
    "bs = 512\n",
    "\n",
    "sampler = OverSampler(y_train[:,:600], shuffle=True)\n",
    "\n",
    "train_dataloader = DataLoader(\n",
    "    train_dataset, batch_size=bs, num_workers=4, sampler=sampler)\n"
   ]
  },
  {
   "cell_type": "code",
   "execution_count": 7,
   "metadata": {},
   "outputs": [],
   "source": [
    "device = torch.device('cuda:0' if torch.cuda.is_available() else 'cpu')"
   ]
  },
  {
   "cell_type": "code",
   "execution_count": 8,
   "metadata": {},
   "outputs": [],
   "source": [
    "model = ElementwiseAvgFusionModel(512,655,797)\n",
    "model = model.to(device)"
   ]
  },
  {
   "cell_type": "code",
   "execution_count": 9,
   "metadata": {},
   "outputs": [
    {
     "name": "stderr",
     "output_type": "stream",
     "text": [
      "c:\\Users\\rfigg\\.conda\\envs\\PyTorch\\lib\\site-packages\\transformers\\utils\\generic.py:441: UserWarning: torch.utils._pytree._register_pytree_node is deprecated. Please use torch.utils._pytree.register_pytree_node instead.\n",
      "  _torch_pytree._register_pytree_node(\n"
     ]
    }
   ],
   "source": [
    "classweights = torch.cat((torch.ones(600),torch.ones(197)*0.5)).to(device)      # The hoi classes weigh twice as much as the seperate classes\n",
    "criterion = MaskedBCELoss(ignore_label=0, convert_target_to_01= True, weight=classweights)\n",
    "\n",
    "optimizer = torch.optim.Adam(params=model.parameters(), lr=0.0005)\n",
    "scheduler = torch.optim.lr_scheduler.CosineAnnealingWarmRestarts(optimizer, T_0=5, T_mult=1)"
   ]
  },
  {
   "cell_type": "markdown",
   "metadata": {},
   "source": [
    "#### Training loop:"
   ]
  },
  {
   "cell_type": "code",
   "execution_count": 10,
   "metadata": {},
   "outputs": [
    {
     "name": "stdout",
     "output_type": "stream",
     "text": [
      "Epoch 01/67, Loss: 0.099787246415\n",
      "Epoch 02/67, Loss: 0.019714279858\n",
      "Epoch 03/67, Loss: 0.016240748362\n",
      "Epoch 04/67, Loss: 0.014497909275\n",
      "Epoch 05/67, Loss: 0.013871021671\n",
      "Epoch 06/67, Loss: 0.012626338095\n",
      "Epoch 07/67, Loss: 0.010858957031\n",
      "Epoch 08/67, Loss: 0.009786591384\n",
      "Epoch 09/67, Loss: 0.009251072205\n",
      "Epoch 10/67, Loss: 0.009039957035\n",
      "Epoch 11/67, Loss: 0.008682738734\n",
      "Epoch 12/67, Loss: 0.008112504643\n",
      "Epoch 13/67, Loss: 0.007730581005\n",
      "Epoch 14/67, Loss: 0.007509839527\n",
      "Epoch 15/67, Loss: 0.007398426543\n",
      "Epoch 16/67, Loss: 0.007280439589\n",
      "Epoch 17/67, Loss: 0.007008665318\n",
      "Epoch 18/67, Loss: 0.006792153744\n",
      "Epoch 19/67, Loss: 0.006658573287\n",
      "Epoch 20/67, Loss: 0.006603502065\n",
      "Epoch 21/67, Loss: 0.006542269340\n",
      "Epoch 22/67, Loss: 0.006365679087\n",
      "Epoch 23/67, Loss: 0.006232150728\n",
      "Epoch 24/67, Loss: 0.006131832739\n",
      "Epoch 25/67, Loss: 0.006077592916\n",
      "Epoch 26/67, Loss: 0.006055159361\n",
      "Epoch 27/67, Loss: 0.005929128262\n",
      "Epoch 28/67, Loss: 0.005815551529\n",
      "Epoch 29/67, Loss: 0.005733824775\n",
      "Epoch 30/67, Loss: 0.005683128773\n",
      "Epoch 31/67, Loss: 0.005693572384\n",
      "Epoch 32/67, Loss: 0.005589627241\n",
      "Epoch 33/67, Loss: 0.005507966140\n",
      "Epoch 34/67, Loss: 0.005428951505\n",
      "Epoch 35/67, Loss: 0.005387090832\n",
      "Epoch 36/67, Loss: 0.005399095739\n",
      "Epoch 37/67, Loss: 0.005314332065\n",
      "Epoch 38/67, Loss: 0.005234255194\n",
      "Epoch 39/67, Loss: 0.005163428133\n",
      "Epoch 40/67, Loss: 0.005135943340\n",
      "Epoch 41/67, Loss: 0.005164612852\n",
      "Epoch 42/67, Loss: 0.005078528122\n",
      "Epoch 43/67, Loss: 0.005016599797\n",
      "Epoch 44/67, Loss: 0.004951312263\n",
      "Epoch 45/67, Loss: 0.004923334033\n",
      "Epoch 46/67, Loss: 0.004942865397\n",
      "Epoch 47/67, Loss: 0.004882759466\n",
      "Epoch 48/67, Loss: 0.004812066812\n",
      "Epoch 49/67, Loss: 0.004758681447\n",
      "Epoch 50/67, Loss: 0.004710902583\n",
      "Epoch 51/67, Loss: 0.004754153055\n",
      "Epoch 52/67, Loss: 0.004695216460\n",
      "Epoch 53/67, Loss: 0.004626616175\n",
      "Epoch 54/67, Loss: 0.004584032443\n",
      "Epoch 55/67, Loss: 0.004541932073\n",
      "Epoch 56/67, Loss: 0.004572877753\n",
      "Epoch 57/67, Loss: 0.004532089472\n",
      "Epoch 58/67, Loss: 0.004462485713\n",
      "Epoch 59/67, Loss: 0.004416316098\n",
      "Epoch 60/67, Loss: 0.004379184218\n",
      "Epoch 61/67, Loss: 0.004431181764\n",
      "Epoch 62/67, Loss: 0.004374164203\n",
      "Epoch 63/67, Loss: 0.004314177885\n",
      "Epoch 64/67, Loss: 0.004263128561\n",
      "Epoch 65/67, Loss: 0.004234345041\n",
      "Epoch 66/67, Loss: 0.004269118444\n",
      "Epoch 67/67, Loss: 0.004212725800\n"
     ]
    }
   ],
   "source": [
    "num_epochs = 67\n",
    "for epoch in range(num_epochs):\n",
    "    running_loss = 0.0\n",
    "    for inputs, labels in train_dataloader:\n",
    "        inputs = inputs.to(device)\n",
    "        labels = labels.to(device)\n",
    "\n",
    "        optimizer.zero_grad()  # Zero the gradients\n",
    "        outputs = model(inputs)  # Forward pass\n",
    "        loss = criterion(outputs, labels)  # Compute the loss\n",
    "        loss.backward()  # Backward pass\n",
    "        optimizer.step()  # Update the weights\n",
    "\n",
    "        running_loss += loss.item()\n",
    "\n",
    "    scheduler.step()\n",
    "    \n",
    "\n",
    "    print(f\"Epoch {epoch+1:0{len(str(num_epochs))}}/{num_epochs}, Loss: {running_loss/len(train_dataloader):.12f}\")"
   ]
  },
  {
   "cell_type": "markdown",
   "metadata": {},
   "source": [
    "#### Evaluating model:"
   ]
  },
  {
   "cell_type": "code",
   "execution_count": 11,
   "metadata": {},
   "outputs": [],
   "source": [
    "test_pred = model.forward(X_test.to(device))\n",
    "test_map = ev.eval_vo(test_pred[:,:600].T.cpu().detach().numpy(), y_test[:,:600].T.numpy(),600)[0].mean()"
   ]
  },
  {
   "cell_type": "code",
   "execution_count": 12,
   "metadata": {},
   "outputs": [
    {
     "name": "stdout",
     "output_type": "stream",
     "text": [
      "57.92029679248743\n"
     ]
    }
   ],
   "source": [
    "print(test_map * 100)"
   ]
  },
  {
   "cell_type": "code",
   "execution_count": 13,
   "metadata": {},
   "outputs": [
    {
     "name": "stdout",
     "output_type": "stream",
     "text": [
      "Few@1 mAP:  39.8924789269816\n",
      "Few@5 mAP:  45.52787840994789\n",
      "Few@10 mAp:  46.948871349589446\n"
     ]
    }
   ],
   "source": [
    "one_shot_list = torch.where((0 < (y_train[:,:600] == 1).sum(dim=0)) & ((y_train[:,:600] == 1).sum(dim=0) <= 1))[0]\n",
    "few_shot_list_5 = torch.where((0 < (y_train[:,:600] == 1).sum(dim=0)) & ((y_train[:,:600] == 1).sum(dim=0) <= 5))[0]\n",
    "few_shot_list_10 = torch.where((0 < (y_train[:,:600] == 1).sum(dim=0)) & ((y_train[:,:600] == 1).sum(dim=0) <= 10))[0]\n",
    "\n",
    "one_shot_map = ev.eval_vo(test_pred[:,one_shot_list].T.cpu().detach().numpy(), y_test[:,one_shot_list].T.numpy(),len(one_shot_list))[0].mean()\n",
    "few_5_shot_map = ev.eval_vo(test_pred[:,few_shot_list_5].T.cpu().detach().numpy(), y_test[:,few_shot_list_5].T.numpy(),len(few_shot_list_5))[0].mean()\n",
    "few_10_shot_map = ev.eval_vo(test_pred[:,few_shot_list_10].T.cpu().detach().numpy(), y_test[:,few_shot_list_10].T.numpy(),len(few_shot_list_10))[0].mean()\n",
    "\n",
    "print(\"Few@1 mAP: \", one_shot_map * 100)\n",
    "print(\"Few@5 mAP: \", few_5_shot_map * 100)\n",
    "print(\"Few@10 mAp: \", few_10_shot_map * 100)"
   ]
  },
  {
   "cell_type": "code",
   "execution_count": 14,
   "metadata": {},
   "outputs": [
    {
     "data": {
      "text/plain": [
       "[]"
      ]
     },
     "execution_count": 14,
     "metadata": {},
     "output_type": "execute_result"
    },
    {
     "data": {
      "image/png": "[encoded data removed]",
      "text/plain": [
       "<Figure size 800x500 with 1 Axes>"
      ]
     },
     "metadata": {},
     "output_type": "display_data"
    }
   ],
   "source": [
    "indices = torch.sum((y_train[:,:600] == 1).int(), dim = 0).sort().indices\n",
    "test_aps = ev.eval_vo(test_pred[:,:600].T.cpu().detach().numpy(), y_test[:,:600].T.numpy(),600)[0]\n",
    "\n",
    "plt.figure(figsize=(8,5))\n",
    "plt.bar(range(600),test_aps[indices],width=1)\n",
    "plt.scatter(range(600),torch.sum(y_train == 1, dim = 0)[indices] / 1500,s = 2,color = \"red\")\n",
    "plt.xlabel('HOI Classes')\n",
    "plt.ylabel('Number of Training Images')\n",
    "plt.plot()"
   ]
  },
  {
   "cell_type": "markdown",
   "metadata": {},
   "source": [
    "#### Saving the model parameters for later analyses"
   ]
  },
  {
   "cell_type": "code",
   "execution_count": 15,
   "metadata": {},
   "outputs": [],
   "source": [
    "torch.save(model, root + \"/Saved Models/best_model_67_epochs.pt\")"
   ]
  }
 ],
 "metadata": {
  "kernelspec": {
   "display_name": "PyTorch",
   "language": "python",
   "name": "python3"
  },
  "language_info": {
   "codemirror_mode": {
    "name": "ipython",
    "version": 3
   },
   "file_extension": ".py",
   "mimetype": "text/x-python",
   "name": "python",
   "nbconvert_exporter": "python",
   "pygments_lexer": "ipython3",
   "version": "3.10.13"
  }
 },
 "nbformat": 4,
 "nbformat_minor": 2
}
