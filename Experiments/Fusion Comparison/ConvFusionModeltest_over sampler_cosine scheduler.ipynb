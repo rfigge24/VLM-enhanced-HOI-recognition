{
 "cells": [
  {
   "cell_type": "markdown",
   "metadata": {},
   "source": [
    "# 1x1 Convolution Fusion model testing (Oversampler, cosine scheduler, BCE loss):"
   ]
  },
  {
   "cell_type": "code",
   "execution_count": 1,
   "metadata": {},
   "outputs": [],
   "source": [
    "import sys\n",
    "root = '../../'\n",
    "sys.path.append(root)   # Done to be able to import the packages and functions\n",
    "\n",
    "import Utils.hico_evaluation.evaluation as ev\n",
    "from Utils.custom_sampler import OverSampler\n",
    "from Utils.custom_loss import MaskedBCELoss\n",
    "from Utils.annotation_preprocessing import _load_csv_to_tensor\n",
    "from Utils.train_val_split import train_val_split_hico\n",
    "from hoi_classifiers import ConvolutionFusionModel\n",
    "\n",
    "import torch\n",
    "import numpy as np\n",
    "from torch.utils.data import TensorDataset, DataLoader\n",
    "import matplotlib.pyplot as plt\n",
    "\n",
    "import random"
   ]
  },
  {
   "cell_type": "code",
   "execution_count": 2,
   "metadata": {},
   "outputs": [],
   "source": [
    "seed = 42  #note that the model parameters will still be randomly initiated\n",
    "torch.manual_seed(seed)\n",
    "random.seed(seed)"
   ]
  },
  {
   "cell_type": "markdown",
   "metadata": {},
   "source": [
    "### Loading the training and test set:\n"
   ]
  },
  {
   "cell_type": "code",
   "execution_count": 3,
   "metadata": {},
   "outputs": [],
   "source": [
    "# Loading the data:\n",
    "X_train = torch.load(root + \"Embeddings/Combined_Embeddings/train.pt\")\n",
    "y_train = _load_csv_to_tensor(root + \"anno/added/anno_augmented_train.csv\").T # Transpose to make both first dimensions the #samples.\n",
    "y_train[y_train.isnan()] = -1"
   ]
  },
  {
   "cell_type": "code",
   "execution_count": 4,
   "metadata": {},
   "outputs": [],
   "source": [
    "X_test = torch.load(root + \"Embeddings/Combined_Embeddings/test.pt\")\n",
    "y_test = _load_csv_to_tensor(root + \"anno/added/anno_augmented_test.csv\").T # Transpose to make both first dimensions the #samples.\n",
    "y_test[y_test.isnan()] = -1"
   ]
  },
  {
   "cell_type": "markdown",
   "metadata": {},
   "source": [
    "#### Training Preparations:"
   ]
  },
  {
   "cell_type": "code",
   "execution_count": 5,
   "metadata": {},
   "outputs": [],
   "source": [
    "train_dataset = TensorDataset(X_train, y_train)"
   ]
  },
  {
   "cell_type": "code",
   "execution_count": 6,
   "metadata": {},
   "outputs": [],
   "source": [
    "# Batch size:\n",
    "bs = 512\n",
    "\n",
    "sampler = OverSampler(y_train[:,:600], shuffle=True)\n",
    "\n",
    "train_dataloader = DataLoader(\n",
    "    train_dataset, batch_size=bs, num_workers=4, sampler = sampler)\n"
   ]
  },
  {
   "cell_type": "code",
   "execution_count": 7,
   "metadata": {},
   "outputs": [],
   "source": [
    "device = torch.device('cuda:0' if torch.cuda.is_available() else 'cpu')"
   ]
  },
  {
   "cell_type": "code",
   "execution_count": 8,
   "metadata": {},
   "outputs": [],
   "source": [
    "nr_of_kernels = 1\n",
    "model = ConvolutionFusionModel(512,5, nr_of_kernels, 655, 797)\n",
    "model = model.to(device)"
   ]
  },
  {
   "cell_type": "code",
   "execution_count": 9,
   "metadata": {},
   "outputs": [
    {
     "name": "stderr",
     "output_type": "stream",
     "text": [
      "c:\\Users\\rfigg\\.conda\\envs\\PyTorch\\lib\\site-packages\\transformers\\utils\\generic.py:441: UserWarning: torch.utils._pytree._register_pytree_node is deprecated. Please use torch.utils._pytree.register_pytree_node instead.\n",
      "  _torch_pytree._register_pytree_node(\n"
     ]
    }
   ],
   "source": [
    "classweights = torch.cat((torch.ones(600),torch.ones(197)*0.5)).to(device)      # The hoi classes weigh twice as much as the seperate classes\n",
    "\n",
    "criterion = MaskedBCELoss(ignore_label=0, convert_target_to_01= True, weight=classweights)\n",
    "\n",
    "optimizer = torch.optim.Adam(params=model.parameters(), lr=0.0005)\n",
    "scheduler = torch.optim.lr_scheduler.CosineAnnealingWarmRestarts(optimizer, T_0=5, T_mult=1)"
   ]
  },
  {
   "cell_type": "markdown",
   "metadata": {},
   "source": [
    "#### Training loop:"
   ]
  },
  {
   "cell_type": "code",
   "execution_count": 10,
   "metadata": {},
   "outputs": [
    {
     "name": "stdout",
     "output_type": "stream",
     "text": [
      "Epoch 01/67, Loss: 0.111458266154\n",
      "Epoch 02/67, Loss: 0.021872249401\n",
      "Epoch 03/67, Loss: 0.020910518776\n",
      "Epoch 04/67, Loss: 0.019978173978\n",
      "Epoch 05/67, Loss: 0.019552600335\n",
      "Epoch 06/67, Loss: 0.018533531065\n",
      "Epoch 07/67, Loss: 0.016405430326\n",
      "Epoch 08/67, Loss: 0.014603914417\n",
      "Epoch 09/67, Loss: 0.013608436970\n",
      "Epoch 10/67, Loss: 0.013209541615\n",
      "Epoch 11/67, Loss: 0.012343873853\n",
      "Epoch 12/67, Loss: 0.010788307505\n",
      "Epoch 13/67, Loss: 0.009701954764\n",
      "Epoch 14/67, Loss: 0.009120774128\n",
      "Epoch 15/67, Loss: 0.008888830789\n",
      "Epoch 16/67, Loss: 0.008521185497\n",
      "Epoch 17/67, Loss: 0.007845907641\n",
      "Epoch 18/67, Loss: 0.007385528150\n",
      "Epoch 19/67, Loss: 0.007110474442\n",
      "Epoch 20/67, Loss: 0.006994364655\n",
      "Epoch 21/67, Loss: 0.006868206133\n",
      "Epoch 22/67, Loss: 0.006553613448\n",
      "Epoch 23/67, Loss: 0.006304905340\n",
      "Epoch 24/67, Loss: 0.006163956971\n",
      "Epoch 25/67, Loss: 0.006085395480\n",
      "Epoch 26/67, Loss: 0.006039353036\n",
      "Epoch 27/67, Loss: 0.005842030995\n",
      "Epoch 28/67, Loss: 0.005686878355\n",
      "Epoch 29/67, Loss: 0.005571856604\n",
      "Epoch 30/67, Loss: 0.005514179556\n",
      "Epoch 31/67, Loss: 0.005517205715\n",
      "Epoch 32/67, Loss: 0.005378214254\n",
      "Epoch 33/67, Loss: 0.005257806546\n",
      "Epoch 34/67, Loss: 0.005156259615\n",
      "Epoch 35/67, Loss: 0.005096592633\n",
      "Epoch 36/67, Loss: 0.005112268312\n",
      "Epoch 37/67, Loss: 0.005003027490\n",
      "Epoch 38/67, Loss: 0.004894081636\n",
      "Epoch 39/67, Loss: 0.004811361693\n",
      "Epoch 40/67, Loss: 0.004762652571\n",
      "Epoch 41/67, Loss: 0.004793194332\n",
      "Epoch 42/67, Loss: 0.004688122566\n",
      "Epoch 43/67, Loss: 0.004606066246\n",
      "Epoch 44/67, Loss: 0.004521997896\n",
      "Epoch 45/67, Loss: 0.004480277889\n",
      "Epoch 46/67, Loss: 0.004501698165\n",
      "Epoch 47/67, Loss: 0.004435915439\n",
      "Epoch 48/67, Loss: 0.004337550067\n",
      "Epoch 49/67, Loss: 0.004257325451\n",
      "Epoch 50/67, Loss: 0.004199975045\n",
      "Epoch 51/67, Loss: 0.004261748392\n",
      "Epoch 52/67, Loss: 0.004177446086\n",
      "Epoch 53/67, Loss: 0.004082823820\n",
      "Epoch 54/67, Loss: 0.004017451105\n",
      "Epoch 55/67, Loss: 0.003965619724\n",
      "Epoch 56/67, Loss: 0.004019791265\n",
      "Epoch 57/67, Loss: 0.003947149013\n",
      "Epoch 58/67, Loss: 0.003850825162\n",
      "Epoch 59/67, Loss: 0.003782727812\n",
      "Epoch 60/67, Loss: 0.003729097402\n",
      "Epoch 61/67, Loss: 0.003795288997\n",
      "Epoch 62/67, Loss: 0.003714661452\n",
      "Epoch 63/67, Loss: 0.003623133702\n",
      "Epoch 64/67, Loss: 0.003548078367\n",
      "Epoch 65/67, Loss: 0.003494289775\n",
      "Epoch 66/67, Loss: 0.003562768632\n",
      "Epoch 67/67, Loss: 0.003479019219\n"
     ]
    }
   ],
   "source": [
    "num_epochs = 67\n",
    "for epoch in range(num_epochs):\n",
    "    running_loss = 0.0\n",
    "    for inputs, labels in train_dataloader:\n",
    "        inputs = inputs.to(device)\n",
    "        labels = labels.to(device)\n",
    "\n",
    "        optimizer.zero_grad()  # Zero the gradients\n",
    "        outputs = model(inputs)  # Forward pass\n",
    "        loss = criterion(outputs, labels)  # Compute the loss\n",
    "        loss.backward()  # Backward pass\n",
    "        optimizer.step()  # Update the weights\n",
    "\n",
    "        running_loss += loss.item()\n",
    "    \n",
    "    scheduler.step()\n",
    "\n",
    "\n",
    "    print(f\"Epoch {epoch+1:0{len(str(num_epochs))}}/{num_epochs}, Loss: {running_loss/len(train_dataloader):.12f}\")"
   ]
  },
  {
   "cell_type": "markdown",
   "metadata": {},
   "source": [
    "### Checking the filters of the trained model:"
   ]
  },
  {
   "cell_type": "code",
   "execution_count": 11,
   "metadata": {},
   "outputs": [
    {
     "data": {
      "text/plain": [
       "[Parameter containing:\n",
       " tensor([[[0.7611],\n",
       "          [0.3575],\n",
       "          [0.1466],\n",
       "          [0.4468],\n",
       "          [0.2276]]], device='cuda:0', requires_grad=True),\n",
       " Parameter containing:\n",
       " tensor([0.0872], device='cuda:0', requires_grad=True)]"
      ]
     },
     "execution_count": 11,
     "metadata": {},
     "output_type": "execute_result"
    }
   ],
   "source": [
    "list(model.conv1.parameters())"
   ]
  },
  {
   "cell_type": "markdown",
   "metadata": {},
   "source": [
    "#### Evaluating model:"
   ]
  },
  {
   "cell_type": "code",
   "execution_count": 15,
   "metadata": {},
   "outputs": [],
   "source": [
    "test_pred = model.forward(X_test.to(device))\n",
    "test_map = ev.eval_vo(test_pred[:,:600].T.cpu().detach().numpy(), y_test[:,:600].T.numpy(),600)[0].mean()"
   ]
  },
  {
   "cell_type": "code",
   "execution_count": 16,
   "metadata": {},
   "outputs": [
    {
     "name": "stdout",
     "output_type": "stream",
     "text": [
      "58.15363808891326\n"
     ]
    }
   ],
   "source": [
    "print(test_map * 100)"
   ]
  },
  {
   "cell_type": "code",
   "execution_count": 14,
   "metadata": {},
   "outputs": [
    {
     "name": "stdout",
     "output_type": "stream",
     "text": [
      "Few@1 mAP:  35.22741154154484\n",
      "Few@5 mAP:  43.63237273710626\n",
      "Few@10 mAp:  45.063294252783116\n"
     ]
    }
   ],
   "source": [
    "one_shot_list = torch.where((0 < (y_train[:,:600] == 1).sum(dim=0)) & ((y_train[:,:600] == 1).sum(dim=0) <= 1))[0]\n",
    "few_shot_list_5 = torch.where((0 < (y_train[:,:600] == 1).sum(dim=0)) & ((y_train[:,:600] == 1).sum(dim=0) <= 5))[0]\n",
    "few_shot_list_10 = torch.where((0 < (y_train[:,:600] == 1).sum(dim=0)) & ((y_train[:,:600] == 1).sum(dim=0) <= 10))[0]\n",
    "\n",
    "one_shot_map = ev.eval_vo(test_pred[:,one_shot_list].T.cpu().detach().numpy(), y_test[:,one_shot_list].T.numpy(),len(one_shot_list))[0].mean()\n",
    "few_5_shot_map = ev.eval_vo(test_pred[:,few_shot_list_5].T.cpu().detach().numpy(), y_test[:,few_shot_list_5].T.numpy(),len(few_shot_list_5))[0].mean()\n",
    "few_10_shot_map = ev.eval_vo(test_pred[:,few_shot_list_10].T.cpu().detach().numpy(), y_test[:,few_shot_list_10].T.numpy(),len(few_shot_list_10))[0].mean()\n",
    "\n",
    "print(\"Few@1 mAP: \", one_shot_map * 100)\n",
    "print(\"Few@5 mAP: \", few_5_shot_map * 100)\n",
    "print(\"Few@10 mAp: \", few_10_shot_map * 100)"
   ]
  }
 ],
 "metadata": {
  "kernelspec": {
   "display_name": "PyTorch",
   "language": "python",
   "name": "python3"
  },
  "language_info": {
   "codemirror_mode": {
    "name": "ipython",
    "version": 3
   },
   "file_extension": ".py",
   "mimetype": "text/x-python",
   "name": "python",
   "nbconvert_exporter": "python",
   "pygments_lexer": "ipython3",
   "version": "3.10.13"
  }
 },
 "nbformat": 4,
 "nbformat_minor": 2
}
