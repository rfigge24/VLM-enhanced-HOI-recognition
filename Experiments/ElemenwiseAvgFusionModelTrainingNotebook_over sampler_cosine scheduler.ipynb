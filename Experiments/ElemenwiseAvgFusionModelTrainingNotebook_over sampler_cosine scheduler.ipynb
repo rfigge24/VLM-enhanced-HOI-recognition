{
 "cells": [
  {
   "cell_type": "markdown",
   "metadata": {},
   "source": [
    "# Elementwise Average Fusion model training (OverSampler, cosine scheduling, BCE loss):"
   ]
  },
  {
   "cell_type": "code",
   "execution_count": 1,
   "metadata": {},
   "outputs": [],
   "source": [
    "import sys\n",
    "root = '../'\n",
    "sys.path.append(root)   # Done to be able to import the packages and functions\n",
    "\n",
    "import Utils.hico_evaluation.evaluation as ev\n",
    "from Utils.custom_sampler import OverSampler\n",
    "from Utils.custom_loss import MaskedBCELoss\n",
    "from Utils.annotation_preprocessing import _load_csv_to_tensor\n",
    "from Utils.train_val_split import train_val_split_hico\n",
    "from hoi_classifiers import ElementwiseAvgFusionModel\n",
    "\n",
    "import torch\n",
    "import numpy as np\n",
    "from torch.utils.data import TensorDataset, DataLoader\n",
    "import matplotlib.pyplot as plt\n",
    "\n",
    "import random"
   ]
  },
  {
   "cell_type": "code",
   "execution_count": 2,
   "metadata": {},
   "outputs": [],
   "source": [
    "seed = 42   #note that the model parameters will still be randomly initiated\n",
    "torch.manual_seed(seed)\n",
    "random.seed(seed)"
   ]
  },
  {
   "cell_type": "markdown",
   "metadata": {},
   "source": [
    "### Loading the training set:\n"
   ]
  },
  {
   "cell_type": "code",
   "execution_count": 3,
   "metadata": {},
   "outputs": [],
   "source": [
    "# Loading the data:\n",
    "train_data = torch.load(root + \"Embeddings/Combined_Embeddings/train.pt\")\n",
    "train_annotations = _load_csv_to_tensor(root + \"anno/added/anno_augmented_train.csv\").T # Transpose to make both first dimensions the #samples.\n",
    "train_annotations[train_annotations.isnan()] = -1"
   ]
  },
  {
   "cell_type": "markdown",
   "metadata": {},
   "source": [
    "##### Splitting the training set into a train and validation set:"
   ]
  },
  {
   "cell_type": "code",
   "execution_count": 4,
   "metadata": {},
   "outputs": [],
   "source": [
    "train_idx, validation_idx = train_val_split_hico(train_data, train_annotations, 0.2, seed)\n",
    "X_train, X_val = train_data[train_idx], train_data[validation_idx]\n",
    "y_train, y_val = train_annotations[train_idx], train_annotations[validation_idx]"
   ]
  },
  {
   "cell_type": "markdown",
   "metadata": {},
   "source": [
    "#### Training Preparations:"
   ]
  },
  {
   "cell_type": "code",
   "execution_count": 5,
   "metadata": {},
   "outputs": [],
   "source": [
    "train_dataset = TensorDataset(X_train, y_train)"
   ]
  },
  {
   "cell_type": "code",
   "execution_count": 6,
   "metadata": {},
   "outputs": [],
   "source": [
    "# Batch size:\n",
    "bs = 512\n",
    "\n",
    "sampler = OverSampler(y_train[:,:600], shuffle = True)\n",
    "\n",
    "train_dataloader = DataLoader(\n",
    "    train_dataset, batch_size=bs, num_workers=4, sampler=sampler)\n"
   ]
  },
  {
   "cell_type": "code",
   "execution_count": 7,
   "metadata": {},
   "outputs": [],
   "source": [
    "device = torch.device('cuda:0' if torch.cuda.is_available() else 'cpu')"
   ]
  },
  {
   "cell_type": "code",
   "execution_count": 8,
   "metadata": {},
   "outputs": [],
   "source": [
    "model = ElementwiseAvgFusionModel(512,655,797)\n",
    "model = model.to(device)"
   ]
  },
  {
   "cell_type": "code",
   "execution_count": 9,
   "metadata": {},
   "outputs": [
    {
     "name": "stderr",
     "output_type": "stream",
     "text": [
      "c:\\Users\\rfigg\\.conda\\envs\\PyTorch\\lib\\site-packages\\transformers\\utils\\generic.py:441: UserWarning: torch.utils._pytree._register_pytree_node is deprecated. Please use torch.utils._pytree.register_pytree_node instead.\n",
      "  _torch_pytree._register_pytree_node(\n"
     ]
    }
   ],
   "source": [
    "classweights = torch.cat((torch.ones(600),torch.ones(197)*0.5)).to(device)      # The hoi classes weigh twice as much as the seperate classes\n",
    "criterion = MaskedBCELoss(ignore_label=0, convert_target_to_01= True, weight=classweights)\n",
    "\n",
    "optimizer = torch.optim.Adam(params=model.parameters(), lr=0.0005)\n",
    "scheduler = torch.optim.lr_scheduler.CosineAnnealingWarmRestarts(optimizer, T_0=5, T_mult=1)"
   ]
  },
  {
   "cell_type": "markdown",
   "metadata": {},
   "source": [
    "#### Training loop:"
   ]
  },
  {
   "cell_type": "code",
   "execution_count": 10,
   "metadata": {},
   "outputs": [
    {
     "name": "stdout",
     "output_type": "stream",
     "text": [
      "Epoch 001/200, Loss: 0.112947716545, validation map: 0.009149267412\n",
      "Epoch 002/200, Loss: 0.020974515006, validation map: 0.051855659039\n",
      "Epoch 003/200, Loss: 0.017909592853, validation map: 0.090441307683\n",
      "Epoch 004/200, Loss: 0.016036713866, validation map: 0.110655243220\n",
      "Epoch 005/200, Loss: 0.015290320564, validation map: 0.115883488018\n",
      "Epoch 006/200, Loss: 0.013877613362, validation map: 0.181869016240\n",
      "Epoch 007/200, Loss: 0.011768501682, validation map: 0.236795858832\n",
      "Epoch 008/200, Loss: 0.010512037859, validation map: 0.264373373247\n",
      "Epoch 009/200, Loss: 0.009882080607, validation map: 0.276430775070\n",
      "Epoch 010/200, Loss: 0.009636080979, validation map: 0.280412785449\n",
      "Epoch 011/200, Loss: 0.009225212288, validation map: 0.306739924801\n",
      "Epoch 012/200, Loss: 0.008569250803, validation map: 0.325804050729\n",
      "Epoch 013/200, Loss: 0.008136335229, validation map: 0.338371290573\n",
      "Epoch 014/200, Loss: 0.007894197748, validation map: 0.343790987900\n",
      "Epoch 015/200, Loss: 0.007775024523, validation map: 0.345425548707\n",
      "Epoch 016/200, Loss: 0.007625468159, validation map: 0.359467523837\n",
      "Epoch 017/200, Loss: 0.007293210586, validation map: 0.370804927687\n",
      "Epoch 018/200, Loss: 0.007090109729, validation map: 0.379520847261\n",
      "Epoch 019/200, Loss: 0.006909437215, validation map: 0.382466914481\n",
      "Epoch 020/200, Loss: 0.006853301938, validation map: 0.383343954321\n",
      "Epoch 021/200, Loss: 0.006795339185, validation map: 0.392416808913\n",
      "Epoch 022/200, Loss: 0.006583079135, validation map: 0.400687917431\n",
      "Epoch 023/200, Loss: 0.006432007019, validation map: 0.404990293941\n",
      "Epoch 024/200, Loss: 0.006320854721, validation map: 0.407189777390\n",
      "Epoch 025/200, Loss: 0.006255332452, validation map: 0.407486664015\n",
      "Epoch 026/200, Loss: 0.006230907031, validation map: 0.413186808396\n",
      "Epoch 027/200, Loss: 0.006103670947, validation map: 0.420505506547\n",
      "Epoch 028/200, Loss: 0.005983383962, validation map: 0.424249225619\n",
      "Epoch 029/200, Loss: 0.005885957245, validation map: 0.425744269815\n",
      "Epoch 030/200, Loss: 0.005845800066, validation map: 0.426401037922\n",
      "Epoch 031/200, Loss: 0.005823826041, validation map: 0.430342146143\n",
      "Epoch 032/200, Loss: 0.005728042876, validation map: 0.435331797196\n",
      "Epoch 033/200, Loss: 0.005610677772, validation map: 0.438130376355\n",
      "Epoch 034/200, Loss: 0.005537638429, validation map: 0.439125840220\n",
      "Epoch 035/200, Loss: 0.005494951647, validation map: 0.439458243157\n",
      "Epoch 036/200, Loss: 0.005498574485, validation map: 0.442616621772\n",
      "Epoch 037/200, Loss: 0.005423262142, validation map: 0.445589239940\n",
      "Epoch 038/200, Loss: 0.005330397437, validation map: 0.447271226273\n",
      "Epoch 039/200, Loss: 0.005262926233, validation map: 0.448574162673\n",
      "Epoch 040/200, Loss: 0.005226517287, validation map: 0.448540365358\n",
      "Epoch 041/200, Loss: 0.005221684033, validation map: 0.451329855715\n",
      "Epoch 042/200, Loss: 0.005155161793, validation map: 0.452907781452\n",
      "Epoch 043/200, Loss: 0.005067590355, validation map: 0.453882182286\n",
      "Epoch 044/200, Loss: 0.005021925771, validation map: 0.454325682977\n",
      "Epoch 045/200, Loss: 0.004963280161, validation map: 0.454373152402\n",
      "Epoch 046/200, Loss: 0.004996390637, validation map: 0.455892027041\n",
      "Epoch 047/200, Loss: 0.004919827486, validation map: 0.457071220891\n",
      "Epoch 048/200, Loss: 0.004854523941, validation map: 0.458102193808\n",
      "Epoch 049/200, Loss: 0.004800024813, validation map: 0.458925554337\n",
      "Epoch 050/200, Loss: 0.004768801650, validation map: 0.458943051364\n",
      "Epoch 051/200, Loss: 0.004793439257, validation map: 0.460524391883\n",
      "Epoch 052/200, Loss: 0.004731421926, validation map: 0.461094941535\n",
      "Epoch 053/200, Loss: 0.004662128756, validation map: 0.462984480632\n",
      "Epoch 054/200, Loss: 0.004611158045, validation map: 0.462885115081\n",
      "Epoch 055/200, Loss: 0.004571798849, validation map: 0.462836034636\n",
      "Epoch 056/200, Loss: 0.004612779531, validation map: 0.463260823988\n",
      "Epoch 057/200, Loss: 0.004550559837, validation map: 0.464239352237\n",
      "Epoch 058/200, Loss: 0.004482020057, validation map: 0.465400714830\n",
      "Epoch 059/200, Loss: 0.004444941144, validation map: 0.465856785635\n",
      "Epoch 060/200, Loss: 0.004396437787, validation map: 0.465637363530\n",
      "Epoch 061/200, Loss: 0.004427602109, validation map: 0.466441361403\n",
      "Epoch 062/200, Loss: 0.004371635705, validation map: 0.466880700769\n",
      "Epoch 063/200, Loss: 0.004318910714, validation map: 0.467516078224\n",
      "Epoch 064/200, Loss: 0.004260610694, validation map: 0.468091038483\n",
      "Epoch 065/200, Loss: 0.004230512745, validation map: 0.468215708589\n",
      "Epoch 066/200, Loss: 0.004272099507, validation map: 0.468996563516\n",
      "Epoch 067/200, Loss: 0.004221146962, validation map: 0.469573171595\n",
      "Epoch 068/200, Loss: 0.004161419807, validation map: 0.470171092359\n",
      "Epoch 069/200, Loss: 0.004118731404, validation map: 0.470286448365\n",
      "Epoch 070/200, Loss: 0.004083754089, validation map: 0.470398296136\n",
      "Epoch 071/200, Loss: 0.004115050238, validation map: 0.471103951168\n",
      "Epoch 072/200, Loss: 0.004077554188, validation map: 0.471747007244\n",
      "Epoch 073/200, Loss: 0.004021696325, validation map: 0.471965795724\n",
      "Epoch 074/200, Loss: 0.003976220143, validation map: 0.472138546462\n",
      "Epoch 075/200, Loss: 0.003937539659, validation map: 0.472160476599\n",
      "Epoch 076/200, Loss: 0.003992416093, validation map: 0.472901369783\n",
      "Epoch 077/200, Loss: 0.003948630995, validation map: 0.473116190799\n",
      "Epoch 078/200, Loss: 0.003889707496, validation map: 0.473688363088\n",
      "Epoch 079/200, Loss: 0.003843574970, validation map: 0.473707226961\n",
      "Epoch 080/200, Loss: 0.003814270851, validation map: 0.474000666528\n",
      "Epoch 081/200, Loss: 0.003857738186, validation map: 0.474443578269\n",
      "Epoch 082/200, Loss: 0.003809298610, validation map: 0.474483030394\n",
      "Epoch 083/200, Loss: 0.003760221462, validation map: 0.475194915523\n",
      "Epoch 084/200, Loss: 0.003707464620, validation map: 0.475098605968\n",
      "Epoch 085/200, Loss: 0.003685393950, validation map: 0.475169291727\n",
      "Epoch 086/200, Loss: 0.003727446033, validation map: 0.475502721993\n",
      "Epoch 087/200, Loss: 0.003681933851, validation map: 0.476194852430\n",
      "Epoch 088/200, Loss: 0.003640468313, validation map: 0.476752929131\n",
      "Epoch 089/200, Loss: 0.003595676169, validation map: 0.476085368122\n",
      "Epoch 090/200, Loss: 0.003565661003, validation map: 0.476219250257\n",
      "Epoch 091/200, Loss: 0.003617498692, validation map: 0.477781670235\n",
      "Epoch 092/200, Loss: 0.003569552857, validation map: 0.477453991935\n",
      "Epoch 093/200, Loss: 0.003524051636, validation map: 0.477204894650\n",
      "Epoch 094/200, Loss: 0.003473916718, validation map: 0.477021076164\n",
      "Epoch 095/200, Loss: 0.003449693910, validation map: 0.477158989454\n",
      "Epoch 096/200, Loss: 0.003501954668, validation map: 0.477855439268\n",
      "Epoch 097/200, Loss: 0.003452350227, validation map: 0.478745043933\n",
      "Epoch 098/200, Loss: 0.003414464270, validation map: 0.478623449860\n",
      "Epoch 099/200, Loss: 0.003357828457, validation map: 0.478986043340\n",
      "Epoch 100/200, Loss: 0.003323274041, validation map: 0.479086105335\n",
      "Epoch 101/200, Loss: 0.003396691366, validation map: 0.479547480128\n",
      "Epoch 102/200, Loss: 0.003356822557, validation map: 0.479690854191\n",
      "Epoch 103/200, Loss: 0.003293586943, validation map: 0.478317672036\n",
      "Epoch 104/200, Loss: 0.003260753738, validation map: 0.479159543788\n",
      "Epoch 105/200, Loss: 0.003223823225, validation map: 0.479195029250\n",
      "Epoch 106/200, Loss: 0.003284184391, validation map: 0.477890496484\n",
      "Epoch 107/200, Loss: 0.003250551914, validation map: 0.478127001454\n",
      "Epoch 108/200, Loss: 0.003200658597, validation map: 0.478935955206\n",
      "Epoch 109/200, Loss: 0.003156301762, validation map: 0.478545622507\n",
      "Epoch 110/200, Loss: 0.003120411172, validation map: 0.478473701139\n",
      "Epoch 111/200, Loss: 0.003181828765, validation map: 0.478575867402\n",
      "Epoch 112/200, Loss: 0.003153768864, validation map: 0.478403817899\n",
      "Epoch 113/200, Loss: 0.003096928089, validation map: 0.478328945343\n",
      "Epoch 114/200, Loss: 0.003049959106, validation map: 0.478629227240\n",
      "Epoch 115/200, Loss: 0.003019591367, validation map: 0.478728222949\n",
      "Epoch 116/200, Loss: 0.003075828531, validation map: 0.477514857891\n",
      "Epoch 117/200, Loss: 0.003049495439, validation map: 0.477934736478\n",
      "Epoch 118/200, Loss: 0.003004179802, validation map: 0.478274127085\n",
      "Epoch 119/200, Loss: 0.002960298043, validation map: 0.478147694019\n",
      "Epoch 120/200, Loss: 0.002933810375, validation map: 0.478137598308\n",
      "Epoch 121/200, Loss: 0.002980955697, validation map: 0.478413815981\n",
      "Epoch 122/200, Loss: 0.002956450753, validation map: 0.477529237619\n",
      "Epoch 123/200, Loss: 0.002911312395, validation map: 0.479550702518\n",
      "Epoch 124/200, Loss: 0.002869301765, validation map: 0.478700955558\n",
      "Epoch 125/200, Loss: 0.002832415535, validation map: 0.478722458866\n",
      "Epoch 126/200, Loss: 0.002896918605, validation map: 0.478330915208\n",
      "Epoch 127/200, Loss: 0.002857191219, validation map: 0.478372677025\n",
      "Epoch 128/200, Loss: 0.002823904601, validation map: 0.478389870487\n",
      "Epoch 129/200, Loss: 0.002773484567, validation map: 0.477986992401\n",
      "Epoch 130/200, Loss: 0.002741489330, validation map: 0.478245055250\n",
      "Epoch 131/200, Loss: 0.002801662553, validation map: 0.477949014274\n",
      "Epoch 132/200, Loss: 0.002775865726, validation map: 0.477391856465\n",
      "Epoch 133/200, Loss: 0.002737070493, validation map: 0.477405428110\n",
      "Epoch 134/200, Loss: 0.002689762510, validation map: 0.477333733442\n",
      "Epoch 135/200, Loss: 0.002662714666, validation map: 0.477589506635\n",
      "Epoch 136/200, Loss: 0.002721026143, validation map: 0.476906666540\n",
      "Epoch 137/200, Loss: 0.002690236535, validation map: 0.477520900863\n",
      "Epoch 138/200, Loss: 0.002644195129, validation map: 0.477210003474\n",
      "Epoch 139/200, Loss: 0.002609199570, validation map: 0.477088987665\n",
      "Epoch 140/200, Loss: 0.002574117308, validation map: 0.477210838869\n",
      "Epoch 141/200, Loss: 0.002634768795, validation map: 0.476614979206\n",
      "Epoch 142/200, Loss: 0.002605727074, validation map: 0.476024167076\n",
      "Epoch 143/200, Loss: 0.002565914926, validation map: 0.476610987522\n",
      "Epoch 144/200, Loss: 0.002520027812, validation map: 0.476384637169\n",
      "Epoch 145/200, Loss: 0.002497811458, validation map: 0.476539355056\n",
      "Epoch 146/200, Loss: 0.002557650441, validation map: 0.475792004666\n",
      "Epoch 147/200, Loss: 0.002532443459, validation map: 0.475846869970\n",
      "Epoch 148/200, Loss: 0.002486637089, validation map: 0.475915371396\n",
      "Epoch 149/200, Loss: 0.002447611258, validation map: 0.476008380029\n",
      "Epoch 150/200, Loss: 0.002420068957, validation map: 0.475750632940\n",
      "Epoch 151/200, Loss: 0.002476502117, validation map: 0.475368135418\n",
      "Epoch 152/200, Loss: 0.002453254870, validation map: 0.475969358379\n",
      "Epoch 153/200, Loss: 0.002409576871, validation map: 0.475940269455\n",
      "Epoch 154/200, Loss: 0.002377484131, validation map: 0.475957125245\n",
      "Epoch 155/200, Loss: 0.002342371491, validation map: 0.475672287897\n",
      "Epoch 156/200, Loss: 0.002401949426, validation map: 0.475678588485\n",
      "Epoch 157/200, Loss: 0.002381591177, validation map: 0.475467047918\n",
      "Epoch 158/200, Loss: 0.002338757313, validation map: 0.475775694582\n",
      "Epoch 159/200, Loss: 0.002303921343, validation map: 0.474764015657\n",
      "Epoch 160/200, Loss: 0.002267905947, validation map: 0.475276723113\n",
      "Epoch 161/200, Loss: 0.002338695731, validation map: 0.475361416675\n",
      "Epoch 162/200, Loss: 0.002308444663, validation map: 0.475072093415\n",
      "Epoch 163/200, Loss: 0.002273476575, validation map: 0.474957529470\n",
      "Epoch 164/200, Loss: 0.002230619982, validation map: 0.475010121105\n",
      "Epoch 165/200, Loss: 0.002199384835, validation map: 0.475096882736\n",
      "Epoch 166/200, Loss: 0.002267425581, validation map: 0.475138403593\n",
      "Epoch 167/200, Loss: 0.002241434931, validation map: 0.474631569887\n",
      "Epoch 168/200, Loss: 0.002202663712, validation map: 0.474940907761\n",
      "Epoch 169/200, Loss: 0.002159248823, validation map: 0.474973797990\n",
      "Epoch 170/200, Loss: 0.002132844732, validation map: 0.474992681651\n",
      "Epoch 171/200, Loss: 0.002199465331, validation map: 0.474754494424\n",
      "Epoch 172/200, Loss: 0.002172475302, validation map: 0.474053148509\n",
      "Epoch 173/200, Loss: 0.002134404263, validation map: 0.474222792644\n",
      "Epoch 174/200, Loss: 0.002099893893, validation map: 0.473961663194\n",
      "Epoch 175/200, Loss: 0.002067801275, validation map: 0.473907778950\n",
      "Epoch 176/200, Loss: 0.002136120235, validation map: 0.474150178676\n",
      "Epoch 177/200, Loss: 0.002108481202, validation map: 0.474438201492\n",
      "Epoch 178/200, Loss: 0.002074895434, validation map: 0.473702561857\n",
      "Epoch 179/200, Loss: 0.002034358521, validation map: 0.473564690705\n",
      "Epoch 180/200, Loss: 0.002006876033, validation map: 0.473587809222\n",
      "Epoch 181/200, Loss: 0.002070895081, validation map: 0.473648563038\n",
      "Epoch 182/200, Loss: 0.002048643885, validation map: 0.473706697245\n",
      "Epoch 183/200, Loss: 0.002008460014, validation map: 0.473685212793\n",
      "Epoch 184/200, Loss: 0.001974863355, validation map: 0.473689033860\n",
      "Epoch 185/200, Loss: 0.001942491157, validation map: 0.473653351448\n",
      "Epoch 186/200, Loss: 0.002017590641, validation map: 0.473923793638\n",
      "Epoch 187/200, Loss: 0.001987524205, validation map: 0.473561697517\n",
      "Epoch 188/200, Loss: 0.001952046097, validation map: 0.473289275805\n",
      "Epoch 189/200, Loss: 0.001913107767, validation map: 0.473180809769\n",
      "Epoch 190/200, Loss: 0.001890846310, validation map: 0.473164793906\n",
      "Epoch 191/200, Loss: 0.001947173773, validation map: 0.473011254669\n",
      "Epoch 192/200, Loss: 0.001928660640, validation map: 0.471734446719\n",
      "Epoch 193/200, Loss: 0.001896140269, validation map: 0.471850650518\n",
      "Epoch 194/200, Loss: 0.001858403051, validation map: 0.472321929514\n",
      "Epoch 195/200, Loss: 0.001830203878, validation map: 0.472102909191\n",
      "Epoch 196/200, Loss: 0.001893953674, validation map: 0.471799829209\n",
      "Epoch 197/200, Loss: 0.001873118898, validation map: 0.471592362498\n",
      "Epoch 198/200, Loss: 0.001840580177, validation map: 0.471862103641\n",
      "Epoch 199/200, Loss: 0.001805473767, validation map: 0.472350424609\n",
      "Epoch 200/200, Loss: 0.001777144691, validation map: 0.472099684156\n"
     ]
    }
   ],
   "source": [
    "num_epochs = 200\n",
    "training_loss_per_epoch = np.zeros(200)\n",
    "validation_loss_per_epoch = np.zeros(200)\n",
    "validation_map_per_epoch = np.zeros(200)\n",
    "\n",
    "for epoch in range(num_epochs):\n",
    "    running_loss = 0.0\n",
    "    for inputs, labels in train_dataloader:\n",
    "        inputs = inputs.to(device)\n",
    "        labels = labels.to(device)\n",
    "\n",
    "        optimizer.zero_grad()  # Zero the gradients\n",
    "        outputs = model(inputs)  # Forward pass\n",
    "        loss = criterion(outputs, labels)  # Compute the loss\n",
    "        loss.backward()  # Backward pass\n",
    "        optimizer.step()  # Update the weights\n",
    "\n",
    "        running_loss += loss.item()\n",
    "    \n",
    "    scheduler.step()\n",
    "\n",
    "    with torch.no_grad():\n",
    "        pred = model.forward(X_val.to(device))\n",
    "        # calculate the validation loss:\n",
    "        validation_loss = criterion(pred, y_val.to(device))\n",
    "        # calculate the validation mAP:\n",
    "        validation_aps = ev.eval_vo(pred[:,:600].T.cpu().detach().numpy(), y_val[:,:600].T.numpy(),600)[0]\n",
    "        nr_val_classes = np.sum(validation_aps != None)\n",
    "        validation_map = np.nansum(validation_aps) / nr_val_classes\n",
    "\n",
    "    # add the losses and mAP to the arrays:\n",
    "    training_loss_per_epoch[epoch] = running_loss / len(train_dataloader)\n",
    "    validation_loss_per_epoch[epoch] = validation_loss\n",
    "    validation_map_per_epoch[epoch] = validation_map\n",
    "\n",
    "    print(f\"Epoch {epoch+1:0{len(str(num_epochs))}}/{num_epochs}, Loss: {running_loss/len(train_dataloader):.12f}, validation map: {validation_map:.12f}\")"
   ]
  },
  {
   "cell_type": "markdown",
   "metadata": {},
   "source": [
    "### plotting the training process to select the number of convergence"
   ]
  },
  {
   "cell_type": "code",
   "execution_count": 11,
   "metadata": {},
   "outputs": [
    {
     "data": {
      "text/plain": [
       "[]"
      ]
     },
     "execution_count": 11,
     "metadata": {},
     "output_type": "execute_result"
    },
    {
     "data": {
      "image/png": "[encoded data removed]",
      "text/plain": [
       "<Figure size 800x600 with 1 Axes>"
      ]
     },
     "metadata": {},
     "output_type": "display_data"
    }
   ],
   "source": [
    "plt.figure(figsize=(8,6))\n",
    "plt.plot(np.arange(200), training_loss_per_epoch, color = \"orange\")\n",
    "plt.plot(np.arange(200), validation_loss_per_epoch, color = \"blue\")\n",
    "# plt.plot(np.arange(100), validation_loss_main_per_epoch, color= \"red\")\n",
    "# plt.plot(np.arange(100), validation_loss_side_per_epoch, color = \"purple\")\n",
    "plt.plot(np.arange(200), validation_map_per_epoch/10, color = \"green\")\n",
    "#plt.hlines(0.010051161982119083, 0, 100 , colors=['black'],linestyles=['dotted'])\n",
    "plt.ylim(0,0.1)\n",
    "plt.plot()"
   ]
  },
  {
   "cell_type": "code",
   "execution_count": 12,
   "metadata": {},
   "outputs": [
    {
     "data": {
      "text/plain": [
       "101"
      ]
     },
     "execution_count": 12,
     "metadata": {},
     "output_type": "execute_result"
    }
   ],
   "source": [
    "np.argmax(validation_map_per_epoch)"
   ]
  },
  {
   "cell_type": "code",
   "execution_count": 13,
   "metadata": {},
   "outputs": [
    {
     "data": {
      "text/plain": [
       "89"
      ]
     },
     "execution_count": 13,
     "metadata": {},
     "output_type": "execute_result"
    }
   ],
   "source": [
    "np.argmin(validation_loss_per_epoch)"
   ]
  }
 ],
 "metadata": {
  "kernelspec": {
   "display_name": "PyTorch",
   "language": "python",
   "name": "python3"
  },
  "language_info": {
   "codemirror_mode": {
    "name": "ipython",
    "version": 3
   },
   "file_extension": ".py",
   "mimetype": "text/x-python",
   "name": "python",
   "nbconvert_exporter": "python",
   "pygments_lexer": "ipython3",
   "version": "3.10.13"
  }
 },
 "nbformat": 4,
 "nbformat_minor": 2
}
