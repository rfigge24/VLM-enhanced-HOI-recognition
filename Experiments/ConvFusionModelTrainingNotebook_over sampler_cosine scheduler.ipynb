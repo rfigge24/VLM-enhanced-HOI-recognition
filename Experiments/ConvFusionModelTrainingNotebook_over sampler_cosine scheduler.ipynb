{
 "cells": [
  {
   "cell_type": "markdown",
   "metadata": {},
   "source": [
    "# 1x1 Convolution Fusion model training (oversampler, cosine scheduler, BCE loss):"
   ]
  },
  {
   "cell_type": "code",
   "execution_count": 1,
   "metadata": {},
   "outputs": [],
   "source": [
    "import sys\n",
    "root = '../'\n",
    "sys.path.append(root)   # Done to be able to import the packages and functions\n",
    "\n",
    "import Utils.hico_evaluation.evaluation as ev\n",
    "from Utils.custom_sampler import OverSampler\n",
    "from Utils.custom_loss import MaskedBCELoss\n",
    "from Utils.annotation_preprocessing import _load_csv_to_tensor\n",
    "from Utils.train_val_split import train_val_split_hico\n",
    "from hoi_classifiers import ConvolutionFusionModel\n",
    "\n",
    "import torch\n",
    "import numpy as np\n",
    "from torch.utils.data import TensorDataset, DataLoader\n",
    "import matplotlib.pyplot as plt\n",
    "\n",
    "import random"
   ]
  },
  {
   "cell_type": "code",
   "execution_count": 2,
   "metadata": {},
   "outputs": [],
   "source": [
    "seed = 42   #note that the model parameters will still be randomly initiated\n",
    "torch.manual_seed(seed)\n",
    "random.seed(seed)"
   ]
  },
  {
   "cell_type": "markdown",
   "metadata": {},
   "source": [
    "### Loading the training set:\n"
   ]
  },
  {
   "cell_type": "code",
   "execution_count": 3,
   "metadata": {},
   "outputs": [],
   "source": [
    "# Loading the data:\n",
    "train_data = torch.load(root + \"Embeddings/Combined_Embeddings/train.pt\")\n",
    "train_annotations = _load_csv_to_tensor(root + \"anno/added/anno_augmented_train.csv\").T # Transpose to make both first dimensions the #samples.\n",
    "train_annotations[train_annotations.isnan()] = -1"
   ]
  },
  {
   "cell_type": "markdown",
   "metadata": {},
   "source": [
    "##### Splitting the training set into a train and validation set:"
   ]
  },
  {
   "cell_type": "code",
   "execution_count": 4,
   "metadata": {},
   "outputs": [],
   "source": [
    "train_idx, validation_idx = train_val_split_hico(train_data, train_annotations, 0.2, seed)\n",
    "X_train, X_val = train_data[train_idx], train_data[validation_idx]\n",
    "y_train, y_val = train_annotations[train_idx], train_annotations[validation_idx]"
   ]
  },
  {
   "cell_type": "markdown",
   "metadata": {},
   "source": [
    "#### Training Preparations:"
   ]
  },
  {
   "cell_type": "code",
   "execution_count": 5,
   "metadata": {},
   "outputs": [],
   "source": [
    "train_dataset = TensorDataset(X_train, y_train)"
   ]
  },
  {
   "cell_type": "code",
   "execution_count": 6,
   "metadata": {},
   "outputs": [],
   "source": [
    "# Batch size:\n",
    "bs = 512\n",
    "\n",
    "sampler = OverSampler(y_train[:,:600], shuffle=True)\n",
    "\n",
    "train_dataloader = DataLoader(\n",
    "    train_dataset, batch_size=bs, num_workers=4, sampler=sampler)\n"
   ]
  },
  {
   "cell_type": "code",
   "execution_count": 7,
   "metadata": {},
   "outputs": [],
   "source": [
    "device = torch.device('cuda:0' if torch.cuda.is_available() else 'cpu')"
   ]
  },
  {
   "cell_type": "code",
   "execution_count": 8,
   "metadata": {},
   "outputs": [],
   "source": [
    "nr_of_kernels = 1\n",
    "model = ConvolutionFusionModel(512,5, nr_of_kernels, 655, 797)\n",
    "model = model.to(device)"
   ]
  },
  {
   "cell_type": "code",
   "execution_count": 9,
   "metadata": {},
   "outputs": [
    {
     "name": "stderr",
     "output_type": "stream",
     "text": [
      "c:\\Users\\rfigg\\.conda\\envs\\PyTorch\\lib\\site-packages\\transformers\\utils\\generic.py:441: UserWarning: torch.utils._pytree._register_pytree_node is deprecated. Please use torch.utils._pytree.register_pytree_node instead.\n",
      "  _torch_pytree._register_pytree_node(\n"
     ]
    }
   ],
   "source": [
    "classweights = torch.cat((torch.ones(600),torch.ones(197)*0.5)).to(device)      # The hoi classes weigh twice as much as the seperate classes\n",
    "\n",
    "criterion = MaskedBCELoss(ignore_label=0, convert_target_to_01= True, weight=classweights)\n",
    "\n",
    "optimizer = torch.optim.Adam(params=model.parameters(), lr=0.0005)\n",
    "scheduler = torch.optim.lr_scheduler.CosineAnnealingWarmRestarts(optimizer, T_0=5, T_mult=1)"
   ]
  },
  {
   "cell_type": "markdown",
   "metadata": {},
   "source": [
    "#### Training loop:"
   ]
  },
  {
   "cell_type": "code",
   "execution_count": 10,
   "metadata": {},
   "outputs": [
    {
     "name": "stdout",
     "output_type": "stream",
     "text": [
      "Epoch 001/200, Loss: 0.126534315757, validation map: 0.007506626480\n",
      "Epoch 002/200, Loss: 0.022300893990, validation map: 0.015021941647\n",
      "Epoch 003/200, Loss: 0.021448085013, validation map: 0.024023171820\n",
      "Epoch 004/200, Loss: 0.020666406418, validation map: 0.029857198747\n",
      "Epoch 005/200, Loss: 0.020278741367, validation map: 0.031445028153\n",
      "Epoch 006/200, Loss: 0.019469636325, validation map: 0.052707010709\n",
      "Epoch 007/200, Loss: 0.017772371093, validation map: 0.083636634866\n",
      "Epoch 008/200, Loss: 0.016231769923, validation map: 0.103892391010\n",
      "Epoch 009/200, Loss: 0.015299749370, validation map: 0.113747162521\n",
      "Epoch 010/200, Loss: 0.014914110781, validation map: 0.117008804730\n",
      "Epoch 011/200, Loss: 0.014112104972, validation map: 0.154549080433\n",
      "Epoch 012/200, Loss: 0.012713070087, validation map: 0.201858250164\n",
      "Epoch 013/200, Loss: 0.011605460615, validation map: 0.237120486699\n",
      "Epoch 014/200, Loss: 0.010904441576, validation map: 0.253620784606\n",
      "Epoch 015/200, Loss: 0.010588375577, validation map: 0.258221600528\n",
      "Epoch 016/200, Loss: 0.010032298378, validation map: 0.296662358027\n",
      "Epoch 017/200, Loss: 0.009052188386, validation map: 0.328437045214\n",
      "Epoch 018/200, Loss: 0.008387297123, validation map: 0.344310989920\n",
      "Epoch 019/200, Loss: 0.007966697616, validation map: 0.351727988871\n",
      "Epoch 020/200, Loss: 0.007804078492, validation map: 0.353685716689\n",
      "Epoch 021/200, Loss: 0.007599129168, validation map: 0.373949093942\n",
      "Epoch 022/200, Loss: 0.007146572079, validation map: 0.389435778008\n",
      "Epoch 023/200, Loss: 0.006822795518, validation map: 0.398836982009\n",
      "Epoch 024/200, Loss: 0.006633993113, validation map: 0.402344211965\n",
      "Epoch 025/200, Loss: 0.006520013235, validation map: 0.401913893935\n",
      "Epoch 026/200, Loss: 0.006435135964, validation map: 0.410633773900\n",
      "Epoch 027/200, Loss: 0.006223036508, validation map: 0.416403546057\n",
      "Epoch 028/200, Loss: 0.006011319586, validation map: 0.421056086154\n",
      "Epoch 029/200, Loss: 0.005867810472, validation map: 0.422557593489\n",
      "Epoch 030/200, Loss: 0.005815523462, validation map: 0.423203133299\n",
      "Epoch 031/200, Loss: 0.005771405714, validation map: 0.427843128776\n",
      "Epoch 032/200, Loss: 0.005613646058, validation map: 0.431502235401\n",
      "Epoch 033/200, Loss: 0.005452430461, validation map: 0.434528844797\n",
      "Epoch 034/200, Loss: 0.005357110473, validation map: 0.436481022638\n",
      "Epoch 035/200, Loss: 0.005306807896, validation map: 0.437490781511\n",
      "Epoch 036/200, Loss: 0.005307815378, validation map: 0.441408203651\n",
      "Epoch 037/200, Loss: 0.005195230962, validation map: 0.445392516584\n",
      "Epoch 038/200, Loss: 0.005051035810, validation map: 0.447665055353\n",
      "Epoch 039/200, Loss: 0.004979768953, validation map: 0.448608275506\n",
      "Epoch 040/200, Loss: 0.004912692206, validation map: 0.448481115211\n",
      "Epoch 041/200, Loss: 0.004923246055, validation map: 0.453982154942\n",
      "Epoch 042/200, Loss: 0.004830204965, validation map: 0.457473776175\n",
      "Epoch 043/200, Loss: 0.004720334823, validation map: 0.459191404773\n",
      "Epoch 044/200, Loss: 0.004648206570, validation map: 0.459704085616\n",
      "Epoch 045/200, Loss: 0.004583637320, validation map: 0.460042567312\n",
      "Epoch 046/200, Loss: 0.004623381188, validation map: 0.461541697332\n",
      "Epoch 047/200, Loss: 0.004531133347, validation map: 0.463635962659\n",
      "Epoch 048/200, Loss: 0.004437519667, validation map: 0.465681208671\n",
      "Epoch 049/200, Loss: 0.004359846965, validation map: 0.466613024318\n",
      "Epoch 050/200, Loss: 0.004319232629, validation map: 0.466494445264\n",
      "Epoch 051/200, Loss: 0.004349962510, validation map: 0.468105098637\n",
      "Epoch 052/200, Loss: 0.004272980001, validation map: 0.469543836803\n",
      "Epoch 053/200, Loss: 0.004167863299, validation map: 0.470581490764\n",
      "Epoch 054/200, Loss: 0.004104062339, validation map: 0.469664887324\n",
      "Epoch 055/200, Loss: 0.004052281699, validation map: 0.469653265287\n",
      "Epoch 056/200, Loss: 0.004117836925, validation map: 0.471791257795\n",
      "Epoch 057/200, Loss: 0.004033868568, validation map: 0.472582795581\n",
      "Epoch 058/200, Loss: 0.003925852361, validation map: 0.473847956122\n",
      "Epoch 059/200, Loss: 0.003877940665, validation map: 0.474025652037\n",
      "Epoch 060/200, Loss: 0.003821768580, validation map: 0.474253555046\n",
      "Epoch 061/200, Loss: 0.003878197994, validation map: 0.474982719344\n",
      "Epoch 062/200, Loss: 0.003790684579, validation map: 0.474255990633\n",
      "Epoch 063/200, Loss: 0.003712943931, validation map: 0.475275208452\n",
      "Epoch 064/200, Loss: 0.003636094198, validation map: 0.475379440997\n",
      "Epoch 065/200, Loss: 0.003588743033, validation map: 0.475308320309\n",
      "Epoch 066/200, Loss: 0.003652784117, validation map: 0.475696900161\n",
      "Epoch 067/200, Loss: 0.003575776904, validation map: 0.477408420966\n",
      "Epoch 068/200, Loss: 0.003488204875, validation map: 0.477267567794\n",
      "Epoch 069/200, Loss: 0.003421436971, validation map: 0.477314767152\n",
      "Epoch 070/200, Loss: 0.003366717221, validation map: 0.477140968079\n",
      "Epoch 071/200, Loss: 0.003425245696, validation map: 0.477085606608\n",
      "Epoch 072/200, Loss: 0.003363826742, validation map: 0.477311881565\n",
      "Epoch 073/200, Loss: 0.003274032136, validation map: 0.477350678923\n",
      "Epoch 074/200, Loss: 0.003199337779, validation map: 0.477213270339\n",
      "Epoch 075/200, Loss: 0.003155129123, validation map: 0.477513365027\n",
      "Epoch 076/200, Loss: 0.003222365520, validation map: 0.476047931065\n",
      "Epoch 077/200, Loss: 0.003159097336, validation map: 0.475739766419\n",
      "Epoch 078/200, Loss: 0.003068055513, validation map: 0.476880778926\n",
      "Epoch 079/200, Loss: 0.002984853912, validation map: 0.476680969149\n",
      "Epoch 080/200, Loss: 0.002939216885, validation map: 0.476300061432\n",
      "Epoch 081/200, Loss: 0.003010082474, validation map: 0.475382676619\n",
      "Epoch 082/200, Loss: 0.002951194831, validation map: 0.475726437997\n",
      "Epoch 083/200, Loss: 0.002854897626, validation map: 0.476191595554\n",
      "Epoch 084/200, Loss: 0.002782766958, validation map: 0.476067704818\n",
      "Epoch 085/200, Loss: 0.002725252416, validation map: 0.476415980496\n",
      "Epoch 086/200, Loss: 0.002806229809, validation map: 0.476461196244\n",
      "Epoch 087/200, Loss: 0.002732271732, validation map: 0.475151989659\n",
      "Epoch 088/200, Loss: 0.002655229206, validation map: 0.475981564624\n",
      "Epoch 089/200, Loss: 0.002574609700, validation map: 0.474756030516\n",
      "Epoch 090/200, Loss: 0.002511751110, validation map: 0.475395117927\n",
      "Epoch 091/200, Loss: 0.002611812225, validation map: 0.474275238140\n",
      "Epoch 092/200, Loss: 0.002535799088, validation map: 0.473245430239\n",
      "Epoch 093/200, Loss: 0.002444795052, validation map: 0.472685927285\n",
      "Epoch 094/200, Loss: 0.002360444495, validation map: 0.473338950560\n",
      "Epoch 095/200, Loss: 0.002304665595, validation map: 0.473259275292\n",
      "Epoch 096/200, Loss: 0.002409952406, validation map: 0.470919337787\n",
      "Epoch 097/200, Loss: 0.002331788481, validation map: 0.470947534270\n",
      "Epoch 098/200, Loss: 0.002240341966, validation map: 0.469937445479\n",
      "Epoch 099/200, Loss: 0.002157857776, validation map: 0.469751692109\n",
      "Epoch 100/200, Loss: 0.002101079410, validation map: 0.469765759931\n",
      "Epoch 101/200, Loss: 0.002202258872, validation map: 0.470825173507\n",
      "Epoch 102/200, Loss: 0.002136387986, validation map: 0.469142272128\n",
      "Epoch 103/200, Loss: 0.002038334652, validation map: 0.468891363832\n",
      "Epoch 104/200, Loss: 0.001959388201, validation map: 0.468387587500\n",
      "Epoch 105/200, Loss: 0.001901003122, validation map: 0.468066076096\n",
      "Epoch 106/200, Loss: 0.002010142563, validation map: 0.468083886768\n",
      "Epoch 107/200, Loss: 0.001943991837, validation map: 0.466722814087\n",
      "Epoch 108/200, Loss: 0.001850442938, validation map: 0.468055733516\n",
      "Epoch 109/200, Loss: 0.001765536780, validation map: 0.466237993180\n",
      "Epoch 110/200, Loss: 0.001708545364, validation map: 0.466145221705\n",
      "Epoch 111/200, Loss: 0.001823773557, validation map: 0.465424377292\n",
      "Epoch 112/200, Loss: 0.001755066535, validation map: 0.465208354939\n",
      "Epoch 113/200, Loss: 0.001666677028, validation map: 0.464400620680\n",
      "Epoch 114/200, Loss: 0.001580585417, validation map: 0.464732927635\n",
      "Epoch 115/200, Loss: 0.001523818291, validation map: 0.464779740214\n",
      "Epoch 116/200, Loss: 0.001631601063, validation map: 0.463016536370\n",
      "Epoch 117/200, Loss: 0.001579165290, validation map: 0.463845196785\n",
      "Epoch 118/200, Loss: 0.001489794271, validation map: 0.463201270692\n",
      "Epoch 119/200, Loss: 0.001406743628, validation map: 0.462968181532\n",
      "Epoch 120/200, Loss: 0.001357112169, validation map: 0.463049895464\n",
      "Epoch 121/200, Loss: 0.001461073797, validation map: 0.462588670013\n",
      "Epoch 122/200, Loss: 0.001412472165, validation map: 0.462183292954\n",
      "Epoch 123/200, Loss: 0.001321687838, validation map: 0.461284163409\n",
      "Epoch 124/200, Loss: 0.001247168141, validation map: 0.461072259667\n",
      "Epoch 125/200, Loss: 0.001193265777, validation map: 0.461130579045\n",
      "Epoch 126/200, Loss: 0.001307636887, validation map: 0.460981435838\n",
      "Epoch 127/200, Loss: 0.001247767143, validation map: 0.459947662547\n",
      "Epoch 128/200, Loss: 0.001171727590, validation map: 0.460386237784\n",
      "Epoch 129/200, Loss: 0.001098274886, validation map: 0.460168808653\n",
      "Epoch 130/200, Loss: 0.001050109020, validation map: 0.460293401175\n",
      "Epoch 131/200, Loss: 0.001161410584, validation map: 0.459941032684\n",
      "Epoch 132/200, Loss: 0.001102762407, validation map: 0.459487306629\n",
      "Epoch 133/200, Loss: 0.001034710252, validation map: 0.459093723978\n",
      "Epoch 134/200, Loss: 0.000962345231, validation map: 0.459024119481\n",
      "Epoch 135/200, Loss: 0.000918944527, validation map: 0.458739220698\n",
      "Epoch 136/200, Loss: 0.001017457526, validation map: 0.458188297772\n",
      "Epoch 137/200, Loss: 0.000975316338, validation map: 0.458494394384\n",
      "Epoch 138/200, Loss: 0.000902997463, validation map: 0.457701796386\n",
      "Epoch 139/200, Loss: 0.000840689071, validation map: 0.457974638533\n",
      "Epoch 140/200, Loss: 0.000798468920, validation map: 0.458021114908\n",
      "Epoch 141/200, Loss: 0.000889637957, validation map: 0.457886628756\n",
      "Epoch 142/200, Loss: 0.000855759556, validation map: 0.457148509577\n",
      "Epoch 143/200, Loss: 0.000791192673, validation map: 0.457126267247\n",
      "Epoch 144/200, Loss: 0.000733298229, validation map: 0.457470567504\n",
      "Epoch 145/200, Loss: 0.000693416155, validation map: 0.457395061071\n",
      "Epoch 146/200, Loss: 0.000787290644, validation map: 0.456832554989\n",
      "Epoch 147/200, Loss: 0.000747599813, validation map: 0.456757862776\n",
      "Epoch 148/200, Loss: 0.000690823671, validation map: 0.456697804853\n",
      "Epoch 149/200, Loss: 0.000634411964, validation map: 0.456524527021\n",
      "Epoch 150/200, Loss: 0.000600838687, validation map: 0.456593262491\n",
      "Epoch 151/200, Loss: 0.000680528397, validation map: 0.455630013790\n",
      "Epoch 152/200, Loss: 0.000650038168, validation map: 0.456242536659\n",
      "Epoch 153/200, Loss: 0.000602697747, validation map: 0.455735132383\n",
      "Epoch 154/200, Loss: 0.000549897781, validation map: 0.455643076944\n",
      "Epoch 155/200, Loss: 0.000518670463, validation map: 0.455741691302\n",
      "Epoch 156/200, Loss: 0.000593575894, validation map: 0.455483979027\n",
      "Epoch 157/200, Loss: 0.000560538118, validation map: 0.455694107238\n",
      "Epoch 158/200, Loss: 0.000516868148, validation map: 0.454925922053\n",
      "Epoch 159/200, Loss: 0.000477014716, validation map: 0.455223591033\n",
      "Epoch 160/200, Loss: 0.000445596772, validation map: 0.455535138252\n",
      "Epoch 161/200, Loss: 0.000521835768, validation map: 0.454599153022\n",
      "Epoch 162/200, Loss: 0.000494082114, validation map: 0.454251321701\n",
      "Epoch 163/200, Loss: 0.000448650600, validation map: 0.453855560607\n",
      "Epoch 164/200, Loss: 0.000407517754, validation map: 0.453908803102\n",
      "Epoch 165/200, Loss: 0.000383454648, validation map: 0.454025108654\n",
      "Epoch 166/200, Loss: 0.000453925487, validation map: 0.453843505239\n",
      "Epoch 167/200, Loss: 0.000431257599, validation map: 0.453297071984\n",
      "Epoch 168/200, Loss: 0.000385166350, validation map: 0.453416925059\n",
      "Epoch 169/200, Loss: 0.000351308008, validation map: 0.453746805159\n",
      "Epoch 170/200, Loss: 0.000328238116, validation map: 0.453705704663\n",
      "Epoch 171/200, Loss: 0.000388475607, validation map: 0.452873780839\n",
      "Epoch 172/200, Loss: 0.000371305865, validation map: 0.452797791866\n",
      "Epoch 173/200, Loss: 0.000332822986, validation map: 0.452437859671\n",
      "Epoch 174/200, Loss: 0.000299378807, validation map: 0.453232036797\n",
      "Epoch 175/200, Loss: 0.000280360907, validation map: 0.452758632348\n",
      "Epoch 176/200, Loss: 0.000338382906, validation map: 0.452502149505\n",
      "Epoch 177/200, Loss: 0.000319922450, validation map: 0.452375044579\n",
      "Epoch 178/200, Loss: 0.000286885911, validation map: 0.452041107335\n",
      "Epoch 179/200, Loss: 0.000256627803, validation map: 0.452339349539\n",
      "Epoch 180/200, Loss: 0.000238105624, validation map: 0.452462867391\n",
      "Epoch 181/200, Loss: 0.000285157695, validation map: 0.452126295672\n",
      "Epoch 182/200, Loss: 0.000273753987, validation map: 0.451431892725\n",
      "Epoch 183/200, Loss: 0.000244415642, validation map: 0.451465377190\n",
      "Epoch 184/200, Loss: 0.000217902648, validation map: 0.451432175184\n",
      "Epoch 185/200, Loss: 0.000201263347, validation map: 0.451742937770\n",
      "Epoch 186/200, Loss: 0.000248729357, validation map: 0.450903864159\n",
      "Epoch 187/200, Loss: 0.000233918500, validation map: 0.450747271265\n",
      "Epoch 188/200, Loss: 0.000208590359, validation map: 0.450184487546\n",
      "Epoch 189/200, Loss: 0.000185025616, validation map: 0.449938150685\n",
      "Epoch 190/200, Loss: 0.000169996409, validation map: 0.450048462153\n",
      "Epoch 191/200, Loss: 0.000210445585, validation map: 0.450036340393\n",
      "Epoch 192/200, Loss: 0.000200414470, validation map: 0.448847604406\n",
      "Epoch 193/200, Loss: 0.000177434208, validation map: 0.450053373623\n",
      "Epoch 194/200, Loss: 0.000155802192, validation map: 0.450282249994\n",
      "Epoch 195/200, Loss: 0.000142535855, validation map: 0.450427093841\n",
      "Epoch 196/200, Loss: 0.000180366534, validation map: 0.449731748454\n",
      "Epoch 197/200, Loss: 0.000177764702, validation map: 0.448729103779\n",
      "Epoch 198/200, Loss: 0.000149624237, validation map: 0.448176599345\n",
      "Epoch 199/200, Loss: 0.000130549797, validation map: 0.448182159420\n",
      "Epoch 200/200, Loss: 0.000119226882, validation map: 0.448046924215\n"
     ]
    }
   ],
   "source": [
    "num_epochs = 200\n",
    "training_loss_per_epoch = np.zeros(200)\n",
    "validation_loss_per_epoch = np.zeros(200)\n",
    "validation_map_per_epoch = np.zeros(200)\n",
    "\n",
    "for epoch in range(num_epochs):\n",
    "    running_loss = 0.0\n",
    "    for inputs, labels in train_dataloader:\n",
    "        inputs = inputs.to(device)\n",
    "        labels = labels.to(device)\n",
    "\n",
    "        optimizer.zero_grad()  # Zero the gradients\n",
    "        outputs = model(inputs)  # Forward pass\n",
    "        loss = criterion(outputs, labels)  # Compute the loss\n",
    "        loss.backward()  # Backward pass\n",
    "        optimizer.step()  # Update the weights\n",
    "\n",
    "        running_loss += loss.item()\n",
    "    \n",
    "    scheduler.step()\n",
    "    \n",
    "    with torch.no_grad():\n",
    "        pred = model.forward(X_val.to(device))\n",
    "        # calculate the validation loss:\n",
    "        validation_loss = criterion(pred, y_val.to(device))\n",
    "        # calculate the validation mAP:\n",
    "        validation_aps = ev.eval_vo(pred[:,:600].T.cpu().detach().numpy(), y_val[:,:600].T.numpy(),600)[0]\n",
    "        nr_val_classes = np.sum(validation_aps != None)\n",
    "        validation_map = np.nansum(validation_aps) / nr_val_classes\n",
    "\n",
    "    # add the losses and mAP to the arrays:\n",
    "    training_loss_per_epoch[epoch] = running_loss / len(train_dataloader)\n",
    "    validation_loss_per_epoch[epoch] = validation_loss\n",
    "    validation_map_per_epoch[epoch] = validation_map\n",
    "\n",
    "    print(f\"Epoch {epoch+1:0{len(str(num_epochs))}}/{num_epochs}, Loss: {running_loss/len(train_dataloader):.12f}, validation map: {validation_map:.12f}\")"
   ]
  },
  {
   "cell_type": "code",
   "execution_count": 15,
   "metadata": {},
   "outputs": [
    {
     "data": {
      "text/plain": [
       "[]"
      ]
     },
     "execution_count": 15,
     "metadata": {},
     "output_type": "execute_result"
    },
    {
     "data": {
      "image/png": "[encoded data removed]",
      "text/plain": [
       "<Figure size 800x600 with 1 Axes>"
      ]
     },
     "metadata": {},
     "output_type": "display_data"
    }
   ],
   "source": [
    "plt.figure(figsize=(8,6))\n",
    "plt.plot(np.arange(200), training_loss_per_epoch, color = \"orange\")\n",
    "plt.plot(np.arange(200), validation_loss_per_epoch, color = \"blue\")\n",
    "# plt.plot(np.arange(100), validation_loss_main_per_epoch, color= \"red\")\n",
    "# plt.plot(np.arange(100), validation_loss_side_per_epoch, color = \"purple\")\n",
    "plt.plot(np.arange(200), validation_map_per_epoch/10, color = \"green\")\n",
    "# plt.hlines(0.008948157541453838, 0, 100 , colors=['black'],linestyles=['dotted'])\n",
    "plt.ylim(0,0.06)\n",
    "plt.plot()"
   ]
  },
  {
   "cell_type": "code",
   "execution_count": 12,
   "metadata": {},
   "outputs": [
    {
     "data": {
      "text/plain": [
       "74"
      ]
     },
     "execution_count": 12,
     "metadata": {},
     "output_type": "execute_result"
    }
   ],
   "source": [
    "np.argmax(validation_map_per_epoch)"
   ]
  },
  {
   "cell_type": "code",
   "execution_count": 13,
   "metadata": {},
   "outputs": [
    {
     "data": {
      "text/plain": [
       "64"
      ]
     },
     "execution_count": 13,
     "metadata": {},
     "output_type": "execute_result"
    }
   ],
   "source": [
    "np.argmin(validation_loss_per_epoch)"
   ]
  }
 ],
 "metadata": {
  "kernelspec": {
   "display_name": "PyTorch",
   "language": "python",
   "name": "python3"
  },
  "language_info": {
   "codemirror_mode": {
    "name": "ipython",
    "version": 3
   },
   "file_extension": ".py",
   "mimetype": "text/x-python",
   "name": "python",
   "nbconvert_exporter": "python",
   "pygments_lexer": "ipython3",
   "version": "3.10.13"
  }
 },
 "nbformat": 4,
 "nbformat_minor": 2
}
