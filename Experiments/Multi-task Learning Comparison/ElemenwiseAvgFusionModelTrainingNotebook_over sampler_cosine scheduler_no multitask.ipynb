{
 "cells": [
  {
   "cell_type": "markdown",
   "metadata": {},
   "source": [
    "# Elementwise Average Fusion model training (OverSampler, cosine scheduling, BCE loss without multitask learning):"
   ]
  },
  {
   "cell_type": "code",
   "execution_count": 1,
   "metadata": {},
   "outputs": [],
   "source": [
    "import sys\n",
    "root = '../../'\n",
    "sys.path.append(root)   # Done to be able to import the packages and functions\n",
    "\n",
    "import Utils.hico_evaluation.evaluation as ev\n",
    "from Utils.custom_sampler import OverSampler\n",
    "from Utils.custom_loss import MaskedBCELoss\n",
    "from Utils.annotation_preprocessing import _load_csv_to_tensor\n",
    "from Utils.train_val_split import train_val_split_hico\n",
    "from hoi_classifiers import ElementwiseAvgFusionModel\n",
    "\n",
    "import torch\n",
    "import numpy as np\n",
    "from torch.utils.data import TensorDataset, DataLoader\n",
    "import matplotlib.pyplot as plt\n",
    "\n",
    "import random"
   ]
  },
  {
   "cell_type": "code",
   "execution_count": 2,
   "metadata": {},
   "outputs": [],
   "source": [
    "seed = 42   #note that the model parameters will still be randomly initiated\n",
    "torch.manual_seed(seed)\n",
    "random.seed(seed)"
   ]
  },
  {
   "cell_type": "markdown",
   "metadata": {},
   "source": [
    "### Loading the training set:\n"
   ]
  },
  {
   "cell_type": "code",
   "execution_count": 3,
   "metadata": {},
   "outputs": [],
   "source": [
    "# Loading the data:\n",
    "train_data = torch.load(root + \"Embeddings/Combined_Embeddings/train.pt\")\n",
    "train_annotations = _load_csv_to_tensor(root + \"anno/added/anno_augmented_train.csv\").T[:,:600] # Transpose to make both first dimensions the #samples.\n",
    "train_annotations[train_annotations.isnan()] = -1"
   ]
  },
  {
   "cell_type": "markdown",
   "metadata": {},
   "source": [
    "##### Splitting the training set into a train and validation set:"
   ]
  },
  {
   "cell_type": "code",
   "execution_count": 4,
   "metadata": {},
   "outputs": [],
   "source": [
    "train_idx, validation_idx = train_val_split_hico(train_data, train_annotations, 0.2, seed)\n",
    "X_train, X_val = train_data[train_idx], train_data[validation_idx]\n",
    "y_train, y_val = train_annotations[train_idx], train_annotations[validation_idx]"
   ]
  },
  {
   "cell_type": "markdown",
   "metadata": {},
   "source": [
    "#### Training Preparations:"
   ]
  },
  {
   "cell_type": "code",
   "execution_count": 5,
   "metadata": {},
   "outputs": [],
   "source": [
    "train_dataset = TensorDataset(X_train, y_train)"
   ]
  },
  {
   "cell_type": "code",
   "execution_count": 6,
   "metadata": {},
   "outputs": [],
   "source": [
    "# Batch size:\n",
    "bs = 512\n",
    "\n",
    "sampler = OverSampler(y_train, shuffle = True)\n",
    "\n",
    "train_dataloader = DataLoader(\n",
    "    train_dataset, batch_size=bs, num_workers=4, sampler=sampler)\n"
   ]
  },
  {
   "cell_type": "code",
   "execution_count": 7,
   "metadata": {},
   "outputs": [],
   "source": [
    "device = torch.device('cuda:0' if torch.cuda.is_available() else 'cpu')"
   ]
  },
  {
   "cell_type": "code",
   "execution_count": 8,
   "metadata": {},
   "outputs": [],
   "source": [
    "model = ElementwiseAvgFusionModel(512,655,600)\n",
    "model = model.to(device)"
   ]
  },
  {
   "cell_type": "code",
   "execution_count": 9,
   "metadata": {},
   "outputs": [
    {
     "name": "stderr",
     "output_type": "stream",
     "text": [
      "c:\\Users\\rfigg\\.conda\\envs\\PyTorch\\lib\\site-packages\\transformers\\utils\\generic.py:441: UserWarning: torch.utils._pytree._register_pytree_node is deprecated. Please use torch.utils._pytree.register_pytree_node instead.\n",
      "  _torch_pytree._register_pytree_node(\n"
     ]
    }
   ],
   "source": [
    "classweights = torch.ones(600).to(device)      # The hoi classes weigh twice as much as the seperate classes\n",
    "criterion = MaskedBCELoss(ignore_label=0, convert_target_to_01= True, weight=classweights)\n",
    "\n",
    "optimizer = torch.optim.Adam(params=model.parameters(), lr=0.0005)\n",
    "scheduler = torch.optim.lr_scheduler.CosineAnnealingWarmRestarts(optimizer, T_0=5, T_mult=1)"
   ]
  },
  {
   "cell_type": "markdown",
   "metadata": {},
   "source": [
    "#### Training loop:"
   ]
  },
  {
   "cell_type": "code",
   "execution_count": 10,
   "metadata": {},
   "outputs": [
    {
     "name": "stdout",
     "output_type": "stream",
     "text": [
      "Epoch 001/200, Loss: 0.124711093732, validation map: 0.009550741965\n",
      "Epoch 002/200, Loss: 0.018458921677, validation map: 0.051946236300\n",
      "Epoch 003/200, Loss: 0.015954287615, validation map: 0.088809202795\n",
      "Epoch 004/200, Loss: 0.014377471274, validation map: 0.109960776352\n",
      "Epoch 005/200, Loss: 0.013752470127, validation map: 0.115930282590\n",
      "Epoch 006/200, Loss: 0.012504020025, validation map: 0.179693296030\n",
      "Epoch 007/200, Loss: 0.010607890892, validation map: 0.227011128140\n",
      "Epoch 008/200, Loss: 0.009368632108, validation map: 0.257486047113\n",
      "Epoch 009/200, Loss: 0.008724731847, validation map: 0.270157392957\n",
      "Epoch 010/200, Loss: 0.008485323224, validation map: 0.272956845637\n",
      "Epoch 011/200, Loss: 0.008050306145, validation map: 0.304271804711\n",
      "Epoch 012/200, Loss: 0.007370303809, validation map: 0.325751025047\n",
      "Epoch 013/200, Loss: 0.006948052923, validation map: 0.339724918939\n",
      "Epoch 014/200, Loss: 0.006677866663, validation map: 0.344958718768\n",
      "Epoch 015/200, Loss: 0.006573859220, validation map: 0.346608056073\n",
      "Epoch 016/200, Loss: 0.006429687733, validation map: 0.362602514932\n",
      "Epoch 017/200, Loss: 0.006126431599, validation map: 0.373895409709\n",
      "Epoch 018/200, Loss: 0.005889510425, validation map: 0.379135887427\n",
      "Epoch 019/200, Loss: 0.005746672808, validation map: 0.383447606525\n",
      "Epoch 020/200, Loss: 0.005695187869, validation map: 0.384310933649\n",
      "Epoch 021/200, Loss: 0.005632916549, validation map: 0.391810149537\n",
      "Epoch 022/200, Loss: 0.005439228987, validation map: 0.398401997881\n",
      "Epoch 023/200, Loss: 0.005295470751, validation map: 0.403184228181\n",
      "Epoch 024/200, Loss: 0.005204986512, validation map: 0.405891520205\n",
      "Epoch 025/200, Loss: 0.005139131189, validation map: 0.406766421343\n",
      "Epoch 026/200, Loss: 0.005115294256, validation map: 0.412988692780\n",
      "Epoch 027/200, Loss: 0.004992538800, validation map: 0.417741946994\n",
      "Epoch 028/200, Loss: 0.004875433255, validation map: 0.421532587221\n",
      "Epoch 029/200, Loss: 0.004814566752, validation map: 0.422292316533\n",
      "Epoch 030/200, Loss: 0.004760801595, validation map: 0.422171156882\n",
      "Epoch 031/200, Loss: 0.004761156901, validation map: 0.427310535724\n",
      "Epoch 032/200, Loss: 0.004666283768, validation map: 0.431071363476\n",
      "Epoch 033/200, Loss: 0.004574150313, validation map: 0.432765262264\n",
      "Epoch 034/200, Loss: 0.004489010313, validation map: 0.433707064160\n",
      "Epoch 035/200, Loss: 0.004450662850, validation map: 0.434239457018\n",
      "Epoch 036/200, Loss: 0.004476329992, validation map: 0.437669141741\n",
      "Epoch 037/200, Loss: 0.004390078770, validation map: 0.440822167731\n",
      "Epoch 038/200, Loss: 0.004313179898, validation map: 0.442321657564\n",
      "Epoch 039/200, Loss: 0.004238924985, validation map: 0.443156288280\n",
      "Epoch 040/200, Loss: 0.004209333102, validation map: 0.443143448769\n",
      "Epoch 041/200, Loss: 0.004218999195, validation map: 0.446468734596\n",
      "Epoch 042/200, Loss: 0.004156728908, validation map: 0.449001895905\n",
      "Epoch 043/200, Loss: 0.004083712269, validation map: 0.449740842387\n",
      "Epoch 044/200, Loss: 0.004018401446, validation map: 0.450673259722\n",
      "Epoch 045/200, Loss: 0.003993196461, validation map: 0.450676212014\n",
      "Epoch 046/200, Loss: 0.004015360263, validation map: 0.452352952200\n",
      "Epoch 047/200, Loss: 0.003964017751, validation map: 0.453256476759\n",
      "Epoch 048/200, Loss: 0.003890548910, validation map: 0.453557312653\n",
      "Epoch 049/200, Loss: 0.003835308461, validation map: 0.454192518929\n",
      "Epoch 050/200, Loss: 0.003807862370, validation map: 0.454190657389\n",
      "Epoch 051/200, Loss: 0.003843795129, validation map: 0.454623264746\n",
      "Epoch 052/200, Loss: 0.003781920944, validation map: 0.455878949620\n",
      "Epoch 053/200, Loss: 0.003719303709, validation map: 0.456549768030\n",
      "Epoch 054/200, Loss: 0.003678839504, validation map: 0.456267242487\n",
      "Epoch 055/200, Loss: 0.003641309405, validation map: 0.456483925905\n",
      "Epoch 056/200, Loss: 0.003682605021, validation map: 0.458587639473\n",
      "Epoch 057/200, Loss: 0.003633786679, validation map: 0.460366225063\n",
      "Epoch 058/200, Loss: 0.003561096523, validation map: 0.460796982564\n",
      "Epoch 059/200, Loss: 0.003514515884, validation map: 0.461065605138\n",
      "Epoch 060/200, Loss: 0.003491389819, validation map: 0.461189237078\n",
      "Epoch 061/200, Loss: 0.003525111624, validation map: 0.461940048113\n",
      "Epoch 062/200, Loss: 0.003468639904, validation map: 0.462187184800\n",
      "Epoch 063/200, Loss: 0.003420551176, validation map: 0.463012683570\n",
      "Epoch 064/200, Loss: 0.003365189744, validation map: 0.463105742237\n",
      "Epoch 065/200, Loss: 0.003338403400, validation map: 0.463325908671\n",
      "Epoch 066/200, Loss: 0.003371556203, validation map: 0.464023966851\n",
      "Epoch 067/200, Loss: 0.003339454481, validation map: 0.465557621815\n",
      "Epoch 068/200, Loss: 0.003281833470, validation map: 0.466473461788\n",
      "Epoch 069/200, Loss: 0.003227940450, validation map: 0.466430079512\n",
      "Epoch 070/200, Loss: 0.003212041625, validation map: 0.466510716027\n",
      "Epoch 071/200, Loss: 0.003249614482, validation map: 0.467302203191\n",
      "Epoch 072/200, Loss: 0.003209171205, validation map: 0.468264837222\n",
      "Epoch 073/200, Loss: 0.003153658929, validation map: 0.467956273350\n",
      "Epoch 074/200, Loss: 0.003107211078, validation map: 0.468195936669\n",
      "Epoch 075/200, Loss: 0.003087804318, validation map: 0.468169602174\n",
      "Epoch 076/200, Loss: 0.003128775031, validation map: 0.468873979640\n",
      "Epoch 077/200, Loss: 0.003084429638, validation map: 0.468993121428\n",
      "Epoch 078/200, Loss: 0.003029668348, validation map: 0.469647763116\n",
      "Epoch 079/200, Loss: 0.002989826309, validation map: 0.469604681023\n",
      "Epoch 080/200, Loss: 0.002964260585, validation map: 0.469733330737\n",
      "Epoch 081/200, Loss: 0.003010967928, validation map: 0.470011721633\n",
      "Epoch 082/200, Loss: 0.002968338255, validation map: 0.471007065171\n",
      "Epoch 083/200, Loss: 0.002922371096, validation map: 0.470930800158\n",
      "Epoch 084/200, Loss: 0.002874443194, validation map: 0.470942743521\n",
      "Epoch 085/200, Loss: 0.002844206813, validation map: 0.470946536114\n",
      "Epoch 086/200, Loss: 0.002897640144, validation map: 0.471871079952\n",
      "Epoch 087/200, Loss: 0.002853202156, validation map: 0.473014213338\n",
      "Epoch 088/200, Loss: 0.002810697495, validation map: 0.472402440446\n",
      "Epoch 089/200, Loss: 0.002768136447, validation map: 0.471899568921\n",
      "Epoch 090/200, Loss: 0.002736169508, validation map: 0.472800092725\n",
      "Epoch 091/200, Loss: 0.002786072855, validation map: 0.472719208108\n",
      "Epoch 092/200, Loss: 0.002751529282, validation map: 0.472905845875\n",
      "Epoch 093/200, Loss: 0.002706061398, validation map: 0.473580761377\n",
      "Epoch 094/200, Loss: 0.002657405701, validation map: 0.473347233900\n",
      "Epoch 095/200, Loss: 0.002631428329, validation map: 0.473798680169\n",
      "Epoch 096/200, Loss: 0.002683866303, validation map: 0.473534859186\n",
      "Epoch 097/200, Loss: 0.002647072492, validation map: 0.473800565627\n",
      "Epoch 098/200, Loss: 0.002603730002, validation map: 0.475016232464\n",
      "Epoch 099/200, Loss: 0.002562489098, validation map: 0.474601118347\n",
      "Epoch 100/200, Loss: 0.002529303970, validation map: 0.474395693431\n",
      "Epoch 101/200, Loss: 0.002581277561, validation map: 0.475319994032\n",
      "Epoch 102/200, Loss: 0.002550865449, validation map: 0.476130017598\n",
      "Epoch 103/200, Loss: 0.002502317800, validation map: 0.474273607425\n",
      "Epoch 104/200, Loss: 0.002459654489, validation map: 0.476239803553\n",
      "Epoch 105/200, Loss: 0.002431345074, validation map: 0.476243544293\n",
      "Epoch 106/200, Loss: 0.002481113203, validation map: 0.475982316208\n",
      "Epoch 107/200, Loss: 0.002451026929, validation map: 0.475235257988\n",
      "Epoch 108/200, Loss: 0.002403008020, validation map: 0.476405829994\n",
      "Epoch 109/200, Loss: 0.002360317635, validation map: 0.475787469553\n",
      "Epoch 110/200, Loss: 0.002336331142, validation map: 0.476027518036\n",
      "Epoch 111/200, Loss: 0.002388233558, validation map: 0.475190115812\n",
      "Epoch 112/200, Loss: 0.002359285384, validation map: 0.475896523867\n",
      "Epoch 113/200, Loss: 0.002314912227, validation map: 0.475858183405\n",
      "Epoch 114/200, Loss: 0.002273576142, validation map: 0.475755659479\n",
      "Epoch 115/200, Loss: 0.002238476743, validation map: 0.475929898311\n",
      "Epoch 116/200, Loss: 0.002293841006, validation map: 0.476143366164\n",
      "Epoch 117/200, Loss: 0.002265741775, validation map: 0.476308120871\n",
      "Epoch 118/200, Loss: 0.002227386776, validation map: 0.476445406993\n",
      "Epoch 119/200, Loss: 0.002181561406, validation map: 0.476017883702\n",
      "Epoch 120/200, Loss: 0.002151797451, validation map: 0.475948341742\n",
      "Epoch 121/200, Loss: 0.002210222449, validation map: 0.475742742073\n",
      "Epoch 122/200, Loss: 0.002177630293, validation map: 0.474634619886\n",
      "Epoch 123/200, Loss: 0.002137743892, validation map: 0.475214479693\n",
      "Epoch 124/200, Loss: 0.002096575506, validation map: 0.474855355595\n",
      "Epoch 125/200, Loss: 0.002068726301, validation map: 0.474749982128\n",
      "Epoch 126/200, Loss: 0.002129091875, validation map: 0.474721523727\n",
      "Epoch 127/200, Loss: 0.002095897998, validation map: 0.474184508680\n",
      "Epoch 128/200, Loss: 0.002055349991, validation map: 0.474441968539\n",
      "Epoch 129/200, Loss: 0.002013518648, validation map: 0.474272885843\n",
      "Epoch 130/200, Loss: 0.001983861348, validation map: 0.474193374342\n",
      "Epoch 131/200, Loss: 0.002043131131, validation map: 0.474266394240\n",
      "Epoch 132/200, Loss: 0.002018019426, validation map: 0.473401015513\n",
      "Epoch 133/200, Loss: 0.001973573763, validation map: 0.474088317509\n",
      "Epoch 134/200, Loss: 0.001934265233, validation map: 0.473418566913\n",
      "Epoch 135/200, Loss: 0.001904106741, validation map: 0.473326707220\n",
      "Epoch 136/200, Loss: 0.001973678921, validation map: 0.473635959425\n",
      "Epoch 137/200, Loss: 0.001939032934, validation map: 0.473250964631\n",
      "Epoch 138/200, Loss: 0.001895762555, validation map: 0.473910532341\n",
      "Epoch 139/200, Loss: 0.001854971811, validation map: 0.473595945986\n",
      "Epoch 140/200, Loss: 0.001828504543, validation map: 0.473714431953\n",
      "Epoch 141/200, Loss: 0.001885873824, validation map: 0.473577576021\n",
      "Epoch 142/200, Loss: 0.001861725974, validation map: 0.472825453974\n",
      "Epoch 143/200, Loss: 0.001824693253, validation map: 0.472474324704\n",
      "Epoch 144/200, Loss: 0.001783709318, validation map: 0.473184811133\n",
      "Epoch 145/200, Loss: 0.001759107820, validation map: 0.473235208863\n",
      "Epoch 146/200, Loss: 0.001816955710, validation map: 0.472804742490\n",
      "Epoch 147/200, Loss: 0.001793264414, validation map: 0.472239937490\n",
      "Epoch 148/200, Loss: 0.001752272323, validation map: 0.471983599168\n",
      "Epoch 149/200, Loss: 0.001715932631, validation map: 0.472653101404\n",
      "Epoch 150/200, Loss: 0.001685003310, validation map: 0.472590852077\n",
      "Epoch 151/200, Loss: 0.001745683319, validation map: 0.472802142647\n",
      "Epoch 152/200, Loss: 0.001723158194, validation map: 0.472503164735\n",
      "Epoch 153/200, Loss: 0.001681881749, validation map: 0.471845007878\n",
      "Epoch 154/200, Loss: 0.001648703718, validation map: 0.472002951842\n",
      "Epoch 155/200, Loss: 0.001617787966, validation map: 0.471788947622\n",
      "Epoch 156/200, Loss: 0.001678561916, validation map: 0.471423134126\n",
      "Epoch 157/200, Loss: 0.001658363939, validation map: 0.471046838874\n",
      "Epoch 158/200, Loss: 0.001615482377, validation map: 0.470702001650\n",
      "Epoch 159/200, Loss: 0.001581122909, validation map: 0.469982711571\n",
      "Epoch 160/200, Loss: 0.001553310532, validation map: 0.470799932727\n",
      "Epoch 161/200, Loss: 0.001617431878, validation map: 0.469877630958\n",
      "Epoch 162/200, Loss: 0.001592117277, validation map: 0.469834041758\n",
      "Epoch 163/200, Loss: 0.001556954951, validation map: 0.468681745771\n",
      "Epoch 164/200, Loss: 0.001517754469, validation map: 0.469540205687\n",
      "Epoch 165/200, Loss: 0.001490284760, validation map: 0.469306909178\n",
      "Epoch 166/200, Loss: 0.001552509731, validation map: 0.468808972353\n",
      "Epoch 167/200, Loss: 0.001530629978, validation map: 0.467796147599\n",
      "Epoch 168/200, Loss: 0.001492464581, validation map: 0.468733810173\n",
      "Epoch 169/200, Loss: 0.001455569798, validation map: 0.468870156169\n",
      "Epoch 170/200, Loss: 0.001434005991, validation map: 0.468764217164\n",
      "Epoch 171/200, Loss: 0.001492853063, validation map: 0.468803264468\n",
      "Epoch 172/200, Loss: 0.001472840935, validation map: 0.467588835165\n",
      "Epoch 173/200, Loss: 0.001435753707, validation map: 0.468496248870\n",
      "Epoch 174/200, Loss: 0.001399659849, validation map: 0.468350054511\n",
      "Epoch 175/200, Loss: 0.001375223380, validation map: 0.468259410152\n",
      "Epoch 176/200, Loss: 0.001436696513, validation map: 0.467945246195\n",
      "Epoch 177/200, Loss: 0.001415434140, validation map: 0.467809482834\n",
      "Epoch 178/200, Loss: 0.001380351605, validation map: 0.467921836671\n",
      "Epoch 179/200, Loss: 0.001347474945, validation map: 0.467677350591\n",
      "Epoch 180/200, Loss: 0.001318680570, validation map: 0.467648767564\n",
      "Epoch 181/200, Loss: 0.001383074595, validation map: 0.467263660012\n",
      "Epoch 182/200, Loss: 0.001360911461, validation map: 0.467431163225\n",
      "Epoch 183/200, Loss: 0.001326042886, validation map: 0.466889882108\n",
      "Epoch 184/200, Loss: 0.001292585519, validation map: 0.467111625219\n",
      "Epoch 185/200, Loss: 0.001267148816, validation map: 0.467162456392\n",
      "Epoch 186/200, Loss: 0.001330286958, validation map: 0.467186908729\n",
      "Epoch 187/200, Loss: 0.001307501022, validation map: 0.466697896992\n",
      "Epoch 188/200, Loss: 0.001276629983, validation map: 0.466677590847\n",
      "Epoch 189/200, Loss: 0.001239170599, validation map: 0.466572372828\n",
      "Epoch 190/200, Loss: 0.001217900472, validation map: 0.466556297603\n",
      "Epoch 191/200, Loss: 0.001274033709, validation map: 0.466260667482\n",
      "Epoch 192/200, Loss: 0.001255462692, validation map: 0.466002150106\n",
      "Epoch 193/200, Loss: 0.001220702144, validation map: 0.466036618496\n",
      "Epoch 194/200, Loss: 0.001193401664, validation map: 0.465620056940\n",
      "Epoch 195/200, Loss: 0.001165428006, validation map: 0.465804034416\n",
      "Epoch 196/200, Loss: 0.001224157645, validation map: 0.465768138631\n",
      "Epoch 197/200, Loss: 0.001205145317, validation map: 0.465429007830\n",
      "Epoch 198/200, Loss: 0.001179455959, validation map: 0.465322873885\n",
      "Epoch 199/200, Loss: 0.001146477649, validation map: 0.464929802909\n",
      "Epoch 200/200, Loss: 0.001120508684, validation map: 0.465319506185\n"
     ]
    }
   ],
   "source": [
    "num_epochs = 200\n",
    "training_loss_per_epoch = np.zeros(200)\n",
    "validation_loss_per_epoch = np.zeros(200)\n",
    "validation_map_per_epoch = np.zeros(200)\n",
    "\n",
    "for epoch in range(num_epochs):\n",
    "    running_loss = 0.0\n",
    "    for inputs, labels in train_dataloader:\n",
    "        inputs = inputs.to(device)\n",
    "        labels = labels.to(device)\n",
    "\n",
    "        optimizer.zero_grad()  # Zero the gradients\n",
    "        outputs = model(inputs)  # Forward pass\n",
    "        loss = criterion(outputs, labels)  # Compute the loss\n",
    "        loss.backward()  # Backward pass\n",
    "        optimizer.step()  # Update the weights\n",
    "\n",
    "        running_loss += loss.item()\n",
    "    \n",
    "    scheduler.step()\n",
    "\n",
    "    with torch.no_grad():\n",
    "        pred = model.forward(X_val.to(device))\n",
    "        # calculate the validation loss:\n",
    "        validation_loss = criterion(pred, y_val.to(device))\n",
    "        # calculate the validation mAP:\n",
    "        validation_aps = ev.eval_vo(pred.T.cpu().detach().numpy(), y_val.T.numpy(),600)[0]\n",
    "        nr_val_classes = np.sum(validation_aps != None)\n",
    "        validation_map = np.nansum(validation_aps) / nr_val_classes\n",
    "\n",
    "    # add the losses and mAP to the arrays:\n",
    "    training_loss_per_epoch[epoch] = running_loss / len(train_dataloader)\n",
    "    validation_loss_per_epoch[epoch] = validation_loss\n",
    "    validation_map_per_epoch[epoch] = validation_map\n",
    "\n",
    "    print(f\"Epoch {epoch+1:0{len(str(num_epochs))}}/{num_epochs}, Loss: {running_loss/len(train_dataloader):.12f}, validation map: {validation_map:.12f}\")"
   ]
  },
  {
   "cell_type": "markdown",
   "metadata": {},
   "source": [
    "### plotting the training process to select the number of convergence"
   ]
  },
  {
   "cell_type": "code",
   "execution_count": 11,
   "metadata": {},
   "outputs": [
    {
     "data": {
      "text/plain": [
       "[]"
      ]
     },
     "execution_count": 11,
     "metadata": {},
     "output_type": "execute_result"
    },
    {
     "data": {
      "image/png": "[encoded data removed]",
      "text/plain": [
       "<Figure size 800x600 with 1 Axes>"
      ]
     },
     "metadata": {},
     "output_type": "display_data"
    }
   ],
   "source": [
    "plt.figure(figsize=(8,6))\n",
    "plt.plot(np.arange(200), training_loss_per_epoch, color = \"orange\")\n",
    "plt.plot(np.arange(200), validation_loss_per_epoch, color = \"blue\")\n",
    "# plt.plot(np.arange(100), validation_loss_main_per_epoch, color= \"red\")\n",
    "# plt.plot(np.arange(100), validation_loss_side_per_epoch, color = \"purple\")\n",
    "plt.plot(np.arange(200), validation_map_per_epoch/10, color = \"green\")\n",
    "#plt.hlines(0.010051161982119083, 0, 100 , colors=['black'],linestyles=['dotted'])\n",
    "plt.ylim(0,0.1)\n",
    "plt.plot()"
   ]
  },
  {
   "cell_type": "code",
   "execution_count": 12,
   "metadata": {},
   "outputs": [
    {
     "data": {
      "text/plain": [
       "117"
      ]
     },
     "execution_count": 12,
     "metadata": {},
     "output_type": "execute_result"
    }
   ],
   "source": [
    "np.argmax(validation_map_per_epoch)"
   ]
  },
  {
   "cell_type": "code",
   "execution_count": 13,
   "metadata": {},
   "outputs": [
    {
     "data": {
      "text/plain": [
       "84"
      ]
     },
     "execution_count": 13,
     "metadata": {},
     "output_type": "execute_result"
    }
   ],
   "source": [
    "np.argmin(validation_loss_per_epoch)"
   ]
  }
 ],
 "metadata": {
  "kernelspec": {
   "display_name": "PyTorch",
   "language": "python",
   "name": "python3"
  },
  "language_info": {
   "codemirror_mode": {
    "name": "ipython",
    "version": 3
   },
   "file_extension": ".py",
   "mimetype": "text/x-python",
   "name": "python",
   "nbconvert_exporter": "python",
   "pygments_lexer": "ipython3",
   "version": "3.10.13"
  }
 },
 "nbformat": 4,
 "nbformat_minor": 2
}
