{
 "cells": [
  {
   "cell_type": "markdown",
   "metadata": {},
   "source": [
    "# Elementwise Average Fusion model testing (OverSampler, cosine scheduling, BCE loss, without multitask learning):"
   ]
  },
  {
   "cell_type": "code",
   "execution_count": 1,
   "metadata": {},
   "outputs": [],
   "source": [
    "import sys\n",
    "root = '../../'\n",
    "sys.path.append(root)   # Done to be able to import the packages and functions\n",
    "\n",
    "import Utils.hico_evaluation.evaluation as ev\n",
    "from Utils.custom_sampler import OverSampler\n",
    "from Utils.custom_loss import MaskedBCELoss\n",
    "from Utils.annotation_preprocessing import _load_csv_to_tensor\n",
    "from Utils.train_val_split import train_val_split_hico\n",
    "from hoi_classifiers import ElementwiseAvgFusionModel\n",
    "\n",
    "import torch\n",
    "import numpy as np\n",
    "from torch.utils.data import TensorDataset, DataLoader\n",
    "import matplotlib.pyplot as plt\n",
    "\n",
    "import random"
   ]
  },
  {
   "cell_type": "code",
   "execution_count": 2,
   "metadata": {},
   "outputs": [],
   "source": [
    "seed = 42   #note that the model parameters will still be randomly initiated\n",
    "torch.manual_seed(seed)\n",
    "random.seed(seed)"
   ]
  },
  {
   "cell_type": "markdown",
   "metadata": {},
   "source": [
    "### Loading the training set:\n"
   ]
  },
  {
   "cell_type": "code",
   "execution_count": 3,
   "metadata": {},
   "outputs": [],
   "source": [
    "# Loading the data:\n",
    "X_train = torch.load(root + \"Embeddings/Combined_Embeddings/train.pt\")\n",
    "y_train = _load_csv_to_tensor(root + \"anno/added/anno_augmented_train.csv\").T[:,:600] # Transpose to make both first dimensions the #samples.\n",
    "y_train[y_train.isnan()] = -1"
   ]
  },
  {
   "cell_type": "code",
   "execution_count": 4,
   "metadata": {},
   "outputs": [],
   "source": [
    "X_test = torch.load(root + \"Embeddings/Combined_Embeddings/test.pt\")\n",
    "y_test = _load_csv_to_tensor(root + \"anno/added/anno_augmented_test.csv\").T[:,:600] # Transpose to make both first dimensions the #samples.\n",
    "y_test[y_test.isnan()] = -1"
   ]
  },
  {
   "cell_type": "markdown",
   "metadata": {},
   "source": [
    "#### Training Preparations:"
   ]
  },
  {
   "cell_type": "code",
   "execution_count": 5,
   "metadata": {},
   "outputs": [],
   "source": [
    "train_dataset = TensorDataset(X_train, y_train)"
   ]
  },
  {
   "cell_type": "code",
   "execution_count": 6,
   "metadata": {},
   "outputs": [],
   "source": [
    "# Batch size:\n",
    "bs = 512\n",
    "\n",
    "sampler = OverSampler(y_train, shuffle=True)\n",
    "\n",
    "train_dataloader = DataLoader(\n",
    "    train_dataset, batch_size=bs, num_workers=4, sampler=sampler)\n"
   ]
  },
  {
   "cell_type": "code",
   "execution_count": 7,
   "metadata": {},
   "outputs": [],
   "source": [
    "device = torch.device('cuda:0' if torch.cuda.is_available() else 'cpu')"
   ]
  },
  {
   "cell_type": "code",
   "execution_count": 8,
   "metadata": {},
   "outputs": [],
   "source": [
    "model = ElementwiseAvgFusionModel(512,655,600)\n",
    "model = model.to(device)"
   ]
  },
  {
   "cell_type": "code",
   "execution_count": 9,
   "metadata": {},
   "outputs": [
    {
     "name": "stderr",
     "output_type": "stream",
     "text": [
      "c:\\Users\\rfigg\\.conda\\envs\\PyTorch\\lib\\site-packages\\transformers\\utils\\generic.py:441: UserWarning: torch.utils._pytree._register_pytree_node is deprecated. Please use torch.utils._pytree.register_pytree_node instead.\n",
      "  _torch_pytree._register_pytree_node(\n"
     ]
    }
   ],
   "source": [
    "classweights = torch.ones(600).to(device)      # The hoi classes weigh twice as much as the seperate classes\n",
    "criterion = MaskedBCELoss(ignore_label=0, convert_target_to_01= True, weight=classweights)\n",
    "\n",
    "optimizer = torch.optim.Adam(params=model.parameters(), lr=0.0005)\n",
    "scheduler = torch.optim.lr_scheduler.CosineAnnealingWarmRestarts(optimizer, T_0=5, T_mult=1)"
   ]
  },
  {
   "cell_type": "markdown",
   "metadata": {},
   "source": [
    "#### Training loop:"
   ]
  },
  {
   "cell_type": "code",
   "execution_count": 10,
   "metadata": {},
   "outputs": [
    {
     "name": "stdout",
     "output_type": "stream",
     "text": [
      "Epoch 001/101, Loss: 0.109542723847\n",
      "Epoch 002/101, Loss: 0.017563212080\n",
      "Epoch 003/101, Loss: 0.014633291769\n",
      "Epoch 004/101, Loss: 0.013089310675\n",
      "Epoch 005/101, Loss: 0.012517923274\n",
      "Epoch 006/101, Loss: 0.011386217723\n",
      "Epoch 007/101, Loss: 0.009616005081\n",
      "Epoch 008/101, Loss: 0.008519231275\n",
      "Epoch 009/101, Loss: 0.007994392539\n",
      "Epoch 010/101, Loss: 0.007788515670\n",
      "Epoch 011/101, Loss: 0.007448951120\n",
      "Epoch 012/101, Loss: 0.006913648678\n",
      "Epoch 013/101, Loss: 0.006551681010\n",
      "Epoch 014/101, Loss: 0.006329692552\n",
      "Epoch 015/101, Loss: 0.006245703810\n",
      "Epoch 016/101, Loss: 0.006127259541\n",
      "Epoch 017/101, Loss: 0.005853769610\n",
      "Epoch 018/101, Loss: 0.005667543822\n",
      "Epoch 019/101, Loss: 0.005543257693\n",
      "Epoch 020/101, Loss: 0.005482623620\n",
      "Epoch 021/101, Loss: 0.005433880008\n",
      "Epoch 022/101, Loss: 0.005273960766\n",
      "Epoch 023/101, Loss: 0.005140791632\n",
      "Epoch 024/101, Loss: 0.005061662505\n",
      "Epoch 025/101, Loss: 0.005013665041\n",
      "Epoch 026/101, Loss: 0.005004789440\n",
      "Epoch 027/101, Loss: 0.004888272640\n",
      "Epoch 028/101, Loss: 0.004799386312\n",
      "Epoch 029/101, Loss: 0.004716204781\n",
      "Epoch 030/101, Loss: 0.004677649106\n",
      "Epoch 031/101, Loss: 0.004684326843\n",
      "Epoch 032/101, Loss: 0.004595115090\n",
      "Epoch 033/101, Loss: 0.004502511205\n",
      "Epoch 034/101, Loss: 0.004435878068\n",
      "Epoch 035/101, Loss: 0.004408387437\n",
      "Epoch 036/101, Loss: 0.004419060703\n",
      "Epoch 037/101, Loss: 0.004344353775\n",
      "Epoch 038/101, Loss: 0.004278557078\n",
      "Epoch 039/101, Loss: 0.004214492386\n",
      "Epoch 040/101, Loss: 0.004181812980\n",
      "Epoch 041/101, Loss: 0.004203793449\n",
      "Epoch 042/101, Loss: 0.004131585531\n",
      "Epoch 043/101, Loss: 0.004076656960\n",
      "Epoch 044/101, Loss: 0.004020829777\n",
      "Epoch 045/101, Loss: 0.003978053031\n",
      "Epoch 046/101, Loss: 0.004020104111\n",
      "Epoch 047/101, Loss: 0.003962652671\n",
      "Epoch 048/101, Loss: 0.003890051089\n",
      "Epoch 049/101, Loss: 0.003838263352\n",
      "Epoch 050/101, Loss: 0.003808337335\n",
      "Epoch 051/101, Loss: 0.003838123429\n",
      "Epoch 052/101, Loss: 0.003796879737\n",
      "Epoch 053/101, Loss: 0.003727589949\n",
      "Epoch 054/101, Loss: 0.003679479224\n",
      "Epoch 055/101, Loss: 0.003654401744\n",
      "Epoch 056/101, Loss: 0.003685730100\n",
      "Epoch 057/101, Loss: 0.003634315189\n",
      "Epoch 058/101, Loss: 0.003580297428\n",
      "Epoch 059/101, Loss: 0.003520540202\n",
      "Epoch 060/101, Loss: 0.003496533078\n",
      "Epoch 061/101, Loss: 0.003541809793\n",
      "Epoch 062/101, Loss: 0.003484645191\n",
      "Epoch 063/101, Loss: 0.003432452326\n",
      "Epoch 064/101, Loss: 0.003384635822\n",
      "Epoch 065/101, Loss: 0.003356796917\n",
      "Epoch 066/101, Loss: 0.003407531674\n",
      "Epoch 067/101, Loss: 0.003349031611\n",
      "Epoch 068/101, Loss: 0.003299039361\n",
      "Epoch 069/101, Loss: 0.003252880640\n",
      "Epoch 070/101, Loss: 0.003224276587\n",
      "Epoch 071/101, Loss: 0.003267499805\n",
      "Epoch 072/101, Loss: 0.003222642612\n",
      "Epoch 073/101, Loss: 0.003176390529\n",
      "Epoch 074/101, Loss: 0.003130948273\n",
      "Epoch 075/101, Loss: 0.003095309409\n",
      "Epoch 076/101, Loss: 0.003145822636\n",
      "Epoch 077/101, Loss: 0.003111652920\n",
      "Epoch 078/101, Loss: 0.003057780839\n",
      "Epoch 079/101, Loss: 0.003011097213\n",
      "Epoch 080/101, Loss: 0.002983490903\n",
      "Epoch 081/101, Loss: 0.003032770271\n",
      "Epoch 082/101, Loss: 0.002990937881\n",
      "Epoch 083/101, Loss: 0.002943682213\n",
      "Epoch 084/101, Loss: 0.002897863780\n",
      "Epoch 085/101, Loss: 0.002865909780\n",
      "Epoch 086/101, Loss: 0.002915966102\n",
      "Epoch 087/101, Loss: 0.002885711912\n",
      "Epoch 088/101, Loss: 0.002832336871\n",
      "Epoch 089/101, Loss: 0.002782321566\n",
      "Epoch 090/101, Loss: 0.002753690719\n",
      "Epoch 091/101, Loss: 0.002811817342\n",
      "Epoch 092/101, Loss: 0.002780045421\n",
      "Epoch 093/101, Loss: 0.002728709009\n",
      "Epoch 094/101, Loss: 0.002684777546\n",
      "Epoch 095/101, Loss: 0.002647239817\n",
      "Epoch 096/101, Loss: 0.002706061389\n",
      "Epoch 097/101, Loss: 0.002668250631\n",
      "Epoch 098/101, Loss: 0.002626412847\n",
      "Epoch 099/101, Loss: 0.002581626297\n",
      "Epoch 100/101, Loss: 0.002548177020\n",
      "Epoch 101/101, Loss: 0.002610948098\n"
     ]
    }
   ],
   "source": [
    "num_epochs = 101\n",
    "for epoch in range(num_epochs):\n",
    "    running_loss = 0.0\n",
    "    for inputs, labels in train_dataloader:\n",
    "        inputs = inputs.to(device)\n",
    "        labels = labels.to(device)\n",
    "\n",
    "        optimizer.zero_grad()  # Zero the gradients\n",
    "        outputs = model(inputs)  # Forward pass\n",
    "        loss = criterion(outputs, labels)  # Compute the loss\n",
    "        loss.backward()  # Backward pass\n",
    "        optimizer.step()  # Update the weights\n",
    "\n",
    "        running_loss += loss.item()\n",
    "\n",
    "    scheduler.step()\n",
    "    \n",
    "\n",
    "    print(f\"Epoch {epoch+1:0{len(str(num_epochs))}}/{num_epochs}, Loss: {running_loss/len(train_dataloader):.12f}\")"
   ]
  },
  {
   "cell_type": "markdown",
   "metadata": {},
   "source": [
    "#### Evaluating model:"
   ]
  },
  {
   "cell_type": "code",
   "execution_count": 11,
   "metadata": {},
   "outputs": [],
   "source": [
    "test_pred = model.forward(X_test.to(device))\n",
    "test_map = ev.eval_vo(test_pred.T.cpu().detach().numpy(), y_test.T.numpy(),600)[0].mean()"
   ]
  },
  {
   "cell_type": "code",
   "execution_count": 12,
   "metadata": {},
   "outputs": [
    {
     "name": "stdout",
     "output_type": "stream",
     "text": [
      "57.523252079985554\n"
     ]
    }
   ],
   "source": [
    "print(test_map * 100)"
   ]
  },
  {
   "cell_type": "code",
   "execution_count": 13,
   "metadata": {},
   "outputs": [
    {
     "name": "stdout",
     "output_type": "stream",
     "text": [
      "Few@1 mAP:  37.980894001398404\n",
      "Few@5 mAP:  43.57035699095077\n",
      "Few@10 mAp:  45.29749979920346\n"
     ]
    }
   ],
   "source": [
    "one_shot_list = torch.where((0 < (y_train == 1).sum(dim=0)) & ((y_train == 1).sum(dim=0) <= 1))[0]\n",
    "few_shot_list_5 = torch.where((0 < (y_train == 1).sum(dim=0)) & ((y_train == 1).sum(dim=0) <= 5))[0]\n",
    "few_shot_list_10 = torch.where((0 < (y_train == 1).sum(dim=0)) & ((y_train == 1).sum(dim=0) <= 10))[0]\n",
    "\n",
    "one_shot_map = ev.eval_vo(test_pred[:,one_shot_list].T.cpu().detach().numpy(), y_test[:,one_shot_list].T.numpy(),len(one_shot_list))[0].mean()\n",
    "few_5_shot_map = ev.eval_vo(test_pred[:,few_shot_list_5].T.cpu().detach().numpy(), y_test[:,few_shot_list_5].T.numpy(),len(few_shot_list_5))[0].mean()\n",
    "few_10_shot_map = ev.eval_vo(test_pred[:,few_shot_list_10].T.cpu().detach().numpy(), y_test[:,few_shot_list_10].T.numpy(),len(few_shot_list_10))[0].mean()\n",
    "\n",
    "print(\"Few@1 mAP: \", one_shot_map * 100)\n",
    "print(\"Few@5 mAP: \", few_5_shot_map * 100)\n",
    "print(\"Few@10 mAp: \", few_10_shot_map * 100)"
   ]
  },
  {
   "cell_type": "code",
   "execution_count": 14,
   "metadata": {},
   "outputs": [
    {
     "data": {
      "text/plain": [
       "[]"
      ]
     },
     "execution_count": 14,
     "metadata": {},
     "output_type": "execute_result"
    },
    {
     "data": {
      "image/png": "[encoded data removed]",
      "text/plain": [
       "<Figure size 800x500 with 1 Axes>"
      ]
     },
     "metadata": {},
     "output_type": "display_data"
    }
   ],
   "source": [
    "indices = torch.sum((y_train[:,:600] == 1).int(), dim = 0).sort().indices\n",
    "test_aps = ev.eval_vo(test_pred[:,:600].T.cpu().detach().numpy(), y_test[:,:600].T.numpy(),600)[0]\n",
    "\n",
    "plt.figure(figsize=(8,5))\n",
    "plt.bar(range(600),test_aps[indices],width=1)\n",
    "plt.scatter(range(600),torch.sum(y_train == 1, dim = 0)[indices] / 1500,s = 2,color = \"red\")\n",
    "plt.xlabel('HOI Classes')\n",
    "plt.ylabel('Number of Training Images')\n",
    "plt.plot()"
   ]
  },
  {
   "cell_type": "markdown",
   "metadata": {},
   "source": [
    "#### Saving the model parameters for qualitive results experiments:"
   ]
  },
  {
   "cell_type": "code",
   "execution_count": 15,
   "metadata": {},
   "outputs": [],
   "source": [
    "torch.save(model, root + \"/Saved Models/best_model_no_multitasklearning.pt\")"
   ]
  },
  {
   "cell_type": "code",
   "execution_count": null,
   "metadata": {},
   "outputs": [],
   "source": []
  }
 ],
 "metadata": {
  "kernelspec": {
   "display_name": "PyTorch",
   "language": "python",
   "name": "python3"
  },
  "language_info": {
   "codemirror_mode": {
    "name": "ipython",
    "version": 3
   },
   "file_extension": ".py",
   "mimetype": "text/x-python",
   "name": "python",
   "nbconvert_exporter": "python",
   "pygments_lexer": "ipython3",
   "version": "3.10.13"
  }
 },
 "nbformat": 4,
 "nbformat_minor": 2
}
