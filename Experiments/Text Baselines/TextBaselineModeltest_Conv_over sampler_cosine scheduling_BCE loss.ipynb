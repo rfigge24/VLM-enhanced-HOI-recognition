{
 "cells": [
  {
   "cell_type": "markdown",
   "metadata": {},
   "source": [
    "# Text Baseline model testing Conv fusion (OverSampler, cosine scheduling, BCE loss):"
   ]
  },
  {
   "cell_type": "code",
   "execution_count": 29,
   "metadata": {},
   "outputs": [],
   "source": [
    "import sys\n",
    "root = '../../'\n",
    "sys.path.append(root)   # Done to be able to import the packages and functions\n",
    "\n",
    "import Utils.hico_evaluation.evaluation as ev\n",
    "from Utils.custom_sampler import OverSampler\n",
    "from Utils.custom_loss import MaskedBCELoss\n",
    "from Utils.annotation_preprocessing import _load_csv_to_tensor\n",
    "from Utils.train_val_split import train_val_split_hico\n",
    "from hoi_classifiers import ConvolutionFusionModel\n",
    "\n",
    "import torch\n",
    "import numpy as np\n",
    "from torch.utils.data import TensorDataset, DataLoader\n",
    "import matplotlib.pyplot as plt\n",
    "\n",
    "import random"
   ]
  },
  {
   "cell_type": "code",
   "execution_count": 30,
   "metadata": {},
   "outputs": [],
   "source": [
    "seed = 42   #note that the model parameters will still be randomly initiated\n",
    "torch.manual_seed(seed)\n",
    "random.seed(seed)"
   ]
  },
  {
   "cell_type": "markdown",
   "metadata": {},
   "source": [
    "### Loading the training set:\n"
   ]
  },
  {
   "cell_type": "code",
   "execution_count": 31,
   "metadata": {},
   "outputs": [],
   "source": [
    "# Loading the data:\n",
    "X_train = torch.load(root + \"Embeddings/Text_Embeddings/train.pt\")\n",
    "y_train = _load_csv_to_tensor(root + \"anno/added/anno_augmented_train.csv\").T # Transpose to make both first dimensions the #samples.\n",
    "y_train[y_train.isnan()] = -1"
   ]
  },
  {
   "cell_type": "code",
   "execution_count": 32,
   "metadata": {},
   "outputs": [],
   "source": [
    "X_test = torch.load(root + \"Embeddings/Text_Embeddings/test.pt\")\n",
    "y_test = _load_csv_to_tensor(root + \"anno/added/anno_augmented_test.csv\").T # Transpose to make both first dimensions the #samples.\n",
    "y_test[y_test.isnan()] = -1"
   ]
  },
  {
   "cell_type": "markdown",
   "metadata": {},
   "source": [
    "#### Training Preparations:"
   ]
  },
  {
   "cell_type": "code",
   "execution_count": 33,
   "metadata": {},
   "outputs": [],
   "source": [
    "train_dataset = TensorDataset(X_train, y_train)"
   ]
  },
  {
   "cell_type": "code",
   "execution_count": 34,
   "metadata": {},
   "outputs": [],
   "source": [
    "# Batch size:\n",
    "bs = 512\n",
    "\n",
    "sampler = OverSampler(y_train[:,:600], shuffle=True)\n",
    "\n",
    "train_dataloader = DataLoader(\n",
    "    train_dataset, batch_size=bs, num_workers=4, sampler=sampler)\n"
   ]
  },
  {
   "cell_type": "code",
   "execution_count": 35,
   "metadata": {},
   "outputs": [],
   "source": [
    "device = torch.device('cuda:0' if torch.cuda.is_available() else 'cpu')"
   ]
  },
  {
   "cell_type": "code",
   "execution_count": 36,
   "metadata": {},
   "outputs": [],
   "source": [
    "nr_of_kernels = 1\n",
    "model = ConvolutionFusionModel(512,4, nr_of_kernels, 655, 797)\n",
    "model = model.to(device)"
   ]
  },
  {
   "cell_type": "code",
   "execution_count": 37,
   "metadata": {},
   "outputs": [],
   "source": [
    "classweights = torch.cat((torch.ones(600),torch.ones(197)*0.5)).to(device)      # The hoi classes weigh twice as much as the seperate classes\n",
    "\n",
    "criterion = MaskedBCELoss(ignore_label=0, convert_target_to_01= True, weight=classweights)\n",
    "\n",
    "optimizer = torch.optim.Adam(params=model.parameters(), lr=0.0005)\n",
    "scheduler = torch.optim.lr_scheduler.CosineAnnealingWarmRestarts(optimizer, T_0=5, T_mult=1)"
   ]
  },
  {
   "cell_type": "markdown",
   "metadata": {},
   "source": [
    "#### Training loop:"
   ]
  },
  {
   "cell_type": "code",
   "execution_count": 38,
   "metadata": {},
   "outputs": [
    {
     "name": "stdout",
     "output_type": "stream",
     "text": [
      "Epoch 01/67, Loss: 0.084648016615\n",
      "Epoch 02/67, Loss: 0.022084008370\n",
      "Epoch 03/67, Loss: 0.021906215145\n",
      "Epoch 04/67, Loss: 0.021625630025\n",
      "Epoch 05/67, Loss: 0.021441778925\n",
      "Epoch 06/67, Loss: 0.020869138477\n",
      "Epoch 07/67, Loss: 0.019155249491\n",
      "Epoch 08/67, Loss: 0.016812906877\n",
      "Epoch 09/67, Loss: 0.015376122699\n",
      "Epoch 10/67, Loss: 0.014833144096\n",
      "Epoch 11/67, Loss: 0.013734466110\n",
      "Epoch 12/67, Loss: 0.011789498022\n",
      "Epoch 13/67, Loss: 0.010502855007\n",
      "Epoch 14/67, Loss: 0.009820035475\n",
      "Epoch 15/67, Loss: 0.009543246211\n",
      "Epoch 16/67, Loss: 0.009172485292\n",
      "Epoch 17/67, Loss: 0.008474406433\n",
      "Epoch 18/67, Loss: 0.008004839496\n",
      "Epoch 19/67, Loss: 0.007739003390\n",
      "Epoch 20/67, Loss: 0.007616725290\n",
      "Epoch 21/67, Loss: 0.007535798864\n",
      "Epoch 22/67, Loss: 0.007245238430\n",
      "Epoch 23/67, Loss: 0.007009291689\n",
      "Epoch 24/67, Loss: 0.006872433862\n",
      "Epoch 25/67, Loss: 0.006787624788\n",
      "Epoch 26/67, Loss: 0.006777015719\n",
      "Epoch 27/67, Loss: 0.006588596477\n",
      "Epoch 28/67, Loss: 0.006436969502\n",
      "Epoch 29/67, Loss: 0.006317820999\n",
      "Epoch 30/67, Loss: 0.006254923888\n",
      "Epoch 31/67, Loss: 0.006287522389\n",
      "Epoch 32/67, Loss: 0.006150824304\n",
      "Epoch 33/67, Loss: 0.006037220231\n",
      "Epoch 34/67, Loss: 0.005925589006\n",
      "Epoch 35/67, Loss: 0.005862593021\n",
      "Epoch 36/67, Loss: 0.005900058061\n",
      "Epoch 37/67, Loss: 0.005800411136\n",
      "Epoch 38/67, Loss: 0.005689080339\n",
      "Epoch 39/67, Loss: 0.005605406650\n",
      "Epoch 40/67, Loss: 0.005550740512\n",
      "Epoch 41/67, Loss: 0.005609776262\n",
      "Epoch 42/67, Loss: 0.005506193685\n",
      "Epoch 43/67, Loss: 0.005423037647\n",
      "Epoch 44/67, Loss: 0.005330939849\n",
      "Epoch 45/67, Loss: 0.005290450032\n",
      "Epoch 46/67, Loss: 0.005339118350\n",
      "Epoch 47/67, Loss: 0.005279892334\n",
      "Epoch 48/67, Loss: 0.005176085830\n",
      "Epoch 49/67, Loss: 0.005101850758\n",
      "Epoch 50/67, Loss: 0.005030264633\n",
      "Epoch 51/67, Loss: 0.005113356399\n",
      "Epoch 52/67, Loss: 0.005042621753\n",
      "Epoch 53/67, Loss: 0.004951611299\n",
      "Epoch 54/67, Loss: 0.004884864352\n",
      "Epoch 55/67, Loss: 0.004831446908\n",
      "Epoch 56/67, Loss: 0.004905528440\n",
      "Epoch 57/67, Loss: 0.004854760849\n",
      "Epoch 58/67, Loss: 0.004756720491\n",
      "Epoch 59/67, Loss: 0.004684412657\n",
      "Epoch 60/67, Loss: 0.004632963369\n",
      "Epoch 61/67, Loss: 0.004725858339\n",
      "Epoch 62/67, Loss: 0.004654830424\n",
      "Epoch 63/67, Loss: 0.004568942142\n",
      "Epoch 64/67, Loss: 0.004502803261\n",
      "Epoch 65/67, Loss: 0.004447724399\n",
      "Epoch 66/67, Loss: 0.004531049170\n",
      "Epoch 67/67, Loss: 0.004462128981\n"
     ]
    }
   ],
   "source": [
    "num_epochs = 67\n",
    "for epoch in range(num_epochs):\n",
    "    running_loss = 0.0\n",
    "    for inputs, labels in train_dataloader:\n",
    "        inputs = inputs.to(device)\n",
    "        labels = labels.to(device)\n",
    "\n",
    "        optimizer.zero_grad()  # Zero the gradients\n",
    "        outputs = model(inputs)  # Forward pass\n",
    "        loss = criterion(outputs, labels)  # Compute the loss\n",
    "        loss.backward()  # Backward pass\n",
    "        optimizer.step()  # Update the weights\n",
    "\n",
    "        running_loss += loss.item()\n",
    "\n",
    "    scheduler.step()\n",
    "\n",
    "\n",
    "    print(f\"Epoch {epoch+1:0{len(str(num_epochs))}}/{num_epochs}, Loss: {running_loss/len(train_dataloader):.12f}\")"
   ]
  },
  {
   "cell_type": "markdown",
   "metadata": {},
   "source": [
    "### Checking the filters of the trained model:"
   ]
  },
  {
   "cell_type": "code",
   "execution_count": 39,
   "metadata": {},
   "outputs": [
    {
     "data": {
      "text/plain": [
       "[Parameter containing:\n",
       " tensor([[[0.5828],\n",
       "          [0.6298],\n",
       "          [0.6385],\n",
       "          [0.9296]]], device='cuda:0', requires_grad=True),\n",
       " Parameter containing:\n",
       " tensor([-0.2179], device='cuda:0', requires_grad=True)]"
      ]
     },
     "execution_count": 39,
     "metadata": {},
     "output_type": "execute_result"
    }
   ],
   "source": [
    "list(model.conv1.parameters())"
   ]
  },
  {
   "cell_type": "markdown",
   "metadata": {},
   "source": [
    "#### Evaluating model:"
   ]
  },
  {
   "cell_type": "code",
   "execution_count": 40,
   "metadata": {},
   "outputs": [],
   "source": [
    "test_pred = model.forward(X_test.to(device))\n",
    "test_map = ev.eval_vo(test_pred[:,:600].T.cpu().detach().numpy(), y_test[:,:600].T.numpy(),600)[0].mean()"
   ]
  },
  {
   "cell_type": "code",
   "execution_count": 41,
   "metadata": {},
   "outputs": [
    {
     "name": "stdout",
     "output_type": "stream",
     "text": [
      "mAP:  52.03413253116235\n"
     ]
    }
   ],
   "source": [
    "print(\"mAP: \", test_map * 100)"
   ]
  },
  {
   "cell_type": "markdown",
   "metadata": {},
   "source": [
    "##### Fewshot evaluation:"
   ]
  },
  {
   "cell_type": "code",
   "execution_count": 42,
   "metadata": {},
   "outputs": [
    {
     "name": "stdout",
     "output_type": "stream",
     "text": [
      "Few@1 mAP:  30.875684056566772\n",
      "Few@5 mAP:  37.38865785417163\n",
      "Few@10 mAp:  38.55030103353095\n"
     ]
    }
   ],
   "source": [
    "one_shot_list = torch.where((0 < (y_train[:,:600] == 1).sum(dim=0)) & ((y_train[:,:600] == 1).sum(dim=0) <= 1))[0]\n",
    "few_shot_list_5 = torch.where((0 < (y_train[:,:600] == 1).sum(dim=0)) & ((y_train[:,:600] == 1).sum(dim=0) <= 5))[0]\n",
    "few_shot_list_10 = torch.where((0 < (y_train[:,:600] == 1).sum(dim=0)) & ((y_train[:,:600] == 1).sum(dim=0) <= 10))[0]\n",
    "\n",
    "one_shot_map = ev.eval_vo(test_pred[:,one_shot_list].T.cpu().detach().numpy(), y_test[:,one_shot_list].T.numpy(),len(one_shot_list))[0].mean()\n",
    "few_5_shot_map = ev.eval_vo(test_pred[:,few_shot_list_5].T.cpu().detach().numpy(), y_test[:,few_shot_list_5].T.numpy(),len(few_shot_list_5))[0].mean()\n",
    "few_10_shot_map = ev.eval_vo(test_pred[:,few_shot_list_10].T.cpu().detach().numpy(), y_test[:,few_shot_list_10].T.numpy(),len(few_shot_list_10))[0].mean()\n",
    "\n",
    "print(\"Few@1 mAP: \", one_shot_map * 100)\n",
    "print(\"Few@5 mAP: \", few_5_shot_map * 100)\n",
    "print(\"Few@10 mAp: \", few_10_shot_map * 100)"
   ]
  },
  {
   "cell_type": "code",
   "execution_count": null,
   "metadata": {},
   "outputs": [],
   "source": []
  }
 ],
 "metadata": {
  "kernelspec": {
   "display_name": "PyTorch",
   "language": "python",
   "name": "python3"
  },
  "language_info": {
   "codemirror_mode": {
    "name": "ipython",
    "version": 3
   },
   "file_extension": ".py",
   "mimetype": "text/x-python",
   "name": "python",
   "nbconvert_exporter": "python",
   "pygments_lexer": "ipython3",
   "version": "3.10.13"
  }
 },
 "nbformat": 4,
 "nbformat_minor": 2
}
