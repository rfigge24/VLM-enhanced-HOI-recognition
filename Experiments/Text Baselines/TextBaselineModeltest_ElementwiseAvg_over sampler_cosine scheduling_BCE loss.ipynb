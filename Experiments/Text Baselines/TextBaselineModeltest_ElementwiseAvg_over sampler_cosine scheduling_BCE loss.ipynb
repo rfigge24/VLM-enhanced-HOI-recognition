{
 "cells": [
  {
   "cell_type": "markdown",
   "metadata": {},
   "source": [
    "# Text Baseline model testing element-wise Avg (OverSampler, cosine scheduling, BCE loss):"
   ]
  },
  {
   "cell_type": "code",
   "execution_count": 1,
   "metadata": {},
   "outputs": [],
   "source": [
    "import sys\n",
    "root = '../../'\n",
    "sys.path.append(root)   # Done to be able to import the packages and functions\n",
    "\n",
    "import Utils.hico_evaluation.evaluation as ev\n",
    "from Utils.custom_sampler import OverSampler\n",
    "from Utils.custom_loss import MaskedBCELoss\n",
    "from Utils.annotation_preprocessing import _load_csv_to_tensor\n",
    "from Utils.train_val_split import train_val_split_hico\n",
    "from hoi_classifiers import ElementwiseAvgFusionModel\n",
    "\n",
    "import torch\n",
    "import numpy as np\n",
    "from torch.utils.data import TensorDataset, DataLoader\n",
    "import matplotlib.pyplot as plt\n",
    "\n",
    "import random"
   ]
  },
  {
   "cell_type": "code",
   "execution_count": 2,
   "metadata": {},
   "outputs": [],
   "source": [
    "seed = 42   #note that the model parameters will still be randomly initiated\n",
    "torch.manual_seed(seed)\n",
    "random.seed(seed)"
   ]
  },
  {
   "cell_type": "markdown",
   "metadata": {},
   "source": [
    "### Loading the training set:\n"
   ]
  },
  {
   "cell_type": "code",
   "execution_count": 3,
   "metadata": {},
   "outputs": [],
   "source": [
    "# Loading the data:\n",
    "X_train = torch.load(root + \"Embeddings/Text_Embeddings/train.pt\")\n",
    "y_train = _load_csv_to_tensor(root + \"anno/added/anno_augmented_train.csv\").T # Transpose to make both first dimensions the #samples.\n",
    "y_train[y_train.isnan()] = -1"
   ]
  },
  {
   "cell_type": "code",
   "execution_count": 4,
   "metadata": {},
   "outputs": [],
   "source": [
    "X_test = torch.load(root + \"Embeddings/Text_Embeddings/test.pt\")\n",
    "y_test = _load_csv_to_tensor(root + \"anno/added/anno_augmented_test.csv\").T # Transpose to make both first dimensions the #samples.\n",
    "y_test[y_test.isnan()] = -1"
   ]
  },
  {
   "cell_type": "markdown",
   "metadata": {},
   "source": [
    "#### Training Preparations:"
   ]
  },
  {
   "cell_type": "code",
   "execution_count": 5,
   "metadata": {},
   "outputs": [],
   "source": [
    "train_dataset = TensorDataset(X_train, y_train)"
   ]
  },
  {
   "cell_type": "code",
   "execution_count": 6,
   "metadata": {},
   "outputs": [],
   "source": [
    "# Batch size:\n",
    "bs = 512\n",
    "\n",
    "sampler = OverSampler(y_train[:,:600], shuffle=True)\n",
    "\n",
    "train_dataloader = DataLoader(\n",
    "    train_dataset, batch_size=bs, num_workers=4, sampler=sampler)\n"
   ]
  },
  {
   "cell_type": "code",
   "execution_count": 7,
   "metadata": {},
   "outputs": [],
   "source": [
    "device = torch.device('cuda:0' if torch.cuda.is_available() else 'cpu')"
   ]
  },
  {
   "cell_type": "code",
   "execution_count": 8,
   "metadata": {},
   "outputs": [],
   "source": [
    "model = ElementwiseAvgFusionModel(512, 655, 797)\n",
    "model = model.to(device)"
   ]
  },
  {
   "cell_type": "code",
   "execution_count": 9,
   "metadata": {},
   "outputs": [
    {
     "name": "stderr",
     "output_type": "stream",
     "text": [
      "c:\\Users\\rfigg\\.conda\\envs\\PyTorch\\lib\\site-packages\\transformers\\utils\\generic.py:441: UserWarning: torch.utils._pytree._register_pytree_node is deprecated. Please use torch.utils._pytree.register_pytree_node instead.\n",
      "  _torch_pytree._register_pytree_node(\n"
     ]
    }
   ],
   "source": [
    "classweights = torch.cat((torch.ones(600),torch.ones(197)*0.5)).to(device)      # The hoi classes weigh twice as much as the seperate classes\n",
    "\n",
    "criterion = MaskedBCELoss(ignore_label=0, convert_target_to_01= True, weight=classweights)\n",
    "\n",
    "optimizer = torch.optim.Adam(params=model.parameters(), lr=0.0005)\n",
    "scheduler = torch.optim.lr_scheduler.CosineAnnealingWarmRestarts(optimizer, T_0=5, T_mult=1)"
   ]
  },
  {
   "cell_type": "markdown",
   "metadata": {},
   "source": [
    "#### Training loop:"
   ]
  },
  {
   "cell_type": "code",
   "execution_count": 10,
   "metadata": {},
   "outputs": [
    {
     "name": "stdout",
     "output_type": "stream",
     "text": [
      "Epoch 01/67, Loss: 0.096066571834\n",
      "Epoch 02/67, Loss: 0.019209611567\n",
      "Epoch 03/67, Loss: 0.015741702353\n",
      "Epoch 04/67, Loss: 0.014026351846\n",
      "Epoch 05/67, Loss: 0.013417715524\n",
      "Epoch 06/67, Loss: 0.012277157977\n",
      "Epoch 07/67, Loss: 0.010677748708\n",
      "Epoch 08/67, Loss: 0.009755937853\n",
      "Epoch 09/67, Loss: 0.009305823431\n",
      "Epoch 10/67, Loss: 0.009128931245\n",
      "Epoch 11/67, Loss: 0.008849396473\n",
      "Epoch 12/67, Loss: 0.008381567921\n",
      "Epoch 13/67, Loss: 0.008063430442\n",
      "Epoch 14/67, Loss: 0.007875153171\n",
      "Epoch 15/67, Loss: 0.007769971871\n",
      "Epoch 16/67, Loss: 0.007684221507\n",
      "Epoch 17/67, Loss: 0.007461617245\n",
      "Epoch 18/67, Loss: 0.007270037672\n",
      "Epoch 19/67, Loss: 0.007156831658\n",
      "Epoch 20/67, Loss: 0.007108217965\n",
      "Epoch 21/67, Loss: 0.007071420668\n",
      "Epoch 22/67, Loss: 0.006923071237\n",
      "Epoch 23/67, Loss: 0.006802723282\n",
      "Epoch 24/67, Loss: 0.006712549443\n",
      "Epoch 25/67, Loss: 0.006660109964\n",
      "Epoch 26/67, Loss: 0.006655596391\n",
      "Epoch 27/67, Loss: 0.006549136626\n",
      "Epoch 28/67, Loss: 0.006444693308\n",
      "Epoch 29/67, Loss: 0.006370788476\n",
      "Epoch 30/67, Loss: 0.006318917319\n",
      "Epoch 31/67, Loss: 0.006345226409\n",
      "Epoch 32/67, Loss: 0.006256585516\n",
      "Epoch 33/67, Loss: 0.006182561281\n",
      "Epoch 34/67, Loss: 0.006104706858\n",
      "Epoch 35/67, Loss: 0.006061869443\n",
      "Epoch 36/67, Loss: 0.006089745238\n",
      "Epoch 37/67, Loss: 0.006013098552\n",
      "Epoch 38/67, Loss: 0.005932357868\n",
      "Epoch 39/67, Loss: 0.005866989662\n",
      "Epoch 40/67, Loss: 0.005844032960\n",
      "Epoch 41/67, Loss: 0.005880975968\n",
      "Epoch 42/67, Loss: 0.005802966731\n",
      "Epoch 43/67, Loss: 0.005739022839\n",
      "Epoch 44/67, Loss: 0.005671811746\n",
      "Epoch 45/67, Loss: 0.005649589417\n",
      "Epoch 46/67, Loss: 0.005683967117\n",
      "Epoch 47/67, Loss: 0.005625929525\n",
      "Epoch 48/67, Loss: 0.005553130930\n",
      "Epoch 49/67, Loss: 0.005508609495\n",
      "Epoch 50/67, Loss: 0.005451224811\n",
      "Epoch 51/67, Loss: 0.005513461496\n",
      "Epoch 52/67, Loss: 0.005459523949\n",
      "Epoch 53/67, Loss: 0.005390146768\n",
      "Epoch 54/67, Loss: 0.005344994346\n",
      "Epoch 55/67, Loss: 0.005303313828\n",
      "Epoch 56/67, Loss: 0.005349973959\n",
      "Epoch 57/67, Loss: 0.005316786125\n",
      "Epoch 58/67, Loss: 0.005243485850\n",
      "Epoch 59/67, Loss: 0.005198665946\n",
      "Epoch 60/67, Loss: 0.005160143947\n",
      "Epoch 61/67, Loss: 0.005222361064\n",
      "Epoch 62/67, Loss: 0.005167640464\n",
      "Epoch 63/67, Loss: 0.005112464340\n",
      "Epoch 64/67, Loss: 0.005062065737\n",
      "Epoch 65/67, Loss: 0.005038685933\n",
      "Epoch 66/67, Loss: 0.005077669351\n",
      "Epoch 67/67, Loss: 0.005023156364\n"
     ]
    }
   ],
   "source": [
    "num_epochs = 67\n",
    "for epoch in range(num_epochs):\n",
    "    running_loss = 0.0\n",
    "    for inputs, labels in train_dataloader:\n",
    "        inputs = inputs.to(device)\n",
    "        labels = labels.to(device)\n",
    "\n",
    "        optimizer.zero_grad()  # Zero the gradients\n",
    "        outputs = model(inputs)  # Forward pass\n",
    "        loss = criterion(outputs, labels)  # Compute the loss\n",
    "        loss.backward()  # Backward pass\n",
    "        optimizer.step()  # Update the weights\n",
    "\n",
    "        running_loss += loss.item()\n",
    "\n",
    "    scheduler.step()\n",
    "\n",
    "\n",
    "    print(f\"Epoch {epoch+1:0{len(str(num_epochs))}}/{num_epochs}, Loss: {running_loss/len(train_dataloader):.12f}\")"
   ]
  },
  {
   "cell_type": "markdown",
   "metadata": {},
   "source": [
    "#### Evaluating model:"
   ]
  },
  {
   "cell_type": "code",
   "execution_count": 11,
   "metadata": {},
   "outputs": [],
   "source": [
    "test_pred = model.forward(X_test.to(device))\n",
    "test_map = ev.eval_vo(test_pred[:,:600].T.cpu().detach().numpy(), y_test[:,:600].T.numpy(),600)[0].mean()"
   ]
  },
  {
   "cell_type": "code",
   "execution_count": 12,
   "metadata": {},
   "outputs": [
    {
     "name": "stdout",
     "output_type": "stream",
     "text": [
      "mAP:  53.25552967481767\n"
     ]
    }
   ],
   "source": [
    "print(\"mAP: \", test_map * 100)"
   ]
  },
  {
   "cell_type": "markdown",
   "metadata": {},
   "source": [
    "##### Fewshot evaluation:"
   ]
  },
  {
   "cell_type": "code",
   "execution_count": 13,
   "metadata": {},
   "outputs": [
    {
     "name": "stdout",
     "output_type": "stream",
     "text": [
      "Few@1 mAP:  34.86501140740811\n",
      "Few@5 mAP:  40.15443632612898\n",
      "Few@10 mAp:  41.855691594480234\n"
     ]
    }
   ],
   "source": [
    "one_shot_list = torch.where((0 < (y_train[:,:600] == 1).sum(dim=0)) & ((y_train[:,:600] == 1).sum(dim=0) <= 1))[0]\n",
    "few_shot_list_5 = torch.where((0 < (y_train[:,:600] == 1).sum(dim=0)) & ((y_train[:,:600] == 1).sum(dim=0) <= 5))[0]\n",
    "few_shot_list_10 = torch.where((0 < (y_train[:,:600] == 1).sum(dim=0)) & ((y_train[:,:600] == 1).sum(dim=0) <= 10))[0]\n",
    "\n",
    "one_shot_map = ev.eval_vo(test_pred[:,one_shot_list].T.cpu().detach().numpy(), y_test[:,one_shot_list].T.numpy(),len(one_shot_list))[0].mean()\n",
    "few_5_shot_map = ev.eval_vo(test_pred[:,few_shot_list_5].T.cpu().detach().numpy(), y_test[:,few_shot_list_5].T.numpy(),len(few_shot_list_5))[0].mean()\n",
    "few_10_shot_map = ev.eval_vo(test_pred[:,few_shot_list_10].T.cpu().detach().numpy(), y_test[:,few_shot_list_10].T.numpy(),len(few_shot_list_10))[0].mean()\n",
    "\n",
    "print(\"Few@1 mAP: \", one_shot_map * 100)\n",
    "print(\"Few@5 mAP: \", few_5_shot_map * 100)\n",
    "print(\"Few@10 mAp: \", few_10_shot_map * 100)"
   ]
  },
  {
   "cell_type": "code",
   "execution_count": null,
   "metadata": {},
   "outputs": [],
   "source": []
  }
 ],
 "metadata": {
  "kernelspec": {
   "display_name": "PyTorch",
   "language": "python",
   "name": "python3"
  },
  "language_info": {
   "codemirror_mode": {
    "name": "ipython",
    "version": 3
   },
   "file_extension": ".py",
   "mimetype": "text/x-python",
   "name": "python",
   "nbconvert_exporter": "python",
   "pygments_lexer": "ipython3",
   "version": "3.10.13"
  }
 },
 "nbformat": 4,
 "nbformat_minor": 2
}
