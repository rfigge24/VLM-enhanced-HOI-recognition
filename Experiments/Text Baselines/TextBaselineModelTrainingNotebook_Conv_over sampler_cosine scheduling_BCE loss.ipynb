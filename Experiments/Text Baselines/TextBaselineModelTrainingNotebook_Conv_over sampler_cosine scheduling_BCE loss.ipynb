{
 "cells": [
  {
   "cell_type": "markdown",
   "metadata": {},
   "source": [
    "# Text Baseline model training Conv fusion (OverSampler, cosine scheduling, BCE loss):"
   ]
  },
  {
   "cell_type": "code",
   "execution_count": 1,
   "metadata": {},
   "outputs": [],
   "source": [
    "import sys\n",
    "root = '../../'\n",
    "sys.path.append(root)   # Done to be able to import the packages and functions\n",
    "\n",
    "import Utils.hico_evaluation.evaluation as ev\n",
    "from Utils.custom_sampler import OverSampler\n",
    "from Utils.custom_loss import MaskedBCELoss\n",
    "from Utils.annotation_preprocessing import _load_csv_to_tensor\n",
    "from Utils.train_val_split import train_val_split_hico\n",
    "from hoi_classifiers import ConvolutionFusionModel\n",
    "\n",
    "import torch\n",
    "import numpy as np\n",
    "from torch.utils.data import TensorDataset, DataLoader\n",
    "import matplotlib.pyplot as plt\n",
    "\n",
    "import random"
   ]
  },
  {
   "cell_type": "code",
   "execution_count": 2,
   "metadata": {},
   "outputs": [],
   "source": [
    "seed = 42   #note that the model parameters will still be randomly initiated\n",
    "torch.manual_seed(seed)\n",
    "random.seed(seed)"
   ]
  },
  {
   "cell_type": "markdown",
   "metadata": {},
   "source": [
    "### Loading the training set:\n"
   ]
  },
  {
   "cell_type": "code",
   "execution_count": 3,
   "metadata": {},
   "outputs": [],
   "source": [
    "# Loading the data:\n",
    "train_data = torch.load(root + \"Embeddings/Text_Embeddings/train.pt\")\n",
    "train_annotations = _load_csv_to_tensor(root + \"anno/added/anno_augmented_train.csv\").T # Transpose to make both first dimensions the #samples.\n",
    "train_annotations[train_annotations.isnan()] = -1"
   ]
  },
  {
   "cell_type": "markdown",
   "metadata": {},
   "source": [
    "##### Splitting the training set into a train and validation set:"
   ]
  },
  {
   "cell_type": "code",
   "execution_count": 4,
   "metadata": {},
   "outputs": [],
   "source": [
    "train_idx, validation_idx = train_val_split_hico(train_data, train_annotations, 0.2, seed)\n",
    "X_train, X_val = train_data[train_idx], train_data[validation_idx]\n",
    "y_train, y_val = train_annotations[train_idx], train_annotations[validation_idx]"
   ]
  },
  {
   "cell_type": "markdown",
   "metadata": {},
   "source": [
    "#### Training Preparations:"
   ]
  },
  {
   "cell_type": "code",
   "execution_count": 5,
   "metadata": {},
   "outputs": [],
   "source": [
    "train_dataset = TensorDataset(X_train, y_train)"
   ]
  },
  {
   "cell_type": "code",
   "execution_count": 6,
   "metadata": {},
   "outputs": [],
   "source": [
    "# Batch size:\n",
    "bs = 512\n",
    "\n",
    "sampler = OverSampler(y_train[:,:600], shuffle=True)\n",
    "\n",
    "train_dataloader = DataLoader(\n",
    "    train_dataset, batch_size=bs, num_workers=4, sampler=sampler)\n"
   ]
  },
  {
   "cell_type": "code",
   "execution_count": 7,
   "metadata": {},
   "outputs": [],
   "source": [
    "device = torch.device('cuda:0' if torch.cuda.is_available() else 'cpu')"
   ]
  },
  {
   "cell_type": "code",
   "execution_count": 8,
   "metadata": {},
   "outputs": [],
   "source": [
    "nr_of_kernels = 1\n",
    "model = ConvolutionFusionModel(512,4, nr_of_kernels, 655, 797)\n",
    "model = model.to(device)"
   ]
  },
  {
   "cell_type": "code",
   "execution_count": 9,
   "metadata": {},
   "outputs": [
    {
     "name": "stderr",
     "output_type": "stream",
     "text": [
      "c:\\Users\\rfigg\\.conda\\envs\\PyTorch\\lib\\site-packages\\transformers\\utils\\generic.py:441: UserWarning: torch.utils._pytree._register_pytree_node is deprecated. Please use torch.utils._pytree.register_pytree_node instead.\n",
      "  _torch_pytree._register_pytree_node(\n"
     ]
    }
   ],
   "source": [
    "classweights = torch.cat((torch.ones(600),torch.ones(197)*0.5)).to(device)      # The hoi classes weigh twice as much as the seperate classes\n",
    "criterion = MaskedBCELoss(ignore_label=0, convert_target_to_01= True, weight=classweights)\n",
    "\n",
    "optimizer = torch.optim.Adam(params=model.parameters(), lr=0.0005)\n",
    "scheduler = torch.optim.lr_scheduler.CosineAnnealingWarmRestarts(optimizer, T_0=5, T_mult=1)"
   ]
  },
  {
   "cell_type": "markdown",
   "metadata": {},
   "source": [
    "#### Training loop:"
   ]
  },
  {
   "cell_type": "code",
   "execution_count": 10,
   "metadata": {},
   "outputs": [
    {
     "name": "stdout",
     "output_type": "stream",
     "text": [
      "Epoch 001/200, Loss: 0.095289890726, validation map: 0.007903040457\n",
      "Epoch 002/200, Loss: 0.022467899972, validation map: 0.009139471295\n",
      "Epoch 003/200, Loss: 0.022356651150, validation map: 0.011627822276\n",
      "Epoch 004/200, Loss: 0.022293236942, validation map: 0.013987026782\n",
      "Epoch 005/200, Loss: 0.022225313175, validation map: 0.014954929126\n",
      "Epoch 006/200, Loss: 0.022055868107, validation map: 0.028091725892\n",
      "Epoch 007/200, Loss: 0.021236148376, validation map: 0.037105731249\n",
      "Epoch 008/200, Loss: 0.020057952127, validation map: 0.048944014372\n",
      "Epoch 009/200, Loss: 0.018992254678, validation map: 0.060378650657\n",
      "Epoch 010/200, Loss: 0.018444346503, validation map: 0.064381211414\n",
      "Epoch 011/200, Loss: 0.017143686577, validation map: 0.101621885157\n",
      "Epoch 012/200, Loss: 0.014728170533, validation map: 0.146607778346\n",
      "Epoch 013/200, Loss: 0.013021569807, validation map: 0.181489695391\n",
      "Epoch 014/200, Loss: 0.012128700096, validation map: 0.198913116076\n",
      "Epoch 015/200, Loss: 0.011755491201, validation map: 0.204583991094\n",
      "Epoch 016/200, Loss: 0.011113659216, validation map: 0.251955877738\n",
      "Epoch 017/200, Loss: 0.009895241951, validation map: 0.286529352845\n",
      "Epoch 018/200, Loss: 0.009158598952, validation map: 0.302636038667\n",
      "Epoch 019/200, Loss: 0.008731258758, validation map: 0.310640331649\n",
      "Epoch 020/200, Loss: 0.008572655599, validation map: 0.311891237613\n",
      "Epoch 021/200, Loss: 0.008402022551, validation map: 0.331466619384\n",
      "Epoch 022/200, Loss: 0.007932631908, validation map: 0.347806244392\n",
      "Epoch 023/200, Loss: 0.007594221445, validation map: 0.357886386034\n",
      "Epoch 024/200, Loss: 0.007387306267, validation map: 0.362647539513\n",
      "Epoch 025/200, Loss: 0.007272109473, validation map: 0.363745385711\n",
      "Epoch 026/200, Loss: 0.007206595980, validation map: 0.373844553940\n",
      "Epoch 027/200, Loss: 0.006992187076, validation map: 0.382312945202\n",
      "Epoch 028/200, Loss: 0.006776553286, validation map: 0.386175123077\n",
      "Epoch 029/200, Loss: 0.006632462168, validation map: 0.387181736512\n",
      "Epoch 030/200, Loss: 0.006578871933, validation map: 0.387880398984\n",
      "Epoch 031/200, Loss: 0.006541972634, validation map: 0.395535529132\n",
      "Epoch 032/200, Loss: 0.006396486161, validation map: 0.400893092664\n",
      "Epoch 033/200, Loss: 0.006235194590, validation map: 0.404619569966\n",
      "Epoch 034/200, Loss: 0.006119794624, validation map: 0.404766723523\n",
      "Epoch 035/200, Loss: 0.006067118631, validation map: 0.405007161157\n",
      "Epoch 036/200, Loss: 0.006092137562, validation map: 0.409358255189\n",
      "Epoch 037/200, Loss: 0.005990077598, validation map: 0.413366887259\n",
      "Epoch 038/200, Loss: 0.005835832156, validation map: 0.416114544398\n",
      "Epoch 039/200, Loss: 0.005745272779, validation map: 0.416270113398\n",
      "Epoch 040/200, Loss: 0.005689316262, validation map: 0.416658842013\n",
      "Epoch 041/200, Loss: 0.005715452361, validation map: 0.419018230345\n",
      "Epoch 042/200, Loss: 0.005629948388, validation map: 0.421300289504\n",
      "Epoch 043/200, Loss: 0.005514897430, validation map: 0.423204661058\n",
      "Epoch 044/200, Loss: 0.005434221899, validation map: 0.423622594725\n",
      "Epoch 045/200, Loss: 0.005368374521, validation map: 0.423171050680\n",
      "Epoch 046/200, Loss: 0.005422822098, validation map: 0.424165404469\n",
      "Epoch 047/200, Loss: 0.005342277310, validation map: 0.426654633753\n",
      "Epoch 048/200, Loss: 0.005234976998, validation map: 0.425917072765\n",
      "Epoch 049/200, Loss: 0.005153574832, validation map: 0.427274309420\n",
      "Epoch 050/200, Loss: 0.005107919184, validation map: 0.427535005301\n",
      "Epoch 051/200, Loss: 0.005165005921, validation map: 0.428499057580\n",
      "Epoch 052/200, Loss: 0.005092465110, validation map: 0.429337489720\n",
      "Epoch 053/200, Loss: 0.004975821435, validation map: 0.428966518762\n",
      "Epoch 054/200, Loss: 0.004913108226, validation map: 0.429243910509\n",
      "Epoch 055/200, Loss: 0.004851643504, validation map: 0.429459117278\n",
      "Epoch 056/200, Loss: 0.004935242325, validation map: 0.431068418960\n",
      "Epoch 057/200, Loss: 0.004859981318, validation map: 0.432531312702\n",
      "Epoch 058/200, Loss: 0.004757973992, validation map: 0.432537496590\n",
      "Epoch 059/200, Loss: 0.004690789510, validation map: 0.432606720811\n",
      "Epoch 060/200, Loss: 0.004635580989, validation map: 0.432897763505\n",
      "Epoch 061/200, Loss: 0.004703334957, validation map: 0.433169642170\n",
      "Epoch 062/200, Loss: 0.004614132642, validation map: 0.434339504925\n",
      "Epoch 063/200, Loss: 0.004544932879, validation map: 0.435500323542\n",
      "Epoch 064/200, Loss: 0.004462361318, validation map: 0.435822228970\n",
      "Epoch 065/200, Loss: 0.004421296162, validation map: 0.435790951673\n",
      "Epoch 066/200, Loss: 0.004502947078, validation map: 0.435479129813\n",
      "Epoch 067/200, Loss: 0.004431256451, validation map: 0.436330559372\n",
      "Epoch 068/200, Loss: 0.004344746554, validation map: 0.436092295960\n",
      "Epoch 069/200, Loss: 0.004275663233, validation map: 0.436508332743\n",
      "Epoch 070/200, Loss: 0.004218720180, validation map: 0.436166728158\n",
      "Epoch 071/200, Loss: 0.004304285522, validation map: 0.436305824564\n",
      "Epoch 072/200, Loss: 0.004252267992, validation map: 0.437151777860\n",
      "Epoch 073/200, Loss: 0.004162306742, validation map: 0.437258549122\n",
      "Epoch 074/200, Loss: 0.004095271913, validation map: 0.438113636829\n",
      "Epoch 075/200, Loss: 0.004044969695, validation map: 0.437820440350\n",
      "Epoch 076/200, Loss: 0.004130120625, validation map: 0.437409762747\n",
      "Epoch 077/200, Loss: 0.004078293855, validation map: 0.436801681736\n",
      "Epoch 078/200, Loss: 0.003995877156, validation map: 0.437870661956\n",
      "Epoch 079/200, Loss: 0.003902953778, validation map: 0.437296690231\n",
      "Epoch 080/200, Loss: 0.003863427824, validation map: 0.437421225218\n",
      "Epoch 081/200, Loss: 0.003949299819, validation map: 0.437852063654\n",
      "Epoch 082/200, Loss: 0.003908276444, validation map: 0.437594156721\n",
      "Epoch 083/200, Loss: 0.003819484905, validation map: 0.439078509886\n",
      "Epoch 084/200, Loss: 0.003737186634, validation map: 0.439403342097\n",
      "Epoch 085/200, Loss: 0.003685340470, validation map: 0.439027925097\n",
      "Epoch 086/200, Loss: 0.003793724159, validation map: 0.438780011019\n",
      "Epoch 087/200, Loss: 0.003727928813, validation map: 0.438406100438\n",
      "Epoch 088/200, Loss: 0.003651347752, validation map: 0.437359831000\n",
      "Epoch 089/200, Loss: 0.003575996305, validation map: 0.437762286575\n",
      "Epoch 090/200, Loss: 0.003506777698, validation map: 0.438535233030\n",
      "Epoch 091/200, Loss: 0.003635132942, validation map: 0.436269265071\n",
      "Epoch 092/200, Loss: 0.003578723958, validation map: 0.436263833228\n",
      "Epoch 093/200, Loss: 0.003484162920, validation map: 0.435869927713\n",
      "Epoch 094/200, Loss: 0.003404230327, validation map: 0.436741144684\n",
      "Epoch 095/200, Loss: 0.003335812819, validation map: 0.436608020729\n",
      "Epoch 096/200, Loss: 0.003470154966, validation map: 0.436863081009\n",
      "Epoch 097/200, Loss: 0.003399795109, validation map: 0.435119468443\n",
      "Epoch 098/200, Loss: 0.003324166027, validation map: 0.435650273300\n",
      "Epoch 099/200, Loss: 0.003230664273, validation map: 0.436346498477\n",
      "Epoch 100/200, Loss: 0.003169069604, validation map: 0.436102608731\n",
      "Epoch 101/200, Loss: 0.003308361125, validation map: 0.433769762829\n",
      "Epoch 102/200, Loss: 0.003257613605, validation map: 0.432978012682\n",
      "Epoch 103/200, Loss: 0.003156345636, validation map: 0.435120544702\n",
      "Epoch 104/200, Loss: 0.003072782327, validation map: 0.433377652638\n",
      "Epoch 105/200, Loss: 0.003002062171, validation map: 0.433542664889\n",
      "Epoch 106/200, Loss: 0.003150719785, validation map: 0.432318062602\n",
      "Epoch 107/200, Loss: 0.003097046241, validation map: 0.431877533408\n",
      "Epoch 108/200, Loss: 0.003005461149, validation map: 0.431198215167\n",
      "Epoch 109/200, Loss: 0.002902218472, validation map: 0.430138542579\n",
      "Epoch 110/200, Loss: 0.002840477224, validation map: 0.430173201216\n",
      "Epoch 111/200, Loss: 0.002998191168, validation map: 0.428485230884\n",
      "Epoch 112/200, Loss: 0.002935647433, validation map: 0.427921223618\n",
      "Epoch 113/200, Loss: 0.002840595451, validation map: 0.427920543943\n",
      "Epoch 114/200, Loss: 0.002744258593, validation map: 0.428289877097\n",
      "Epoch 115/200, Loss: 0.002674083151, validation map: 0.427731258192\n",
      "Epoch 116/200, Loss: 0.002829290876, validation map: 0.427596615493\n",
      "Epoch 117/200, Loss: 0.002780764701, validation map: 0.426156771016\n",
      "Epoch 118/200, Loss: 0.002686787003, validation map: 0.426580279503\n",
      "Epoch 119/200, Loss: 0.002588944336, validation map: 0.426474569903\n",
      "Epoch 120/200, Loss: 0.002525256938, validation map: 0.426677085000\n",
      "Epoch 121/200, Loss: 0.002682830720, validation map: 0.425305581854\n",
      "Epoch 122/200, Loss: 0.002632300289, validation map: 0.425628865112\n",
      "Epoch 123/200, Loss: 0.002540355435, validation map: 0.424729298929\n",
      "Epoch 124/200, Loss: 0.002436687277, validation map: 0.424113909535\n",
      "Epoch 125/200, Loss: 0.002358533887, validation map: 0.424358730730\n",
      "Epoch 126/200, Loss: 0.002544599603, validation map: 0.423690601018\n",
      "Epoch 127/200, Loss: 0.002472644872, validation map: 0.422250098794\n",
      "Epoch 128/200, Loss: 0.002390952664, validation map: 0.423018983120\n",
      "Epoch 129/200, Loss: 0.002283161816, validation map: 0.424042567788\n",
      "Epoch 130/200, Loss: 0.002215006328, validation map: 0.423255306140\n",
      "Epoch 131/200, Loss: 0.002397432843, validation map: 0.420855755147\n",
      "Epoch 132/200, Loss: 0.002330695664, validation map: 0.420397025311\n",
      "Epoch 133/200, Loss: 0.002248191131, validation map: 0.420987419819\n",
      "Epoch 134/200, Loss: 0.002143417461, validation map: 0.421029010735\n",
      "Epoch 135/200, Loss: 0.002072022202, validation map: 0.420836378128\n",
      "Epoch 136/200, Loss: 0.002255854986, validation map: 0.420048445925\n",
      "Epoch 137/200, Loss: 0.002201138954, validation map: 0.419248883786\n",
      "Epoch 138/200, Loss: 0.002098098488, validation map: 0.419951621718\n",
      "Epoch 139/200, Loss: 0.002003121706, validation map: 0.419328214145\n",
      "Epoch 140/200, Loss: 0.001929049125, validation map: 0.419189761880\n",
      "Epoch 141/200, Loss: 0.002114056765, validation map: 0.418512269687\n",
      "Epoch 142/200, Loss: 0.002078670914, validation map: 0.417337356024\n",
      "Epoch 143/200, Loss: 0.001977836982, validation map: 0.417601367705\n",
      "Epoch 144/200, Loss: 0.001870624546, validation map: 0.417840540292\n",
      "Epoch 145/200, Loss: 0.001803329955, validation map: 0.417503186828\n",
      "Epoch 146/200, Loss: 0.001991938067, validation map: 0.416885491088\n",
      "Epoch 147/200, Loss: 0.001949284808, validation map: 0.417021565816\n",
      "Epoch 148/200, Loss: 0.001845373026, validation map: 0.415592129116\n",
      "Epoch 149/200, Loss: 0.001745672692, validation map: 0.416388755666\n",
      "Epoch 150/200, Loss: 0.001682728454, validation map: 0.415798374051\n",
      "Epoch 151/200, Loss: 0.001864488895, validation map: 0.415982570229\n",
      "Epoch 152/200, Loss: 0.001839951727, validation map: 0.414897656692\n",
      "Epoch 153/200, Loss: 0.001736340546, validation map: 0.414223322278\n",
      "Epoch 154/200, Loss: 0.001636829072, validation map: 0.414905873151\n",
      "Epoch 155/200, Loss: 0.001562968064, validation map: 0.413919993191\n",
      "Epoch 156/200, Loss: 0.001747252494, validation map: 0.413821642196\n",
      "Epoch 157/200, Loss: 0.001704302437, validation map: 0.413209010019\n",
      "Epoch 158/200, Loss: 0.001623154858, validation map: 0.413457312817\n",
      "Epoch 159/200, Loss: 0.001529617096, validation map: 0.414303035063\n",
      "Epoch 160/200, Loss: 0.001454182486, validation map: 0.413673903598\n",
      "Epoch 161/200, Loss: 0.001656270786, validation map: 0.413856789660\n",
      "Epoch 162/200, Loss: 0.001603171847, validation map: 0.412117748512\n",
      "Epoch 163/200, Loss: 0.001519573070, validation map: 0.412903001687\n",
      "Epoch 164/200, Loss: 0.001422680895, validation map: 0.412075128867\n",
      "Epoch 165/200, Loss: 0.001354018444, validation map: 0.412071899740\n",
      "Epoch 166/200, Loss: 0.001541210601, validation map: 0.411314396370\n",
      "Epoch 167/200, Loss: 0.001500679976, validation map: 0.413256845052\n",
      "Epoch 168/200, Loss: 0.001411931997, validation map: 0.412699226634\n",
      "Epoch 169/200, Loss: 0.001323413455, validation map: 0.412271992311\n",
      "Epoch 170/200, Loss: 0.001262696749, validation map: 0.412733692753\n",
      "Epoch 171/200, Loss: 0.001442658978, validation map: 0.412428186876\n",
      "Epoch 172/200, Loss: 0.001420789036, validation map: 0.412409168820\n",
      "Epoch 173/200, Loss: 0.001324240705, validation map: 0.411831602941\n",
      "Epoch 174/200, Loss: 0.001232489842, validation map: 0.411161952669\n",
      "Epoch 175/200, Loss: 0.001176248746, validation map: 0.411109299973\n",
      "Epoch 176/200, Loss: 0.001352528737, validation map: 0.410976259050\n",
      "Epoch 177/200, Loss: 0.001328031053, validation map: 0.410283653785\n",
      "Epoch 178/200, Loss: 0.001243825674, validation map: 0.411264679959\n",
      "Epoch 179/200, Loss: 0.001154533314, validation map: 0.410992909948\n",
      "Epoch 180/200, Loss: 0.001091729597, validation map: 0.410724014766\n",
      "Epoch 181/200, Loss: 0.001273454870, validation map: 0.410205165271\n",
      "Epoch 182/200, Loss: 0.001255719425, validation map: 0.409947230091\n",
      "Epoch 183/200, Loss: 0.001159635099, validation map: 0.409986199763\n",
      "Epoch 184/200, Loss: 0.001081223159, validation map: 0.409847649878\n",
      "Epoch 185/200, Loss: 0.001019232229, validation map: 0.410256551077\n",
      "Epoch 186/200, Loss: 0.001199742503, validation map: 0.410121143468\n",
      "Epoch 187/200, Loss: 0.001168600546, validation map: 0.410233107614\n",
      "Epoch 188/200, Loss: 0.001096153647, validation map: 0.408731346542\n",
      "Epoch 189/200, Loss: 0.001008454252, validation map: 0.409567754415\n",
      "Epoch 190/200, Loss: 0.000951102123, validation map: 0.408835713965\n",
      "Epoch 191/200, Loss: 0.001127460271, validation map: 0.409558284967\n",
      "Epoch 192/200, Loss: 0.001122919951, validation map: 0.408183341253\n",
      "Epoch 193/200, Loss: 0.001021604418, validation map: 0.408323084389\n",
      "Epoch 194/200, Loss: 0.000943808373, validation map: 0.409407794443\n",
      "Epoch 195/200, Loss: 0.000883126663, validation map: 0.408555251177\n",
      "Epoch 196/200, Loss: 0.001055042033, validation map: 0.408211338072\n",
      "Epoch 197/200, Loss: 0.001036518077, validation map: 0.406241143538\n",
      "Epoch 198/200, Loss: 0.000960410493, validation map: 0.408186331488\n",
      "Epoch 199/200, Loss: 0.000881317431, validation map: 0.406105943717\n",
      "Epoch 200/200, Loss: 0.000827736954, validation map: 0.407088603569\n"
     ]
    }
   ],
   "source": [
    "num_epochs = 200\n",
    "training_loss_per_epoch = np.zeros(200)\n",
    "validation_loss_per_epoch = np.zeros(200)\n",
    "validation_map_per_epoch = np.zeros(200)\n",
    "\n",
    "for epoch in range(num_epochs):\n",
    "    running_loss = 0.0\n",
    "    for inputs, labels in train_dataloader:\n",
    "        inputs = inputs.to(device)\n",
    "        labels = labels.to(device)\n",
    "\n",
    "        optimizer.zero_grad()  # Zero the gradients\n",
    "        outputs = model(inputs)  # Forward pass\n",
    "        loss = criterion(outputs, labels)  # Compute the loss\n",
    "        loss.backward()  # Backward pass\n",
    "        optimizer.step()  # Update the weights\n",
    "\n",
    "        running_loss += loss.item()\n",
    "    \n",
    "    scheduler.step()\n",
    "    \n",
    "    with torch.no_grad():\n",
    "        pred = model.forward(X_val.to(device))\n",
    "        # calculate the validation loss:\n",
    "        validation_loss = criterion(pred, y_val.to(device))\n",
    "        # calculate the validation mAP:\n",
    "        validation_aps = ev.eval_vo(pred[:,:600].T.cpu().detach().numpy(), y_val[:,:600].T.numpy(),600)[0]\n",
    "        nr_val_classes = np.sum(validation_aps != None)\n",
    "        validation_map = np.nansum(validation_aps) / nr_val_classes\n",
    "\n",
    "        # add the losses and mAP to the arrays:\n",
    "        training_loss_per_epoch[epoch] = running_loss / len(train_dataloader)\n",
    "        validation_loss_per_epoch[epoch] = validation_loss\n",
    "        validation_map_per_epoch[epoch] = validation_map\n",
    "\n",
    "    print(f\"Epoch {epoch+1:0{len(str(num_epochs))}}/{num_epochs}, Loss: {running_loss/len(train_dataloader):.12f}, validation map: {validation_map:.12f}\")"
   ]
  },
  {
   "cell_type": "markdown",
   "metadata": {},
   "source": [
    "### plotting the training process to select the number of convergence"
   ]
  },
  {
   "cell_type": "code",
   "execution_count": 18,
   "metadata": {},
   "outputs": [
    {
     "data": {
      "text/plain": [
       "[]"
      ]
     },
     "execution_count": 18,
     "metadata": {},
     "output_type": "execute_result"
    },
    {
     "data": {
      "image/png": "[encoded data removed]",
      "text/plain": [
       "<Figure size 800x600 with 1 Axes>"
      ]
     },
     "metadata": {},
     "output_type": "display_data"
    }
   ],
   "source": [
    "plt.figure(figsize=(8,6))\n",
    "plt.plot(np.arange(200), training_loss_per_epoch, color = \"orange\")\n",
    "plt.plot(np.arange(200), validation_loss_per_epoch, color = \"blue\")\n",
    "# plt.plot(np.arange(100), validation_loss_main_per_epoch, color= \"red\")\n",
    "# plt.plot(np.arange(100), validation_loss_side_per_epoch, color = \"purple\")\n",
    "plt.plot(np.arange(200), validation_map_per_epoch/10, color = \"green\")              # /10 to fit in the plot\n",
    "plt.ylim(0,0.06)\n",
    "plt.plot()"
   ]
  },
  {
   "cell_type": "code",
   "execution_count": 12,
   "metadata": {},
   "outputs": [
    {
     "data": {
      "text/plain": [
       "83"
      ]
     },
     "execution_count": 12,
     "metadata": {},
     "output_type": "execute_result"
    }
   ],
   "source": [
    "np.argmax(validation_map_per_epoch)"
   ]
  },
  {
   "cell_type": "code",
   "execution_count": 13,
   "metadata": {},
   "outputs": [
    {
     "data": {
      "text/plain": [
       "59"
      ]
     },
     "execution_count": 13,
     "metadata": {},
     "output_type": "execute_result"
    }
   ],
   "source": [
    "np.argmin(validation_loss_per_epoch)"
   ]
  },
  {
   "cell_type": "code",
   "execution_count": null,
   "metadata": {},
   "outputs": [],
   "source": []
  }
 ],
 "metadata": {
  "kernelspec": {
   "display_name": "PyTorch",
   "language": "python",
   "name": "python3"
  },
  "language_info": {
   "codemirror_mode": {
    "name": "ipython",
    "version": 3
   },
   "file_extension": ".py",
   "mimetype": "text/x-python",
   "name": "python",
   "nbconvert_exporter": "python",
   "pygments_lexer": "ipython3",
   "version": "3.10.13"
  }
 },
 "nbformat": 4,
 "nbformat_minor": 2
}
