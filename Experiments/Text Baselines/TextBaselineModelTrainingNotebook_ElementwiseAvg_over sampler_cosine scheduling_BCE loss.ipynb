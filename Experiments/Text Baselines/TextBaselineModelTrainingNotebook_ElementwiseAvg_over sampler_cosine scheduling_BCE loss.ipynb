{
 "cells": [
  {
   "cell_type": "markdown",
   "metadata": {},
   "source": [
    "# Text Baseline model training (OverSampler, cosine scheduling, BCE loss):"
   ]
  },
  {
   "cell_type": "code",
   "execution_count": 1,
   "metadata": {},
   "outputs": [],
   "source": [
    "import sys\n",
    "root = '../../'\n",
    "sys.path.append(root)   # Done to be able to import the packages and functions\n",
    "\n",
    "import Utils.hico_evaluation.evaluation as ev\n",
    "from Utils.custom_sampler import OverSampler\n",
    "from Utils.custom_loss import MaskedBCELoss\n",
    "from Utils.annotation_preprocessing import _load_csv_to_tensor\n",
    "from Utils.train_val_split import train_val_split_hico\n",
    "from hoi_classifiers import ElementwiseAvgFusionModel\n",
    "\n",
    "import torch\n",
    "import numpy as np\n",
    "from torch.utils.data import TensorDataset, DataLoader\n",
    "import matplotlib.pyplot as plt\n",
    "\n",
    "import random"
   ]
  },
  {
   "cell_type": "code",
   "execution_count": 2,
   "metadata": {},
   "outputs": [],
   "source": [
    "seed = 42   #note that the model parameters will still be randomly initiated\n",
    "torch.manual_seed(seed)\n",
    "random.seed(seed)"
   ]
  },
  {
   "cell_type": "markdown",
   "metadata": {},
   "source": [
    "### Loading the training set:\n"
   ]
  },
  {
   "cell_type": "code",
   "execution_count": 3,
   "metadata": {},
   "outputs": [],
   "source": [
    "# Loading the data:\n",
    "train_data = torch.load(root + \"Embeddings/Text_Embeddings/train.pt\")\n",
    "train_annotations = _load_csv_to_tensor(root + \"anno/added/anno_augmented_train.csv\").T # Transpose to make both first dimensions the #samples.\n",
    "train_annotations[train_annotations.isnan()] = -1"
   ]
  },
  {
   "cell_type": "markdown",
   "metadata": {},
   "source": [
    "##### Splitting the training set into a train and validation set:"
   ]
  },
  {
   "cell_type": "code",
   "execution_count": 4,
   "metadata": {},
   "outputs": [],
   "source": [
    "train_idx, validation_idx = train_val_split_hico(train_data, train_annotations, 0.2, seed)\n",
    "X_train, X_val = train_data[train_idx], train_data[validation_idx]\n",
    "y_train, y_val = train_annotations[train_idx], train_annotations[validation_idx]"
   ]
  },
  {
   "cell_type": "markdown",
   "metadata": {},
   "source": [
    "#### Training Preparations:"
   ]
  },
  {
   "cell_type": "code",
   "execution_count": 5,
   "metadata": {},
   "outputs": [],
   "source": [
    "train_dataset = TensorDataset(X_train, y_train)"
   ]
  },
  {
   "cell_type": "code",
   "execution_count": 6,
   "metadata": {},
   "outputs": [],
   "source": [
    "# Batch size:\n",
    "bs = 512\n",
    "\n",
    "sampler = OverSampler(y_train[:,:600], shuffle=True)\n",
    "\n",
    "train_dataloader = DataLoader(\n",
    "    train_dataset, batch_size=bs, num_workers=4, sampler=sampler)\n"
   ]
  },
  {
   "cell_type": "code",
   "execution_count": 7,
   "metadata": {},
   "outputs": [],
   "source": [
    "device = torch.device('cuda:0' if torch.cuda.is_available() else 'cpu')"
   ]
  },
  {
   "cell_type": "code",
   "execution_count": 8,
   "metadata": {},
   "outputs": [],
   "source": [
    "model = ElementwiseAvgFusionModel(512, 655, 797)\n",
    "model = model.to(device)"
   ]
  },
  {
   "cell_type": "code",
   "execution_count": 9,
   "metadata": {},
   "outputs": [
    {
     "name": "stderr",
     "output_type": "stream",
     "text": [
      "c:\\Users\\rfigg\\.conda\\envs\\PyTorch\\lib\\site-packages\\transformers\\utils\\generic.py:441: UserWarning: torch.utils._pytree._register_pytree_node is deprecated. Please use torch.utils._pytree.register_pytree_node instead.\n",
      "  _torch_pytree._register_pytree_node(\n"
     ]
    }
   ],
   "source": [
    "classweights = torch.cat((torch.ones(600),torch.ones(197)*0.5)).to(device)      # The hoi classes weigh twice as much as the seperate classes\n",
    "criterion = MaskedBCELoss(ignore_label=0, convert_target_to_01= True, weight=classweights)\n",
    "\n",
    "optimizer = torch.optim.Adam(params=model.parameters(), lr=0.0005)\n",
    "scheduler = torch.optim.lr_scheduler.CosineAnnealingWarmRestarts(optimizer, T_0=5, T_mult=1)"
   ]
  },
  {
   "cell_type": "markdown",
   "metadata": {},
   "source": [
    "#### Training loop:"
   ]
  },
  {
   "cell_type": "code",
   "execution_count": 10,
   "metadata": {},
   "outputs": [
    {
     "name": "stdout",
     "output_type": "stream",
     "text": [
      "Epoch 001/200, Loss: 0.108706714944, validation map: 0.009979906480\n",
      "Epoch 002/200, Loss: 0.020674543837, validation map: 0.055349655749\n",
      "Epoch 003/200, Loss: 0.017478931862, validation map: 0.095756434028\n",
      "Epoch 004/200, Loss: 0.015633069958, validation map: 0.116591318516\n",
      "Epoch 005/200, Loss: 0.014924572387, validation map: 0.122175664947\n",
      "Epoch 006/200, Loss: 0.013668045581, validation map: 0.185982340869\n",
      "Epoch 007/200, Loss: 0.011839616686, validation map: 0.238498513910\n",
      "Epoch 008/200, Loss: 0.010685877839, validation map: 0.268974533280\n",
      "Epoch 009/200, Loss: 0.010082642249, validation map: 0.280407453589\n",
      "Epoch 010/200, Loss: 0.009844599423, validation map: 0.282882914719\n",
      "Epoch 011/200, Loss: 0.009459363022, validation map: 0.312339193324\n",
      "Epoch 012/200, Loss: 0.008830475561, validation map: 0.329100250997\n",
      "Epoch 013/200, Loss: 0.008420470195, validation map: 0.338970533526\n",
      "Epoch 014/200, Loss: 0.008197615902, validation map: 0.344888070889\n",
      "Epoch 015/200, Loss: 0.008080567627, validation map: 0.345915933397\n",
      "Epoch 016/200, Loss: 0.007961346434, validation map: 0.354807208744\n",
      "Epoch 017/200, Loss: 0.007666716710, validation map: 0.363410569044\n",
      "Epoch 018/200, Loss: 0.007489188640, validation map: 0.369573269109\n",
      "Epoch 019/200, Loss: 0.007318720932, validation map: 0.372088541279\n",
      "Epoch 020/200, Loss: 0.007268638619, validation map: 0.372699068659\n",
      "Epoch 021/200, Loss: 0.007241268326, validation map: 0.380574569364\n",
      "Epoch 022/200, Loss: 0.007049669643, validation map: 0.386796262010\n",
      "Epoch 023/200, Loss: 0.006922597495, validation map: 0.390866554901\n",
      "Epoch 024/200, Loss: 0.006822184158, validation map: 0.391243222046\n",
      "Epoch 025/200, Loss: 0.006763782693, validation map: 0.391930449703\n",
      "Epoch 026/200, Loss: 0.006759244083, validation map: 0.397347977605\n",
      "Epoch 027/200, Loss: 0.006652663122, validation map: 0.401271886033\n",
      "Epoch 028/200, Loss: 0.006544783705, validation map: 0.403506256824\n",
      "Epoch 029/200, Loss: 0.006457534332, validation map: 0.403555265261\n",
      "Epoch 030/200, Loss: 0.006418527892, validation map: 0.404165267674\n",
      "Epoch 031/200, Loss: 0.006412031893, validation map: 0.407493114417\n",
      "Epoch 032/200, Loss: 0.006335269606, validation map: 0.410066783740\n",
      "Epoch 033/200, Loss: 0.006234312573, validation map: 0.412288521386\n",
      "Epoch 034/200, Loss: 0.006166620144, validation map: 0.413721539665\n",
      "Epoch 035/200, Loss: 0.006122120041, validation map: 0.413756136126\n",
      "Epoch 036/200, Loss: 0.006143658762, validation map: 0.416311861130\n",
      "Epoch 037/200, Loss: 0.006084449595, validation map: 0.419150156375\n",
      "Epoch 038/200, Loss: 0.006000796261, validation map: 0.419498870013\n",
      "Epoch 039/200, Loss: 0.005938378437, validation map: 0.420084852308\n",
      "Epoch 040/200, Loss: 0.005901351995, validation map: 0.420639526324\n",
      "Epoch 041/200, Loss: 0.005913577072, validation map: 0.423290018119\n",
      "Epoch 042/200, Loss: 0.005860412881, validation map: 0.425775379296\n",
      "Epoch 043/200, Loss: 0.005775538207, validation map: 0.426171457224\n",
      "Epoch 044/200, Loss: 0.005733053015, validation map: 0.426391062992\n",
      "Epoch 045/200, Loss: 0.005674994909, validation map: 0.426465555341\n",
      "Epoch 046/200, Loss: 0.005723116060, validation map: 0.428621012105\n",
      "Epoch 047/200, Loss: 0.005656046924, validation map: 0.429687800788\n",
      "Epoch 048/200, Loss: 0.005592492672, validation map: 0.431789562660\n",
      "Epoch 049/200, Loss: 0.005540761261, validation map: 0.432044159803\n",
      "Epoch 050/200, Loss: 0.005508307415, validation map: 0.431863313620\n",
      "Epoch 051/200, Loss: 0.005545239269, validation map: 0.433251242266\n",
      "Epoch 052/200, Loss: 0.005494156220, validation map: 0.434314322271\n",
      "Epoch 053/200, Loss: 0.005420654248, validation map: 0.434672203033\n",
      "Epoch 054/200, Loss: 0.005372958126, validation map: 0.434965599952\n",
      "Epoch 055/200, Loss: 0.005332054272, validation map: 0.435181213436\n",
      "Epoch 056/200, Loss: 0.005383693733, validation map: 0.435981952204\n",
      "Epoch 057/200, Loss: 0.005334463609, validation map: 0.437223390994\n",
      "Epoch 058/200, Loss: 0.005261270419, validation map: 0.437931563569\n",
      "Epoch 059/200, Loss: 0.005223011550, validation map: 0.437640800695\n",
      "Epoch 060/200, Loss: 0.005178300455, validation map: 0.437531628493\n",
      "Epoch 061/200, Loss: 0.005215413934, validation map: 0.438721568139\n",
      "Epoch 062/200, Loss: 0.005163736432, validation map: 0.438503065259\n",
      "Epoch 063/200, Loss: 0.005108933430, validation map: 0.439129953126\n",
      "Epoch 064/200, Loss: 0.005054967818, validation map: 0.438388094876\n",
      "Epoch 065/200, Loss: 0.005025173949, validation map: 0.437716449701\n",
      "Epoch 066/200, Loss: 0.005074532762, validation map: 0.439761589421\n",
      "Epoch 067/200, Loss: 0.005026536671, validation map: 0.439499117950\n",
      "Epoch 068/200, Loss: 0.004973970157, validation map: 0.439857133604\n",
      "Epoch 069/200, Loss: 0.004926268961, validation map: 0.440690901588\n",
      "Epoch 070/200, Loss: 0.004890367944, validation map: 0.440223307008\n",
      "Epoch 071/200, Loss: 0.004934250043, validation map: 0.440260865298\n",
      "Epoch 072/200, Loss: 0.004899890825, validation map: 0.440440888301\n",
      "Epoch 073/200, Loss: 0.004847989286, validation map: 0.439617734340\n",
      "Epoch 074/200, Loss: 0.004803136528, validation map: 0.439690462053\n",
      "Epoch 075/200, Loss: 0.004760275631, validation map: 0.439819116312\n",
      "Epoch 076/200, Loss: 0.004823875142, validation map: 0.439230511171\n",
      "Epoch 077/200, Loss: 0.004784581478, validation map: 0.440329400851\n",
      "Epoch 078/200, Loss: 0.004730140701, validation map: 0.440209868406\n",
      "Epoch 079/200, Loss: 0.004674337673, validation map: 0.440628219536\n",
      "Epoch 080/200, Loss: 0.004646136169, validation map: 0.440533731156\n",
      "Epoch 081/200, Loss: 0.004693136156, validation map: 0.440860735996\n",
      "Epoch 082/200, Loss: 0.004654028817, validation map: 0.439936862857\n",
      "Epoch 083/200, Loss: 0.004605850784, validation map: 0.440417351066\n",
      "Epoch 084/200, Loss: 0.004550232952, validation map: 0.440657403912\n",
      "Epoch 085/200, Loss: 0.004531878674, validation map: 0.440467745677\n",
      "Epoch 086/200, Loss: 0.004581998138, validation map: 0.440821794093\n",
      "Epoch 087/200, Loss: 0.004542062555, validation map: 0.441644020632\n",
      "Epoch 088/200, Loss: 0.004498358320, validation map: 0.441056005871\n",
      "Epoch 089/200, Loss: 0.004452339218, validation map: 0.441647535524\n",
      "Epoch 090/200, Loss: 0.004421561750, validation map: 0.441827975668\n",
      "Epoch 091/200, Loss: 0.004482123105, validation map: 0.440939047121\n",
      "Epoch 092/200, Loss: 0.004437947479, validation map: 0.442044335373\n",
      "Epoch 093/200, Loss: 0.004389378684, validation map: 0.441900773172\n",
      "Epoch 094/200, Loss: 0.004343526304, validation map: 0.441395772223\n",
      "Epoch 095/200, Loss: 0.004316034918, validation map: 0.441247724269\n",
      "Epoch 096/200, Loss: 0.004375706060, validation map: 0.441581708210\n",
      "Epoch 097/200, Loss: 0.004330504307, validation map: 0.440404065192\n",
      "Epoch 098/200, Loss: 0.004296112501, validation map: 0.441184742734\n",
      "Epoch 099/200, Loss: 0.004232869137, validation map: 0.441504314644\n",
      "Epoch 100/200, Loss: 0.004197895488, validation map: 0.441371352417\n",
      "Epoch 101/200, Loss: 0.004287340490, validation map: 0.441365314167\n",
      "Epoch 102/200, Loss: 0.004247929584, validation map: 0.441420335215\n",
      "Epoch 103/200, Loss: 0.004176683288, validation map: 0.441271407289\n",
      "Epoch 104/200, Loss: 0.004148419146, validation map: 0.440756571006\n",
      "Epoch 105/200, Loss: 0.004110504354, validation map: 0.440928613045\n",
      "Epoch 106/200, Loss: 0.004179701511, validation map: 0.440162283932\n",
      "Epoch 107/200, Loss: 0.004147805357, validation map: 0.441794018046\n",
      "Epoch 108/200, Loss: 0.004099460966, validation map: 0.440750050219\n",
      "Epoch 109/200, Loss: 0.004050732298, validation map: 0.441065228292\n",
      "Epoch 110/200, Loss: 0.004013832035, validation map: 0.440709892679\n",
      "Epoch 111/200, Loss: 0.004089623066, validation map: 0.441104953539\n",
      "Epoch 112/200, Loss: 0.004059190617, validation map: 0.440272294534\n",
      "Epoch 113/200, Loss: 0.004001702316, validation map: 0.439346772137\n",
      "Epoch 114/200, Loss: 0.003951782232, validation map: 0.440629622930\n",
      "Epoch 115/200, Loss: 0.003921093521, validation map: 0.440401868726\n",
      "Epoch 116/200, Loss: 0.003986179506, validation map: 0.440660969011\n",
      "Epoch 117/200, Loss: 0.003961538624, validation map: 0.438949811578\n",
      "Epoch 118/200, Loss: 0.003921923505, validation map: 0.439163171835\n",
      "Epoch 119/200, Loss: 0.003875413587, validation map: 0.439495832517\n",
      "Epoch 120/200, Loss: 0.003845655673, validation map: 0.440407578009\n",
      "Epoch 121/200, Loss: 0.003901582196, validation map: 0.440453365510\n",
      "Epoch 122/200, Loss: 0.003879482497, validation map: 0.439735564166\n",
      "Epoch 123/200, Loss: 0.003837927985, validation map: 0.438896395151\n",
      "Epoch 124/200, Loss: 0.003788088962, validation map: 0.438998609552\n",
      "Epoch 125/200, Loss: 0.003747966251, validation map: 0.439804230069\n",
      "Epoch 126/200, Loss: 0.003820211543, validation map: 0.440700625752\n",
      "Epoch 127/200, Loss: 0.003784234259, validation map: 0.439383913648\n",
      "Epoch 128/200, Loss: 0.003754338151, validation map: 0.439758697222\n",
      "Epoch 129/200, Loss: 0.003697074048, validation map: 0.440390473293\n",
      "Epoch 130/200, Loss: 0.003661987303, validation map: 0.440883430736\n",
      "Epoch 131/200, Loss: 0.003738935574, validation map: 0.440478620961\n",
      "Epoch 132/200, Loss: 0.003707640777, validation map: 0.439778556926\n",
      "Epoch 133/200, Loss: 0.003670038049, validation map: 0.439320024882\n",
      "Epoch 134/200, Loss: 0.003620301911, validation map: 0.439194429732\n",
      "Epoch 135/200, Loss: 0.003589936932, validation map: 0.439397981662\n",
      "Epoch 136/200, Loss: 0.003657727040, validation map: 0.439708633349\n",
      "Epoch 137/200, Loss: 0.003630318709, validation map: 0.440049899808\n",
      "Epoch 138/200, Loss: 0.003582657927, validation map: 0.439784715877\n",
      "Epoch 139/200, Loss: 0.003539830631, validation map: 0.439090171572\n",
      "Epoch 140/200, Loss: 0.003505174408, validation map: 0.438988401836\n",
      "Epoch 141/200, Loss: 0.003578341539, validation map: 0.439337139545\n",
      "Epoch 142/200, Loss: 0.003550372833, validation map: 0.438431508404\n",
      "Epoch 143/200, Loss: 0.003506171254, validation map: 0.438352980548\n",
      "Epoch 144/200, Loss: 0.003455391172, validation map: 0.438820294905\n",
      "Epoch 145/200, Loss: 0.003437430625, validation map: 0.438612154830\n",
      "Epoch 146/200, Loss: 0.003504335764, validation map: 0.438095787743\n",
      "Epoch 147/200, Loss: 0.003482909237, validation map: 0.438132116980\n",
      "Epoch 148/200, Loss: 0.003429052089, validation map: 0.438018323698\n",
      "Epoch 149/200, Loss: 0.003387753267, validation map: 0.438397314430\n",
      "Epoch 150/200, Loss: 0.003357726200, validation map: 0.438498588137\n",
      "Epoch 151/200, Loss: 0.003431209453, validation map: 0.438703396642\n",
      "Epoch 152/200, Loss: 0.003408842508, validation map: 0.438731478502\n",
      "Epoch 153/200, Loss: 0.003357827013, validation map: 0.438380642774\n",
      "Epoch 154/200, Loss: 0.003324961114, validation map: 0.438583096361\n",
      "Epoch 155/200, Loss: 0.003282284561, validation map: 0.438542526201\n",
      "Epoch 156/200, Loss: 0.003358748344, validation map: 0.437803794654\n",
      "Epoch 157/200, Loss: 0.003334560808, validation map: 0.438079672010\n",
      "Epoch 158/200, Loss: 0.003291134731, validation map: 0.438192523133\n",
      "Epoch 159/200, Loss: 0.003253809588, validation map: 0.438264281576\n",
      "Epoch 160/200, Loss: 0.003207217454, validation map: 0.438063745008\n",
      "Epoch 161/200, Loss: 0.003299065361, validation map: 0.437344150236\n",
      "Epoch 162/200, Loss: 0.003261040517, validation map: 0.436916288846\n",
      "Epoch 163/200, Loss: 0.003225198553, validation map: 0.437028822202\n",
      "Epoch 164/200, Loss: 0.003180523481, validation map: 0.436506813148\n",
      "Epoch 165/200, Loss: 0.003140463945, validation map: 0.436775770100\n",
      "Epoch 166/200, Loss: 0.003231093007, validation map: 0.436798677496\n",
      "Epoch 167/200, Loss: 0.003199615008, validation map: 0.437030912601\n",
      "Epoch 168/200, Loss: 0.003157016370, validation map: 0.436874506832\n",
      "Epoch 169/200, Loss: 0.003108472056, validation map: 0.436354633062\n",
      "Epoch 170/200, Loss: 0.003074052069, validation map: 0.436695470453\n",
      "Epoch 171/200, Loss: 0.003160143665, validation map: 0.435884970610\n",
      "Epoch 172/200, Loss: 0.003130858937, validation map: 0.436352477718\n",
      "Epoch 173/200, Loss: 0.003088922568, validation map: 0.435074601838\n",
      "Epoch 174/200, Loss: 0.003047401112, validation map: 0.434950617061\n",
      "Epoch 175/200, Loss: 0.003012002508, validation map: 0.434633604117\n",
      "Epoch 176/200, Loss: 0.003099782333, validation map: 0.435492429460\n",
      "Epoch 177/200, Loss: 0.003067775229, validation map: 0.434875974284\n",
      "Epoch 178/200, Loss: 0.003035369299, validation map: 0.435052228102\n",
      "Epoch 179/200, Loss: 0.002983520649, validation map: 0.434658327623\n",
      "Epoch 180/200, Loss: 0.002951826047, validation map: 0.434293169215\n",
      "Epoch 181/200, Loss: 0.003033319205, validation map: 0.434355201603\n",
      "Epoch 182/200, Loss: 0.003008308376, validation map: 0.434517549062\n",
      "Epoch 183/200, Loss: 0.002965789100, validation map: 0.434727462569\n",
      "Epoch 184/200, Loss: 0.002926537337, validation map: 0.434145003305\n",
      "Epoch 185/200, Loss: 0.002890402263, validation map: 0.434211197943\n",
      "Epoch 186/200, Loss: 0.002981337349, validation map: 0.434484797131\n",
      "Epoch 187/200, Loss: 0.002948890506, validation map: 0.434306570044\n",
      "Epoch 188/200, Loss: 0.002909007715, validation map: 0.434072792812\n",
      "Epoch 189/200, Loss: 0.002861353575, validation map: 0.434345326644\n",
      "Epoch 190/200, Loss: 0.002835750816, validation map: 0.434105814790\n",
      "Epoch 191/200, Loss: 0.002912069710, validation map: 0.433727561660\n",
      "Epoch 192/200, Loss: 0.002892406135, validation map: 0.433628843422\n",
      "Epoch 193/200, Loss: 0.002853686751, validation map: 0.433377276340\n",
      "Epoch 194/200, Loss: 0.002810711859, validation map: 0.433432147360\n",
      "Epoch 195/200, Loss: 0.002773522047, validation map: 0.433196846734\n",
      "Epoch 196/200, Loss: 0.002853052279, validation map: 0.432761989820\n",
      "Epoch 197/200, Loss: 0.002834106124, validation map: 0.432048469944\n",
      "Epoch 198/200, Loss: 0.002794038427, validation map: 0.433432055264\n",
      "Epoch 199/200, Loss: 0.002754901924, validation map: 0.433318668388\n",
      "Epoch 200/200, Loss: 0.002716246601, validation map: 0.433037292899\n"
     ]
    }
   ],
   "source": [
    "num_epochs = 200\n",
    "training_loss_per_epoch = np.zeros(200)\n",
    "validation_loss_per_epoch = np.zeros(200)\n",
    "validation_map_per_epoch = np.zeros(200)\n",
    "\n",
    "for epoch in range(num_epochs):\n",
    "    running_loss = 0.0\n",
    "    for inputs, labels in train_dataloader:\n",
    "        inputs = inputs.to(device)\n",
    "        labels = labels.to(device)\n",
    "\n",
    "        optimizer.zero_grad()  # Zero the gradients\n",
    "        outputs = model(inputs)  # Forward pass\n",
    "        loss = criterion(outputs, labels)  # Compute the loss\n",
    "        loss.backward()  # Backward pass\n",
    "        optimizer.step()  # Update the weights\n",
    "\n",
    "        running_loss += loss.item()\n",
    "    \n",
    "    scheduler.step()\n",
    "    \n",
    "    with torch.no_grad():\n",
    "        pred = model.forward(X_val.to(device))\n",
    "        # calculate the validation loss:\n",
    "        validation_loss = criterion(pred, y_val.to(device))\n",
    "        # calculate the validation mAP:\n",
    "        validation_aps = ev.eval_vo(pred[:,:600].T.cpu().detach().numpy(), y_val[:,:600].T.numpy(),600)[0]\n",
    "        nr_val_classes = np.sum(validation_aps != None)\n",
    "        validation_map = np.nansum(validation_aps) / nr_val_classes\n",
    "\n",
    "        # add the losses and mAP to the arrays:\n",
    "        training_loss_per_epoch[epoch] = running_loss / len(train_dataloader)\n",
    "        validation_loss_per_epoch[epoch] = validation_loss\n",
    "        validation_map_per_epoch[epoch] = validation_map\n",
    "\n",
    "    print(f\"Epoch {epoch+1:0{len(str(num_epochs))}}/{num_epochs}, Loss: {running_loss/len(train_dataloader):.12f}, validation map: {validation_map:.12f}\")"
   ]
  },
  {
   "cell_type": "markdown",
   "metadata": {},
   "source": [
    "### plotting the training process to select the number of convergence"
   ]
  },
  {
   "cell_type": "code",
   "execution_count": 11,
   "metadata": {},
   "outputs": [
    {
     "data": {
      "text/plain": [
       "[]"
      ]
     },
     "execution_count": 11,
     "metadata": {},
     "output_type": "execute_result"
    },
    {
     "data": {
      "image/png": "[encoded data removed]",
      "text/plain": [
       "<Figure size 800x600 with 1 Axes>"
      ]
     },
     "metadata": {},
     "output_type": "display_data"
    }
   ],
   "source": [
    "plt.figure(figsize=(8,6))\n",
    "plt.plot(np.arange(200), training_loss_per_epoch, color = \"orange\")\n",
    "plt.plot(np.arange(200), validation_loss_per_epoch, color = \"blue\")\n",
    "# plt.plot(np.arange(100), validation_loss_main_per_epoch, color= \"red\")\n",
    "# plt.plot(np.arange(100), validation_loss_side_per_epoch, color = \"purple\")\n",
    "plt.plot(np.arange(200), validation_map_per_epoch/10, color = \"green\")              # /10 to fit in the plot\n",
    "plt.ylim(0,0.06)\n",
    "plt.plot()"
   ]
  },
  {
   "cell_type": "code",
   "execution_count": 12,
   "metadata": {},
   "outputs": [
    {
     "data": {
      "text/plain": [
       "91"
      ]
     },
     "execution_count": 12,
     "metadata": {},
     "output_type": "execute_result"
    }
   ],
   "source": [
    "np.argmax(validation_map_per_epoch)"
   ]
  },
  {
   "cell_type": "code",
   "execution_count": 13,
   "metadata": {},
   "outputs": [
    {
     "data": {
      "text/plain": [
       "89"
      ]
     },
     "execution_count": 13,
     "metadata": {},
     "output_type": "execute_result"
    }
   ],
   "source": [
    "np.argmin(validation_loss_per_epoch)"
   ]
  },
  {
   "cell_type": "code",
   "execution_count": null,
   "metadata": {},
   "outputs": [],
   "source": []
  }
 ],
 "metadata": {
  "kernelspec": {
   "display_name": "PyTorch",
   "language": "python",
   "name": "python3"
  },
  "language_info": {
   "codemirror_mode": {
    "name": "ipython",
    "version": 3
   },
   "file_extension": ".py",
   "mimetype": "text/x-python",
   "name": "python",
   "nbconvert_exporter": "python",
   "pygments_lexer": "ipython3",
   "version": "3.10.13"
  }
 },
 "nbformat": 4,
 "nbformat_minor": 2
}
