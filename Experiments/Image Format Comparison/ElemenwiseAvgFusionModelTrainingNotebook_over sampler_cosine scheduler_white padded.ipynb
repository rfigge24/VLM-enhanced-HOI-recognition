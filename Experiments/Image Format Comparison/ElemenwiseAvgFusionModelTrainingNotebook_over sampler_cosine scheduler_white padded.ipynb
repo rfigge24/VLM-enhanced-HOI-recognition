{
 "cells": [
  {
   "cell_type": "markdown",
   "metadata": {},
   "source": [
    "# Elementwise Average Fusion model training (OverSampler, cosine scheduling, BCE loss, white padded):"
   ]
  },
  {
   "cell_type": "code",
   "execution_count": 3,
   "metadata": {},
   "outputs": [],
   "source": [
    "import sys\n",
    "root = '../../'\n",
    "sys.path.append(root)   # Done to be able to import the packages and functions\n",
    "\n",
    "import Utils.hico_evaluation.evaluation as ev\n",
    "from Utils.custom_sampler import OverSampler\n",
    "from Utils.custom_loss import MaskedBCELoss\n",
    "from Utils.annotation_preprocessing import _load_csv_to_tensor\n",
    "from Utils.train_val_split import train_val_split_hico\n",
    "from hoi_classifiers import ElementwiseAvgFusionModel\n",
    "\n",
    "import torch\n",
    "import numpy as np\n",
    "from torch.utils.data import TensorDataset, DataLoader\n",
    "import matplotlib.pyplot as plt\n",
    "\n",
    "import random"
   ]
  },
  {
   "cell_type": "code",
   "execution_count": 4,
   "metadata": {},
   "outputs": [],
   "source": [
    "seed = 42   #note that the model parameters will still be randomly initiated\n",
    "torch.manual_seed(seed)\n",
    "random.seed(seed)"
   ]
  },
  {
   "cell_type": "markdown",
   "metadata": {},
   "source": [
    "### Loading the training set:\n"
   ]
  },
  {
   "cell_type": "code",
   "execution_count": 5,
   "metadata": {},
   "outputs": [],
   "source": [
    "# Loading the data:\n",
    "train_data = torch.load(root + \"Embeddings/Combined_Embeddings/train_whitepadded.pt\")\n",
    "train_annotations = _load_csv_to_tensor(root + \"anno/added/anno_augmented_train.csv\").T # Transpose to make both first dimensions the #samples.\n",
    "train_annotations[train_annotations.isnan()] = -1"
   ]
  },
  {
   "cell_type": "markdown",
   "metadata": {},
   "source": [
    "##### Splitting the training set into a train and validation set:"
   ]
  },
  {
   "cell_type": "code",
   "execution_count": 6,
   "metadata": {},
   "outputs": [],
   "source": [
    "train_idx, validation_idx = train_val_split_hico(train_data, train_annotations, 0.2, seed)\n",
    "X_train, X_val = train_data[train_idx], train_data[validation_idx]\n",
    "y_train, y_val = train_annotations[train_idx], train_annotations[validation_idx]"
   ]
  },
  {
   "cell_type": "markdown",
   "metadata": {},
   "source": [
    "#### Training Preparations:"
   ]
  },
  {
   "cell_type": "code",
   "execution_count": 7,
   "metadata": {},
   "outputs": [],
   "source": [
    "train_dataset = TensorDataset(X_train, y_train)"
   ]
  },
  {
   "cell_type": "code",
   "execution_count": 8,
   "metadata": {},
   "outputs": [],
   "source": [
    "# Batch size:\n",
    "bs = 512\n",
    "\n",
    "sampler = OverSampler(y_train[:,:600], shuffle = True)\n",
    "\n",
    "train_dataloader = DataLoader(\n",
    "    train_dataset, batch_size=bs, num_workers=4, sampler=sampler)\n"
   ]
  },
  {
   "cell_type": "code",
   "execution_count": 9,
   "metadata": {},
   "outputs": [],
   "source": [
    "device = torch.device('cuda:0' if torch.cuda.is_available() else 'cpu')"
   ]
  },
  {
   "cell_type": "code",
   "execution_count": 10,
   "metadata": {},
   "outputs": [],
   "source": [
    "model = ElementwiseAvgFusionModel(512,655,797)\n",
    "model = model.to(device)"
   ]
  },
  {
   "cell_type": "code",
   "execution_count": 11,
   "metadata": {},
   "outputs": [
    {
     "name": "stderr",
     "output_type": "stream",
     "text": [
      "c:\\Users\\rfigg\\.conda\\envs\\PyTorch\\lib\\site-packages\\transformers\\utils\\generic.py:441: UserWarning: torch.utils._pytree._register_pytree_node is deprecated. Please use torch.utils._pytree.register_pytree_node instead.\n",
      "  _torch_pytree._register_pytree_node(\n"
     ]
    }
   ],
   "source": [
    "classweights = torch.cat((torch.ones(600),torch.ones(197)*0.5)).to(device)      # The hoi classes weigh twice as much as the seperate classes\n",
    "criterion = MaskedBCELoss(ignore_label=0, convert_target_to_01= True, weight=classweights)\n",
    "\n",
    "optimizer = torch.optim.Adam(params=model.parameters(), lr=0.0005)\n",
    "scheduler = torch.optim.lr_scheduler.CosineAnnealingWarmRestarts(optimizer, T_0=5, T_mult=1)"
   ]
  },
  {
   "cell_type": "markdown",
   "metadata": {},
   "source": [
    "#### Training loop:"
   ]
  },
  {
   "cell_type": "code",
   "execution_count": 12,
   "metadata": {},
   "outputs": [
    {
     "name": "stdout",
     "output_type": "stream",
     "text": [
      "Epoch 001/200, Loss: 0.112912891051, validation map: 0.009246348968\n",
      "Epoch 002/200, Loss: 0.020815556248, validation map: 0.057065120524\n",
      "Epoch 003/200, Loss: 0.017691452701, validation map: 0.095880296665\n",
      "Epoch 004/200, Loss: 0.015903386861, validation map: 0.113540493787\n",
      "Epoch 005/200, Loss: 0.015203869257, validation map: 0.118904836248\n",
      "Epoch 006/200, Loss: 0.013869125205, validation map: 0.183455790989\n",
      "Epoch 007/200, Loss: 0.011835545934, validation map: 0.231105987018\n",
      "Epoch 008/200, Loss: 0.010601560024, validation map: 0.260496814167\n",
      "Epoch 009/200, Loss: 0.009982945803, validation map: 0.272538430839\n",
      "Epoch 010/200, Loss: 0.009740679011, validation map: 0.275190872020\n",
      "Epoch 011/200, Loss: 0.009330768532, validation map: 0.301046997679\n",
      "Epoch 012/200, Loss: 0.008675694179, validation map: 0.319965691355\n",
      "Epoch 013/200, Loss: 0.008233265062, validation map: 0.334629188972\n",
      "Epoch 014/200, Loss: 0.007987205202, validation map: 0.339913976503\n",
      "Epoch 015/200, Loss: 0.007867190599, validation map: 0.341332187495\n",
      "Epoch 016/200, Loss: 0.007714578028, validation map: 0.356529314717\n",
      "Epoch 017/200, Loss: 0.007380952515, validation map: 0.367909713963\n",
      "Epoch 018/200, Loss: 0.007179090879, validation map: 0.376101519699\n",
      "Epoch 019/200, Loss: 0.006993903283, validation map: 0.378906587287\n",
      "Epoch 020/200, Loss: 0.006940563114, validation map: 0.379779268821\n",
      "Epoch 021/200, Loss: 0.006879607801, validation map: 0.389082096634\n",
      "Epoch 022/200, Loss: 0.006664609620, validation map: 0.394980635317\n",
      "Epoch 023/200, Loss: 0.006513525809, validation map: 0.399115096350\n",
      "Epoch 024/200, Loss: 0.006400365084, validation map: 0.402126067533\n",
      "Epoch 025/200, Loss: 0.006335367108, validation map: 0.403053048509\n",
      "Epoch 026/200, Loss: 0.006310366912, validation map: 0.409919815871\n",
      "Epoch 027/200, Loss: 0.006182284273, validation map: 0.415111889670\n",
      "Epoch 028/200, Loss: 0.006058696287, validation map: 0.419352371549\n",
      "Epoch 029/200, Loss: 0.005964817843, validation map: 0.421312389596\n",
      "Epoch 030/200, Loss: 0.005923564707, validation map: 0.421471137732\n",
      "Epoch 031/200, Loss: 0.005900913175, validation map: 0.425686252749\n",
      "Epoch 032/200, Loss: 0.005807480560, validation map: 0.429460085870\n",
      "Epoch 033/200, Loss: 0.005687572396, validation map: 0.431965623544\n",
      "Epoch 034/200, Loss: 0.005618465169, validation map: 0.433576166361\n",
      "Epoch 035/200, Loss: 0.005574133647, validation map: 0.434181522640\n",
      "Epoch 036/200, Loss: 0.005576472258, validation map: 0.439237793551\n",
      "Epoch 037/200, Loss: 0.005504093318, validation map: 0.441364243434\n",
      "Epoch 038/200, Loss: 0.005408249586, validation map: 0.442629756302\n",
      "Epoch 039/200, Loss: 0.005340207511, validation map: 0.443781768756\n",
      "Epoch 040/200, Loss: 0.005303007037, validation map: 0.444642981995\n",
      "Epoch 041/200, Loss: 0.005299479014, validation map: 0.447464818978\n",
      "Epoch 042/200, Loss: 0.005232869241, validation map: 0.449978236339\n",
      "Epoch 043/200, Loss: 0.005144940528, validation map: 0.450440983173\n",
      "Epoch 044/200, Loss: 0.005097114845, validation map: 0.451418957188\n",
      "Epoch 045/200, Loss: 0.005036887283, validation map: 0.451614343169\n",
      "Epoch 046/200, Loss: 0.005072611384, validation map: 0.453517194878\n",
      "Epoch 047/200, Loss: 0.004995159662, validation map: 0.455279539427\n",
      "Epoch 048/200, Loss: 0.004928117397, validation map: 0.455721591794\n",
      "Epoch 049/200, Loss: 0.004873714762, validation map: 0.456607273469\n",
      "Epoch 050/200, Loss: 0.004841337745, validation map: 0.456553954955\n",
      "Epoch 051/200, Loss: 0.004868699715, validation map: 0.458861409989\n",
      "Epoch 052/200, Loss: 0.004808635911, validation map: 0.460364513906\n",
      "Epoch 053/200, Loss: 0.004735159401, validation map: 0.461425541014\n",
      "Epoch 054/200, Loss: 0.004684890913, validation map: 0.462130090598\n",
      "Epoch 055/200, Loss: 0.004644858134, validation map: 0.462182924644\n",
      "Epoch 056/200, Loss: 0.004683777744, validation map: 0.463187461816\n",
      "Epoch 057/200, Loss: 0.004624959010, validation map: 0.463962420205\n",
      "Epoch 058/200, Loss: 0.004555464191, validation map: 0.463449202686\n",
      "Epoch 059/200, Loss: 0.004516426790, validation map: 0.463928515123\n",
      "Epoch 060/200, Loss: 0.004469135218, validation map: 0.464160380648\n",
      "Epoch 061/200, Loss: 0.004498882380, validation map: 0.466455738536\n",
      "Epoch 062/200, Loss: 0.004443059759, validation map: 0.467332336443\n",
      "Epoch 063/200, Loss: 0.004390012171, validation map: 0.467469539308\n",
      "Epoch 064/200, Loss: 0.004333214255, validation map: 0.467456227243\n",
      "Epoch 065/200, Loss: 0.004300700411, validation map: 0.467795902773\n",
      "Epoch 066/200, Loss: 0.004341516315, validation map: 0.468782912090\n",
      "Epoch 067/200, Loss: 0.004291047691, validation map: 0.469542013558\n",
      "Epoch 068/200, Loss: 0.004234628322, validation map: 0.469115895443\n",
      "Epoch 069/200, Loss: 0.004189738726, validation map: 0.470136639237\n",
      "Epoch 070/200, Loss: 0.004155354336, validation map: 0.470172469465\n",
      "Epoch 071/200, Loss: 0.004185998027, validation map: 0.470163159717\n",
      "Epoch 072/200, Loss: 0.004145220203, validation map: 0.470162919680\n",
      "Epoch 073/200, Loss: 0.004090824102, validation map: 0.470400490476\n",
      "Epoch 074/200, Loss: 0.004045713060, validation map: 0.470877829604\n",
      "Epoch 075/200, Loss: 0.004008069608, validation map: 0.470861912386\n",
      "Epoch 076/200, Loss: 0.004060561366, validation map: 0.471870667989\n",
      "Epoch 077/200, Loss: 0.004015725804, validation map: 0.472192975549\n",
      "Epoch 078/200, Loss: 0.003958226391, validation map: 0.472575990508\n",
      "Epoch 079/200, Loss: 0.003908272868, validation map: 0.472278891331\n",
      "Epoch 080/200, Loss: 0.003882570052, validation map: 0.472482773191\n",
      "Epoch 081/200, Loss: 0.003921629019, validation map: 0.472591057452\n",
      "Epoch 082/200, Loss: 0.003874090375, validation map: 0.472760457158\n",
      "Epoch 083/200, Loss: 0.003825903843, validation map: 0.473398241354\n",
      "Epoch 084/200, Loss: 0.003772972489, validation map: 0.472547249132\n",
      "Epoch 085/200, Loss: 0.003751320105, validation map: 0.472245619652\n",
      "Epoch 086/200, Loss: 0.003791211436, validation map: 0.473524732800\n",
      "Epoch 087/200, Loss: 0.003748813984, validation map: 0.473616955894\n",
      "Epoch 088/200, Loss: 0.003707188235, validation map: 0.473884813684\n",
      "Epoch 089/200, Loss: 0.003659243585, validation map: 0.473685558293\n",
      "Epoch 090/200, Loss: 0.003629584785, validation map: 0.473650924897\n",
      "Epoch 091/200, Loss: 0.003682116211, validation map: 0.474878892516\n",
      "Epoch 092/200, Loss: 0.003634339007, validation map: 0.474729064518\n",
      "Epoch 093/200, Loss: 0.003585128648, validation map: 0.474293194010\n",
      "Epoch 094/200, Loss: 0.003539180326, validation map: 0.474691821023\n",
      "Epoch 095/200, Loss: 0.003513587773, validation map: 0.474880716096\n",
      "Epoch 096/200, Loss: 0.003563980727, validation map: 0.475227654943\n",
      "Epoch 097/200, Loss: 0.003516115800, validation map: 0.476373124500\n",
      "Epoch 098/200, Loss: 0.003476598610, validation map: 0.476229731315\n",
      "Epoch 099/200, Loss: 0.003422442600, validation map: 0.475833272589\n",
      "Epoch 100/200, Loss: 0.003385855270, validation map: 0.476554119294\n",
      "Epoch 101/200, Loss: 0.003458389224, validation map: 0.477489276937\n",
      "Epoch 102/200, Loss: 0.003419926533, validation map: 0.476479069482\n",
      "Epoch 103/200, Loss: 0.003354949026, validation map: 0.476366488135\n",
      "Epoch 104/200, Loss: 0.003321666211, validation map: 0.475723643916\n",
      "Epoch 105/200, Loss: 0.003287695420, validation map: 0.476981475485\n",
      "Epoch 106/200, Loss: 0.003346305236, validation map: 0.476354984190\n",
      "Epoch 107/200, Loss: 0.003313789267, validation map: 0.476266341820\n",
      "Epoch 108/200, Loss: 0.003262158913, validation map: 0.475847153853\n",
      "Epoch 109/200, Loss: 0.003217628193, validation map: 0.475487624095\n",
      "Epoch 110/200, Loss: 0.003181730591, validation map: 0.475539911762\n",
      "Epoch 111/200, Loss: 0.003245401190, validation map: 0.474228665369\n",
      "Epoch 112/200, Loss: 0.003215066133, validation map: 0.474194715794\n",
      "Epoch 113/200, Loss: 0.003159093515, validation map: 0.475666464573\n",
      "Epoch 114/200, Loss: 0.003112320708, validation map: 0.475400868567\n",
      "Epoch 115/200, Loss: 0.003081564281, validation map: 0.475386428002\n",
      "Epoch 116/200, Loss: 0.003137584991, validation map: 0.474745819852\n",
      "Epoch 117/200, Loss: 0.003109678871, validation map: 0.475303243450\n",
      "Epoch 118/200, Loss: 0.003069074956, validation map: 0.475545255268\n",
      "Epoch 119/200, Loss: 0.003021648282, validation map: 0.474588864980\n",
      "Epoch 120/200, Loss: 0.002994889981, validation map: 0.474534728267\n",
      "Epoch 121/200, Loss: 0.003042397737, validation map: 0.474706317577\n",
      "Epoch 122/200, Loss: 0.003017949069, validation map: 0.474048038144\n",
      "Epoch 123/200, Loss: 0.002976193242, validation map: 0.473908495025\n",
      "Epoch 124/200, Loss: 0.002929998696, validation map: 0.473686765170\n",
      "Epoch 125/200, Loss: 0.002894075313, validation map: 0.473590678609\n",
      "Epoch 126/200, Loss: 0.002958267402, validation map: 0.473879192643\n",
      "Epoch 127/200, Loss: 0.002919012054, validation map: 0.474137399300\n",
      "Epoch 128/200, Loss: 0.002887175069, validation map: 0.474483320997\n",
      "Epoch 129/200, Loss: 0.002835028399, validation map: 0.474537057543\n",
      "Epoch 130/200, Loss: 0.002802289082, validation map: 0.474721957828\n",
      "Epoch 131/200, Loss: 0.002865152625, validation map: 0.473798151523\n",
      "Epoch 132/200, Loss: 0.002835137755, validation map: 0.474086576049\n",
      "Epoch 133/200, Loss: 0.002799221386, validation map: 0.473561160749\n",
      "Epoch 134/200, Loss: 0.002750541540, validation map: 0.474402154854\n",
      "Epoch 135/200, Loss: 0.002725377989, validation map: 0.474228307456\n",
      "Epoch 136/200, Loss: 0.002782083290, validation map: 0.473050932946\n",
      "Epoch 137/200, Loss: 0.002750672698, validation map: 0.472637850101\n",
      "Epoch 138/200, Loss: 0.002708850231, validation map: 0.472846661579\n",
      "Epoch 139/200, Loss: 0.002668576760, validation map: 0.472891344869\n",
      "Epoch 140/200, Loss: 0.002636339486, validation map: 0.473162930444\n",
      "Epoch 141/200, Loss: 0.002697610025, validation map: 0.472441859529\n",
      "Epoch 142/200, Loss: 0.002667831158, validation map: 0.471913836429\n",
      "Epoch 143/200, Loss: 0.002627760847, validation map: 0.471778853445\n",
      "Epoch 144/200, Loss: 0.002581980572, validation map: 0.471713522929\n",
      "Epoch 145/200, Loss: 0.002560160260, validation map: 0.471745632387\n",
      "Epoch 146/200, Loss: 0.002620098086, validation map: 0.471754451241\n",
      "Epoch 147/200, Loss: 0.002594331202, validation map: 0.471535033836\n",
      "Epoch 148/200, Loss: 0.002547426134, validation map: 0.471275425251\n",
      "Epoch 149/200, Loss: 0.002508689100, validation map: 0.471123226125\n",
      "Epoch 150/200, Loss: 0.002481816608, validation map: 0.471016783329\n",
      "Epoch 151/200, Loss: 0.002538798001, validation map: 0.470769305451\n",
      "Epoch 152/200, Loss: 0.002514231240, validation map: 0.470890211995\n",
      "Epoch 153/200, Loss: 0.002472289975, validation map: 0.472121627255\n",
      "Epoch 154/200, Loss: 0.002438114899, validation map: 0.471610632304\n",
      "Epoch 155/200, Loss: 0.002403510582, validation map: 0.470551406475\n",
      "Epoch 156/200, Loss: 0.002466247187, validation map: 0.470966096868\n",
      "Epoch 157/200, Loss: 0.002444623071, validation map: 0.471758714539\n",
      "Epoch 158/200, Loss: 0.002400918995, validation map: 0.470489558772\n",
      "Epoch 159/200, Loss: 0.002366299989, validation map: 0.471349518441\n",
      "Epoch 160/200, Loss: 0.002328978469, validation map: 0.471151272769\n",
      "Epoch 161/200, Loss: 0.002399924411, validation map: 0.470117266516\n",
      "Epoch 162/200, Loss: 0.002370464045, validation map: 0.470841927997\n",
      "Epoch 163/200, Loss: 0.002334018617, validation map: 0.470746252729\n",
      "Epoch 164/200, Loss: 0.002291328011, validation map: 0.470744811106\n",
      "Epoch 165/200, Loss: 0.002260991895, validation map: 0.470951645835\n",
      "Epoch 166/200, Loss: 0.002329148976, validation map: 0.470613043138\n",
      "Epoch 167/200, Loss: 0.002304303460, validation map: 0.470317452557\n",
      "Epoch 168/200, Loss: 0.002266565580, validation map: 0.470101512740\n",
      "Epoch 169/200, Loss: 0.002221317059, validation map: 0.470327205620\n",
      "Epoch 170/200, Loss: 0.002193140927, validation map: 0.470315087359\n",
      "Epoch 171/200, Loss: 0.002261471821, validation map: 0.470298107518\n",
      "Epoch 172/200, Loss: 0.002235523870, validation map: 0.470195332022\n",
      "Epoch 173/200, Loss: 0.002196641333, validation map: 0.469666000089\n",
      "Epoch 174/200, Loss: 0.002163260635, validation map: 0.469725014359\n",
      "Epoch 175/200, Loss: 0.002128918572, validation map: 0.469758392041\n",
      "Epoch 176/200, Loss: 0.002197622105, validation map: 0.470049888142\n",
      "Epoch 177/200, Loss: 0.002169006518, validation map: 0.469360644030\n",
      "Epoch 178/200, Loss: 0.002138570833, validation map: 0.469567771058\n",
      "Epoch 179/200, Loss: 0.002097618844, validation map: 0.469503486023\n",
      "Epoch 180/200, Loss: 0.002068349298, validation map: 0.469459367042\n",
      "Epoch 181/200, Loss: 0.002134426116, validation map: 0.469142837459\n",
      "Epoch 182/200, Loss: 0.002109640808, validation map: 0.468921648218\n",
      "Epoch 183/200, Loss: 0.002070949193, validation map: 0.469122325045\n",
      "Epoch 184/200, Loss: 0.002036274302, validation map: 0.469134463271\n",
      "Epoch 185/200, Loss: 0.002004813730, validation map: 0.469115974657\n",
      "Epoch 186/200, Loss: 0.002081944806, validation map: 0.468651226155\n",
      "Epoch 187/200, Loss: 0.002050344902, validation map: 0.468585692100\n",
      "Epoch 188/200, Loss: 0.002014134493, validation map: 0.468658284158\n",
      "Epoch 189/200, Loss: 0.001975261057, validation map: 0.468313335947\n",
      "Epoch 190/200, Loss: 0.001951989028, validation map: 0.468283736091\n",
      "Epoch 191/200, Loss: 0.002008105634, validation map: 0.467598131180\n",
      "Epoch 192/200, Loss: 0.001991239997, validation map: 0.467618465316\n",
      "Epoch 193/200, Loss: 0.001957962266, validation map: 0.467216189354\n",
      "Epoch 194/200, Loss: 0.001921231685, validation map: 0.467122109926\n",
      "Epoch 195/200, Loss: 0.001891624144, validation map: 0.467160932583\n",
      "Epoch 196/200, Loss: 0.001956300992, validation map: 0.466896334543\n",
      "Epoch 197/200, Loss: 0.001935935764, validation map: 0.466750834710\n",
      "Epoch 198/200, Loss: 0.001903038817, validation map: 0.467150726831\n",
      "Epoch 199/200, Loss: 0.001865929899, validation map: 0.467430077923\n",
      "Epoch 200/200, Loss: 0.001838377952, validation map: 0.467323463558\n"
     ]
    }
   ],
   "source": [
    "num_epochs = 200\n",
    "training_loss_per_epoch = np.zeros(200)\n",
    "validation_loss_per_epoch = np.zeros(200)\n",
    "validation_map_per_epoch = np.zeros(200)\n",
    "\n",
    "for epoch in range(num_epochs):\n",
    "    running_loss = 0.0\n",
    "    for inputs, labels in train_dataloader:\n",
    "        inputs = inputs.to(device)\n",
    "        labels = labels.to(device)\n",
    "\n",
    "        optimizer.zero_grad()  # Zero the gradients\n",
    "        outputs = model(inputs)  # Forward pass\n",
    "        loss = criterion(outputs, labels)  # Compute the loss\n",
    "        loss.backward()  # Backward pass\n",
    "        optimizer.step()  # Update the weights\n",
    "\n",
    "        running_loss += loss.item()\n",
    "    \n",
    "    scheduler.step()\n",
    "\n",
    "    with torch.no_grad():\n",
    "        pred = model.forward(X_val.to(device))\n",
    "        # calculate the validation loss:\n",
    "        validation_loss = criterion(pred, y_val.to(device))\n",
    "        # calculate the validation mAP:\n",
    "        validation_aps = ev.eval_vo(pred[:,:600].T.cpu().detach().numpy(), y_val[:,:600].T.numpy(),600)[0]\n",
    "        nr_val_classes = np.sum(validation_aps != None)\n",
    "        validation_map = np.nansum(validation_aps) / nr_val_classes\n",
    "\n",
    "    # add the losses and mAP to the arrays:\n",
    "    training_loss_per_epoch[epoch] = running_loss / len(train_dataloader)\n",
    "    validation_loss_per_epoch[epoch] = validation_loss\n",
    "    validation_map_per_epoch[epoch] = validation_map\n",
    "\n",
    "    print(f\"Epoch {epoch+1:0{len(str(num_epochs))}}/{num_epochs}, Loss: {running_loss/len(train_dataloader):.12f}, validation map: {validation_map:.12f}\")"
   ]
  },
  {
   "cell_type": "markdown",
   "metadata": {},
   "source": [
    "### plotting the training process to select the number of convergence"
   ]
  },
  {
   "cell_type": "code",
   "execution_count": 13,
   "metadata": {},
   "outputs": [
    {
     "data": {
      "text/plain": [
       "[]"
      ]
     },
     "execution_count": 13,
     "metadata": {},
     "output_type": "execute_result"
    },
    {
     "data": {
      "image/png": "[encoded data removed]",
      "text/plain": [
       "<Figure size 800x600 with 1 Axes>"
      ]
     },
     "metadata": {},
     "output_type": "display_data"
    }
   ],
   "source": [
    "plt.figure(figsize=(8,6))\n",
    "plt.plot(np.arange(200), training_loss_per_epoch, color = \"orange\")\n",
    "plt.plot(np.arange(200), validation_loss_per_epoch, color = \"blue\")\n",
    "# plt.plot(np.arange(100), validation_loss_main_per_epoch, color= \"red\")\n",
    "# plt.plot(np.arange(100), validation_loss_side_per_epoch, color = \"purple\")\n",
    "plt.plot(np.arange(200), validation_map_per_epoch/10, color = \"green\")\n",
    "#plt.hlines(0.010051161982119083, 0, 100 , colors=['black'],linestyles=['dotted'])\n",
    "plt.ylim(0,0.1)\n",
    "plt.plot()"
   ]
  },
  {
   "cell_type": "code",
   "execution_count": 14,
   "metadata": {},
   "outputs": [
    {
     "data": {
      "text/plain": [
       "100"
      ]
     },
     "execution_count": 14,
     "metadata": {},
     "output_type": "execute_result"
    }
   ],
   "source": [
    "np.argmax(validation_map_per_epoch)"
   ]
  },
  {
   "cell_type": "code",
   "execution_count": 15,
   "metadata": {},
   "outputs": [
    {
     "data": {
      "text/plain": [
       "89"
      ]
     },
     "execution_count": 15,
     "metadata": {},
     "output_type": "execute_result"
    }
   ],
   "source": [
    "np.argmin(validation_loss_per_epoch)"
   ]
  }
 ],
 "metadata": {
  "kernelspec": {
   "display_name": "PyTorch",
   "language": "python",
   "name": "python3"
  },
  "language_info": {
   "codemirror_mode": {
    "name": "ipython",
    "version": 3
   },
   "file_extension": ".py",
   "mimetype": "text/x-python",
   "name": "python",
   "nbconvert_exporter": "python",
   "pygments_lexer": "ipython3",
   "version": "3.10.13"
  }
 },
 "nbformat": 4,
 "nbformat_minor": 2
}
