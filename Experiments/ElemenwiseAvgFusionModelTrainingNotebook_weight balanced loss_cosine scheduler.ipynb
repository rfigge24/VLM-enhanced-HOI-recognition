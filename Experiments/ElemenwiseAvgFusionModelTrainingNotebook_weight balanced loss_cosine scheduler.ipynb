{
 "cells": [
  {
   "cell_type": "markdown",
   "metadata": {},
   "source": [
    "# Elementwise Average Fusion model training (with a weight balance loss, cosine scheduling):"
   ]
  },
  {
   "cell_type": "code",
   "execution_count": 1,
   "metadata": {},
   "outputs": [],
   "source": [
    "import sys\n",
    "root = '../'\n",
    "sys.path.append(root)   # Done to be able to import the packages and functions\n",
    "\n",
    "import Utils.hico_evaluation.evaluation as ev\n",
    "from Utils.custom_loss import MaskedBCELoss\n",
    "from Utils.annotation_preprocessing import _load_csv_to_tensor\n",
    "from Utils.train_val_split import train_val_split_hico\n",
    "from hoi_classifiers import ElementwiseAvgFusionModel\n",
    "\n",
    "import torch\n",
    "import numpy as np\n",
    "from torch.utils.data import TensorDataset, DataLoader\n",
    "import matplotlib.pyplot as plt\n",
    "\n",
    "from pytorch_multilabel_balanced_sampler.samplers import LeastSampledClassSampler\n",
    "import random"
   ]
  },
  {
   "cell_type": "code",
   "execution_count": 2,
   "metadata": {},
   "outputs": [],
   "source": [
    "seed = 42   #note that the model parameters will still be randomly initiated\n",
    "torch.manual_seed(seed)\n",
    "random.seed(seed)"
   ]
  },
  {
   "cell_type": "markdown",
   "metadata": {},
   "source": [
    "### Loading the training set:\n"
   ]
  },
  {
   "cell_type": "code",
   "execution_count": 3,
   "metadata": {},
   "outputs": [],
   "source": [
    "# Loading the data:\n",
    "train_data = torch.load(root + \"Embeddings/Combined_Embeddings/train.pt\")\n",
    "train_annotations = _load_csv_to_tensor(root + \"anno/added/anno_augmented_train.csv\").T # Transpose to make both first dimensions the #samples.\n",
    "train_annotations[train_annotations.isnan()] = -1"
   ]
  },
  {
   "cell_type": "markdown",
   "metadata": {},
   "source": [
    "##### Splitting the training set into a train and validation set:"
   ]
  },
  {
   "cell_type": "code",
   "execution_count": 4,
   "metadata": {},
   "outputs": [],
   "source": [
    "train_idx, validation_idx = train_val_split_hico(train_data, train_annotations, 0.2, seed)\n",
    "X_train, X_val = train_data[train_idx], train_data[validation_idx]\n",
    "y_train, y_val = train_annotations[train_idx], train_annotations[validation_idx]"
   ]
  },
  {
   "cell_type": "markdown",
   "metadata": {},
   "source": [
    "#### Training Preparations:"
   ]
  },
  {
   "cell_type": "code",
   "execution_count": 5,
   "metadata": {},
   "outputs": [],
   "source": [
    "train_dataset = TensorDataset(X_train, y_train)"
   ]
  },
  {
   "cell_type": "code",
   "execution_count": 6,
   "metadata": {},
   "outputs": [],
   "source": [
    "# Batch size:\n",
    "bs = 512\n",
    "\n",
    "#sampler = LeastSampledClassSampler((y_train[:,:600] == 1).int())\n",
    "\n",
    "train_dataloader = DataLoader(\n",
    "    train_dataset, batch_size=bs, num_workers=4, shuffle=True)\n"
   ]
  },
  {
   "cell_type": "code",
   "execution_count": 7,
   "metadata": {},
   "outputs": [],
   "source": [
    "device = torch.device('cuda:0' if torch.cuda.is_available() else 'cpu')"
   ]
  },
  {
   "cell_type": "code",
   "execution_count": 8,
   "metadata": {},
   "outputs": [],
   "source": [
    "model = ElementwiseAvgFusionModel(512,655,797)\n",
    "model = model.to(device)"
   ]
  },
  {
   "cell_type": "code",
   "execution_count": 9,
   "metadata": {},
   "outputs": [
    {
     "name": "stderr",
     "output_type": "stream",
     "text": [
      "c:\\Users\\rfigg\\.conda\\envs\\PyTorch\\lib\\site-packages\\transformers\\utils\\generic.py:441: UserWarning: torch.utils._pytree._register_pytree_node is deprecated. Please use torch.utils._pytree.register_pytree_node instead.\n",
      "  _torch_pytree._register_pytree_node(\n"
     ]
    }
   ],
   "source": [
    "classweights = torch.cat((torch.ones(600),torch.ones(197)*0.5)).to(device)      # The hoi classes weigh twice as much as the seperate classes\n",
    "y_trainisone = torch.sum(y_train == 1, dim=0).to(device)\n",
    "classweights = classweights * (1 / y_trainisone)\n",
    "\n",
    "criterion = MaskedBCELoss(ignore_label=0, convert_target_to_01= True, weight=classweights)\n",
    "\n",
    "optimizer = torch.optim.Adam(params=model.parameters(), lr=0.0005)\n",
    "scheduler = torch.optim.lr_scheduler.CosineAnnealingWarmRestarts(optimizer, T_0=5, T_mult=1)"
   ]
  },
  {
   "cell_type": "markdown",
   "metadata": {},
   "source": [
    "#### Training loop:"
   ]
  },
  {
   "cell_type": "code",
   "execution_count": 10,
   "metadata": {},
   "outputs": [
    {
     "name": "stdout",
     "output_type": "stream",
     "text": [
      "Epoch 001/300, Loss: 0.020051443274, validation map: 0.006042010780\n",
      "Epoch 002/300, Loss: 0.000248356371, validation map: 0.006678931935\n",
      "Epoch 003/300, Loss: 0.000232406219, validation map: 0.007578423912\n",
      "Epoch 004/300, Loss: 0.000229111663, validation map: 0.008302388115\n",
      "Epoch 005/300, Loss: 0.000227371898, validation map: 0.008542316241\n",
      "Epoch 006/300, Loss: 0.000226540619, validation map: 0.012917523413\n",
      "Epoch 007/300, Loss: 0.000224166853, validation map: 0.019223011743\n",
      "Epoch 008/300, Loss: 0.000222577990, validation map: 0.025268364654\n",
      "Epoch 009/300, Loss: 0.000221590790, validation map: 0.028964504281\n",
      "Epoch 010/300, Loss: 0.000220528378, validation map: 0.030096468973\n",
      "Epoch 011/300, Loss: 0.000219869932, validation map: 0.042804393634\n",
      "Epoch 012/300, Loss: 0.000216969574, validation map: 0.054475517617\n",
      "Epoch 013/300, Loss: 0.000213463072, validation map: 0.063971221415\n",
      "Epoch 014/300, Loss: 0.000211324492, validation map: 0.068842392015\n",
      "Epoch 015/300, Loss: 0.000210232550, validation map: 0.070396550531\n",
      "Epoch 016/300, Loss: 0.000207417703, validation map: 0.084729715025\n",
      "Epoch 017/300, Loss: 0.000202163631, validation map: 0.098436642181\n",
      "Epoch 018/300, Loss: 0.000197704814, validation map: 0.107825302748\n",
      "Epoch 019/300, Loss: 0.000193841655, validation map: 0.112831774767\n",
      "Epoch 020/300, Loss: 0.000191814450, validation map: 0.114189357458\n",
      "Epoch 021/300, Loss: 0.000189235290, validation map: 0.128738871065\n",
      "Epoch 022/300, Loss: 0.000183676787, validation map: 0.142209210956\n",
      "Epoch 023/300, Loss: 0.000178034351, validation map: 0.152153454395\n",
      "Epoch 024/300, Loss: 0.000174526056, validation map: 0.156716338028\n",
      "Epoch 025/300, Loss: 0.000172834540, validation map: 0.158160785295\n",
      "Epoch 026/300, Loss: 0.000170819596, validation map: 0.175834238845\n",
      "Epoch 027/300, Loss: 0.000165213362, validation map: 0.193001861978\n",
      "Epoch 028/300, Loss: 0.000160810322, validation map: 0.203273192762\n",
      "Epoch 029/300, Loss: 0.000158155244, validation map: 0.208558987821\n",
      "Epoch 030/300, Loss: 0.000156844426, validation map: 0.210311489631\n",
      "Epoch 031/300, Loss: 0.000154524029, validation map: 0.227036355780\n",
      "Epoch 032/300, Loss: 0.000150210548, validation map: 0.239367723843\n",
      "Epoch 033/300, Loss: 0.000145411212, validation map: 0.248451212741\n",
      "Epoch 034/300, Loss: 0.000142552981, validation map: 0.253297977838\n",
      "Epoch 035/300, Loss: 0.000141235543, validation map: 0.254394160505\n",
      "Epoch 036/300, Loss: 0.000141144900, validation map: 0.267761089517\n",
      "Epoch 037/300, Loss: 0.000136634882, validation map: 0.281780108179\n",
      "Epoch 038/300, Loss: 0.000133008568, validation map: 0.288875679624\n",
      "Epoch 039/300, Loss: 0.000130636940, validation map: 0.292618930921\n",
      "Epoch 040/300, Loss: 0.000129345950, validation map: 0.293559893703\n",
      "Epoch 041/300, Loss: 0.000129069130, validation map: 0.304929034846\n",
      "Epoch 042/300, Loss: 0.000125737770, validation map: 0.312967779438\n",
      "Epoch 043/300, Loss: 0.000122590429, validation map: 0.319669547054\n",
      "Epoch 044/300, Loss: 0.000120823150, validation map: 0.321903719557\n",
      "Epoch 045/300, Loss: 0.000119197677, validation map: 0.323064642268\n",
      "Epoch 046/300, Loss: 0.000119649890, validation map: 0.332361816418\n",
      "Epoch 047/300, Loss: 0.000116829713, validation map: 0.339155308596\n",
      "Epoch 048/300, Loss: 0.000113838406, validation map: 0.344056063998\n",
      "Epoch 049/300, Loss: 0.000111895145, validation map: 0.346366380848\n",
      "Epoch 050/300, Loss: 0.000110779912, validation map: 0.346780052594\n",
      "Epoch 051/300, Loss: 0.000111134405, validation map: 0.352803585260\n",
      "Epoch 052/300, Loss: 0.000109083865, validation map: 0.356389397297\n",
      "Epoch 053/300, Loss: 0.000106348074, validation map: 0.360874617464\n",
      "Epoch 054/300, Loss: 0.000104425685, validation map: 0.362035672501\n",
      "Epoch 055/300, Loss: 0.000103518312, validation map: 0.362991038457\n",
      "Epoch 056/300, Loss: 0.000104387636, validation map: 0.367178529721\n",
      "Epoch 057/300, Loss: 0.000102391005, validation map: 0.371253333031\n",
      "Epoch 058/300, Loss: 0.000099803786, validation map: 0.374580562288\n",
      "Epoch 059/300, Loss: 0.000098002818, validation map: 0.375611702171\n",
      "Epoch 060/300, Loss: 0.000096904972, validation map: 0.375908300801\n",
      "Epoch 061/300, Loss: 0.000097754186, validation map: 0.379070155085\n",
      "Epoch 062/300, Loss: 0.000095992843, validation map: 0.383302667477\n",
      "Epoch 063/300, Loss: 0.000094025012, validation map: 0.384704060874\n",
      "Epoch 064/300, Loss: 0.000092448034, validation map: 0.385873908658\n",
      "Epoch 065/300, Loss: 0.000091512182, validation map: 0.386175313379\n",
      "Epoch 066/300, Loss: 0.000092573815, validation map: 0.391094580499\n",
      "Epoch 067/300, Loss: 0.000090542154, validation map: 0.392878713273\n",
      "Epoch 068/300, Loss: 0.000088928528, validation map: 0.394425529240\n",
      "Epoch 069/300, Loss: 0.000087291087, validation map: 0.395522130249\n",
      "Epoch 070/300, Loss: 0.000086440542, validation map: 0.395778798193\n",
      "Epoch 071/300, Loss: 0.000087440992, validation map: 0.398310663188\n",
      "Epoch 072/300, Loss: 0.000086237116, validation map: 0.400670128090\n",
      "Epoch 073/300, Loss: 0.000084209587, validation map: 0.402064600196\n",
      "Epoch 074/300, Loss: 0.000082953172, validation map: 0.403075258339\n",
      "Epoch 075/300, Loss: 0.000081771782, validation map: 0.403445327766\n",
      "Epoch 076/300, Loss: 0.000083143696, validation map: 0.406506043630\n",
      "Epoch 077/300, Loss: 0.000081697142, validation map: 0.408133867289\n",
      "Epoch 078/300, Loss: 0.000079854977, validation map: 0.410333448761\n",
      "Epoch 079/300, Loss: 0.000078656136, validation map: 0.411862697240\n",
      "Epoch 080/300, Loss: 0.000077790901, validation map: 0.412279766756\n",
      "Epoch 081/300, Loss: 0.000078952081, validation map: 0.414108452084\n",
      "Epoch 082/300, Loss: 0.000077930147, validation map: 0.416979993095\n",
      "Epoch 083/300, Loss: 0.000076227122, validation map: 0.418319323259\n",
      "Epoch 084/300, Loss: 0.000074775160, validation map: 0.419059385110\n",
      "Epoch 085/300, Loss: 0.000073950049, validation map: 0.419173519019\n",
      "Epoch 086/300, Loss: 0.000075210387, validation map: 0.420940820405\n",
      "Epoch 087/300, Loss: 0.000074159707, validation map: 0.421308713951\n",
      "Epoch 088/300, Loss: 0.000072545997, validation map: 0.422888254492\n",
      "Epoch 089/300, Loss: 0.000071264754, validation map: 0.423602474084\n",
      "Epoch 090/300, Loss: 0.000070315049, validation map: 0.423683143595\n",
      "Epoch 091/300, Loss: 0.000071631560, validation map: 0.426102496283\n",
      "Epoch 092/300, Loss: 0.000070571671, validation map: 0.426876398321\n",
      "Epoch 093/300, Loss: 0.000069146943, validation map: 0.428754870668\n",
      "Epoch 094/300, Loss: 0.000068224961, validation map: 0.428656686430\n",
      "Epoch 095/300, Loss: 0.000067221154, validation map: 0.428726470789\n",
      "Epoch 096/300, Loss: 0.000068692181, validation map: 0.429552007339\n",
      "Epoch 097/300, Loss: 0.000067413815, validation map: 0.431712880174\n",
      "Epoch 098/300, Loss: 0.000066050711, validation map: 0.433075407196\n",
      "Epoch 099/300, Loss: 0.000064926809, validation map: 0.433285571675\n",
      "Epoch 100/300, Loss: 0.000064161789, validation map: 0.432744318313\n",
      "Epoch 101/300, Loss: 0.000065453192, validation map: 0.431847721307\n",
      "Epoch 102/300, Loss: 0.000064408839, validation map: 0.434712537556\n",
      "Epoch 103/300, Loss: 0.000063319689, validation map: 0.434781414055\n",
      "Epoch 104/300, Loss: 0.000062260656, validation map: 0.434934560996\n",
      "Epoch 105/300, Loss: 0.000061349469, validation map: 0.435165669487\n",
      "Epoch 106/300, Loss: 0.000062806460, validation map: 0.436406989534\n",
      "Epoch 107/300, Loss: 0.000061965857, validation map: 0.437278055025\n",
      "Epoch 108/300, Loss: 0.000060698064, validation map: 0.437499089344\n",
      "Epoch 109/300, Loss: 0.000059511970, validation map: 0.437997201458\n",
      "Epoch 110/300, Loss: 0.000058898374, validation map: 0.438091721828\n",
      "Epoch 111/300, Loss: 0.000060294466, validation map: 0.438684762887\n",
      "Epoch 112/300, Loss: 0.000059327973, validation map: 0.439784489999\n",
      "Epoch 113/300, Loss: 0.000058237484, validation map: 0.439873700516\n",
      "Epoch 114/300, Loss: 0.000057170431, validation map: 0.440249952908\n",
      "Epoch 115/300, Loss: 0.000056526681, validation map: 0.440237543762\n",
      "Epoch 116/300, Loss: 0.000057833823, validation map: 0.440952325827\n",
      "Epoch 117/300, Loss: 0.000057103101, validation map: 0.442016269700\n",
      "Epoch 118/300, Loss: 0.000056105674, validation map: 0.442508263351\n",
      "Epoch 119/300, Loss: 0.000055090488, validation map: 0.442767379705\n",
      "Epoch 120/300, Loss: 0.000054414842, validation map: 0.443046445032\n",
      "Epoch 121/300, Loss: 0.000055789376, validation map: 0.443495975870\n",
      "Epoch 122/300, Loss: 0.000055226136, validation map: 0.443987311420\n",
      "Epoch 123/300, Loss: 0.000054076344, validation map: 0.444897961496\n",
      "Epoch 124/300, Loss: 0.000053094229, validation map: 0.445133593106\n",
      "Epoch 125/300, Loss: 0.000052483961, validation map: 0.445160796807\n",
      "Epoch 126/300, Loss: 0.000053745700, validation map: 0.445546139523\n",
      "Epoch 127/300, Loss: 0.000053172586, validation map: 0.447108667241\n",
      "Epoch 128/300, Loss: 0.000052164799, validation map: 0.447068948309\n",
      "Epoch 129/300, Loss: 0.000051294763, validation map: 0.447782875452\n",
      "Epoch 130/300, Loss: 0.000050646352, validation map: 0.447787710046\n",
      "Epoch 131/300, Loss: 0.000051832086, validation map: 0.448597937061\n",
      "Epoch 132/300, Loss: 0.000051314964, validation map: 0.449576026339\n",
      "Epoch 133/300, Loss: 0.000050355675, validation map: 0.449426728781\n",
      "Epoch 134/300, Loss: 0.000049562291, validation map: 0.450440657846\n",
      "Epoch 135/300, Loss: 0.000048919609, validation map: 0.450636640194\n",
      "Epoch 136/300, Loss: 0.000050007326, validation map: 0.451477684579\n",
      "Epoch 137/300, Loss: 0.000049552940, validation map: 0.451758725810\n",
      "Epoch 138/300, Loss: 0.000048723187, validation map: 0.452495128961\n",
      "Epoch 139/300, Loss: 0.000048009617, validation map: 0.452366328940\n",
      "Epoch 140/300, Loss: 0.000047330426, validation map: 0.452260931022\n",
      "Epoch 141/300, Loss: 0.000048471298, validation map: 0.452806458967\n",
      "Epoch 142/300, Loss: 0.000048017141, validation map: 0.453503360210\n",
      "Epoch 143/300, Loss: 0.000047210753, validation map: 0.453670074567\n",
      "Epoch 144/300, Loss: 0.000046523345, validation map: 0.454091539610\n",
      "Epoch 145/300, Loss: 0.000045825126, validation map: 0.454064761869\n",
      "Epoch 146/300, Loss: 0.000046977729, validation map: 0.454860327159\n",
      "Epoch 147/300, Loss: 0.000046515160, validation map: 0.455881101667\n",
      "Epoch 148/300, Loss: 0.000045778339, validation map: 0.456275891972\n",
      "Epoch 149/300, Loss: 0.000044986406, validation map: 0.456435875134\n",
      "Epoch 150/300, Loss: 0.000044460340, validation map: 0.456461385106\n",
      "Epoch 151/300, Loss: 0.000045598579, validation map: 0.456469074095\n",
      "Epoch 152/300, Loss: 0.000045074360, validation map: 0.457156867160\n",
      "Epoch 153/300, Loss: 0.000044366319, validation map: 0.457421646390\n",
      "Epoch 154/300, Loss: 0.000043614905, validation map: 0.457965689162\n",
      "Epoch 155/300, Loss: 0.000043136539, validation map: 0.457867447614\n",
      "Epoch 156/300, Loss: 0.000044159962, validation map: 0.458789884105\n",
      "Epoch 157/300, Loss: 0.000043679032, validation map: 0.459255316124\n",
      "Epoch 158/300, Loss: 0.000043051718, validation map: 0.459488274232\n",
      "Epoch 159/300, Loss: 0.000042321554, validation map: 0.459572930911\n",
      "Epoch 160/300, Loss: 0.000041784542, validation map: 0.459805837975\n",
      "Epoch 161/300, Loss: 0.000042858956, validation map: 0.459605263238\n",
      "Epoch 162/300, Loss: 0.000042398920, validation map: 0.459956386946\n",
      "Epoch 163/300, Loss: 0.000041712252, validation map: 0.460448232109\n",
      "Epoch 164/300, Loss: 0.000041044779, validation map: 0.460581575328\n",
      "Epoch 165/300, Loss: 0.000040529260, validation map: 0.460651503141\n",
      "Epoch 166/300, Loss: 0.000041543724, validation map: 0.460981128130\n",
      "Epoch 167/300, Loss: 0.000041228746, validation map: 0.460559963017\n",
      "Epoch 168/300, Loss: 0.000040620274, validation map: 0.460331130157\n",
      "Epoch 169/300, Loss: 0.000039920377, validation map: 0.460590182682\n",
      "Epoch 170/300, Loss: 0.000039406501, validation map: 0.460614888256\n",
      "Epoch 171/300, Loss: 0.000040312002, validation map: 0.460985766162\n",
      "Epoch 172/300, Loss: 0.000040074290, validation map: 0.460907930162\n",
      "Epoch 173/300, Loss: 0.000039315675, validation map: 0.461313165470\n",
      "Epoch 174/300, Loss: 0.000038770254, validation map: 0.461070086145\n",
      "Epoch 175/300, Loss: 0.000038254179, validation map: 0.461253090243\n",
      "Epoch 176/300, Loss: 0.000039206647, validation map: 0.461217856739\n",
      "Epoch 177/300, Loss: 0.000038888633, validation map: 0.461688704462\n",
      "Epoch 178/300, Loss: 0.000038222696, validation map: 0.462386458611\n",
      "Epoch 179/300, Loss: 0.000037632987, validation map: 0.462903866620\n",
      "Epoch 180/300, Loss: 0.000037201363, validation map: 0.462693347658\n",
      "Epoch 181/300, Loss: 0.000038077961, validation map: 0.463240830498\n",
      "Epoch 182/300, Loss: 0.000037757217, validation map: 0.464490347118\n",
      "Epoch 183/300, Loss: 0.000037156993, validation map: 0.464078760173\n",
      "Epoch 184/300, Loss: 0.000036663285, validation map: 0.464115924788\n",
      "Epoch 185/300, Loss: 0.000036121683, validation map: 0.464088016979\n",
      "Epoch 186/300, Loss: 0.000037142359, validation map: 0.464120518251\n",
      "Epoch 187/300, Loss: 0.000036828627, validation map: 0.463964715895\n",
      "Epoch 188/300, Loss: 0.000036169043, validation map: 0.464594151311\n",
      "Epoch 189/300, Loss: 0.000035603522, validation map: 0.464508742488\n",
      "Epoch 190/300, Loss: 0.000035188499, validation map: 0.464723382179\n",
      "Epoch 191/300, Loss: 0.000035994729, validation map: 0.463945437266\n",
      "Epoch 192/300, Loss: 0.000035782839, validation map: 0.463977073159\n",
      "Epoch 193/300, Loss: 0.000035220904, validation map: 0.464431236050\n",
      "Epoch 194/300, Loss: 0.000034659610, validation map: 0.464251749506\n",
      "Epoch 195/300, Loss: 0.000034224845, validation map: 0.464370813565\n",
      "Epoch 196/300, Loss: 0.000035108298, validation map: 0.464315547221\n",
      "Epoch 197/300, Loss: 0.000034813074, validation map: 0.464165869362\n",
      "Epoch 198/300, Loss: 0.000034232962, validation map: 0.465062485381\n",
      "Epoch 199/300, Loss: 0.000033746621, validation map: 0.464739823429\n",
      "Epoch 200/300, Loss: 0.000033297790, validation map: 0.464874048510\n",
      "Epoch 201/300, Loss: 0.000034146336, validation map: 0.464517677085\n",
      "Epoch 202/300, Loss: 0.000033866353, validation map: 0.464031797838\n",
      "Epoch 203/300, Loss: 0.000033349807, validation map: 0.464532916977\n",
      "Epoch 204/300, Loss: 0.000032766519, validation map: 0.465227465101\n",
      "Epoch 205/300, Loss: 0.000032391281, validation map: 0.464825119792\n",
      "Epoch 206/300, Loss: 0.000033224242, validation map: 0.464192398715\n",
      "Epoch 207/300, Loss: 0.000032979959, validation map: 0.464874142020\n",
      "Epoch 208/300, Loss: 0.000032401963, validation map: 0.464948098065\n",
      "Epoch 209/300, Loss: 0.000031931413, validation map: 0.464752124546\n",
      "Epoch 210/300, Loss: 0.000031537294, validation map: 0.464721281690\n",
      "Epoch 211/300, Loss: 0.000032395194, validation map: 0.465262580713\n",
      "Epoch 212/300, Loss: 0.000032119596, validation map: 0.465116628745\n",
      "Epoch 213/300, Loss: 0.000031554921, validation map: 0.465139424241\n",
      "Epoch 214/300, Loss: 0.000031157283, validation map: 0.465383805000\n",
      "Epoch 215/300, Loss: 0.000030724820, validation map: 0.465392256269\n",
      "Epoch 216/300, Loss: 0.000031604981, validation map: 0.465765229661\n",
      "Epoch 217/300, Loss: 0.000031225977, validation map: 0.465454997647\n",
      "Epoch 218/300, Loss: 0.000030821913, validation map: 0.465155522946\n",
      "Epoch 219/300, Loss: 0.000030308902, validation map: 0.465081458981\n",
      "Epoch 220/300, Loss: 0.000029916316, validation map: 0.465167997260\n",
      "Epoch 221/300, Loss: 0.000030688433, validation map: 0.465338826177\n",
      "Epoch 222/300, Loss: 0.000030456418, validation map: 0.464674925675\n",
      "Epoch 223/300, Loss: 0.000030011333, validation map: 0.465001850978\n",
      "Epoch 224/300, Loss: 0.000029550279, validation map: 0.465079114464\n",
      "Epoch 225/300, Loss: 0.000029181317, validation map: 0.465160286088\n",
      "Epoch 226/300, Loss: 0.000029894673, validation map: 0.464916505935\n",
      "Epoch 227/300, Loss: 0.000029669297, validation map: 0.464642000591\n",
      "Epoch 228/300, Loss: 0.000029253977, validation map: 0.464781096673\n",
      "Epoch 229/300, Loss: 0.000028786059, validation map: 0.464926185688\n",
      "Epoch 230/300, Loss: 0.000028450040, validation map: 0.464829263157\n",
      "Epoch 231/300, Loss: 0.000029124679, validation map: 0.464379535978\n",
      "Epoch 232/300, Loss: 0.000028985130, validation map: 0.464711238779\n",
      "Epoch 233/300, Loss: 0.000028529327, validation map: 0.464469341820\n",
      "Epoch 234/300, Loss: 0.000028063502, validation map: 0.464144965128\n",
      "Epoch 235/300, Loss: 0.000027729132, validation map: 0.464135103616\n",
      "Epoch 236/300, Loss: 0.000028442665, validation map: 0.464366250652\n",
      "Epoch 237/300, Loss: 0.000028233164, validation map: 0.464431810876\n",
      "Epoch 238/300, Loss: 0.000027812305, validation map: 0.464369850242\n",
      "Epoch 239/300, Loss: 0.000027327585, validation map: 0.464052567087\n",
      "Epoch 240/300, Loss: 0.000027020316, validation map: 0.464073478608\n",
      "Epoch 241/300, Loss: 0.000027793211, validation map: 0.463553631256\n",
      "Epoch 242/300, Loss: 0.000027516433, validation map: 0.463291662600\n",
      "Epoch 243/300, Loss: 0.000027102791, validation map: 0.463875579868\n",
      "Epoch 244/300, Loss: 0.000026710076, validation map: 0.463739217608\n",
      "Epoch 245/300, Loss: 0.000026354897, validation map: 0.463752035797\n",
      "Epoch 246/300, Loss: 0.000026983994, validation map: 0.464184997795\n",
      "Epoch 247/300, Loss: 0.000026854165, validation map: 0.464345175460\n",
      "Epoch 248/300, Loss: 0.000026450766, validation map: 0.464290443237\n",
      "Epoch 249/300, Loss: 0.000026055748, validation map: 0.463654645375\n",
      "Epoch 250/300, Loss: 0.000025735609, validation map: 0.463829357470\n",
      "Epoch 251/300, Loss: 0.000026449952, validation map: 0.463262293492\n",
      "Epoch 252/300, Loss: 0.000026265204, validation map: 0.463687781821\n",
      "Epoch 253/300, Loss: 0.000025838467, validation map: 0.463686390448\n",
      "Epoch 254/300, Loss: 0.000025444355, validation map: 0.463917103067\n",
      "Epoch 255/300, Loss: 0.000025109811, validation map: 0.463568938541\n",
      "Epoch 256/300, Loss: 0.000025808478, validation map: 0.463626130493\n",
      "Epoch 257/300, Loss: 0.000025611246, validation map: 0.463931864793\n",
      "Epoch 258/300, Loss: 0.000025219503, validation map: 0.463569543753\n",
      "Epoch 259/300, Loss: 0.000024818493, validation map: 0.463290426029\n",
      "Epoch 260/300, Loss: 0.000024524775, validation map: 0.463029264697\n",
      "Epoch 261/300, Loss: 0.000025229323, validation map: 0.463918552304\n",
      "Epoch 262/300, Loss: 0.000025063936, validation map: 0.463430240437\n",
      "Epoch 263/300, Loss: 0.000024608600, validation map: 0.463878815042\n",
      "Epoch 264/300, Loss: 0.000024241758, validation map: 0.463797226549\n",
      "Epoch 265/300, Loss: 0.000023935342, validation map: 0.463818144404\n",
      "Epoch 266/300, Loss: 0.000024579822, validation map: 0.464258032554\n",
      "Epoch 267/300, Loss: 0.000024391347, validation map: 0.463835173007\n",
      "Epoch 268/300, Loss: 0.000024047755, validation map: 0.463616821884\n",
      "Epoch 269/300, Loss: 0.000023661417, validation map: 0.463406881166\n",
      "Epoch 270/300, Loss: 0.000023396586, validation map: 0.463570980467\n",
      "Epoch 271/300, Loss: 0.000023997709, validation map: 0.463847548989\n",
      "Epoch 272/300, Loss: 0.000023856600, validation map: 0.463696924116\n",
      "Epoch 273/300, Loss: 0.000023530442, validation map: 0.463612040335\n",
      "Epoch 274/300, Loss: 0.000023153229, validation map: 0.463351170523\n",
      "Epoch 275/300, Loss: 0.000022863351, validation map: 0.463393211192\n",
      "Epoch 276/300, Loss: 0.000023516214, validation map: 0.463067694337\n",
      "Epoch 277/300, Loss: 0.000023340253, validation map: 0.462840013110\n",
      "Epoch 278/300, Loss: 0.000022965730, validation map: 0.462913042633\n",
      "Epoch 279/300, Loss: 0.000022624285, validation map: 0.463105949775\n",
      "Epoch 280/300, Loss: 0.000022327581, validation map: 0.463028383441\n",
      "Epoch 281/300, Loss: 0.000022932982, validation map: 0.463493694155\n",
      "Epoch 282/300, Loss: 0.000022803106, validation map: 0.463263530389\n",
      "Epoch 283/300, Loss: 0.000022464702, validation map: 0.462851866637\n",
      "Epoch 284/300, Loss: 0.000022125049, validation map: 0.463306196599\n",
      "Epoch 285/300, Loss: 0.000021844069, validation map: 0.463258612746\n",
      "Epoch 286/300, Loss: 0.000022488436, validation map: 0.463128283862\n",
      "Epoch 287/300, Loss: 0.000022270527, validation map: 0.462777729739\n",
      "Epoch 288/300, Loss: 0.000021972989, validation map: 0.463203445230\n",
      "Epoch 289/300, Loss: 0.000021654644, validation map: 0.463118679072\n",
      "Epoch 290/300, Loss: 0.000021378813, validation map: 0.463066295987\n",
      "Epoch 291/300, Loss: 0.000021933100, validation map: 0.463425532105\n",
      "Epoch 292/300, Loss: 0.000021811935, validation map: 0.463555089169\n",
      "Epoch 293/300, Loss: 0.000021496956, validation map: 0.462843457695\n",
      "Epoch 294/300, Loss: 0.000021180521, validation map: 0.462351833950\n",
      "Epoch 295/300, Loss: 0.000020884558, validation map: 0.462823839628\n",
      "Epoch 296/300, Loss: 0.000021490968, validation map: 0.462666598359\n",
      "Epoch 297/300, Loss: 0.000021329351, validation map: 0.462995555098\n",
      "Epoch 298/300, Loss: 0.000021023939, validation map: 0.463450260329\n",
      "Epoch 299/300, Loss: 0.000020724320, validation map: 0.463033190838\n",
      "Epoch 300/300, Loss: 0.000020465152, validation map: 0.462758885650\n"
     ]
    }
   ],
   "source": [
    "num_epochs = 300\n",
    "training_loss_per_epoch = np.zeros(300)\n",
    "validation_loss_per_epoch = np.zeros(300)\n",
    "validation_map_per_epoch = np.zeros(300)\n",
    "\n",
    "for epoch in range(num_epochs):\n",
    "    running_loss = 0.0\n",
    "    for inputs, labels in train_dataloader:\n",
    "        inputs = inputs.to(device)\n",
    "        labels = labels.to(device)\n",
    "\n",
    "        optimizer.zero_grad()  # Zero the gradients\n",
    "        outputs = model(inputs)  # Forward pass\n",
    "        loss = criterion(outputs, labels)  # Compute the loss\n",
    "        loss.backward()  # Backward pass\n",
    "        optimizer.step()  # Update the weights\n",
    "\n",
    "        running_loss += loss.item()\n",
    "    \n",
    "    scheduler.step()\n",
    "    \n",
    "    with torch.no_grad():\n",
    "        pred = model.forward(X_val.to(device))\n",
    "        # calculate the validation loss:\n",
    "        validation_loss = criterion(pred, y_val.to(device))\n",
    "        # calculate the validation mAP:\n",
    "        validation_aps = ev.eval_vo(pred[:,:600].T.cpu().detach().numpy(), y_val[:,:600].T.numpy(),600)[0]\n",
    "        nr_val_classes = np.sum(validation_aps != None)\n",
    "        validation_map = np.nansum(validation_aps) / nr_val_classes\n",
    "\n",
    "    # add the losses and mAP to the arrays:\n",
    "    training_loss_per_epoch[epoch] = running_loss / len(train_dataloader)\n",
    "    validation_loss_per_epoch[epoch] = validation_loss\n",
    "    validation_map_per_epoch[epoch] = validation_map\n",
    "\n",
    "    print(f\"Epoch {epoch+1:0{len(str(num_epochs))}}/{num_epochs}, Loss: {running_loss/len(train_dataloader):.12f}, validation map: {validation_map:.12f}\")"
   ]
  },
  {
   "cell_type": "markdown",
   "metadata": {},
   "source": [
    "### plotting the training process to select the number of convergence"
   ]
  },
  {
   "cell_type": "code",
   "execution_count": 11,
   "metadata": {},
   "outputs": [
    {
     "data": {
      "text/plain": [
       "[]"
      ]
     },
     "execution_count": 11,
     "metadata": {},
     "output_type": "execute_result"
    },
    {
     "data": {
      "image/png": "[encoded data removed]",
      "text/plain": [
       "<Figure size 800x600 with 1 Axes>"
      ]
     },
     "metadata": {},
     "output_type": "display_data"
    }
   ],
   "source": [
    "plt.figure(figsize=(8,6))\n",
    "plt.plot(np.arange(300), training_loss_per_epoch, color = \"orange\")\n",
    "plt.plot(np.arange(300), validation_loss_per_epoch, color = \"blue\")\n",
    "# plt.plot(np.arange(100), validation_loss_main_per_epoch, color= \"red\")\n",
    "# plt.plot(np.arange(100), validation_loss_side_per_epoch, color = \"purple\")\n",
    "plt.plot(np.arange(300), validation_map_per_epoch/1000, color = \"green\")\n",
    "#plt.hlines(0.010051161982119083, 0, 100 , colors=['black'],linestyles=['dotted'])\n",
    "plt.ylim(0,0.0006)\n",
    "plt.plot()"
   ]
  },
  {
   "cell_type": "code",
   "execution_count": 12,
   "metadata": {},
   "outputs": [
    {
     "data": {
      "text/plain": [
       "215"
      ]
     },
     "execution_count": 12,
     "metadata": {},
     "output_type": "execute_result"
    }
   ],
   "source": [
    "np.argmax(validation_map_per_epoch)"
   ]
  },
  {
   "cell_type": "code",
   "execution_count": 13,
   "metadata": {},
   "outputs": [
    {
     "data": {
      "text/plain": [
       "103"
      ]
     },
     "execution_count": 13,
     "metadata": {},
     "output_type": "execute_result"
    }
   ],
   "source": [
    "np.argmin(validation_loss_per_epoch)"
   ]
  }
 ],
 "metadata": {
  "kernelspec": {
   "display_name": "PyTorch",
   "language": "python",
   "name": "python3"
  },
  "language_info": {
   "codemirror_mode": {
    "name": "ipython",
    "version": 3
   },
   "file_extension": ".py",
   "mimetype": "text/x-python",
   "name": "python",
   "nbconvert_exporter": "python",
   "pygments_lexer": "ipython3",
   "version": "3.10.13"
  }
 },
 "nbformat": 4,
 "nbformat_minor": 2
}
