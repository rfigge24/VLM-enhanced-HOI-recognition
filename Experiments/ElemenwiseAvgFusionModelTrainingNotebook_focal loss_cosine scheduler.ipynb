{
 "cells": [
  {
   "cell_type": "markdown",
   "metadata": {},
   "source": [
    "# Elementwise Average Fusion model training (focal loss) cosine scheduler like the cliplike method:"
   ]
  },
  {
   "cell_type": "code",
   "execution_count": 18,
   "metadata": {},
   "outputs": [],
   "source": [
    "import sys\n",
    "root = '../'\n",
    "sys.path.append(root)   # Done to be able to import the packages and functions\n",
    "\n",
    "import Utils.hico_evaluation.evaluation as ev\n",
    "from Utils.custom_loss import MaskedFocalLoss\n",
    "from Utils.annotation_preprocessing import _load_csv_to_tensor\n",
    "from Utils.train_val_split import train_val_split_hico\n",
    "from hoi_classifiers import ElementwiseAvgFusionModel\n",
    "\n",
    "import torch\n",
    "import numpy as np\n",
    "from torch.utils.data import TensorDataset, DataLoader\n",
    "import matplotlib.pyplot as plt\n",
    "\n",
    "from pytorch_multilabel_balanced_sampler.samplers import LeastSampledClassSampler\n",
    "import random"
   ]
  },
  {
   "cell_type": "code",
   "execution_count": 19,
   "metadata": {},
   "outputs": [],
   "source": [
    "seed = 42   #note that the model parameters will still be randomly initiated\n",
    "torch.manual_seed(seed)\n",
    "random.seed(seed)"
   ]
  },
  {
   "cell_type": "markdown",
   "metadata": {},
   "source": [
    "### Loading the training set:\n"
   ]
  },
  {
   "cell_type": "code",
   "execution_count": 20,
   "metadata": {},
   "outputs": [],
   "source": [
    "# Loading the data:\n",
    "train_data = torch.load(root + \"Embeddings/Combined_Embeddings/train.pt\")\n",
    "train_annotations = _load_csv_to_tensor(root + \"anno/added/anno_augmented_train.csv\").T # Transpose to make both first dimensions the #samples.\n",
    "train_annotations[train_annotations.isnan()] = -1"
   ]
  },
  {
   "cell_type": "markdown",
   "metadata": {},
   "source": [
    "##### Splitting the training set into a train and validation set:"
   ]
  },
  {
   "cell_type": "code",
   "execution_count": 21,
   "metadata": {},
   "outputs": [],
   "source": [
    "train_idx, validation_idx = train_val_split_hico(train_data, train_annotations, 0.2, seed)\n",
    "X_train, X_val = train_data[train_idx], train_data[validation_idx]\n",
    "y_train, y_val = train_annotations[train_idx], train_annotations[validation_idx]"
   ]
  },
  {
   "cell_type": "markdown",
   "metadata": {},
   "source": [
    "#### Training Preparations:"
   ]
  },
  {
   "cell_type": "code",
   "execution_count": 22,
   "metadata": {},
   "outputs": [],
   "source": [
    "train_dataset = TensorDataset(X_train, y_train)"
   ]
  },
  {
   "cell_type": "code",
   "execution_count": 23,
   "metadata": {},
   "outputs": [],
   "source": [
    "# Batch size:\n",
    "bs = 512\n",
    "\n",
    "#sampler = LeastSampledClassSampler((y_train[:,:600] == 1).int())\n",
    "\n",
    "train_dataloader = DataLoader(\n",
    "    train_dataset, batch_size=bs, num_workers=4, shuffle=True)\n"
   ]
  },
  {
   "cell_type": "code",
   "execution_count": 24,
   "metadata": {},
   "outputs": [],
   "source": [
    "device = torch.device('cuda:0' if torch.cuda.is_available() else 'cpu')"
   ]
  },
  {
   "cell_type": "code",
   "execution_count": 25,
   "metadata": {},
   "outputs": [],
   "source": [
    "model = ElementwiseAvgFusionModel(512,655,797)\n",
    "model = model.to(device)"
   ]
  },
  {
   "cell_type": "code",
   "execution_count": 26,
   "metadata": {},
   "outputs": [],
   "source": [
    "classweights = torch.cat((torch.ones(600),torch.ones(197)*0.5)).to(device)      # The hoi classes weigh twice as much as the seperate classes\n",
    "criterion = MaskedFocalLoss(ignore_label=0, convert_target_to_01= True, weight=classweights)\n",
    "\n",
    "optimizer = torch.optim.Adam(params=model.parameters(), lr=0.0005)\n",
    "scheduler = torch.optim.lr_scheduler.CosineAnnealingWarmRestarts(optimizer, T_0=5, T_mult=1)"
   ]
  },
  {
   "cell_type": "markdown",
   "metadata": {},
   "source": [
    "#### Training loop:"
   ]
  },
  {
   "cell_type": "code",
   "execution_count": 27,
   "metadata": {},
   "outputs": [
    {
     "name": "stdout",
     "output_type": "stream",
     "text": [
      "Epoch 001/200, Loss: 0.017311262813, validation map: 0.014503393589\n",
      "Epoch 002/200, Loss: 0.001862108149, validation map: 0.063945502844\n",
      "Epoch 003/200, Loss: 0.001468501859, validation map: 0.099761598626\n",
      "Epoch 004/200, Loss: 0.001287947564, validation map: 0.118912372897\n",
      "Epoch 005/200, Loss: 0.001221543065, validation map: 0.124179253980\n",
      "Epoch 006/200, Loss: 0.001101483362, validation map: 0.176811131047\n",
      "Epoch 007/200, Loss: 0.000943722914, validation map: 0.218373344201\n",
      "Epoch 008/200, Loss: 0.000862199007, validation map: 0.241213890724\n",
      "Epoch 009/200, Loss: 0.000823293128, validation map: 0.254543330036\n",
      "Epoch 010/200, Loss: 0.000807046082, validation map: 0.257225031480\n",
      "Epoch 011/200, Loss: 0.000784450874, validation map: 0.285118243517\n",
      "Epoch 012/200, Loss: 0.000743214016, validation map: 0.307776091012\n",
      "Epoch 013/200, Loss: 0.000713720982, validation map: 0.322254819579\n",
      "Epoch 014/200, Loss: 0.000696413076, validation map: 0.329308864801\n",
      "Epoch 015/200, Loss: 0.000687821562, validation map: 0.331042341508\n",
      "Epoch 016/200, Loss: 0.000681710850, validation map: 0.350056642783\n",
      "Epoch 017/200, Loss: 0.000662402023, validation map: 0.363088473874\n",
      "Epoch 018/200, Loss: 0.000646417884, validation map: 0.369636267401\n",
      "Epoch 019/200, Loss: 0.000635148983, validation map: 0.374464006759\n",
      "Epoch 020/200, Loss: 0.000629290876, validation map: 0.374773986971\n",
      "Epoch 021/200, Loss: 0.000628935799, validation map: 0.385934992031\n",
      "Epoch 022/200, Loss: 0.000616582061, validation map: 0.394691203153\n",
      "Epoch 023/200, Loss: 0.000605124570, validation map: 0.399851674734\n",
      "Epoch 024/200, Loss: 0.000595911883, validation map: 0.401850683767\n",
      "Epoch 025/200, Loss: 0.000590722279, validation map: 0.402536553926\n",
      "Epoch 026/200, Loss: 0.000593468223, validation map: 0.409766723018\n",
      "Epoch 027/200, Loss: 0.000584225457, validation map: 0.415559106027\n",
      "Epoch 028/200, Loss: 0.000574577594, validation map: 0.418726473521\n",
      "Epoch 029/200, Loss: 0.000567477035, validation map: 0.420336049210\n",
      "Epoch 030/200, Loss: 0.000562927049, validation map: 0.420779624274\n",
      "Epoch 031/200, Loss: 0.000566617865, validation map: 0.426239440779\n",
      "Epoch 032/200, Loss: 0.000558649446, validation map: 0.430398965605\n",
      "Epoch 033/200, Loss: 0.000550748507, validation map: 0.432362616110\n",
      "Epoch 034/200, Loss: 0.000544206797, validation map: 0.434305231172\n",
      "Epoch 035/200, Loss: 0.000539681515, validation map: 0.434385331699\n",
      "Epoch 036/200, Loss: 0.000544927747, validation map: 0.440644969414\n",
      "Epoch 037/200, Loss: 0.000538831456, validation map: 0.442985317399\n",
      "Epoch 038/200, Loss: 0.000530997646, validation map: 0.444437797437\n",
      "Epoch 039/200, Loss: 0.000524784019, validation map: 0.445856466089\n",
      "Epoch 040/200, Loss: 0.000520287145, validation map: 0.446225773938\n",
      "Epoch 041/200, Loss: 0.000526524455, validation map: 0.449449703414\n",
      "Epoch 042/200, Loss: 0.000520296925, validation map: 0.452625789025\n",
      "Epoch 043/200, Loss: 0.000513832862, validation map: 0.453545141971\n",
      "Epoch 044/200, Loss: 0.000507984691, validation map: 0.454298632161\n",
      "Epoch 045/200, Loss: 0.000503325346, validation map: 0.454665994949\n",
      "Epoch 046/200, Loss: 0.000509934417, validation map: 0.456608212183\n",
      "Epoch 047/200, Loss: 0.000505427032, validation map: 0.458378989095\n",
      "Epoch 048/200, Loss: 0.000497947996, validation map: 0.459991368018\n",
      "Epoch 049/200, Loss: 0.000492446122, validation map: 0.460524191570\n",
      "Epoch 050/200, Loss: 0.000488228129, validation map: 0.460548651684\n",
      "Epoch 051/200, Loss: 0.000493853414, validation map: 0.463826170054\n",
      "Epoch 052/200, Loss: 0.000490101092, validation map: 0.465568519369\n",
      "Epoch 053/200, Loss: 0.000483377921, validation map: 0.467717072587\n",
      "Epoch 054/200, Loss: 0.000477495304, validation map: 0.467749983374\n",
      "Epoch 055/200, Loss: 0.000473530513, validation map: 0.467646614729\n",
      "Epoch 056/200, Loss: 0.000480890475, validation map: 0.469043755853\n",
      "Epoch 057/200, Loss: 0.000476821863, validation map: 0.470800584635\n",
      "Epoch 058/200, Loss: 0.000470254578, validation map: 0.471550136022\n",
      "Epoch 059/200, Loss: 0.000463967148, validation map: 0.471777159127\n",
      "Epoch 060/200, Loss: 0.000460103423, validation map: 0.471885152145\n",
      "Epoch 061/200, Loss: 0.000468152971, validation map: 0.473791173863\n",
      "Epoch 062/200, Loss: 0.000463875564, validation map: 0.475863420021\n",
      "Epoch 063/200, Loss: 0.000457698882, validation map: 0.476910805446\n",
      "Epoch 064/200, Loss: 0.000451977991, validation map: 0.477394282702\n",
      "Epoch 065/200, Loss: 0.000447636017, validation map: 0.477507969029\n",
      "Epoch 066/200, Loss: 0.000455350790, validation map: 0.478110805648\n",
      "Epoch 067/200, Loss: 0.000451115796, validation map: 0.478838606471\n",
      "Epoch 068/200, Loss: 0.000445658716, validation map: 0.479107005374\n",
      "Epoch 069/200, Loss: 0.000439243617, validation map: 0.479558040297\n",
      "Epoch 070/200, Loss: 0.000435604273, validation map: 0.479172827955\n",
      "Epoch 071/200, Loss: 0.000443877961, validation map: 0.479938205269\n",
      "Epoch 072/200, Loss: 0.000439735035, validation map: 0.481418653786\n",
      "Epoch 073/200, Loss: 0.000433524192, validation map: 0.481744182720\n",
      "Epoch 074/200, Loss: 0.000428012185, validation map: 0.481641562484\n",
      "Epoch 075/200, Loss: 0.000423839772, validation map: 0.482005104886\n",
      "Epoch 076/200, Loss: 0.000431790998, validation map: 0.482308027445\n",
      "Epoch 077/200, Loss: 0.000428197257, validation map: 0.482304677458\n",
      "Epoch 078/200, Loss: 0.000422190219, validation map: 0.482406481671\n",
      "Epoch 079/200, Loss: 0.000417174178, validation map: 0.482411537551\n",
      "Epoch 080/200, Loss: 0.000412646385, validation map: 0.482698209596\n",
      "Epoch 081/200, Loss: 0.000422189782, validation map: 0.481889448270\n",
      "Epoch 082/200, Loss: 0.000417146407, validation map: 0.484647433218\n",
      "Epoch 083/200, Loss: 0.000411026839, validation map: 0.484600428120\n",
      "Epoch 084/200, Loss: 0.000405443213, validation map: 0.484144822221\n",
      "Epoch 085/200, Loss: 0.000401017050, validation map: 0.484211384161\n",
      "Epoch 086/200, Loss: 0.000409845944, validation map: 0.483987268350\n",
      "Epoch 087/200, Loss: 0.000406693181, validation map: 0.484587474963\n",
      "Epoch 088/200, Loss: 0.000400499121, validation map: 0.484538522609\n",
      "Epoch 089/200, Loss: 0.000394560913, validation map: 0.484761252182\n",
      "Epoch 090/200, Loss: 0.000390155078, validation map: 0.484787845798\n",
      "Epoch 091/200, Loss: 0.000398857443, validation map: 0.483980187179\n",
      "Epoch 092/200, Loss: 0.000395844785, validation map: 0.485245320904\n",
      "Epoch 093/200, Loss: 0.000389406439, validation map: 0.484776788957\n",
      "Epoch 094/200, Loss: 0.000384091752, validation map: 0.485226110265\n",
      "Epoch 095/200, Loss: 0.000379940283, validation map: 0.485236151973\n",
      "Epoch 096/200, Loss: 0.000388982403, validation map: 0.484624427515\n",
      "Epoch 097/200, Loss: 0.000385101274, validation map: 0.484259791130\n",
      "Epoch 098/200, Loss: 0.000379369628, validation map: 0.485662715340\n",
      "Epoch 099/200, Loss: 0.000373721089, validation map: 0.484789696291\n",
      "Epoch 100/200, Loss: 0.000369682832, validation map: 0.485493324460\n",
      "Epoch 101/200, Loss: 0.000378321084, validation map: 0.484229613834\n",
      "Epoch 102/200, Loss: 0.000375652148, validation map: 0.485192198737\n",
      "Epoch 103/200, Loss: 0.000369617629, validation map: 0.484923905050\n",
      "Epoch 104/200, Loss: 0.000363953471, validation map: 0.484723716164\n",
      "Epoch 105/200, Loss: 0.000359494250, validation map: 0.484682301348\n",
      "Epoch 106/200, Loss: 0.000368721396, validation map: 0.483977009926\n",
      "Epoch 107/200, Loss: 0.000365180938, validation map: 0.483086448607\n",
      "Epoch 108/200, Loss: 0.000359715470, validation map: 0.483447325760\n",
      "Epoch 109/200, Loss: 0.000353586915, validation map: 0.483213400262\n",
      "Epoch 110/200, Loss: 0.000349539507, validation map: 0.482864617389\n",
      "Epoch 111/200, Loss: 0.000358691589, validation map: 0.482747553116\n",
      "Epoch 112/200, Loss: 0.000355548533, validation map: 0.482715741264\n",
      "Epoch 113/200, Loss: 0.000349609611, validation map: 0.482991017956\n",
      "Epoch 114/200, Loss: 0.000343314815, validation map: 0.482908310893\n",
      "Epoch 115/200, Loss: 0.000339548238, validation map: 0.483435038903\n",
      "Epoch 116/200, Loss: 0.000348457928, validation map: 0.483095231978\n",
      "Epoch 117/200, Loss: 0.000345912707, validation map: 0.482847138532\n",
      "Epoch 118/200, Loss: 0.000340147036, validation map: 0.483224173055\n",
      "Epoch 119/200, Loss: 0.000334256271, validation map: 0.483576898750\n",
      "Epoch 120/200, Loss: 0.000329794784, validation map: 0.483531465542\n",
      "Epoch 121/200, Loss: 0.000340136097, validation map: 0.482709957835\n",
      "Epoch 122/200, Loss: 0.000336582283, validation map: 0.482562679266\n",
      "Epoch 123/200, Loss: 0.000331162906, validation map: 0.483224176977\n",
      "Epoch 124/200, Loss: 0.000324659092, validation map: 0.482908629647\n",
      "Epoch 125/200, Loss: 0.000320881886, validation map: 0.482965643685\n",
      "Epoch 126/200, Loss: 0.000330073117, validation map: 0.483066794683\n",
      "Epoch 127/200, Loss: 0.000327340156, validation map: 0.482825730759\n",
      "Epoch 128/200, Loss: 0.000321323199, validation map: 0.481611492325\n",
      "Epoch 129/200, Loss: 0.000315357351, validation map: 0.482188539020\n",
      "Epoch 130/200, Loss: 0.000311538549, validation map: 0.482039675297\n",
      "Epoch 131/200, Loss: 0.000321357274, validation map: 0.483865332902\n",
      "Epoch 132/200, Loss: 0.000318181767, validation map: 0.482935597404\n",
      "Epoch 133/200, Loss: 0.000311541818, validation map: 0.482471114690\n",
      "Epoch 134/200, Loss: 0.000306334849, validation map: 0.482878716158\n",
      "Epoch 135/200, Loss: 0.000302145435, validation map: 0.482858701768\n",
      "Epoch 136/200, Loss: 0.000312357946, validation map: 0.481744477772\n",
      "Epoch 137/200, Loss: 0.000308824851, validation map: 0.481869568829\n",
      "Epoch 138/200, Loss: 0.000302698645, validation map: 0.482718872010\n",
      "Epoch 139/200, Loss: 0.000297388206, validation map: 0.482748599776\n",
      "Epoch 140/200, Loss: 0.000292951869, validation map: 0.482770316317\n",
      "Epoch 141/200, Loss: 0.000302848661, validation map: 0.482949857642\n",
      "Epoch 142/200, Loss: 0.000300168143, validation map: 0.482462325713\n",
      "Epoch 143/200, Loss: 0.000294136744, validation map: 0.482036318291\n",
      "Epoch 144/200, Loss: 0.000288610874, validation map: 0.482022265311\n",
      "Epoch 145/200, Loss: 0.000284211767, validation map: 0.482443403741\n",
      "Epoch 146/200, Loss: 0.000294748616, validation map: 0.481931645004\n",
      "Epoch 147/200, Loss: 0.000291331387, validation map: 0.479323869521\n",
      "Epoch 148/200, Loss: 0.000285538557, validation map: 0.480669329026\n",
      "Epoch 149/200, Loss: 0.000279782537, validation map: 0.480524000043\n",
      "Epoch 150/200, Loss: 0.000276098549, validation map: 0.480648030977\n",
      "Epoch 151/200, Loss: 0.000286234478, validation map: 0.479876739373\n",
      "Epoch 152/200, Loss: 0.000282817041, validation map: 0.480039862767\n",
      "Epoch 153/200, Loss: 0.000278206052, validation map: 0.479555257749\n",
      "Epoch 154/200, Loss: 0.000271540293, validation map: 0.479580405526\n",
      "Epoch 155/200, Loss: 0.000267414263, validation map: 0.479576074313\n",
      "Epoch 156/200, Loss: 0.000278382849, validation map: 0.479687579810\n",
      "Epoch 157/200, Loss: 0.000274683623, validation map: 0.479608734134\n",
      "Epoch 158/200, Loss: 0.000269079571, validation map: 0.479113140717\n",
      "Epoch 159/200, Loss: 0.000263164589, validation map: 0.479812519118\n",
      "Epoch 160/200, Loss: 0.000259176106, validation map: 0.479341518204\n",
      "Epoch 161/200, Loss: 0.000269218500, validation map: 0.479143075223\n",
      "Epoch 162/200, Loss: 0.000266381188, validation map: 0.478289355604\n",
      "Epoch 163/200, Loss: 0.000260676240, validation map: 0.478124506669\n",
      "Epoch 164/200, Loss: 0.000255169354, validation map: 0.478277203274\n",
      "Epoch 165/200, Loss: 0.000250851400, validation map: 0.478184980089\n",
      "Epoch 166/200, Loss: 0.000261615693, validation map: 0.478584636327\n",
      "Epoch 167/200, Loss: 0.000258311699, validation map: 0.479141759886\n",
      "Epoch 168/200, Loss: 0.000252796839, validation map: 0.477514784769\n",
      "Epoch 169/200, Loss: 0.000247246225, validation map: 0.477770270870\n",
      "Epoch 170/200, Loss: 0.000243184064, validation map: 0.477555652714\n",
      "Epoch 171/200, Loss: 0.000253720908, validation map: 0.476980314925\n",
      "Epoch 172/200, Loss: 0.000250206474, validation map: 0.477668335129\n",
      "Epoch 173/200, Loss: 0.000244783623, validation map: 0.475944198172\n",
      "Epoch 174/200, Loss: 0.000239045806, validation map: 0.476767145376\n",
      "Epoch 175/200, Loss: 0.000235511976, validation map: 0.476573962066\n",
      "Epoch 176/200, Loss: 0.000245005641, validation map: 0.476880881892\n",
      "Epoch 177/200, Loss: 0.000243163929, validation map: 0.475936644402\n",
      "Epoch 178/200, Loss: 0.000237476798, validation map: 0.475938859247\n",
      "Epoch 179/200, Loss: 0.000232123108, validation map: 0.476039113742\n",
      "Epoch 180/200, Loss: 0.000228044701, validation map: 0.475845388779\n",
      "Epoch 181/200, Loss: 0.000238430049, validation map: 0.475593817388\n",
      "Epoch 182/200, Loss: 0.000235548168, validation map: 0.474708622420\n",
      "Epoch 183/200, Loss: 0.000229996874, validation map: 0.475761499617\n",
      "Epoch 184/200, Loss: 0.000224647678, validation map: 0.474523703244\n",
      "Epoch 185/200, Loss: 0.000220488787, validation map: 0.474454443383\n",
      "Epoch 186/200, Loss: 0.000230268107, validation map: 0.476361501093\n",
      "Epoch 187/200, Loss: 0.000228384610, validation map: 0.474713574129\n",
      "Epoch 188/200, Loss: 0.000223039005, validation map: 0.475843744270\n",
      "Epoch 189/200, Loss: 0.000217380362, validation map: 0.473407603439\n",
      "Epoch 190/200, Loss: 0.000213555759, validation map: 0.473527078921\n",
      "Epoch 191/200, Loss: 0.000222713352, validation map: 0.473353276982\n",
      "Epoch 192/200, Loss: 0.000221046367, validation map: 0.473845708191\n",
      "Epoch 193/200, Loss: 0.000216294197, validation map: 0.473379025896\n",
      "Epoch 194/200, Loss: 0.000210717559, validation map: 0.473046823930\n",
      "Epoch 195/200, Loss: 0.000206530976, validation map: 0.473083293066\n",
      "Epoch 196/200, Loss: 0.000216398180, validation map: 0.473748177897\n",
      "Epoch 197/200, Loss: 0.000214124133, validation map: 0.473300482708\n",
      "Epoch 198/200, Loss: 0.000208989367, validation map: 0.472957621648\n",
      "Epoch 199/200, Loss: 0.000203916710, validation map: 0.472910110402\n",
      "Epoch 200/200, Loss: 0.000200076872, validation map: 0.473480640951\n"
     ]
    }
   ],
   "source": [
    "num_epochs = 200\n",
    "training_loss_per_epoch = np.zeros(200)\n",
    "validation_loss_per_epoch = np.zeros(200)\n",
    "validation_map_per_epoch = np.zeros(200)\n",
    "\n",
    "for epoch in range(num_epochs):\n",
    "    running_loss = 0.0\n",
    "    for inputs, labels in train_dataloader:\n",
    "        inputs = inputs.to(device)\n",
    "        labels = labels.to(device)\n",
    "\n",
    "        optimizer.zero_grad()  # Zero the gradients\n",
    "        outputs = model(inputs)  # Forward pass\n",
    "        loss = criterion(outputs, labels)  # Compute the loss\n",
    "        loss.backward()  # Backward pass\n",
    "        optimizer.step()  # Update the weights\n",
    "\n",
    "        running_loss += loss.item()\n",
    "    \n",
    "    scheduler.step()\n",
    "\n",
    "    with torch.no_grad():\n",
    "        pred = model.forward(X_val.to(device))\n",
    "        # calculate the validation loss:\n",
    "        validation_loss = criterion(pred, y_val.to(device))\n",
    "        # calculate the validation mAP:\n",
    "        validation_aps = ev.eval_vo(pred[:,:600].T.cpu().detach().numpy(), y_val[:,:600].T.numpy(),600)[0]\n",
    "        nr_val_classes = np.sum(validation_aps != None)\n",
    "        validation_map = np.nansum(validation_aps) / nr_val_classes\n",
    "\n",
    "    # add the losses and mAP to the arrays:\n",
    "    training_loss_per_epoch[epoch] = running_loss / len(train_dataloader)\n",
    "    validation_loss_per_epoch[epoch] = validation_loss\n",
    "    validation_map_per_epoch[epoch] = validation_map\n",
    "\n",
    "    print(f\"Epoch {epoch+1:0{len(str(num_epochs))}}/{num_epochs}, Loss: {running_loss/len(train_dataloader):.12f}, validation map: {validation_map:.12f}\")"
   ]
  },
  {
   "cell_type": "markdown",
   "metadata": {},
   "source": [
    "### plotting the training process to select the number of convergence"
   ]
  },
  {
   "cell_type": "code",
   "execution_count": 28,
   "metadata": {},
   "outputs": [
    {
     "data": {
      "text/plain": [
       "[]"
      ]
     },
     "execution_count": 28,
     "metadata": {},
     "output_type": "execute_result"
    },
    {
     "data": {
      "image/png": "[encoded data removed]",
      "text/plain": [
       "<Figure size 800x600 with 1 Axes>"
      ]
     },
     "metadata": {},
     "output_type": "display_data"
    }
   ],
   "source": [
    "plt.figure(figsize=(8,6))\n",
    "plt.plot(np.arange(200), training_loss_per_epoch, color = \"orange\")\n",
    "plt.plot(np.arange(200), validation_loss_per_epoch, color = \"blue\")\n",
    "# plt.plot(np.arange(100), validation_loss_main_per_epoch, color= \"red\")\n",
    "# plt.plot(np.arange(100), validation_loss_side_per_epoch, color = \"purple\")\n",
    "plt.plot(np.arange(200), validation_map_per_epoch/100, color = \"green\")\n",
    "#plt.hlines(0.010051161982119083, 0, 100 , colors=['black'],linestyles=['dotted'])\n",
    "plt.ylim(0,0.01)\n",
    "plt.plot()"
   ]
  },
  {
   "cell_type": "code",
   "execution_count": 29,
   "metadata": {},
   "outputs": [
    {
     "data": {
      "text/plain": [
       "97"
      ]
     },
     "execution_count": 29,
     "metadata": {},
     "output_type": "execute_result"
    }
   ],
   "source": [
    "np.argmax(validation_map_per_epoch)"
   ]
  },
  {
   "cell_type": "code",
   "execution_count": 30,
   "metadata": {},
   "outputs": [
    {
     "data": {
      "text/plain": [
       "74"
      ]
     },
     "execution_count": 30,
     "metadata": {},
     "output_type": "execute_result"
    }
   ],
   "source": [
    "np.argmin(validation_loss_per_epoch)"
   ]
  }
 ],
 "metadata": {
  "kernelspec": {
   "display_name": "PyTorch",
   "language": "python",
   "name": "python3"
  },
  "language_info": {
   "codemirror_mode": {
    "name": "ipython",
    "version": 3
   },
   "file_extension": ".py",
   "mimetype": "text/x-python",
   "name": "python",
   "nbconvert_exporter": "python",
   "pygments_lexer": "ipython3",
   "version": "3.10.13"
  }
 },
 "nbformat": 4,
 "nbformat_minor": 2
}
